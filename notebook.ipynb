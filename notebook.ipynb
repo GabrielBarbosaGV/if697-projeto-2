{
 "cells": [
  {
   "cell_type": "code",
   "execution_count": 1,
   "metadata": {},
   "outputs": [],
   "source": [
    "%matplotlib inline\n",
    "import pandas as pd\n",
    "import statsmodels.api as sm\n",
    "import itertools\n",
    "import matplotlib.pyplot as plt\n",
    "from fbprophet import Prophet\n",
    "import optuna\n",
    "import mlflow\n",
    "from statsmodels.tsa.ar_model import AutoReg"
   ]
  },
  {
   "cell_type": "code",
   "execution_count": 2,
   "metadata": {},
   "outputs": [],
   "source": [
    "data = pd.read_csv('./per_liter_clean.csv')"
   ]
  },
  {
   "cell_type": "code",
   "execution_count": 3,
   "metadata": {},
   "outputs": [
    {
     "data": {
      "text/plain": [
       "Unnamed:_0                         int64\n",
       "DATA_INICIAL                      object\n",
       "DATA_FINAL                        object\n",
       "REGIAO                            object\n",
       "ESTADO                            object\n",
       "PRODUTO                           object\n",
       "NUMERO_DE_POSTOS_PESQUISADOS       int64\n",
       "UNIDADE_DE_MEDIDA                 object\n",
       "PRECO_MEDIO_REVENDA              float64\n",
       "DESVIO_PADRAO_REVENDA            float64\n",
       "PRECO_MINIMO_REVENDA             float64\n",
       "PRECO_MAXIMO_REVENDA             float64\n",
       "MARGEM_MEDIA_REVENDA             float64\n",
       "COEF_DE_VARIACAO_REVENDA         float64\n",
       "PRECO_MEDIO_DISTRIBUICAO         float64\n",
       "DESVIO_PADRAO_DISTRIBUICAO       float64\n",
       "PRECO_MINIMO_DISTRIBUICAO        float64\n",
       "PRECO_MAXIMO_DISTRIBUICAO        float64\n",
       "COEF_DE_VARIACAO_DISTRIBUICAO    float64\n",
       "MES                                int64\n",
       "ANO                                int64\n",
       "dtype: object"
      ]
     },
     "execution_count": 3,
     "metadata": {},
     "output_type": "execute_result"
    }
   ],
   "source": [
    "data.dtypes"
   ]
  },
  {
   "cell_type": "code",
   "execution_count": 4,
   "metadata": {},
   "outputs": [],
   "source": [
    "data['DATA_INICIAL'] = pd.to_datetime(data['DATA_INICIAL'])\n",
    "data['DATA_FINAL'] = pd.to_datetime(data['DATA_FINAL'])"
   ]
  },
  {
   "cell_type": "code",
   "execution_count": 5,
   "metadata": {},
   "outputs": [
    {
     "data": {
      "text/plain": [
       "REGIAO     category\n",
       "ESTADO     category\n",
       "PRODUTO    category\n",
       "dtype: object"
      ]
     },
     "execution_count": 5,
     "metadata": {},
     "output_type": "execute_result"
    }
   ],
   "source": [
    "for colname in ['REGIAO', 'ESTADO', 'PRODUTO']:\n",
    "    data[colname] = data[colname].astype('category')\n",
    "\n",
    "data[['REGIAO', 'ESTADO', 'PRODUTO']].dtypes"
   ]
  },
  {
   "cell_type": "markdown",
   "metadata": {},
   "source": [
    "Os dados lidos apresentam vários estados e produtos, implicando diferentes previsões para cada. Nos atendo aos propósitos deste projeto, preveremos somente para Pernambuco e o produto mais comum."
   ]
  },
  {
   "cell_type": "code",
   "execution_count": 6,
   "metadata": {},
   "outputs": [
    {
     "data": {
      "text/plain": [
       "['DISTRITO FEDERAL', 'GOIAS', 'MATO GROSSO', 'MATO GROSSO DO SUL', 'ALAGOAS', ..., 'SAO PAULO', 'PARANA', 'RIO GRANDE DO SUL', 'SANTA CATARINA', 'PARA']\n",
       "Length: 27\n",
       "Categories (27, object): ['DISTRITO FEDERAL', 'GOIAS', 'MATO GROSSO', 'MATO GROSSO DO SUL', ..., 'PARANA', 'RIO GRANDE DO SUL', 'SANTA CATARINA', 'PARA']"
      ]
     },
     "execution_count": 6,
     "metadata": {},
     "output_type": "execute_result"
    }
   ],
   "source": [
    "data['ESTADO'].unique()"
   ]
  },
  {
   "cell_type": "code",
   "execution_count": 7,
   "metadata": {},
   "outputs": [
    {
     "data": {
      "text/plain": [
       "2645"
      ]
     },
     "execution_count": 7,
     "metadata": {},
     "output_type": "execute_result"
    }
   ],
   "source": [
    "data_pern = data[data['ESTADO'] == 'PERNAMBUCO']\n",
    "len(data_pern)"
   ]
  },
  {
   "cell_type": "code",
   "execution_count": 8,
   "metadata": {},
   "outputs": [
    {
     "name": "stdout",
     "output_type": "stream",
     "text": [
      "Quantidade de ETANOL HIDRATADO: 782\n",
      "Quantidade de GASOLINA COMUM: 749\n",
      "Quantidade de ÓLEO DIESEL: 776\n",
      "Quantidade de ÓLEO DIESEL S10: 338\n"
     ]
    }
   ],
   "source": [
    "for p in data_pern['PRODUTO'].unique():\n",
    "    print(f'Quantidade de {p}: {(data_pern[\"PRODUTO\"] == p).sum()}')"
   ]
  },
  {
   "cell_type": "code",
   "execution_count": 9,
   "metadata": {},
   "outputs": [],
   "source": [
    "data_pern = data_pern[data_pern['PRODUTO'] == 'ETANOL HIDRATADO']"
   ]
  },
  {
   "cell_type": "code",
   "execution_count": 10,
   "metadata": {},
   "outputs": [],
   "source": [
    "data_pern.index = data_pern['DATA_INICIAL']"
   ]
  },
  {
   "cell_type": "markdown",
   "metadata": {},
   "source": [
    "Preveremos o preço médio de revenda, utilizando ARIMA inicialmente"
   ]
  },
  {
   "cell_type": "code",
   "execution_count": 11,
   "metadata": {},
   "outputs": [
    {
     "data": {
      "text/plain": [
       "Timestamp('2019-06-23 00:00:00')"
      ]
     },
     "execution_count": 11,
     "metadata": {},
     "output_type": "execute_result"
    }
   ],
   "source": [
    "data_pern.index.max()"
   ]
  },
  {
   "cell_type": "markdown",
   "metadata": {},
   "source": [
    "Dado que temos informações desde 2004 até o final do primeiro semestre de 2019, podemos dividir os dados em treinamento até o final do primeiro semestre de 2018, validação desse ponto até o final do segundo semestre de 2018, e teste o que resta. Vamos também obter os dados médios por mês, para poder usar 12 como parâmetro de sazonalidade do SARIMAX."
   ]
  },
  {
   "cell_type": "code",
   "execution_count": 12,
   "metadata": {},
   "outputs": [],
   "source": [
    "data_pern = data_pern.resample('m').mean()"
   ]
  },
  {
   "cell_type": "code",
   "execution_count": 13,
   "metadata": {},
   "outputs": [],
   "source": [
    "data_pern_train = data_pern[:'2018-06']\n",
    "data_pern_validation = data_pern['2018-07':'2018-12']\n",
    "data_pern_test = data_pern['2019-01':'2019-06']"
   ]
  },
  {
   "cell_type": "code",
   "execution_count": 14,
   "metadata": {},
   "outputs": [
    {
     "data": {
      "text/plain": [
       "<AxesSubplot:xlabel='DATA_INICIAL'>"
      ]
     },
     "execution_count": 14,
     "metadata": {},
     "output_type": "execute_result"
    },
    {
     "data": {
      "image/png": "[encoded data removed]",
      "text/plain": [
       "<Figure size 432x288 with 1 Axes>"
      ]
     },
     "metadata": {
      "needs_background": "light"
     },
     "output_type": "display_data"
    }
   ],
   "source": [
    "data_pern_train['PRECO_MEDIO_REVENDA'].plot()"
   ]
  },
  {
   "cell_type": "code",
   "execution_count": 15,
   "metadata": {},
   "outputs": [
    {
     "data": {
      "text/plain": [
       "<AxesSubplot:xlabel='DATA_INICIAL'>"
      ]
     },
     "execution_count": 15,
     "metadata": {},
     "output_type": "execute_result"
    },
    {
     "data": {
      "image/png": "[encoded data removed]",
      "text/plain": [
       "<Figure size 432x288 with 1 Axes>"
      ]
     },
     "metadata": {
      "needs_background": "light"
     },
     "output_type": "display_data"
    }
   ],
   "source": [
    "data_pern_validation['PRECO_MEDIO_REVENDA'].plot()"
   ]
  },
  {
   "cell_type": "code",
   "execution_count": 16,
   "metadata": {},
   "outputs": [
    {
     "data": {
      "text/plain": [
       "<AxesSubplot:xlabel='DATA_INICIAL'>"
      ]
     },
     "execution_count": 16,
     "metadata": {},
     "output_type": "execute_result"
    },
    {
     "data": {
      "image/png": "[encoded data removed]",
      "text/plain": [
       "<Figure size 432x288 with 1 Axes>"
      ]
     },
     "metadata": {
      "needs_background": "light"
     },
     "output_type": "display_data"
    }
   ],
   "source": [
    "data_pern_test['PRECO_MEDIO_REVENDA'].plot()"
   ]
  },
  {
   "cell_type": "markdown",
   "metadata": {},
   "source": [
    "Vamos agora realizar uma grid-search para determinar os melhores parâmetros para o algoritmo"
   ]
  },
  {
   "cell_type": "code",
   "execution_count": 17,
   "metadata": {},
   "outputs": [],
   "source": [
    "y = data_pern_train['PRECO_MEDIO_REVENDA']"
   ]
  },
  {
   "cell_type": "code",
   "execution_count": 18,
   "metadata": {},
   "outputs": [],
   "source": [
    "def objective(trial):\n",
    "    p = trial.suggest_int('p', 0, 2)\n",
    "    d = trial.suggest_int('d', 0, 2)\n",
    "    q = trial.suggest_int('q', 0, 2)\n",
    "\n",
    "    ps = trial.suggest_int('ps', 0, 2)\n",
    "    ds = trial.suggest_int('ds', 0, 2)\n",
    "    qs = trial.suggest_int('qs', 0, 0)\n",
    "\n",
    "    mdl = sm.tsa.statespace.SARIMAX(\n",
    "        y,\n",
    "        order=(p, d, q),\n",
    "        seasonal_order=(ps, ds, qs, 12),\n",
    "        enforce_stationarity=False,\n",
    "        enforce_invertibility=False\n",
    "    )\n",
    "\n",
    "    results = mdl.fit()\n",
    "\n",
    "    trial.report(results.aic, 0)\n",
    "\n",
    "    if trial.should_prune():\n",
    "        raise optuna.exceptions.TrialPruned()\n",
    "\n",
    "    return results.aic"
   ]
  },
  {
   "cell_type": "code",
   "execution_count": 19,
   "metadata": {},
   "outputs": [],
   "source": [
    "def print_study_best_trial_params(study):\n",
    "    t = study.best_trial\n",
    "\n",
    "    print(f'Melhor valor: {t.value}')\n",
    "\n",
    "    print(f'Melhores parâmetros:')\n",
    "\n",
    "    for p, v in t.params.items():\n",
    "        print(f'{p}: {v}')"
   ]
  },
  {
   "cell_type": "code",
   "execution_count": 20,
   "metadata": {},
   "outputs": [
    {
     "name": "stderr",
     "output_type": "stream",
     "text": [
      "\u001b[32m[I 2021-04-16 21:33:51,959]\u001b[0m A new study created in memory with name: no-name-d95164b6-860a-490e-8e6a-f9541ec52d14\u001b[0m\n",
      "\u001b[32m[I 2021-04-16 21:33:52,843]\u001b[0m Trial 0 finished with value: -281.10908413231516 and parameters: {'p': 1, 'd': 0, 'q': 0, 'ps': 2, 'ds': 2, 'qs': 0}. Best is trial 0 with value: -281.10908413231516.\u001b[0m\n",
      "\u001b[32m[I 2021-04-16 21:33:53,123]\u001b[0m Trial 1 finished with value: -316.28598951061946 and parameters: {'p': 0, 'd': 0, 'q': 2, 'ps': 0, 'ds': 1, 'qs': 0}. Best is trial 1 with value: -316.28598951061946.\u001b[0m\n",
      "/home/co/miniconda3/lib/python3.8/site-packages/statsmodels/base/model.py:567: ConvergenceWarning: Maximum Likelihood optimization failed to converge. Check mle_retvals\n",
      "  warn(\"Maximum Likelihood optimization failed to converge. \"\n",
      "\u001b[32m[I 2021-04-16 21:33:54,403]\u001b[0m Trial 2 finished with value: -395.8924509611855 and parameters: {'p': 2, 'd': 2, 'q': 0, 'ps': 2, 'ds': 1, 'qs': 0}. Best is trial 2 with value: -395.8924509611855.\u001b[0m\n",
      "\u001b[32m[I 2021-04-16 21:33:54,441]\u001b[0m Trial 3 finished with value: -536.0278746708209 and parameters: {'p': 0, 'd': 2, 'q': 1, 'ps': 0, 'ds': 0, 'qs': 0}. Best is trial 3 with value: -536.0278746708209.\u001b[0m\n",
      "\u001b[32m[I 2021-04-16 21:33:54,755]\u001b[0m Trial 4 finished with value: -267.48958388160156 and parameters: {'p': 2, 'd': 0, 'q': 2, 'ps': 0, 'ds': 2, 'qs': 0}. Best is trial 3 with value: -536.0278746708209.\u001b[0m\n",
      "\u001b[32m[I 2021-04-16 21:33:54,970]\u001b[0m Trial 5 pruned. \u001b[0m\n",
      "/home/co/miniconda3/lib/python3.8/site-packages/statsmodels/base/model.py:567: ConvergenceWarning: Maximum Likelihood optimization failed to converge. Check mle_retvals\n",
      "  warn(\"Maximum Likelihood optimization failed to converge. \"\n",
      "\u001b[32m[I 2021-04-16 21:33:55,368]\u001b[0m Trial 6 finished with value: -400.0884767235631 and parameters: {'p': 1, 'd': 2, 'q': 0, 'ps': 1, 'ds': 1, 'qs': 0}. Best is trial 3 with value: -536.0278746708209.\u001b[0m\n",
      "\u001b[32m[I 2021-04-16 21:33:55,451]\u001b[0m Trial 7 finished with value: -394.1111886733516 and parameters: {'p': 0, 'd': 1, 'q': 0, 'ps': 1, 'ds': 1, 'qs': 0}. Best is trial 3 with value: -536.0278746708209.\u001b[0m\n",
      "\u001b[32m[I 2021-04-16 21:33:55,744]\u001b[0m Trial 8 pruned. \u001b[0m\n",
      "/home/co/miniconda3/lib/python3.8/site-packages/statsmodels/base/model.py:567: ConvergenceWarning: Maximum Likelihood optimization failed to converge. Check mle_retvals\n",
      "  warn(\"Maximum Likelihood optimization failed to converge. \"\n",
      "\u001b[32m[I 2021-04-16 21:33:56,689]\u001b[0m Trial 9 pruned. \u001b[0m\n",
      "\u001b[32m[I 2021-04-16 21:33:56,793]\u001b[0m Trial 10 finished with value: -499.2786979384653 and parameters: {'p': 0, 'd': 2, 'q': 1, 'ps': 1, 'ds': 0, 'qs': 0}. Best is trial 3 with value: -536.0278746708209.\u001b[0m\n",
      "\u001b[32m[I 2021-04-16 21:33:56,900]\u001b[0m Trial 11 finished with value: -499.2786979384653 and parameters: {'p': 0, 'd': 2, 'q': 1, 'ps': 1, 'ds': 0, 'qs': 0}. Best is trial 3 with value: -536.0278746708209.\u001b[0m\n",
      "\u001b[32m[I 2021-04-16 21:33:57,333]\u001b[0m Trial 12 finished with value: -522.988257374971 and parameters: {'p': 1, 'd': 2, 'q': 1, 'ps': 1, 'ds': 0, 'qs': 0}. Best is trial 3 with value: -536.0278746708209.\u001b[0m\n",
      "\u001b[32m[I 2021-04-16 21:33:57,778]\u001b[0m Trial 13 finished with value: -491.11337797301775 and parameters: {'p': 1, 'd': 1, 'q': 1, 'ps': 2, 'ds': 0, 'qs': 0}. Best is trial 3 with value: -536.0278746708209.\u001b[0m\n",
      "\u001b[32m[I 2021-04-16 21:33:58,160]\u001b[0m Trial 14 finished with value: -522.988257374971 and parameters: {'p': 1, 'd': 2, 'q': 1, 'ps': 1, 'ds': 0, 'qs': 0}. Best is trial 3 with value: -536.0278746708209.\u001b[0m\n",
      "\u001b[32m[I 2021-04-16 21:33:58,554]\u001b[0m Trial 15 finished with value: -522.988257374971 and parameters: {'p': 1, 'd': 2, 'q': 1, 'ps': 1, 'ds': 0, 'qs': 0}. Best is trial 3 with value: -536.0278746708209.\u001b[0m\n",
      "\u001b[32m[I 2021-04-16 21:33:58,633]\u001b[0m Trial 16 finished with value: -573.7307165800084 and parameters: {'p': 1, 'd': 1, 'q': 1, 'ps': 0, 'ds': 0, 'qs': 0}. Best is trial 16 with value: -573.7307165800084.\u001b[0m\n",
      "\u001b[32m[I 2021-04-16 21:33:58,712]\u001b[0m Trial 17 finished with value: -567.8266778842002 and parameters: {'p': 0, 'd': 1, 'q': 1, 'ps': 0, 'ds': 0, 'qs': 0}. Best is trial 16 with value: -573.7307165800084.\u001b[0m\n",
      "\u001b[32m[I 2021-04-16 21:33:58,763]\u001b[0m Trial 18 finished with value: -576.7262627598973 and parameters: {'p': 1, 'd': 1, 'q': 0, 'ps': 0, 'ds': 0, 'qs': 0}. Best is trial 18 with value: -576.7262627598973.\u001b[0m\n",
      "\u001b[32m[I 2021-04-16 21:33:58,814]\u001b[0m Trial 19 finished with value: -576.7262627598973 and parameters: {'p': 1, 'd': 1, 'q': 0, 'ps': 0, 'ds': 0, 'qs': 0}. Best is trial 18 with value: -576.7262627598973.\u001b[0m\n",
      "/home/co/miniconda3/lib/python3.8/site-packages/statsmodels/base/model.py:567: ConvergenceWarning: Maximum Likelihood optimization failed to converge. Check mle_retvals\n",
      "  warn(\"Maximum Likelihood optimization failed to converge. \"\n",
      "\u001b[32m[I 2021-04-16 21:33:58,896]\u001b[0m Trial 20 pruned. \u001b[0m\n",
      "\u001b[32m[I 2021-04-16 21:33:58,938]\u001b[0m Trial 21 finished with value: -576.7262627598973 and parameters: {'p': 1, 'd': 1, 'q': 0, 'ps': 0, 'ds': 0, 'qs': 0}. Best is trial 18 with value: -576.7262627598973.\u001b[0m\n",
      "\u001b[32m[I 2021-04-16 21:33:58,976]\u001b[0m Trial 22 finished with value: -576.7262627598973 and parameters: {'p': 1, 'd': 1, 'q': 0, 'ps': 0, 'ds': 0, 'qs': 0}. Best is trial 18 with value: -576.7262627598973.\u001b[0m\n",
      "\u001b[32m[I 2021-04-16 21:33:59,014]\u001b[0m Trial 23 finished with value: -576.7262627598973 and parameters: {'p': 1, 'd': 1, 'q': 0, 'ps': 0, 'ds': 0, 'qs': 0}. Best is trial 18 with value: -576.7262627598973.\u001b[0m\n",
      "\u001b[32m[I 2021-04-16 21:33:59,054]\u001b[0m Trial 24 finished with value: -576.7262627598973 and parameters: {'p': 1, 'd': 1, 'q': 0, 'ps': 0, 'ds': 0, 'qs': 0}. Best is trial 18 with value: -576.7262627598973.\u001b[0m\n",
      "\u001b[32m[I 2021-04-16 21:33:59,128]\u001b[0m Trial 25 finished with value: -573.5344061291468 and parameters: {'p': 2, 'd': 1, 'q': 0, 'ps': 0, 'ds': 0, 'qs': 0}. Best is trial 18 with value: -576.7262627598973.\u001b[0m\n",
      "\u001b[32m[I 2021-04-16 21:33:59,177]\u001b[0m Trial 26 finished with value: -576.7262627598973 and parameters: {'p': 1, 'd': 1, 'q': 0, 'ps': 0, 'ds': 0, 'qs': 0}. Best is trial 18 with value: -576.7262627598973.\u001b[0m\n",
      "/home/co/miniconda3/lib/python3.8/site-packages/statsmodels/base/model.py:567: ConvergenceWarning: Maximum Likelihood optimization failed to converge. Check mle_retvals\n",
      "  warn(\"Maximum Likelihood optimization failed to converge. \"\n",
      "\u001b[32m[I 2021-04-16 21:33:59,255]\u001b[0m Trial 27 pruned. \u001b[0m\n",
      "\u001b[32m[I 2021-04-16 21:33:59,315]\u001b[0m Trial 28 finished with value: -573.5344061291468 and parameters: {'p': 2, 'd': 1, 'q': 0, 'ps': 0, 'ds': 0, 'qs': 0}. Best is trial 18 with value: -576.7262627598973.\u001b[0m\n",
      "\u001b[32m[I 2021-04-16 21:33:59,438]\u001b[0m Trial 29 pruned. \u001b[0m\n",
      "/home/co/miniconda3/lib/python3.8/site-packages/statsmodels/base/model.py:567: ConvergenceWarning: Maximum Likelihood optimization failed to converge. Check mle_retvals\n",
      "  warn(\"Maximum Likelihood optimization failed to converge. \"\n",
      "\u001b[32m[I 2021-04-16 21:33:59,507]\u001b[0m Trial 30 pruned. \u001b[0m\n",
      "\u001b[32m[I 2021-04-16 21:33:59,547]\u001b[0m Trial 31 finished with value: -576.7262627598973 and parameters: {'p': 1, 'd': 1, 'q': 0, 'ps': 0, 'ds': 0, 'qs': 0}. Best is trial 18 with value: -576.7262627598973.\u001b[0m\n",
      "\u001b[32m[I 2021-04-16 21:33:59,591]\u001b[0m Trial 32 finished with value: -576.7262627598973 and parameters: {'p': 1, 'd': 1, 'q': 0, 'ps': 0, 'ds': 0, 'qs': 0}. Best is trial 18 with value: -576.7262627598973.\u001b[0m\n",
      "\u001b[32m[I 2021-04-16 21:33:59,631]\u001b[0m Trial 33 finished with value: -576.7262627598973 and parameters: {'p': 1, 'd': 1, 'q': 0, 'ps': 0, 'ds': 0, 'qs': 0}. Best is trial 18 with value: -576.7262627598973.\u001b[0m\n",
      "/home/co/miniconda3/lib/python3.8/site-packages/statsmodels/base/model.py:567: ConvergenceWarning: Maximum Likelihood optimization failed to converge. Check mle_retvals\n",
      "  warn(\"Maximum Likelihood optimization failed to converge. \"\n",
      "\u001b[32m[I 2021-04-16 21:33:59,687]\u001b[0m Trial 34 pruned. \u001b[0m\n",
      "\u001b[32m[I 2021-04-16 21:33:59,729]\u001b[0m Trial 35 finished with value: -576.7262627598973 and parameters: {'p': 1, 'd': 1, 'q': 0, 'ps': 0, 'ds': 0, 'qs': 0}. Best is trial 18 with value: -576.7262627598973.\u001b[0m\n",
      "\u001b[32m[I 2021-04-16 21:33:59,987]\u001b[0m Trial 36 pruned. \u001b[0m\n",
      "/home/co/miniconda3/lib/python3.8/site-packages/statsmodels/base/model.py:567: ConvergenceWarning: Maximum Likelihood optimization failed to converge. Check mle_retvals\n",
      "  warn(\"Maximum Likelihood optimization failed to converge. \"\n",
      "\u001b[32m[I 2021-04-16 21:34:00,056]\u001b[0m Trial 37 pruned. \u001b[0m\n"
     ]
    },
    {
     "name": "stderr",
     "output_type": "stream",
     "text": [
      "/home/co/miniconda3/lib/python3.8/site-packages/statsmodels/base/model.py:567: ConvergenceWarning: Maximum Likelihood optimization failed to converge. Check mle_retvals\n",
      "  warn(\"Maximum Likelihood optimization failed to converge. \"\n",
      "\u001b[32m[I 2021-04-16 21:34:00,124]\u001b[0m Trial 38 pruned. \u001b[0m\n",
      "/home/co/miniconda3/lib/python3.8/site-packages/statsmodels/base/model.py:567: ConvergenceWarning: Maximum Likelihood optimization failed to converge. Check mle_retvals\n",
      "  warn(\"Maximum Likelihood optimization failed to converge. \"\n",
      "\u001b[32m[I 2021-04-16 21:34:00,228]\u001b[0m Trial 39 pruned. \u001b[0m\n",
      "\u001b[32m[I 2021-04-16 21:34:00,262]\u001b[0m Trial 40 pruned. \u001b[0m\n",
      "\u001b[32m[I 2021-04-16 21:34:00,303]\u001b[0m Trial 41 finished with value: -576.7262627598973 and parameters: {'p': 1, 'd': 1, 'q': 0, 'ps': 0, 'ds': 0, 'qs': 0}. Best is trial 18 with value: -576.7262627598973.\u001b[0m\n",
      "\u001b[32m[I 2021-04-16 21:34:00,343]\u001b[0m Trial 42 finished with value: -576.7262627598973 and parameters: {'p': 1, 'd': 1, 'q': 0, 'ps': 0, 'ds': 0, 'qs': 0}. Best is trial 18 with value: -576.7262627598973.\u001b[0m\n",
      "\u001b[32m[I 2021-04-16 21:34:00,381]\u001b[0m Trial 43 finished with value: -576.7262627598973 and parameters: {'p': 1, 'd': 1, 'q': 0, 'ps': 0, 'ds': 0, 'qs': 0}. Best is trial 18 with value: -576.7262627598973.\u001b[0m\n",
      "\u001b[32m[I 2021-04-16 21:34:00,422]\u001b[0m Trial 44 finished with value: -576.7262627598973 and parameters: {'p': 1, 'd': 1, 'q': 0, 'ps': 0, 'ds': 0, 'qs': 0}. Best is trial 18 with value: -576.7262627598973.\u001b[0m\n",
      "\u001b[32m[I 2021-04-16 21:34:00,460]\u001b[0m Trial 45 finished with value: -576.7262627598973 and parameters: {'p': 1, 'd': 1, 'q': 0, 'ps': 0, 'ds': 0, 'qs': 0}. Best is trial 18 with value: -576.7262627598973.\u001b[0m\n",
      "\u001b[32m[I 2021-04-16 21:34:00,542]\u001b[0m Trial 46 pruned. \u001b[0m\n",
      "\u001b[32m[I 2021-04-16 21:34:00,610]\u001b[0m Trial 47 pruned. \u001b[0m\n",
      "/home/co/miniconda3/lib/python3.8/site-packages/statsmodels/base/model.py:567: ConvergenceWarning: Maximum Likelihood optimization failed to converge. Check mle_retvals\n",
      "  warn(\"Maximum Likelihood optimization failed to converge. \"\n",
      "\u001b[32m[I 2021-04-16 21:34:00,678]\u001b[0m Trial 48 pruned. \u001b[0m\n",
      "\u001b[32m[I 2021-04-16 21:34:00,927]\u001b[0m Trial 49 pruned. \u001b[0m\n",
      "\u001b[32m[I 2021-04-16 21:34:00,979]\u001b[0m Trial 50 pruned. \u001b[0m\n",
      "\u001b[32m[I 2021-04-16 21:34:01,018]\u001b[0m Trial 51 finished with value: -576.7262627598973 and parameters: {'p': 1, 'd': 1, 'q': 0, 'ps': 0, 'ds': 0, 'qs': 0}. Best is trial 18 with value: -576.7262627598973.\u001b[0m\n",
      "\u001b[32m[I 2021-04-16 21:34:01,060]\u001b[0m Trial 52 finished with value: -576.7262627598973 and parameters: {'p': 1, 'd': 1, 'q': 0, 'ps': 0, 'ds': 0, 'qs': 0}. Best is trial 18 with value: -576.7262627598973.\u001b[0m\n",
      "\u001b[32m[I 2021-04-16 21:34:01,106]\u001b[0m Trial 53 finished with value: -576.7262627598973 and parameters: {'p': 1, 'd': 1, 'q': 0, 'ps': 0, 'ds': 0, 'qs': 0}. Best is trial 18 with value: -576.7262627598973.\u001b[0m\n",
      "\u001b[32m[I 2021-04-16 21:34:01,153]\u001b[0m Trial 54 finished with value: -576.7262627598973 and parameters: {'p': 1, 'd': 1, 'q': 0, 'ps': 0, 'ds': 0, 'qs': 0}. Best is trial 18 with value: -576.7262627598973.\u001b[0m\n",
      "\u001b[32m[I 2021-04-16 21:34:01,205]\u001b[0m Trial 55 finished with value: -576.7262627598973 and parameters: {'p': 1, 'd': 1, 'q': 0, 'ps': 0, 'ds': 0, 'qs': 0}. Best is trial 18 with value: -576.7262627598973.\u001b[0m\n",
      "\u001b[32m[I 2021-04-16 21:34:01,252]\u001b[0m Trial 56 finished with value: -576.7262627598973 and parameters: {'p': 1, 'd': 1, 'q': 0, 'ps': 0, 'ds': 0, 'qs': 0}. Best is trial 18 with value: -576.7262627598973.\u001b[0m\n",
      "\u001b[32m[I 2021-04-16 21:34:01,292]\u001b[0m Trial 57 finished with value: -576.7262627598973 and parameters: {'p': 1, 'd': 1, 'q': 0, 'ps': 0, 'ds': 0, 'qs': 0}. Best is trial 18 with value: -576.7262627598973.\u001b[0m\n",
      "\u001b[32m[I 2021-04-16 21:34:01,329]\u001b[0m Trial 58 pruned. \u001b[0m\n",
      "\u001b[32m[I 2021-04-16 21:34:01,490]\u001b[0m Trial 59 pruned. \u001b[0m\n",
      "\u001b[32m[I 2021-04-16 21:34:01,530]\u001b[0m Trial 60 finished with value: -576.7262627598973 and parameters: {'p': 1, 'd': 1, 'q': 0, 'ps': 0, 'ds': 0, 'qs': 0}. Best is trial 18 with value: -576.7262627598973.\u001b[0m\n",
      "\u001b[32m[I 2021-04-16 21:34:01,570]\u001b[0m Trial 61 finished with value: -576.7262627598973 and parameters: {'p': 1, 'd': 1, 'q': 0, 'ps': 0, 'ds': 0, 'qs': 0}. Best is trial 18 with value: -576.7262627598973.\u001b[0m\n",
      "\u001b[32m[I 2021-04-16 21:34:01,609]\u001b[0m Trial 62 finished with value: -576.7262627598973 and parameters: {'p': 1, 'd': 1, 'q': 0, 'ps': 0, 'ds': 0, 'qs': 0}. Best is trial 18 with value: -576.7262627598973.\u001b[0m\n",
      "\u001b[32m[I 2021-04-16 21:34:01,649]\u001b[0m Trial 63 finished with value: -576.7262627598973 and parameters: {'p': 1, 'd': 1, 'q': 0, 'ps': 0, 'ds': 0, 'qs': 0}. Best is trial 18 with value: -576.7262627598973.\u001b[0m\n",
      "\u001b[32m[I 2021-04-16 21:34:01,688]\u001b[0m Trial 64 finished with value: -576.7262627598973 and parameters: {'p': 1, 'd': 1, 'q': 0, 'ps': 0, 'ds': 0, 'qs': 0}. Best is trial 18 with value: -576.7262627598973.\u001b[0m\n",
      "\u001b[32m[I 2021-04-16 21:34:01,727]\u001b[0m Trial 65 finished with value: -576.7262627598973 and parameters: {'p': 1, 'd': 1, 'q': 0, 'ps': 0, 'ds': 0, 'qs': 0}. Best is trial 18 with value: -576.7262627598973.\u001b[0m\n",
      "\u001b[32m[I 2021-04-16 21:34:01,767]\u001b[0m Trial 66 finished with value: -576.7262627598973 and parameters: {'p': 1, 'd': 1, 'q': 0, 'ps': 0, 'ds': 0, 'qs': 0}. Best is trial 18 with value: -576.7262627598973.\u001b[0m\n",
      "\u001b[32m[I 2021-04-16 21:34:01,805]\u001b[0m Trial 67 finished with value: -576.7262627598973 and parameters: {'p': 1, 'd': 1, 'q': 0, 'ps': 0, 'ds': 0, 'qs': 0}. Best is trial 18 with value: -576.7262627598973.\u001b[0m\n",
      "\u001b[32m[I 2021-04-16 21:34:01,843]\u001b[0m Trial 68 finished with value: -576.7262627598973 and parameters: {'p': 1, 'd': 1, 'q': 0, 'ps': 0, 'ds': 0, 'qs': 0}. Best is trial 18 with value: -576.7262627598973.\u001b[0m\n",
      "\u001b[32m[I 2021-04-16 21:34:01,898]\u001b[0m Trial 69 finished with value: -576.7262627598973 and parameters: {'p': 1, 'd': 1, 'q': 0, 'ps': 0, 'ds': 0, 'qs': 0}. Best is trial 18 with value: -576.7262627598973.\u001b[0m\n",
      "\u001b[32m[I 2021-04-16 21:34:01,948]\u001b[0m Trial 70 finished with value: -576.7262627598973 and parameters: {'p': 1, 'd': 1, 'q': 0, 'ps': 0, 'ds': 0, 'qs': 0}. Best is trial 18 with value: -576.7262627598973.\u001b[0m\n",
      "\u001b[32m[I 2021-04-16 21:34:01,997]\u001b[0m Trial 71 finished with value: -576.7262627598973 and parameters: {'p': 1, 'd': 1, 'q': 0, 'ps': 0, 'ds': 0, 'qs': 0}. Best is trial 18 with value: -576.7262627598973.\u001b[0m\n",
      "\u001b[32m[I 2021-04-16 21:34:02,040]\u001b[0m Trial 72 finished with value: -576.7262627598973 and parameters: {'p': 1, 'd': 1, 'q': 0, 'ps': 0, 'ds': 0, 'qs': 0}. Best is trial 18 with value: -576.7262627598973.\u001b[0m\n",
      "\u001b[32m[I 2021-04-16 21:34:02,079]\u001b[0m Trial 73 finished with value: -576.7262627598973 and parameters: {'p': 1, 'd': 1, 'q': 0, 'ps': 0, 'ds': 0, 'qs': 0}. Best is trial 18 with value: -576.7262627598973.\u001b[0m\n",
      "\u001b[32m[I 2021-04-16 21:34:02,122]\u001b[0m Trial 74 finished with value: -576.7262627598973 and parameters: {'p': 1, 'd': 1, 'q': 0, 'ps': 0, 'ds': 0, 'qs': 0}. Best is trial 18 with value: -576.7262627598973.\u001b[0m\n",
      "\u001b[32m[I 2021-04-16 21:34:02,269]\u001b[0m Trial 75 pruned. \u001b[0m\n",
      "\u001b[32m[I 2021-04-16 21:34:02,309]\u001b[0m Trial 76 finished with value: -576.7262627598973 and parameters: {'p': 1, 'd': 1, 'q': 0, 'ps': 0, 'ds': 0, 'qs': 0}. Best is trial 18 with value: -576.7262627598973.\u001b[0m\n",
      "\u001b[32m[I 2021-04-16 21:34:02,346]\u001b[0m Trial 77 finished with value: -576.7262627598973 and parameters: {'p': 1, 'd': 1, 'q': 0, 'ps': 0, 'ds': 0, 'qs': 0}. Best is trial 18 with value: -576.7262627598973.\u001b[0m\n",
      "\u001b[32m[I 2021-04-16 21:34:02,391]\u001b[0m Trial 78 finished with value: -576.7262627598973 and parameters: {'p': 1, 'd': 1, 'q': 0, 'ps': 0, 'ds': 0, 'qs': 0}. Best is trial 18 with value: -576.7262627598973.\u001b[0m\n",
      "\u001b[32m[I 2021-04-16 21:34:02,435]\u001b[0m Trial 79 finished with value: -576.7262627598973 and parameters: {'p': 1, 'd': 1, 'q': 0, 'ps': 0, 'ds': 0, 'qs': 0}. Best is trial 18 with value: -576.7262627598973.\u001b[0m\n",
      "\u001b[32m[I 2021-04-16 21:34:02,636]\u001b[0m Trial 80 pruned. \u001b[0m\n",
      "\u001b[32m[I 2021-04-16 21:34:02,704]\u001b[0m Trial 81 finished with value: -576.7262627598973 and parameters: {'p': 1, 'd': 1, 'q': 0, 'ps': 0, 'ds': 0, 'qs': 0}. Best is trial 18 with value: -576.7262627598973.\u001b[0m\n",
      "\u001b[32m[I 2021-04-16 21:34:02,777]\u001b[0m Trial 82 finished with value: -576.7262627598973 and parameters: {'p': 1, 'd': 1, 'q': 0, 'ps': 0, 'ds': 0, 'qs': 0}. Best is trial 18 with value: -576.7262627598973.\u001b[0m\n"
     ]
    },
    {
     "name": "stderr",
     "output_type": "stream",
     "text": [
      "\u001b[32m[I 2021-04-16 21:34:02,842]\u001b[0m Trial 83 finished with value: -576.7262627598973 and parameters: {'p': 1, 'd': 1, 'q': 0, 'ps': 0, 'ds': 0, 'qs': 0}. Best is trial 18 with value: -576.7262627598973.\u001b[0m\n",
      "\u001b[32m[I 2021-04-16 21:34:02,889]\u001b[0m Trial 84 finished with value: -576.7262627598973 and parameters: {'p': 1, 'd': 1, 'q': 0, 'ps': 0, 'ds': 0, 'qs': 0}. Best is trial 18 with value: -576.7262627598973.\u001b[0m\n",
      "\u001b[32m[I 2021-04-16 21:34:02,937]\u001b[0m Trial 85 finished with value: -576.7262627598973 and parameters: {'p': 1, 'd': 1, 'q': 0, 'ps': 0, 'ds': 0, 'qs': 0}. Best is trial 18 with value: -576.7262627598973.\u001b[0m\n",
      "\u001b[32m[I 2021-04-16 21:34:02,982]\u001b[0m Trial 86 finished with value: -576.7262627598973 and parameters: {'p': 1, 'd': 1, 'q': 0, 'ps': 0, 'ds': 0, 'qs': 0}. Best is trial 18 with value: -576.7262627598973.\u001b[0m\n",
      "\u001b[32m[I 2021-04-16 21:34:03,029]\u001b[0m Trial 87 finished with value: -576.7262627598973 and parameters: {'p': 1, 'd': 1, 'q': 0, 'ps': 0, 'ds': 0, 'qs': 0}. Best is trial 18 with value: -576.7262627598973.\u001b[0m\n",
      "\u001b[32m[I 2021-04-16 21:34:03,092]\u001b[0m Trial 88 finished with value: -576.7262627598973 and parameters: {'p': 1, 'd': 1, 'q': 0, 'ps': 0, 'ds': 0, 'qs': 0}. Best is trial 18 with value: -576.7262627598973.\u001b[0m\n",
      "\u001b[32m[I 2021-04-16 21:34:03,161]\u001b[0m Trial 89 finished with value: -576.7262627598973 and parameters: {'p': 1, 'd': 1, 'q': 0, 'ps': 0, 'ds': 0, 'qs': 0}. Best is trial 18 with value: -576.7262627598973.\u001b[0m\n",
      "\u001b[32m[I 2021-04-16 21:34:03,226]\u001b[0m Trial 90 finished with value: -576.7262627598973 and parameters: {'p': 1, 'd': 1, 'q': 0, 'ps': 0, 'ds': 0, 'qs': 0}. Best is trial 18 with value: -576.7262627598973.\u001b[0m\n",
      "\u001b[32m[I 2021-04-16 21:34:03,284]\u001b[0m Trial 91 finished with value: -576.7262627598973 and parameters: {'p': 1, 'd': 1, 'q': 0, 'ps': 0, 'ds': 0, 'qs': 0}. Best is trial 18 with value: -576.7262627598973.\u001b[0m\n",
      "\u001b[32m[I 2021-04-16 21:34:03,322]\u001b[0m Trial 92 finished with value: -576.7262627598973 and parameters: {'p': 1, 'd': 1, 'q': 0, 'ps': 0, 'ds': 0, 'qs': 0}. Best is trial 18 with value: -576.7262627598973.\u001b[0m\n",
      "\u001b[32m[I 2021-04-16 21:34:03,366]\u001b[0m Trial 93 finished with value: -576.7262627598973 and parameters: {'p': 1, 'd': 1, 'q': 0, 'ps': 0, 'ds': 0, 'qs': 0}. Best is trial 18 with value: -576.7262627598973.\u001b[0m\n",
      "\u001b[32m[I 2021-04-16 21:34:03,429]\u001b[0m Trial 94 finished with value: -576.7262627598973 and parameters: {'p': 1, 'd': 1, 'q': 0, 'ps': 0, 'ds': 0, 'qs': 0}. Best is trial 18 with value: -576.7262627598973.\u001b[0m\n",
      "\u001b[32m[I 2021-04-16 21:34:03,508]\u001b[0m Trial 95 finished with value: -576.7262627598973 and parameters: {'p': 1, 'd': 1, 'q': 0, 'ps': 0, 'ds': 0, 'qs': 0}. Best is trial 18 with value: -576.7262627598973.\u001b[0m\n",
      "\u001b[32m[I 2021-04-16 21:34:03,572]\u001b[0m Trial 96 finished with value: -576.7262627598973 and parameters: {'p': 1, 'd': 1, 'q': 0, 'ps': 0, 'ds': 0, 'qs': 0}. Best is trial 18 with value: -576.7262627598973.\u001b[0m\n",
      "\u001b[32m[I 2021-04-16 21:34:03,629]\u001b[0m Trial 97 finished with value: -576.7262627598973 and parameters: {'p': 1, 'd': 1, 'q': 0, 'ps': 0, 'ds': 0, 'qs': 0}. Best is trial 18 with value: -576.7262627598973.\u001b[0m\n",
      "\u001b[32m[I 2021-04-16 21:34:03,723]\u001b[0m Trial 98 pruned. \u001b[0m\n",
      "\u001b[32m[I 2021-04-16 21:34:03,761]\u001b[0m Trial 99 finished with value: -576.7262627598973 and parameters: {'p': 1, 'd': 1, 'q': 0, 'ps': 0, 'ds': 0, 'qs': 0}. Best is trial 18 with value: -576.7262627598973.\u001b[0m\n",
      "\u001b[32m[I 2021-04-16 21:34:03,799]\u001b[0m Trial 100 finished with value: -576.7262627598973 and parameters: {'p': 1, 'd': 1, 'q': 0, 'ps': 0, 'ds': 0, 'qs': 0}. Best is trial 18 with value: -576.7262627598973.\u001b[0m\n",
      "\u001b[32m[I 2021-04-16 21:34:03,837]\u001b[0m Trial 101 finished with value: -576.7262627598973 and parameters: {'p': 1, 'd': 1, 'q': 0, 'ps': 0, 'ds': 0, 'qs': 0}. Best is trial 18 with value: -576.7262627598973.\u001b[0m\n",
      "\u001b[32m[I 2021-04-16 21:34:03,877]\u001b[0m Trial 102 finished with value: -576.7262627598973 and parameters: {'p': 1, 'd': 1, 'q': 0, 'ps': 0, 'ds': 0, 'qs': 0}. Best is trial 18 with value: -576.7262627598973.\u001b[0m\n",
      "\u001b[32m[I 2021-04-16 21:34:03,933]\u001b[0m Trial 103 finished with value: -576.7262627598973 and parameters: {'p': 1, 'd': 1, 'q': 0, 'ps': 0, 'ds': 0, 'qs': 0}. Best is trial 18 with value: -576.7262627598973.\u001b[0m\n",
      "\u001b[32m[I 2021-04-16 21:34:03,988]\u001b[0m Trial 104 finished with value: -576.7262627598973 and parameters: {'p': 1, 'd': 1, 'q': 0, 'ps': 0, 'ds': 0, 'qs': 0}. Best is trial 18 with value: -576.7262627598973.\u001b[0m\n",
      "\u001b[32m[I 2021-04-16 21:34:04,039]\u001b[0m Trial 105 finished with value: -576.7262627598973 and parameters: {'p': 1, 'd': 1, 'q': 0, 'ps': 0, 'ds': 0, 'qs': 0}. Best is trial 18 with value: -576.7262627598973.\u001b[0m\n",
      "\u001b[32m[I 2021-04-16 21:34:04,078]\u001b[0m Trial 106 finished with value: -576.7262627598973 and parameters: {'p': 1, 'd': 1, 'q': 0, 'ps': 0, 'ds': 0, 'qs': 0}. Best is trial 18 with value: -576.7262627598973.\u001b[0m\n",
      "\u001b[32m[I 2021-04-16 21:34:04,118]\u001b[0m Trial 107 finished with value: -576.7262627598973 and parameters: {'p': 1, 'd': 1, 'q': 0, 'ps': 0, 'ds': 0, 'qs': 0}. Best is trial 18 with value: -576.7262627598973.\u001b[0m\n",
      "\u001b[32m[I 2021-04-16 21:34:04,159]\u001b[0m Trial 108 finished with value: -576.7262627598973 and parameters: {'p': 1, 'd': 1, 'q': 0, 'ps': 0, 'ds': 0, 'qs': 0}. Best is trial 18 with value: -576.7262627598973.\u001b[0m\n",
      "\u001b[32m[I 2021-04-16 21:34:04,212]\u001b[0m Trial 109 finished with value: -576.7262627598973 and parameters: {'p': 1, 'd': 1, 'q': 0, 'ps': 0, 'ds': 0, 'qs': 0}. Best is trial 18 with value: -576.7262627598973.\u001b[0m\n",
      "\u001b[32m[I 2021-04-16 21:34:04,263]\u001b[0m Trial 110 finished with value: -576.7262627598973 and parameters: {'p': 1, 'd': 1, 'q': 0, 'ps': 0, 'ds': 0, 'qs': 0}. Best is trial 18 with value: -576.7262627598973.\u001b[0m\n",
      "\u001b[32m[I 2021-04-16 21:34:04,317]\u001b[0m Trial 111 finished with value: -576.7262627598973 and parameters: {'p': 1, 'd': 1, 'q': 0, 'ps': 0, 'ds': 0, 'qs': 0}. Best is trial 18 with value: -576.7262627598973.\u001b[0m\n",
      "\u001b[32m[I 2021-04-16 21:34:04,366]\u001b[0m Trial 112 finished with value: -576.7262627598973 and parameters: {'p': 1, 'd': 1, 'q': 0, 'ps': 0, 'ds': 0, 'qs': 0}. Best is trial 18 with value: -576.7262627598973.\u001b[0m\n",
      "\u001b[32m[I 2021-04-16 21:34:04,414]\u001b[0m Trial 113 finished with value: -576.7262627598973 and parameters: {'p': 1, 'd': 1, 'q': 0, 'ps': 0, 'ds': 0, 'qs': 0}. Best is trial 18 with value: -576.7262627598973.\u001b[0m\n",
      "\u001b[32m[I 2021-04-16 21:34:04,477]\u001b[0m Trial 114 finished with value: -576.7262627598973 and parameters: {'p': 1, 'd': 1, 'q': 0, 'ps': 0, 'ds': 0, 'qs': 0}. Best is trial 18 with value: -576.7262627598973.\u001b[0m\n",
      "\u001b[32m[I 2021-04-16 21:34:04,536]\u001b[0m Trial 115 finished with value: -576.7262627598973 and parameters: {'p': 1, 'd': 1, 'q': 0, 'ps': 0, 'ds': 0, 'qs': 0}. Best is trial 18 with value: -576.7262627598973.\u001b[0m\n",
      "\u001b[32m[I 2021-04-16 21:34:04,575]\u001b[0m Trial 116 finished with value: -576.7262627598973 and parameters: {'p': 1, 'd': 1, 'q': 0, 'ps': 0, 'ds': 0, 'qs': 0}. Best is trial 18 with value: -576.7262627598973.\u001b[0m\n",
      "\u001b[32m[I 2021-04-16 21:34:04,621]\u001b[0m Trial 117 finished with value: -576.7262627598973 and parameters: {'p': 1, 'd': 1, 'q': 0, 'ps': 0, 'ds': 0, 'qs': 0}. Best is trial 18 with value: -576.7262627598973.\u001b[0m\n",
      "\u001b[32m[I 2021-04-16 21:34:04,661]\u001b[0m Trial 118 finished with value: -576.7262627598973 and parameters: {'p': 1, 'd': 1, 'q': 0, 'ps': 0, 'ds': 0, 'qs': 0}. Best is trial 18 with value: -576.7262627598973.\u001b[0m\n",
      "\u001b[32m[I 2021-04-16 21:34:04,700]\u001b[0m Trial 119 finished with value: -576.7262627598973 and parameters: {'p': 1, 'd': 1, 'q': 0, 'ps': 0, 'ds': 0, 'qs': 0}. Best is trial 18 with value: -576.7262627598973.\u001b[0m\n",
      "\u001b[32m[I 2021-04-16 21:34:04,740]\u001b[0m Trial 120 finished with value: -576.7262627598973 and parameters: {'p': 1, 'd': 1, 'q': 0, 'ps': 0, 'ds': 0, 'qs': 0}. Best is trial 18 with value: -576.7262627598973.\u001b[0m\n",
      "\u001b[32m[I 2021-04-16 21:34:04,788]\u001b[0m Trial 121 finished with value: -576.7262627598973 and parameters: {'p': 1, 'd': 1, 'q': 0, 'ps': 0, 'ds': 0, 'qs': 0}. Best is trial 18 with value: -576.7262627598973.\u001b[0m\n",
      "\u001b[32m[I 2021-04-16 21:34:04,830]\u001b[0m Trial 122 finished with value: -576.7262627598973 and parameters: {'p': 1, 'd': 1, 'q': 0, 'ps': 0, 'ds': 0, 'qs': 0}. Best is trial 18 with value: -576.7262627598973.\u001b[0m\n"
     ]
    },
    {
     "name": "stderr",
     "output_type": "stream",
     "text": [
      "\u001b[32m[I 2021-04-16 21:34:04,868]\u001b[0m Trial 123 finished with value: -576.7262627598973 and parameters: {'p': 1, 'd': 1, 'q': 0, 'ps': 0, 'ds': 0, 'qs': 0}. Best is trial 18 with value: -576.7262627598973.\u001b[0m\n",
      "\u001b[32m[I 2021-04-16 21:34:04,905]\u001b[0m Trial 124 finished with value: -576.7262627598973 and parameters: {'p': 1, 'd': 1, 'q': 0, 'ps': 0, 'ds': 0, 'qs': 0}. Best is trial 18 with value: -576.7262627598973.\u001b[0m\n",
      "\u001b[32m[I 2021-04-16 21:34:04,943]\u001b[0m Trial 125 finished with value: -576.7262627598973 and parameters: {'p': 1, 'd': 1, 'q': 0, 'ps': 0, 'ds': 0, 'qs': 0}. Best is trial 18 with value: -576.7262627598973.\u001b[0m\n",
      "\u001b[32m[I 2021-04-16 21:34:04,981]\u001b[0m Trial 126 finished with value: -576.7262627598973 and parameters: {'p': 1, 'd': 1, 'q': 0, 'ps': 0, 'ds': 0, 'qs': 0}. Best is trial 18 with value: -576.7262627598973.\u001b[0m\n",
      "\u001b[32m[I 2021-04-16 21:34:05,022]\u001b[0m Trial 127 finished with value: -576.7262627598973 and parameters: {'p': 1, 'd': 1, 'q': 0, 'ps': 0, 'ds': 0, 'qs': 0}. Best is trial 18 with value: -576.7262627598973.\u001b[0m\n",
      "\u001b[32m[I 2021-04-16 21:34:05,060]\u001b[0m Trial 128 finished with value: -576.7262627598973 and parameters: {'p': 1, 'd': 1, 'q': 0, 'ps': 0, 'ds': 0, 'qs': 0}. Best is trial 18 with value: -576.7262627598973.\u001b[0m\n",
      "\u001b[32m[I 2021-04-16 21:34:05,109]\u001b[0m Trial 129 finished with value: -576.7262627598973 and parameters: {'p': 1, 'd': 1, 'q': 0, 'ps': 0, 'ds': 0, 'qs': 0}. Best is trial 18 with value: -576.7262627598973.\u001b[0m\n",
      "\u001b[32m[I 2021-04-16 21:34:05,145]\u001b[0m Trial 130 finished with value: -576.7262627598973 and parameters: {'p': 1, 'd': 1, 'q': 0, 'ps': 0, 'ds': 0, 'qs': 0}. Best is trial 18 with value: -576.7262627598973.\u001b[0m\n",
      "\u001b[32m[I 2021-04-16 21:34:05,182]\u001b[0m Trial 131 finished with value: -576.7262627598973 and parameters: {'p': 1, 'd': 1, 'q': 0, 'ps': 0, 'ds': 0, 'qs': 0}. Best is trial 18 with value: -576.7262627598973.\u001b[0m\n",
      "\u001b[32m[I 2021-04-16 21:34:05,218]\u001b[0m Trial 132 finished with value: -576.7262627598973 and parameters: {'p': 1, 'd': 1, 'q': 0, 'ps': 0, 'ds': 0, 'qs': 0}. Best is trial 18 with value: -576.7262627598973.\u001b[0m\n",
      "\u001b[32m[I 2021-04-16 21:34:05,255]\u001b[0m Trial 133 finished with value: -576.7262627598973 and parameters: {'p': 1, 'd': 1, 'q': 0, 'ps': 0, 'ds': 0, 'qs': 0}. Best is trial 18 with value: -576.7262627598973.\u001b[0m\n",
      "\u001b[32m[I 2021-04-16 21:34:05,293]\u001b[0m Trial 134 finished with value: -576.7262627598973 and parameters: {'p': 1, 'd': 1, 'q': 0, 'ps': 0, 'ds': 0, 'qs': 0}. Best is trial 18 with value: -576.7262627598973.\u001b[0m\n",
      "\u001b[32m[I 2021-04-16 21:34:05,329]\u001b[0m Trial 135 finished with value: -576.7262627598973 and parameters: {'p': 1, 'd': 1, 'q': 0, 'ps': 0, 'ds': 0, 'qs': 0}. Best is trial 18 with value: -576.7262627598973.\u001b[0m\n",
      "\u001b[32m[I 2021-04-16 21:34:05,365]\u001b[0m Trial 136 finished with value: -576.7262627598973 and parameters: {'p': 1, 'd': 1, 'q': 0, 'ps': 0, 'ds': 0, 'qs': 0}. Best is trial 18 with value: -576.7262627598973.\u001b[0m\n",
      "\u001b[32m[I 2021-04-16 21:34:05,401]\u001b[0m Trial 137 finished with value: -576.7262627598973 and parameters: {'p': 1, 'd': 1, 'q': 0, 'ps': 0, 'ds': 0, 'qs': 0}. Best is trial 18 with value: -576.7262627598973.\u001b[0m\n",
      "\u001b[32m[I 2021-04-16 21:34:05,438]\u001b[0m Trial 138 finished with value: -576.7262627598973 and parameters: {'p': 1, 'd': 1, 'q': 0, 'ps': 0, 'ds': 0, 'qs': 0}. Best is trial 18 with value: -576.7262627598973.\u001b[0m\n",
      "\u001b[32m[I 2021-04-16 21:34:05,474]\u001b[0m Trial 139 finished with value: -576.7262627598973 and parameters: {'p': 1, 'd': 1, 'q': 0, 'ps': 0, 'ds': 0, 'qs': 0}. Best is trial 18 with value: -576.7262627598973.\u001b[0m\n",
      "\u001b[32m[I 2021-04-16 21:34:05,510]\u001b[0m Trial 140 finished with value: -576.7262627598973 and parameters: {'p': 1, 'd': 1, 'q': 0, 'ps': 0, 'ds': 0, 'qs': 0}. Best is trial 18 with value: -576.7262627598973.\u001b[0m\n",
      "\u001b[32m[I 2021-04-16 21:34:05,547]\u001b[0m Trial 141 finished with value: -576.7262627598973 and parameters: {'p': 1, 'd': 1, 'q': 0, 'ps': 0, 'ds': 0, 'qs': 0}. Best is trial 18 with value: -576.7262627598973.\u001b[0m\n",
      "\u001b[32m[I 2021-04-16 21:34:05,591]\u001b[0m Trial 142 finished with value: -576.7262627598973 and parameters: {'p': 1, 'd': 1, 'q': 0, 'ps': 0, 'ds': 0, 'qs': 0}. Best is trial 18 with value: -576.7262627598973.\u001b[0m\n",
      "\u001b[32m[I 2021-04-16 21:34:05,627]\u001b[0m Trial 143 finished with value: -576.7262627598973 and parameters: {'p': 1, 'd': 1, 'q': 0, 'ps': 0, 'ds': 0, 'qs': 0}. Best is trial 18 with value: -576.7262627598973.\u001b[0m\n",
      "\u001b[32m[I 2021-04-16 21:34:05,664]\u001b[0m Trial 144 finished with value: -576.7262627598973 and parameters: {'p': 1, 'd': 1, 'q': 0, 'ps': 0, 'ds': 0, 'qs': 0}. Best is trial 18 with value: -576.7262627598973.\u001b[0m\n",
      "\u001b[32m[I 2021-04-16 21:34:05,701]\u001b[0m Trial 145 finished with value: -576.7262627598973 and parameters: {'p': 1, 'd': 1, 'q': 0, 'ps': 0, 'ds': 0, 'qs': 0}. Best is trial 18 with value: -576.7262627598973.\u001b[0m\n",
      "\u001b[32m[I 2021-04-16 21:34:05,739]\u001b[0m Trial 146 finished with value: -576.7262627598973 and parameters: {'p': 1, 'd': 1, 'q': 0, 'ps': 0, 'ds': 0, 'qs': 0}. Best is trial 18 with value: -576.7262627598973.\u001b[0m\n",
      "\u001b[32m[I 2021-04-16 21:34:05,775]\u001b[0m Trial 147 finished with value: -576.7262627598973 and parameters: {'p': 1, 'd': 1, 'q': 0, 'ps': 0, 'ds': 0, 'qs': 0}. Best is trial 18 with value: -576.7262627598973.\u001b[0m\n",
      "\u001b[32m[I 2021-04-16 21:34:05,812]\u001b[0m Trial 148 finished with value: -576.7262627598973 and parameters: {'p': 1, 'd': 1, 'q': 0, 'ps': 0, 'ds': 0, 'qs': 0}. Best is trial 18 with value: -576.7262627598973.\u001b[0m\n",
      "\u001b[32m[I 2021-04-16 21:34:05,875]\u001b[0m Trial 149 pruned. \u001b[0m\n",
      "\u001b[32m[I 2021-04-16 21:34:05,911]\u001b[0m Trial 150 finished with value: -576.7262627598973 and parameters: {'p': 1, 'd': 1, 'q': 0, 'ps': 0, 'ds': 0, 'qs': 0}. Best is trial 18 with value: -576.7262627598973.\u001b[0m\n",
      "\u001b[32m[I 2021-04-16 21:34:05,947]\u001b[0m Trial 151 finished with value: -576.7262627598973 and parameters: {'p': 1, 'd': 1, 'q': 0, 'ps': 0, 'ds': 0, 'qs': 0}. Best is trial 18 with value: -576.7262627598973.\u001b[0m\n",
      "\u001b[32m[I 2021-04-16 21:34:05,984]\u001b[0m Trial 152 finished with value: -576.7262627598973 and parameters: {'p': 1, 'd': 1, 'q': 0, 'ps': 0, 'ds': 0, 'qs': 0}. Best is trial 18 with value: -576.7262627598973.\u001b[0m\n",
      "\u001b[32m[I 2021-04-16 21:34:06,021]\u001b[0m Trial 153 finished with value: -576.7262627598973 and parameters: {'p': 1, 'd': 1, 'q': 0, 'ps': 0, 'ds': 0, 'qs': 0}. Best is trial 18 with value: -576.7262627598973.\u001b[0m\n",
      "\u001b[32m[I 2021-04-16 21:34:06,058]\u001b[0m Trial 154 finished with value: -576.7262627598973 and parameters: {'p': 1, 'd': 1, 'q': 0, 'ps': 0, 'ds': 0, 'qs': 0}. Best is trial 18 with value: -576.7262627598973.\u001b[0m\n",
      "\u001b[32m[I 2021-04-16 21:34:06,104]\u001b[0m Trial 155 finished with value: -576.7262627598973 and parameters: {'p': 1, 'd': 1, 'q': 0, 'ps': 0, 'ds': 0, 'qs': 0}. Best is trial 18 with value: -576.7262627598973.\u001b[0m\n",
      "\u001b[32m[I 2021-04-16 21:34:06,141]\u001b[0m Trial 156 finished with value: -576.7262627598973 and parameters: {'p': 1, 'd': 1, 'q': 0, 'ps': 0, 'ds': 0, 'qs': 0}. Best is trial 18 with value: -576.7262627598973.\u001b[0m\n",
      "\u001b[32m[I 2021-04-16 21:34:06,178]\u001b[0m Trial 157 finished with value: -576.7262627598973 and parameters: {'p': 1, 'd': 1, 'q': 0, 'ps': 0, 'ds': 0, 'qs': 0}. Best is trial 18 with value: -576.7262627598973.\u001b[0m\n",
      "\u001b[32m[I 2021-04-16 21:34:06,215]\u001b[0m Trial 158 finished with value: -576.7262627598973 and parameters: {'p': 1, 'd': 1, 'q': 0, 'ps': 0, 'ds': 0, 'qs': 0}. Best is trial 18 with value: -576.7262627598973.\u001b[0m\n",
      "\u001b[32m[I 2021-04-16 21:34:06,252]\u001b[0m Trial 159 finished with value: -576.7262627598973 and parameters: {'p': 1, 'd': 1, 'q': 0, 'ps': 0, 'ds': 0, 'qs': 0}. Best is trial 18 with value: -576.7262627598973.\u001b[0m\n",
      "\u001b[32m[I 2021-04-16 21:34:06,290]\u001b[0m Trial 160 finished with value: -576.7262627598973 and parameters: {'p': 1, 'd': 1, 'q': 0, 'ps': 0, 'ds': 0, 'qs': 0}. Best is trial 18 with value: -576.7262627598973.\u001b[0m\n",
      "\u001b[32m[I 2021-04-16 21:34:06,327]\u001b[0m Trial 161 finished with value: -576.7262627598973 and parameters: {'p': 1, 'd': 1, 'q': 0, 'ps': 0, 'ds': 0, 'qs': 0}. Best is trial 18 with value: -576.7262627598973.\u001b[0m\n",
      "\u001b[32m[I 2021-04-16 21:34:06,365]\u001b[0m Trial 162 finished with value: -576.7262627598973 and parameters: {'p': 1, 'd': 1, 'q': 0, 'ps': 0, 'ds': 0, 'qs': 0}. Best is trial 18 with value: -576.7262627598973.\u001b[0m\n"
     ]
    },
    {
     "name": "stderr",
     "output_type": "stream",
     "text": [
      "\u001b[32m[I 2021-04-16 21:34:06,411]\u001b[0m Trial 163 finished with value: -576.7262627598973 and parameters: {'p': 1, 'd': 1, 'q': 0, 'ps': 0, 'ds': 0, 'qs': 0}. Best is trial 18 with value: -576.7262627598973.\u001b[0m\n",
      "\u001b[32m[I 2021-04-16 21:34:06,449]\u001b[0m Trial 164 finished with value: -576.7262627598973 and parameters: {'p': 1, 'd': 1, 'q': 0, 'ps': 0, 'ds': 0, 'qs': 0}. Best is trial 18 with value: -576.7262627598973.\u001b[0m\n",
      "\u001b[32m[I 2021-04-16 21:34:06,485]\u001b[0m Trial 165 finished with value: -576.7262627598973 and parameters: {'p': 1, 'd': 1, 'q': 0, 'ps': 0, 'ds': 0, 'qs': 0}. Best is trial 18 with value: -576.7262627598973.\u001b[0m\n",
      "\u001b[32m[I 2021-04-16 21:34:06,522]\u001b[0m Trial 166 finished with value: -576.7262627598973 and parameters: {'p': 1, 'd': 1, 'q': 0, 'ps': 0, 'ds': 0, 'qs': 0}. Best is trial 18 with value: -576.7262627598973.\u001b[0m\n",
      "/home/co/miniconda3/lib/python3.8/site-packages/statsmodels/base/model.py:567: ConvergenceWarning: Maximum Likelihood optimization failed to converge. Check mle_retvals\n",
      "  warn(\"Maximum Likelihood optimization failed to converge. \"\n",
      "\u001b[32m[I 2021-04-16 21:34:06,584]\u001b[0m Trial 167 pruned. \u001b[0m\n",
      "\u001b[32m[I 2021-04-16 21:34:06,622]\u001b[0m Trial 168 finished with value: -576.7262627598973 and parameters: {'p': 1, 'd': 1, 'q': 0, 'ps': 0, 'ds': 0, 'qs': 0}. Best is trial 18 with value: -576.7262627598973.\u001b[0m\n",
      "\u001b[32m[I 2021-04-16 21:34:06,660]\u001b[0m Trial 169 finished with value: -576.7262627598973 and parameters: {'p': 1, 'd': 1, 'q': 0, 'ps': 0, 'ds': 0, 'qs': 0}. Best is trial 18 with value: -576.7262627598973.\u001b[0m\n",
      "\u001b[32m[I 2021-04-16 21:34:06,698]\u001b[0m Trial 170 finished with value: -576.7262627598973 and parameters: {'p': 1, 'd': 1, 'q': 0, 'ps': 0, 'ds': 0, 'qs': 0}. Best is trial 18 with value: -576.7262627598973.\u001b[0m\n",
      "\u001b[32m[I 2021-04-16 21:34:06,742]\u001b[0m Trial 171 finished with value: -576.7262627598973 and parameters: {'p': 1, 'd': 1, 'q': 0, 'ps': 0, 'ds': 0, 'qs': 0}. Best is trial 18 with value: -576.7262627598973.\u001b[0m\n",
      "\u001b[32m[I 2021-04-16 21:34:06,779]\u001b[0m Trial 172 finished with value: -576.7262627598973 and parameters: {'p': 1, 'd': 1, 'q': 0, 'ps': 0, 'ds': 0, 'qs': 0}. Best is trial 18 with value: -576.7262627598973.\u001b[0m\n",
      "\u001b[32m[I 2021-04-16 21:34:06,818]\u001b[0m Trial 173 finished with value: -576.7262627598973 and parameters: {'p': 1, 'd': 1, 'q': 0, 'ps': 0, 'ds': 0, 'qs': 0}. Best is trial 18 with value: -576.7262627598973.\u001b[0m\n",
      "\u001b[32m[I 2021-04-16 21:34:06,868]\u001b[0m Trial 174 finished with value: -576.7262627598973 and parameters: {'p': 1, 'd': 1, 'q': 0, 'ps': 0, 'ds': 0, 'qs': 0}. Best is trial 18 with value: -576.7262627598973.\u001b[0m\n",
      "\u001b[32m[I 2021-04-16 21:34:06,914]\u001b[0m Trial 175 finished with value: -576.7262627598973 and parameters: {'p': 1, 'd': 1, 'q': 0, 'ps': 0, 'ds': 0, 'qs': 0}. Best is trial 18 with value: -576.7262627598973.\u001b[0m\n",
      "\u001b[32m[I 2021-04-16 21:34:06,951]\u001b[0m Trial 176 finished with value: -576.7262627598973 and parameters: {'p': 1, 'd': 1, 'q': 0, 'ps': 0, 'ds': 0, 'qs': 0}. Best is trial 18 with value: -576.7262627598973.\u001b[0m\n",
      "\u001b[32m[I 2021-04-16 21:34:06,989]\u001b[0m Trial 177 finished with value: -576.7262627598973 and parameters: {'p': 1, 'd': 1, 'q': 0, 'ps': 0, 'ds': 0, 'qs': 0}. Best is trial 18 with value: -576.7262627598973.\u001b[0m\n",
      "\u001b[32m[I 2021-04-16 21:34:07,026]\u001b[0m Trial 178 finished with value: -576.7262627598973 and parameters: {'p': 1, 'd': 1, 'q': 0, 'ps': 0, 'ds': 0, 'qs': 0}. Best is trial 18 with value: -576.7262627598973.\u001b[0m\n",
      "\u001b[32m[I 2021-04-16 21:34:07,063]\u001b[0m Trial 179 finished with value: -576.7262627598973 and parameters: {'p': 1, 'd': 1, 'q': 0, 'ps': 0, 'ds': 0, 'qs': 0}. Best is trial 18 with value: -576.7262627598973.\u001b[0m\n",
      "\u001b[32m[I 2021-04-16 21:34:07,102]\u001b[0m Trial 180 finished with value: -576.7262627598973 and parameters: {'p': 1, 'd': 1, 'q': 0, 'ps': 0, 'ds': 0, 'qs': 0}. Best is trial 18 with value: -576.7262627598973.\u001b[0m\n",
      "\u001b[32m[I 2021-04-16 21:34:07,139]\u001b[0m Trial 181 finished with value: -576.7262627598973 and parameters: {'p': 1, 'd': 1, 'q': 0, 'ps': 0, 'ds': 0, 'qs': 0}. Best is trial 18 with value: -576.7262627598973.\u001b[0m\n",
      "\u001b[32m[I 2021-04-16 21:34:07,176]\u001b[0m Trial 182 finished with value: -576.7262627598973 and parameters: {'p': 1, 'd': 1, 'q': 0, 'ps': 0, 'ds': 0, 'qs': 0}. Best is trial 18 with value: -576.7262627598973.\u001b[0m\n",
      "\u001b[32m[I 2021-04-16 21:34:07,213]\u001b[0m Trial 183 finished with value: -576.7262627598973 and parameters: {'p': 1, 'd': 1, 'q': 0, 'ps': 0, 'ds': 0, 'qs': 0}. Best is trial 18 with value: -576.7262627598973.\u001b[0m\n",
      "\u001b[32m[I 2021-04-16 21:34:07,253]\u001b[0m Trial 184 finished with value: -576.7262627598973 and parameters: {'p': 1, 'd': 1, 'q': 0, 'ps': 0, 'ds': 0, 'qs': 0}. Best is trial 18 with value: -576.7262627598973.\u001b[0m\n",
      "\u001b[32m[I 2021-04-16 21:34:07,291]\u001b[0m Trial 185 finished with value: -576.7262627598973 and parameters: {'p': 1, 'd': 1, 'q': 0, 'ps': 0, 'ds': 0, 'qs': 0}. Best is trial 18 with value: -576.7262627598973.\u001b[0m\n",
      "\u001b[32m[I 2021-04-16 21:34:07,330]\u001b[0m Trial 186 finished with value: -576.7262627598973 and parameters: {'p': 1, 'd': 1, 'q': 0, 'ps': 0, 'ds': 0, 'qs': 0}. Best is trial 18 with value: -576.7262627598973.\u001b[0m\n",
      "\u001b[32m[I 2021-04-16 21:34:07,368]\u001b[0m Trial 187 finished with value: -576.7262627598973 and parameters: {'p': 1, 'd': 1, 'q': 0, 'ps': 0, 'ds': 0, 'qs': 0}. Best is trial 18 with value: -576.7262627598973.\u001b[0m\n",
      "\u001b[32m[I 2021-04-16 21:34:07,417]\u001b[0m Trial 188 finished with value: -576.7262627598973 and parameters: {'p': 1, 'd': 1, 'q': 0, 'ps': 0, 'ds': 0, 'qs': 0}. Best is trial 18 with value: -576.7262627598973.\u001b[0m\n",
      "\u001b[32m[I 2021-04-16 21:34:07,454]\u001b[0m Trial 189 finished with value: -576.7262627598973 and parameters: {'p': 1, 'd': 1, 'q': 0, 'ps': 0, 'ds': 0, 'qs': 0}. Best is trial 18 with value: -576.7262627598973.\u001b[0m\n",
      "\u001b[32m[I 2021-04-16 21:34:07,493]\u001b[0m Trial 190 finished with value: -576.7262627598973 and parameters: {'p': 1, 'd': 1, 'q': 0, 'ps': 0, 'ds': 0, 'qs': 0}. Best is trial 18 with value: -576.7262627598973.\u001b[0m\n",
      "\u001b[32m[I 2021-04-16 21:34:07,531]\u001b[0m Trial 191 finished with value: -576.7262627598973 and parameters: {'p': 1, 'd': 1, 'q': 0, 'ps': 0, 'ds': 0, 'qs': 0}. Best is trial 18 with value: -576.7262627598973.\u001b[0m\n",
      "\u001b[32m[I 2021-04-16 21:34:07,570]\u001b[0m Trial 192 finished with value: -576.7262627598973 and parameters: {'p': 1, 'd': 1, 'q': 0, 'ps': 0, 'ds': 0, 'qs': 0}. Best is trial 18 with value: -576.7262627598973.\u001b[0m\n",
      "\u001b[32m[I 2021-04-16 21:34:07,607]\u001b[0m Trial 193 finished with value: -576.7262627598973 and parameters: {'p': 1, 'd': 1, 'q': 0, 'ps': 0, 'ds': 0, 'qs': 0}. Best is trial 18 with value: -576.7262627598973.\u001b[0m\n",
      "\u001b[32m[I 2021-04-16 21:34:07,644]\u001b[0m Trial 194 finished with value: -576.7262627598973 and parameters: {'p': 1, 'd': 1, 'q': 0, 'ps': 0, 'ds': 0, 'qs': 0}. Best is trial 18 with value: -576.7262627598973.\u001b[0m\n",
      "\u001b[32m[I 2021-04-16 21:34:07,695]\u001b[0m Trial 195 finished with value: -576.7262627598973 and parameters: {'p': 1, 'd': 1, 'q': 0, 'ps': 0, 'ds': 0, 'qs': 0}. Best is trial 18 with value: -576.7262627598973.\u001b[0m\n",
      "\u001b[32m[I 2021-04-16 21:34:07,747]\u001b[0m Trial 196 finished with value: -576.7262627598973 and parameters: {'p': 1, 'd': 1, 'q': 0, 'ps': 0, 'ds': 0, 'qs': 0}. Best is trial 18 with value: -576.7262627598973.\u001b[0m\n",
      "\u001b[32m[I 2021-04-16 21:34:07,798]\u001b[0m Trial 197 finished with value: -576.7262627598973 and parameters: {'p': 1, 'd': 1, 'q': 0, 'ps': 0, 'ds': 0, 'qs': 0}. Best is trial 18 with value: -576.7262627598973.\u001b[0m\n",
      "\u001b[32m[I 2021-04-16 21:34:07,848]\u001b[0m Trial 198 finished with value: -576.7262627598973 and parameters: {'p': 1, 'd': 1, 'q': 0, 'ps': 0, 'ds': 0, 'qs': 0}. Best is trial 18 with value: -576.7262627598973.\u001b[0m\n",
      "\u001b[32m[I 2021-04-16 21:34:07,888]\u001b[0m Trial 199 finished with value: -576.7262627598973 and parameters: {'p': 1, 'd': 1, 'q': 0, 'ps': 0, 'ds': 0, 'qs': 0}. Best is trial 18 with value: -576.7262627598973.\u001b[0m\n",
      "\u001b[32m[I 2021-04-16 21:34:07,957]\u001b[0m Trial 200 pruned. \u001b[0m\n",
      "\u001b[32m[I 2021-04-16 21:34:07,995]\u001b[0m Trial 201 finished with value: -576.7262627598973 and parameters: {'p': 1, 'd': 1, 'q': 0, 'ps': 0, 'ds': 0, 'qs': 0}. Best is trial 18 with value: -576.7262627598973.\u001b[0m\n",
      "\u001b[32m[I 2021-04-16 21:34:08,034]\u001b[0m Trial 202 finished with value: -576.7262627598973 and parameters: {'p': 1, 'd': 1, 'q': 0, 'ps': 0, 'ds': 0, 'qs': 0}. Best is trial 18 with value: -576.7262627598973.\u001b[0m\n"
     ]
    },
    {
     "name": "stderr",
     "output_type": "stream",
     "text": [
      "\u001b[32m[I 2021-04-16 21:34:08,073]\u001b[0m Trial 203 finished with value: -576.7262627598973 and parameters: {'p': 1, 'd': 1, 'q': 0, 'ps': 0, 'ds': 0, 'qs': 0}. Best is trial 18 with value: -576.7262627598973.\u001b[0m\n",
      "\u001b[32m[I 2021-04-16 21:34:08,119]\u001b[0m Trial 204 finished with value: -576.7262627598973 and parameters: {'p': 1, 'd': 1, 'q': 0, 'ps': 0, 'ds': 0, 'qs': 0}. Best is trial 18 with value: -576.7262627598973.\u001b[0m\n",
      "\u001b[32m[I 2021-04-16 21:34:08,168]\u001b[0m Trial 205 finished with value: -576.7262627598973 and parameters: {'p': 1, 'd': 1, 'q': 0, 'ps': 0, 'ds': 0, 'qs': 0}. Best is trial 18 with value: -576.7262627598973.\u001b[0m\n",
      "\u001b[32m[I 2021-04-16 21:34:08,219]\u001b[0m Trial 206 finished with value: -576.7262627598973 and parameters: {'p': 1, 'd': 1, 'q': 0, 'ps': 0, 'ds': 0, 'qs': 0}. Best is trial 18 with value: -576.7262627598973.\u001b[0m\n",
      "\u001b[32m[I 2021-04-16 21:34:08,259]\u001b[0m Trial 207 finished with value: -576.7262627598973 and parameters: {'p': 1, 'd': 1, 'q': 0, 'ps': 0, 'ds': 0, 'qs': 0}. Best is trial 18 with value: -576.7262627598973.\u001b[0m\n",
      "\u001b[32m[I 2021-04-16 21:34:08,298]\u001b[0m Trial 208 finished with value: -576.7262627598973 and parameters: {'p': 1, 'd': 1, 'q': 0, 'ps': 0, 'ds': 0, 'qs': 0}. Best is trial 18 with value: -576.7262627598973.\u001b[0m\n",
      "\u001b[32m[I 2021-04-16 21:34:08,336]\u001b[0m Trial 209 finished with value: -576.7262627598973 and parameters: {'p': 1, 'd': 1, 'q': 0, 'ps': 0, 'ds': 0, 'qs': 0}. Best is trial 18 with value: -576.7262627598973.\u001b[0m\n",
      "\u001b[32m[I 2021-04-16 21:34:08,457]\u001b[0m Trial 210 pruned. \u001b[0m\n",
      "\u001b[32m[I 2021-04-16 21:34:08,494]\u001b[0m Trial 211 finished with value: -576.7262627598973 and parameters: {'p': 1, 'd': 1, 'q': 0, 'ps': 0, 'ds': 0, 'qs': 0}. Best is trial 18 with value: -576.7262627598973.\u001b[0m\n",
      "\u001b[32m[I 2021-04-16 21:34:08,532]\u001b[0m Trial 212 finished with value: -576.7262627598973 and parameters: {'p': 1, 'd': 1, 'q': 0, 'ps': 0, 'ds': 0, 'qs': 0}. Best is trial 18 with value: -576.7262627598973.\u001b[0m\n",
      "\u001b[32m[I 2021-04-16 21:34:08,570]\u001b[0m Trial 213 finished with value: -576.7262627598973 and parameters: {'p': 1, 'd': 1, 'q': 0, 'ps': 0, 'ds': 0, 'qs': 0}. Best is trial 18 with value: -576.7262627598973.\u001b[0m\n",
      "\u001b[32m[I 2021-04-16 21:34:08,609]\u001b[0m Trial 214 finished with value: -576.7262627598973 and parameters: {'p': 1, 'd': 1, 'q': 0, 'ps': 0, 'ds': 0, 'qs': 0}. Best is trial 18 with value: -576.7262627598973.\u001b[0m\n",
      "\u001b[32m[I 2021-04-16 21:34:08,646]\u001b[0m Trial 215 finished with value: -576.7262627598973 and parameters: {'p': 1, 'd': 1, 'q': 0, 'ps': 0, 'ds': 0, 'qs': 0}. Best is trial 18 with value: -576.7262627598973.\u001b[0m\n",
      "\u001b[32m[I 2021-04-16 21:34:08,684]\u001b[0m Trial 216 finished with value: -576.7262627598973 and parameters: {'p': 1, 'd': 1, 'q': 0, 'ps': 0, 'ds': 0, 'qs': 0}. Best is trial 18 with value: -576.7262627598973.\u001b[0m\n",
      "\u001b[32m[I 2021-04-16 21:34:08,722]\u001b[0m Trial 217 finished with value: -576.7262627598973 and parameters: {'p': 1, 'd': 1, 'q': 0, 'ps': 0, 'ds': 0, 'qs': 0}. Best is trial 18 with value: -576.7262627598973.\u001b[0m\n",
      "\u001b[32m[I 2021-04-16 21:34:08,759]\u001b[0m Trial 218 finished with value: -576.7262627598973 and parameters: {'p': 1, 'd': 1, 'q': 0, 'ps': 0, 'ds': 0, 'qs': 0}. Best is trial 18 with value: -576.7262627598973.\u001b[0m\n",
      "\u001b[32m[I 2021-04-16 21:34:08,798]\u001b[0m Trial 219 finished with value: -576.7262627598973 and parameters: {'p': 1, 'd': 1, 'q': 0, 'ps': 0, 'ds': 0, 'qs': 0}. Best is trial 18 with value: -576.7262627598973.\u001b[0m\n",
      "\u001b[32m[I 2021-04-16 21:34:08,838]\u001b[0m Trial 220 finished with value: -576.7262627598973 and parameters: {'p': 1, 'd': 1, 'q': 0, 'ps': 0, 'ds': 0, 'qs': 0}. Best is trial 18 with value: -576.7262627598973.\u001b[0m\n",
      "\u001b[32m[I 2021-04-16 21:34:08,879]\u001b[0m Trial 221 finished with value: -576.7262627598973 and parameters: {'p': 1, 'd': 1, 'q': 0, 'ps': 0, 'ds': 0, 'qs': 0}. Best is trial 18 with value: -576.7262627598973.\u001b[0m\n",
      "\u001b[32m[I 2021-04-16 21:34:08,931]\u001b[0m Trial 222 finished with value: -576.7262627598973 and parameters: {'p': 1, 'd': 1, 'q': 0, 'ps': 0, 'ds': 0, 'qs': 0}. Best is trial 18 with value: -576.7262627598973.\u001b[0m\n",
      "\u001b[32m[I 2021-04-16 21:34:08,982]\u001b[0m Trial 223 finished with value: -576.7262627598973 and parameters: {'p': 1, 'd': 1, 'q': 0, 'ps': 0, 'ds': 0, 'qs': 0}. Best is trial 18 with value: -576.7262627598973.\u001b[0m\n",
      "\u001b[32m[I 2021-04-16 21:34:09,032]\u001b[0m Trial 224 finished with value: -576.7262627598973 and parameters: {'p': 1, 'd': 1, 'q': 0, 'ps': 0, 'ds': 0, 'qs': 0}. Best is trial 18 with value: -576.7262627598973.\u001b[0m\n",
      "\u001b[32m[I 2021-04-16 21:34:09,072]\u001b[0m Trial 225 finished with value: -576.7262627598973 and parameters: {'p': 1, 'd': 1, 'q': 0, 'ps': 0, 'ds': 0, 'qs': 0}. Best is trial 18 with value: -576.7262627598973.\u001b[0m\n",
      "\u001b[32m[I 2021-04-16 21:34:09,115]\u001b[0m Trial 226 finished with value: -576.7262627598973 and parameters: {'p': 1, 'd': 1, 'q': 0, 'ps': 0, 'ds': 0, 'qs': 0}. Best is trial 18 with value: -576.7262627598973.\u001b[0m\n",
      "\u001b[32m[I 2021-04-16 21:34:09,166]\u001b[0m Trial 227 finished with value: -576.7262627598973 and parameters: {'p': 1, 'd': 1, 'q': 0, 'ps': 0, 'ds': 0, 'qs': 0}. Best is trial 18 with value: -576.7262627598973.\u001b[0m\n",
      "\u001b[32m[I 2021-04-16 21:34:09,207]\u001b[0m Trial 228 finished with value: -576.7262627598973 and parameters: {'p': 1, 'd': 1, 'q': 0, 'ps': 0, 'ds': 0, 'qs': 0}. Best is trial 18 with value: -576.7262627598973.\u001b[0m\n",
      "\u001b[32m[I 2021-04-16 21:34:09,246]\u001b[0m Trial 229 finished with value: -576.7262627598973 and parameters: {'p': 1, 'd': 1, 'q': 0, 'ps': 0, 'ds': 0, 'qs': 0}. Best is trial 18 with value: -576.7262627598973.\u001b[0m\n",
      "\u001b[32m[I 2021-04-16 21:34:09,284]\u001b[0m Trial 230 finished with value: -576.7262627598973 and parameters: {'p': 1, 'd': 1, 'q': 0, 'ps': 0, 'ds': 0, 'qs': 0}. Best is trial 18 with value: -576.7262627598973.\u001b[0m\n",
      "\u001b[32m[I 2021-04-16 21:34:09,323]\u001b[0m Trial 231 finished with value: -576.7262627598973 and parameters: {'p': 1, 'd': 1, 'q': 0, 'ps': 0, 'ds': 0, 'qs': 0}. Best is trial 18 with value: -576.7262627598973.\u001b[0m\n",
      "\u001b[32m[I 2021-04-16 21:34:09,361]\u001b[0m Trial 232 finished with value: -576.7262627598973 and parameters: {'p': 1, 'd': 1, 'q': 0, 'ps': 0, 'ds': 0, 'qs': 0}. Best is trial 18 with value: -576.7262627598973.\u001b[0m\n",
      "\u001b[32m[I 2021-04-16 21:34:09,400]\u001b[0m Trial 233 finished with value: -576.7262627598973 and parameters: {'p': 1, 'd': 1, 'q': 0, 'ps': 0, 'ds': 0, 'qs': 0}. Best is trial 18 with value: -576.7262627598973.\u001b[0m\n",
      "\u001b[32m[I 2021-04-16 21:34:09,438]\u001b[0m Trial 234 finished with value: -576.7262627598973 and parameters: {'p': 1, 'd': 1, 'q': 0, 'ps': 0, 'ds': 0, 'qs': 0}. Best is trial 18 with value: -576.7262627598973.\u001b[0m\n",
      "\u001b[32m[I 2021-04-16 21:34:09,477]\u001b[0m Trial 235 finished with value: -576.7262627598973 and parameters: {'p': 1, 'd': 1, 'q': 0, 'ps': 0, 'ds': 0, 'qs': 0}. Best is trial 18 with value: -576.7262627598973.\u001b[0m\n",
      "\u001b[32m[I 2021-04-16 21:34:09,515]\u001b[0m Trial 236 finished with value: -576.7262627598973 and parameters: {'p': 1, 'd': 1, 'q': 0, 'ps': 0, 'ds': 0, 'qs': 0}. Best is trial 18 with value: -576.7262627598973.\u001b[0m\n",
      "\u001b[32m[I 2021-04-16 21:34:09,586]\u001b[0m Trial 237 pruned. \u001b[0m\n",
      "\u001b[32m[I 2021-04-16 21:34:09,625]\u001b[0m Trial 238 finished with value: -576.7262627598973 and parameters: {'p': 1, 'd': 1, 'q': 0, 'ps': 0, 'ds': 0, 'qs': 0}. Best is trial 18 with value: -576.7262627598973.\u001b[0m\n",
      "\u001b[32m[I 2021-04-16 21:34:09,677]\u001b[0m Trial 239 finished with value: -576.7262627598973 and parameters: {'p': 1, 'd': 1, 'q': 0, 'ps': 0, 'ds': 0, 'qs': 0}. Best is trial 18 with value: -576.7262627598973.\u001b[0m\n",
      "\u001b[32m[I 2021-04-16 21:34:09,717]\u001b[0m Trial 240 finished with value: -576.7262627598973 and parameters: {'p': 1, 'd': 1, 'q': 0, 'ps': 0, 'ds': 0, 'qs': 0}. Best is trial 18 with value: -576.7262627598973.\u001b[0m\n",
      "\u001b[32m[I 2021-04-16 21:34:09,756]\u001b[0m Trial 241 finished with value: -576.7262627598973 and parameters: {'p': 1, 'd': 1, 'q': 0, 'ps': 0, 'ds': 0, 'qs': 0}. Best is trial 18 with value: -576.7262627598973.\u001b[0m\n",
      "\u001b[32m[I 2021-04-16 21:34:09,795]\u001b[0m Trial 242 finished with value: -576.7262627598973 and parameters: {'p': 1, 'd': 1, 'q': 0, 'ps': 0, 'ds': 0, 'qs': 0}. Best is trial 18 with value: -576.7262627598973.\u001b[0m\n",
      "\u001b[32m[I 2021-04-16 21:34:09,835]\u001b[0m Trial 243 finished with value: -576.7262627598973 and parameters: {'p': 1, 'd': 1, 'q': 0, 'ps': 0, 'ds': 0, 'qs': 0}. Best is trial 18 with value: -576.7262627598973.\u001b[0m\n"
     ]
    },
    {
     "name": "stderr",
     "output_type": "stream",
     "text": [
      "\u001b[32m[I 2021-04-16 21:34:09,873]\u001b[0m Trial 244 finished with value: -576.7262627598973 and parameters: {'p': 1, 'd': 1, 'q': 0, 'ps': 0, 'ds': 0, 'qs': 0}. Best is trial 18 with value: -576.7262627598973.\u001b[0m\n",
      "\u001b[32m[I 2021-04-16 21:34:09,913]\u001b[0m Trial 245 finished with value: -576.7262627598973 and parameters: {'p': 1, 'd': 1, 'q': 0, 'ps': 0, 'ds': 0, 'qs': 0}. Best is trial 18 with value: -576.7262627598973.\u001b[0m\n",
      "\u001b[32m[I 2021-04-16 21:34:10,015]\u001b[0m Trial 246 pruned. \u001b[0m\n",
      "\u001b[32m[I 2021-04-16 21:34:10,055]\u001b[0m Trial 247 finished with value: -576.7262627598973 and parameters: {'p': 1, 'd': 1, 'q': 0, 'ps': 0, 'ds': 0, 'qs': 0}. Best is trial 18 with value: -576.7262627598973.\u001b[0m\n",
      "\u001b[32m[I 2021-04-16 21:34:10,102]\u001b[0m Trial 248 finished with value: -576.7262627598973 and parameters: {'p': 1, 'd': 1, 'q': 0, 'ps': 0, 'ds': 0, 'qs': 0}. Best is trial 18 with value: -576.7262627598973.\u001b[0m\n",
      "\u001b[32m[I 2021-04-16 21:34:10,141]\u001b[0m Trial 249 finished with value: -576.7262627598973 and parameters: {'p': 1, 'd': 1, 'q': 0, 'ps': 0, 'ds': 0, 'qs': 0}. Best is trial 18 with value: -576.7262627598973.\u001b[0m\n",
      "\u001b[32m[I 2021-04-16 21:34:10,180]\u001b[0m Trial 250 finished with value: -576.7262627598973 and parameters: {'p': 1, 'd': 1, 'q': 0, 'ps': 0, 'ds': 0, 'qs': 0}. Best is trial 18 with value: -576.7262627598973.\u001b[0m\n",
      "\u001b[32m[I 2021-04-16 21:34:10,219]\u001b[0m Trial 251 finished with value: -576.7262627598973 and parameters: {'p': 1, 'd': 1, 'q': 0, 'ps': 0, 'ds': 0, 'qs': 0}. Best is trial 18 with value: -576.7262627598973.\u001b[0m\n",
      "\u001b[32m[I 2021-04-16 21:34:10,258]\u001b[0m Trial 252 finished with value: -576.7262627598973 and parameters: {'p': 1, 'd': 1, 'q': 0, 'ps': 0, 'ds': 0, 'qs': 0}. Best is trial 18 with value: -576.7262627598973.\u001b[0m\n",
      "/home/co/miniconda3/lib/python3.8/site-packages/statsmodels/base/model.py:567: ConvergenceWarning: Maximum Likelihood optimization failed to converge. Check mle_retvals\n",
      "  warn(\"Maximum Likelihood optimization failed to converge. \"\n",
      "\u001b[32m[I 2021-04-16 21:34:10,322]\u001b[0m Trial 253 pruned. \u001b[0m\n",
      "\u001b[32m[I 2021-04-16 21:34:10,361]\u001b[0m Trial 254 finished with value: -576.7262627598973 and parameters: {'p': 1, 'd': 1, 'q': 0, 'ps': 0, 'ds': 0, 'qs': 0}. Best is trial 18 with value: -576.7262627598973.\u001b[0m\n",
      "\u001b[32m[I 2021-04-16 21:34:10,403]\u001b[0m Trial 255 finished with value: -576.7262627598973 and parameters: {'p': 1, 'd': 1, 'q': 0, 'ps': 0, 'ds': 0, 'qs': 0}. Best is trial 18 with value: -576.7262627598973.\u001b[0m\n",
      "\u001b[32m[I 2021-04-16 21:34:10,442]\u001b[0m Trial 256 finished with value: -576.7262627598973 and parameters: {'p': 1, 'd': 1, 'q': 0, 'ps': 0, 'ds': 0, 'qs': 0}. Best is trial 18 with value: -576.7262627598973.\u001b[0m\n",
      "\u001b[32m[I 2021-04-16 21:34:10,482]\u001b[0m Trial 257 finished with value: -576.7262627598973 and parameters: {'p': 1, 'd': 1, 'q': 0, 'ps': 0, 'ds': 0, 'qs': 0}. Best is trial 18 with value: -576.7262627598973.\u001b[0m\n",
      "\u001b[32m[I 2021-04-16 21:34:10,521]\u001b[0m Trial 258 finished with value: -576.7262627598973 and parameters: {'p': 1, 'd': 1, 'q': 0, 'ps': 0, 'ds': 0, 'qs': 0}. Best is trial 18 with value: -576.7262627598973.\u001b[0m\n",
      "\u001b[32m[I 2021-04-16 21:34:10,561]\u001b[0m Trial 259 finished with value: -576.7262627598973 and parameters: {'p': 1, 'd': 1, 'q': 0, 'ps': 0, 'ds': 0, 'qs': 0}. Best is trial 18 with value: -576.7262627598973.\u001b[0m\n",
      "\u001b[32m[I 2021-04-16 21:34:10,600]\u001b[0m Trial 260 finished with value: -576.7262627598973 and parameters: {'p': 1, 'd': 1, 'q': 0, 'ps': 0, 'ds': 0, 'qs': 0}. Best is trial 18 with value: -576.7262627598973.\u001b[0m\n",
      "\u001b[32m[I 2021-04-16 21:34:10,640]\u001b[0m Trial 261 finished with value: -576.7262627598973 and parameters: {'p': 1, 'd': 1, 'q': 0, 'ps': 0, 'ds': 0, 'qs': 0}. Best is trial 18 with value: -576.7262627598973.\u001b[0m\n",
      "\u001b[32m[I 2021-04-16 21:34:10,682]\u001b[0m Trial 262 finished with value: -576.7262627598973 and parameters: {'p': 1, 'd': 1, 'q': 0, 'ps': 0, 'ds': 0, 'qs': 0}. Best is trial 18 with value: -576.7262627598973.\u001b[0m\n",
      "\u001b[32m[I 2021-04-16 21:34:10,724]\u001b[0m Trial 263 finished with value: -576.7262627598973 and parameters: {'p': 1, 'd': 1, 'q': 0, 'ps': 0, 'ds': 0, 'qs': 0}. Best is trial 18 with value: -576.7262627598973.\u001b[0m\n",
      "\u001b[32m[I 2021-04-16 21:34:10,762]\u001b[0m Trial 264 finished with value: -576.7262627598973 and parameters: {'p': 1, 'd': 1, 'q': 0, 'ps': 0, 'ds': 0, 'qs': 0}. Best is trial 18 with value: -576.7262627598973.\u001b[0m\n",
      "\u001b[32m[I 2021-04-16 21:34:10,801]\u001b[0m Trial 265 finished with value: -576.7262627598973 and parameters: {'p': 1, 'd': 1, 'q': 0, 'ps': 0, 'ds': 0, 'qs': 0}. Best is trial 18 with value: -576.7262627598973.\u001b[0m\n",
      "\u001b[32m[I 2021-04-16 21:34:10,866]\u001b[0m Trial 266 pruned. \u001b[0m\n",
      "\u001b[32m[I 2021-04-16 21:34:10,910]\u001b[0m Trial 267 finished with value: -576.7262627598973 and parameters: {'p': 1, 'd': 1, 'q': 0, 'ps': 0, 'ds': 0, 'qs': 0}. Best is trial 18 with value: -576.7262627598973.\u001b[0m\n",
      "\u001b[32m[I 2021-04-16 21:34:10,952]\u001b[0m Trial 268 finished with value: -576.7262627598973 and parameters: {'p': 1, 'd': 1, 'q': 0, 'ps': 0, 'ds': 0, 'qs': 0}. Best is trial 18 with value: -576.7262627598973.\u001b[0m\n",
      "\u001b[32m[I 2021-04-16 21:34:10,993]\u001b[0m Trial 269 finished with value: -576.7262627598973 and parameters: {'p': 1, 'd': 1, 'q': 0, 'ps': 0, 'ds': 0, 'qs': 0}. Best is trial 18 with value: -576.7262627598973.\u001b[0m\n",
      "\u001b[32m[I 2021-04-16 21:34:11,033]\u001b[0m Trial 270 finished with value: -576.7262627598973 and parameters: {'p': 1, 'd': 1, 'q': 0, 'ps': 0, 'ds': 0, 'qs': 0}. Best is trial 18 with value: -576.7262627598973.\u001b[0m\n",
      "\u001b[32m[I 2021-04-16 21:34:11,074]\u001b[0m Trial 271 finished with value: -576.7262627598973 and parameters: {'p': 1, 'd': 1, 'q': 0, 'ps': 0, 'ds': 0, 'qs': 0}. Best is trial 18 with value: -576.7262627598973.\u001b[0m\n",
      "\u001b[32m[I 2021-04-16 21:34:11,127]\u001b[0m Trial 272 finished with value: -576.7262627598973 and parameters: {'p': 1, 'd': 1, 'q': 0, 'ps': 0, 'ds': 0, 'qs': 0}. Best is trial 18 with value: -576.7262627598973.\u001b[0m\n",
      "\u001b[32m[I 2021-04-16 21:34:11,179]\u001b[0m Trial 273 finished with value: -576.7262627598973 and parameters: {'p': 1, 'd': 1, 'q': 0, 'ps': 0, 'ds': 0, 'qs': 0}. Best is trial 18 with value: -576.7262627598973.\u001b[0m\n",
      "\u001b[32m[I 2021-04-16 21:34:11,228]\u001b[0m Trial 274 finished with value: -576.7262627598973 and parameters: {'p': 1, 'd': 1, 'q': 0, 'ps': 0, 'ds': 0, 'qs': 0}. Best is trial 18 with value: -576.7262627598973.\u001b[0m\n",
      "\u001b[32m[I 2021-04-16 21:34:11,267]\u001b[0m Trial 275 finished with value: -576.7262627598973 and parameters: {'p': 1, 'd': 1, 'q': 0, 'ps': 0, 'ds': 0, 'qs': 0}. Best is trial 18 with value: -576.7262627598973.\u001b[0m\n",
      "\u001b[32m[I 2021-04-16 21:34:11,311]\u001b[0m Trial 276 finished with value: -576.7262627598973 and parameters: {'p': 1, 'd': 1, 'q': 0, 'ps': 0, 'ds': 0, 'qs': 0}. Best is trial 18 with value: -576.7262627598973.\u001b[0m\n",
      "\u001b[32m[I 2021-04-16 21:34:11,351]\u001b[0m Trial 277 finished with value: -576.7262627598973 and parameters: {'p': 1, 'd': 1, 'q': 0, 'ps': 0, 'ds': 0, 'qs': 0}. Best is trial 18 with value: -576.7262627598973.\u001b[0m\n",
      "\u001b[32m[I 2021-04-16 21:34:11,391]\u001b[0m Trial 278 finished with value: -576.7262627598973 and parameters: {'p': 1, 'd': 1, 'q': 0, 'ps': 0, 'ds': 0, 'qs': 0}. Best is trial 18 with value: -576.7262627598973.\u001b[0m\n",
      "\u001b[32m[I 2021-04-16 21:34:11,432]\u001b[0m Trial 279 finished with value: -576.7262627598973 and parameters: {'p': 1, 'd': 1, 'q': 0, 'ps': 0, 'ds': 0, 'qs': 0}. Best is trial 18 with value: -576.7262627598973.\u001b[0m\n",
      "\u001b[32m[I 2021-04-16 21:34:11,472]\u001b[0m Trial 280 finished with value: -576.7262627598973 and parameters: {'p': 1, 'd': 1, 'q': 0, 'ps': 0, 'ds': 0, 'qs': 0}. Best is trial 18 with value: -576.7262627598973.\u001b[0m\n",
      "\u001b[32m[I 2021-04-16 21:34:11,513]\u001b[0m Trial 281 finished with value: -576.7262627598973 and parameters: {'p': 1, 'd': 1, 'q': 0, 'ps': 0, 'ds': 0, 'qs': 0}. Best is trial 18 with value: -576.7262627598973.\u001b[0m\n",
      "\u001b[32m[I 2021-04-16 21:34:11,583]\u001b[0m Trial 282 pruned. \u001b[0m\n",
      "\u001b[32m[I 2021-04-16 21:34:11,622]\u001b[0m Trial 283 finished with value: -576.7262627598973 and parameters: {'p': 1, 'd': 1, 'q': 0, 'ps': 0, 'ds': 0, 'qs': 0}. Best is trial 18 with value: -576.7262627598973.\u001b[0m\n",
      "\u001b[32m[I 2021-04-16 21:34:11,662]\u001b[0m Trial 284 finished with value: -576.7262627598973 and parameters: {'p': 1, 'd': 1, 'q': 0, 'ps': 0, 'ds': 0, 'qs': 0}. Best is trial 18 with value: -576.7262627598973.\u001b[0m\n"
     ]
    },
    {
     "name": "stderr",
     "output_type": "stream",
     "text": [
      "\u001b[32m[I 2021-04-16 21:34:11,703]\u001b[0m Trial 285 finished with value: -576.7262627598973 and parameters: {'p': 1, 'd': 1, 'q': 0, 'ps': 0, 'ds': 0, 'qs': 0}. Best is trial 18 with value: -576.7262627598973.\u001b[0m\n",
      "\u001b[32m[I 2021-04-16 21:34:11,743]\u001b[0m Trial 286 finished with value: -576.7262627598973 and parameters: {'p': 1, 'd': 1, 'q': 0, 'ps': 0, 'ds': 0, 'qs': 0}. Best is trial 18 with value: -576.7262627598973.\u001b[0m\n",
      "\u001b[32m[I 2021-04-16 21:34:11,783]\u001b[0m Trial 287 finished with value: -576.7262627598973 and parameters: {'p': 1, 'd': 1, 'q': 0, 'ps': 0, 'ds': 0, 'qs': 0}. Best is trial 18 with value: -576.7262627598973.\u001b[0m\n",
      "\u001b[32m[I 2021-04-16 21:34:11,827]\u001b[0m Trial 288 finished with value: -576.7262627598973 and parameters: {'p': 1, 'd': 1, 'q': 0, 'ps': 0, 'ds': 0, 'qs': 0}. Best is trial 18 with value: -576.7262627598973.\u001b[0m\n",
      "\u001b[32m[I 2021-04-16 21:34:11,867]\u001b[0m Trial 289 finished with value: -576.7262627598973 and parameters: {'p': 1, 'd': 1, 'q': 0, 'ps': 0, 'ds': 0, 'qs': 0}. Best is trial 18 with value: -576.7262627598973.\u001b[0m\n",
      "\u001b[32m[I 2021-04-16 21:34:11,908]\u001b[0m Trial 290 finished with value: -576.7262627598973 and parameters: {'p': 1, 'd': 1, 'q': 0, 'ps': 0, 'ds': 0, 'qs': 0}. Best is trial 18 with value: -576.7262627598973.\u001b[0m\n",
      "\u001b[32m[I 2021-04-16 21:34:11,947]\u001b[0m Trial 291 finished with value: -576.7262627598973 and parameters: {'p': 1, 'd': 1, 'q': 0, 'ps': 0, 'ds': 0, 'qs': 0}. Best is trial 18 with value: -576.7262627598973.\u001b[0m\n",
      "\u001b[32m[I 2021-04-16 21:34:11,987]\u001b[0m Trial 292 finished with value: -576.7262627598973 and parameters: {'p': 1, 'd': 1, 'q': 0, 'ps': 0, 'ds': 0, 'qs': 0}. Best is trial 18 with value: -576.7262627598973.\u001b[0m\n",
      "\u001b[32m[I 2021-04-16 21:34:12,027]\u001b[0m Trial 293 finished with value: -576.7262627598973 and parameters: {'p': 1, 'd': 1, 'q': 0, 'ps': 0, 'ds': 0, 'qs': 0}. Best is trial 18 with value: -576.7262627598973.\u001b[0m\n",
      "\u001b[32m[I 2021-04-16 21:34:12,066]\u001b[0m Trial 294 finished with value: -576.7262627598973 and parameters: {'p': 1, 'd': 1, 'q': 0, 'ps': 0, 'ds': 0, 'qs': 0}. Best is trial 18 with value: -576.7262627598973.\u001b[0m\n",
      "\u001b[32m[I 2021-04-16 21:34:12,112]\u001b[0m Trial 295 finished with value: -576.7262627598973 and parameters: {'p': 1, 'd': 1, 'q': 0, 'ps': 0, 'ds': 0, 'qs': 0}. Best is trial 18 with value: -576.7262627598973.\u001b[0m\n",
      "\u001b[32m[I 2021-04-16 21:34:12,153]\u001b[0m Trial 296 finished with value: -576.7262627598973 and parameters: {'p': 1, 'd': 1, 'q': 0, 'ps': 0, 'ds': 0, 'qs': 0}. Best is trial 18 with value: -576.7262627598973.\u001b[0m\n",
      "\u001b[32m[I 2021-04-16 21:34:12,192]\u001b[0m Trial 297 finished with value: -576.7262627598973 and parameters: {'p': 1, 'd': 1, 'q': 0, 'ps': 0, 'ds': 0, 'qs': 0}. Best is trial 18 with value: -576.7262627598973.\u001b[0m\n",
      "\u001b[32m[I 2021-04-16 21:34:12,232]\u001b[0m Trial 298 finished with value: -576.7262627598973 and parameters: {'p': 1, 'd': 1, 'q': 0, 'ps': 0, 'ds': 0, 'qs': 0}. Best is trial 18 with value: -576.7262627598973.\u001b[0m\n",
      "\u001b[32m[I 2021-04-16 21:34:12,272]\u001b[0m Trial 299 finished with value: -576.7262627598973 and parameters: {'p': 1, 'd': 1, 'q': 0, 'ps': 0, 'ds': 0, 'qs': 0}. Best is trial 18 with value: -576.7262627598973.\u001b[0m\n"
     ]
    },
    {
     "name": "stdout",
     "output_type": "stream",
     "text": [
      "Melhor valor: -576.7262627598973\n",
      "Melhores parâmetros:\n",
      "p: 1\n",
      "d: 1\n",
      "q: 0\n",
      "ps: 0\n",
      "ds: 0\n",
      "qs: 0\n"
     ]
    }
   ],
   "source": [
    "study = optuna.create_study(direction=\"minimize\")\n",
    "study.optimize(objective, n_trials=300)\n",
    "\n",
    "print_study_best_trial_params(study)"
   ]
  },
  {
   "cell_type": "markdown",
   "metadata": {},
   "source": [
    "Determinados os melhores parâmetros, vamos treinar o nosso modelo e realizar uma previsão"
   ]
  },
  {
   "cell_type": "code",
   "execution_count": 21,
   "metadata": {},
   "outputs": [],
   "source": [
    "pdq = (2, 0, 1)\n",
    "pdqs = (0, 0, 0, 12)\n",
    "\n",
    "mod = sm.tsa.statespace.SARIMAX(\n",
    "    y,\n",
    "    order=pdq,\n",
    "    seasonal_order=pdqs,\n",
    "    enforce_stationarity=False,\n",
    "    enforce_invertibility=False\n",
    ")\n",
    "\n",
    "res = mod.fit()"
   ]
  },
  {
   "cell_type": "code",
   "execution_count": 22,
   "metadata": {},
   "outputs": [],
   "source": [
    "mlflow.log_params({ \"sarimax_pdq\": pdq, \"sarimax_pdqs\": pdqs })\n",
    "mlflow.statsmodels.log_model(res, \"sarimax\")"
   ]
  },
  {
   "cell_type": "code",
   "execution_count": 23,
   "metadata": {},
   "outputs": [
    {
     "data": {
      "text/plain": [
       "<matplotlib.legend.Legend at 0x7f7b69349250>"
      ]
     },
     "execution_count": 23,
     "metadata": {},
     "output_type": "execute_result"
    },
    {
     "data": {
      "image/png": "[encoded data removed]",
      "text/plain": [
       "<Figure size 432x288 with 1 Axes>"
      ]
     },
     "metadata": {
      "needs_background": "light"
     },
     "output_type": "display_data"
    }
   ],
   "source": [
    "predicted = res.get_prediction(start='2018-07', end='2018-12')\n",
    "predicted.predicted_mean.plot(label='Previsto')\n",
    "data_pern_validation['PRECO_MEDIO_REVENDA'].plot(label='Real')\n",
    "plt.legend()"
   ]
  },
  {
   "cell_type": "markdown",
   "metadata": {},
   "source": [
    "Repitamos a previsão para o intervalo de tempo de teste"
   ]
  },
  {
   "cell_type": "code",
   "execution_count": 24,
   "metadata": {},
   "outputs": [
    {
     "data": {
      "text/plain": [
       "<matplotlib.legend.Legend at 0x7f7b6ab0e850>"
      ]
     },
     "execution_count": 24,
     "metadata": {},
     "output_type": "execute_result"
    },
    {
     "data": {
      "image/png": "[encoded data removed]",
      "text/plain": [
       "<Figure size 432x288 with 1 Axes>"
      ]
     },
     "metadata": {
      "needs_background": "light"
     },
     "output_type": "display_data"
    }
   ],
   "source": [
    "predicted_test = res.get_prediction(start = '2019-01', end='2019-06')\n",
    "predicted_test.predicted_mean.plot(label='Previsto')\n",
    "data_pern_test['PRECO_MEDIO_REVENDA'].plot(label='Real')\n",
    "plt.legend()"
   ]
  },
  {
   "cell_type": "markdown",
   "metadata": {},
   "source": [
    "MSE (Mean Squared Error):"
   ]
  },
  {
   "cell_type": "code",
   "execution_count": 25,
   "metadata": {},
   "outputs": [
    {
     "data": {
      "text/plain": [
       "0.19769325390690984"
      ]
     },
     "execution_count": 25,
     "metadata": {},
     "output_type": "execute_result"
    }
   ],
   "source": [
    "sarimax_mse = ((predicted_test.predicted_mean - data_pern_test['PRECO_MEDIO_REVENDA']) ** 2).mean()\n",
    "sarimax_mse"
   ]
  },
  {
   "cell_type": "code",
   "execution_count": 26,
   "metadata": {},
   "outputs": [],
   "source": [
    "mlflow.log_metric('sarimax_mse', sarimax_mse)"
   ]
  },
  {
   "cell_type": "markdown",
   "metadata": {},
   "source": [
    "### Prophet"
   ]
  },
  {
   "cell_type": "code",
   "execution_count": 27,
   "metadata": {},
   "outputs": [],
   "source": [
    "prophet_df = pd.DataFrame()\n",
    "prophet_df['y'] = data_pern_train['PRECO_MEDIO_REVENDA']\n",
    "prophet_df['ds'] = data_pern_train.index"
   ]
  },
  {
   "cell_type": "code",
   "execution_count": 28,
   "metadata": {},
   "outputs": [
    {
     "data": {
      "text/plain": [
       "<AxesSubplot:xlabel='ds'>"
      ]
     },
     "execution_count": 28,
     "metadata": {},
     "output_type": "execute_result"
    },
    {
     "data": {
      "image/png": "[encoded data removed]",
      "text/plain": [
       "<Figure size 432x288 with 1 Axes>"
      ]
     },
     "metadata": {
      "needs_background": "light"
     },
     "output_type": "display_data"
    }
   ],
   "source": [
    "prophet_df.plot(x='ds')"
   ]
  },
  {
   "cell_type": "code",
   "execution_count": 29,
   "metadata": {},
   "outputs": [],
   "source": [
    "def prophet_objective(trial):\n",
    "    changepoint_prior_scale = trial.suggest_float('changepoint_prior_scale', .001, .5)\n",
    "    seasonality_prior_scale = trial.suggest_float('seasonality_prior_scale', .01, 10)\n",
    "    holidays_prior_scale = trial.suggest_float('holidays_prior_scale', .01, 10)\n",
    "\n",
    "    prophet = Prophet(\n",
    "        changepoint_prior_scale=changepoint_prior_scale,\n",
    "        seasonality_prior_scale=seasonality_prior_scale,\n",
    "        holidays_prior_scale=holidays_prior_scale\n",
    "    )\n",
    "\n",
    "    prophet.fit(prophet_df)\n",
    "\n",
    "    future_df = prophet.make_future_dataframe(periods=6, freq='m')\n",
    "    future_pred = prophet.predict(future_df)\n",
    "\n",
    "    mse = ((future_pred[-6:]['yhat'].reset_index(drop=True) - data_pern_validation['PRECO_MEDIO_REVENDA'].reset_index(drop=True)) ** 2).mean()\n",
    "\n",
    "    trial.report(mse, 0)\n",
    "\n",
    "    if trial.should_prune():\n",
    "        raise optuna.exceptions.TrialPruned()\n",
    "\n",
    "    return mse"
   ]
  },
  {
   "cell_type": "code",
   "execution_count": 30,
   "metadata": {},
   "outputs": [
    {
     "name": "stderr",
     "output_type": "stream",
     "text": [
      "\u001b[32m[I 2021-04-16 21:34:15,539]\u001b[0m A new study created in memory with name: no-name-aa8179ec-7a95-41fe-a55f-84d16d2dada0\u001b[0m\n",
      "INFO:fbprophet:Disabling weekly seasonality. Run prophet with weekly_seasonality=True to override this.\n",
      "INFO:fbprophet:Disabling daily seasonality. Run prophet with daily_seasonality=True to override this.\n",
      "\u001b[32m[I 2021-04-16 21:34:18,034]\u001b[0m Trial 0 finished with value: 0.014759923228608246 and parameters: {'changepoint_prior_scale': 0.4681894193944911, 'seasonality_prior_scale': 7.044030418874192, 'holidays_prior_scale': 4.025689129544343}. Best is trial 0 with value: 0.014759923228608246.\u001b[0m\n",
      "INFO:fbprophet:Disabling weekly seasonality. Run prophet with weekly_seasonality=True to override this.\n",
      "INFO:fbprophet:Disabling daily seasonality. Run prophet with daily_seasonality=True to override this.\n",
      "\u001b[32m[I 2021-04-16 21:34:19,564]\u001b[0m Trial 1 finished with value: 0.014761978558362693 and parameters: {'changepoint_prior_scale': 0.4503007145571474, 'seasonality_prior_scale': 8.886468179988618, 'holidays_prior_scale': 0.038976380697228405}. Best is trial 0 with value: 0.014759923228608246.\u001b[0m\n",
      "INFO:fbprophet:Disabling weekly seasonality. Run prophet with weekly_seasonality=True to override this.\n",
      "INFO:fbprophet:Disabling daily seasonality. Run prophet with daily_seasonality=True to override this.\n",
      "\u001b[32m[I 2021-04-16 21:34:21,076]\u001b[0m Trial 2 finished with value: 0.015791689093978472 and parameters: {'changepoint_prior_scale': 0.39168788938954674, 'seasonality_prior_scale': 2.577161901326855, 'holidays_prior_scale': 2.0399816322002153}. Best is trial 0 with value: 0.014759923228608246.\u001b[0m\n",
      "INFO:fbprophet:Disabling weekly seasonality. Run prophet with weekly_seasonality=True to override this.\n",
      "INFO:fbprophet:Disabling daily seasonality. Run prophet with daily_seasonality=True to override this.\n",
      "\u001b[32m[I 2021-04-16 21:34:22,517]\u001b[0m Trial 3 finished with value: 0.016935770910418337 and parameters: {'changepoint_prior_scale': 0.31291774190483285, 'seasonality_prior_scale': 5.575484641626737, 'holidays_prior_scale': 0.5251347358590125}. Best is trial 0 with value: 0.014759923228608246.\u001b[0m\n",
      "INFO:fbprophet:Disabling weekly seasonality. Run prophet with weekly_seasonality=True to override this.\n",
      "INFO:fbprophet:Disabling daily seasonality. Run prophet with daily_seasonality=True to override this.\n",
      "\u001b[32m[I 2021-04-16 21:34:24,142]\u001b[0m Trial 4 finished with value: 0.016211828120394258 and parameters: {'changepoint_prior_scale': 0.36142067237314524, 'seasonality_prior_scale': 1.8783592029136076, 'holidays_prior_scale': 5.865395110634821}. Best is trial 0 with value: 0.014759923228608246.\u001b[0m\n",
      "INFO:fbprophet:Disabling weekly seasonality. Run prophet with weekly_seasonality=True to override this.\n",
      "INFO:fbprophet:Disabling daily seasonality. Run prophet with daily_seasonality=True to override this.\n",
      "\u001b[32m[I 2021-04-16 21:34:25,841]\u001b[0m Trial 5 pruned. \u001b[0m\n",
      "INFO:fbprophet:Disabling weekly seasonality. Run prophet with weekly_seasonality=True to override this.\n",
      "INFO:fbprophet:Disabling daily seasonality. Run prophet with daily_seasonality=True to override this.\n",
      "\u001b[32m[I 2021-04-16 21:34:27,528]\u001b[0m Trial 6 pruned. \u001b[0m\n",
      "INFO:fbprophet:Disabling weekly seasonality. Run prophet with weekly_seasonality=True to override this.\n",
      "INFO:fbprophet:Disabling daily seasonality. Run prophet with daily_seasonality=True to override this.\n",
      "\u001b[32m[I 2021-04-16 21:34:29,255]\u001b[0m Trial 7 finished with value: 0.015756967101246484 and parameters: {'changepoint_prior_scale': 0.3780317694278181, 'seasonality_prior_scale': 4.8795876076311595, 'holidays_prior_scale': 3.2241141523861527}. Best is trial 0 with value: 0.014759923228608246.\u001b[0m\n",
      "INFO:fbprophet:Disabling weekly seasonality. Run prophet with weekly_seasonality=True to override this.\n",
      "INFO:fbprophet:Disabling daily seasonality. Run prophet with daily_seasonality=True to override this.\n",
      "\u001b[32m[I 2021-04-16 21:34:31,261]\u001b[0m Trial 8 pruned. \u001b[0m\n",
      "INFO:fbprophet:Disabling weekly seasonality. Run prophet with weekly_seasonality=True to override this.\n",
      "INFO:fbprophet:Disabling daily seasonality. Run prophet with daily_seasonality=True to override this.\n",
      "\u001b[32m[I 2021-04-16 21:34:33,256]\u001b[0m Trial 9 pruned. \u001b[0m\n",
      "INFO:fbprophet:Disabling weekly seasonality. Run prophet with weekly_seasonality=True to override this.\n",
      "INFO:fbprophet:Disabling daily seasonality. Run prophet with daily_seasonality=True to override this.\n",
      "\u001b[32m[I 2021-04-16 21:34:35,244]\u001b[0m Trial 10 finished with value: 0.014253365701875811 and parameters: {'changepoint_prior_scale': 0.4825460456993196, 'seasonality_prior_scale': 9.855277824803412, 'holidays_prior_scale': 9.685571719642853}. Best is trial 10 with value: 0.014253365701875811.\u001b[0m\n",
      "INFO:fbprophet:Disabling weekly seasonality. Run prophet with weekly_seasonality=True to override this.\n",
      "INFO:fbprophet:Disabling daily seasonality. Run prophet with daily_seasonality=True to override this.\n",
      "\u001b[32m[I 2021-04-16 21:34:36,942]\u001b[0m Trial 11 finished with value: 0.014789430016249416 and parameters: {'changepoint_prior_scale': 0.49260943994392115, 'seasonality_prior_scale': 9.743219696760212, 'holidays_prior_scale': 9.460622726157816}. Best is trial 10 with value: 0.014253365701875811.\u001b[0m\n",
      "INFO:fbprophet:Disabling weekly seasonality. Run prophet with weekly_seasonality=True to override this.\n",
      "INFO:fbprophet:Disabling daily seasonality. Run prophet with daily_seasonality=True to override this.\n",
      "\u001b[32m[I 2021-04-16 21:34:39,005]\u001b[0m Trial 12 finished with value: 0.014065714672038973 and parameters: {'changepoint_prior_scale': 0.497115513533589, 'seasonality_prior_scale': 7.741909301217362, 'holidays_prior_scale': 9.651243499341527}. Best is trial 12 with value: 0.014065714672038973.\u001b[0m\n",
      "INFO:fbprophet:Disabling weekly seasonality. Run prophet with weekly_seasonality=True to override this.\n",
      "INFO:fbprophet:Disabling daily seasonality. Run prophet with daily_seasonality=True to override this.\n",
      "\u001b[32m[I 2021-04-16 21:34:40,560]\u001b[0m Trial 13 pruned. \u001b[0m\n",
      "INFO:fbprophet:Disabling weekly seasonality. Run prophet with weekly_seasonality=True to override this.\n",
      "INFO:fbprophet:Disabling daily seasonality. Run prophet with daily_seasonality=True to override this.\n",
      "\u001b[32m[I 2021-04-16 21:34:42,125]\u001b[0m Trial 14 finished with value: 0.014592646850680952 and parameters: {'changepoint_prior_scale': 0.49440334645469436, 'seasonality_prior_scale': 7.769332023191372, 'holidays_prior_scale': 7.961189040416685}. Best is trial 12 with value: 0.014065714672038973.\u001b[0m\n",
      "INFO:fbprophet:Disabling weekly seasonality. Run prophet with weekly_seasonality=True to override this.\n",
      "INFO:fbprophet:Disabling daily seasonality. Run prophet with daily_seasonality=True to override this.\n",
      "\u001b[32m[I 2021-04-16 21:34:43,760]\u001b[0m Trial 15 pruned. \u001b[0m\n",
      "INFO:fbprophet:Disabling weekly seasonality. Run prophet with weekly_seasonality=True to override this.\n",
      "INFO:fbprophet:Disabling daily seasonality. Run prophet with daily_seasonality=True to override this.\n",
      "\u001b[32m[I 2021-04-16 21:34:45,339]\u001b[0m Trial 16 finished with value: 0.01467377054871663 and parameters: {'changepoint_prior_scale': 0.49702692597162323, 'seasonality_prior_scale': 9.983428046221906, 'holidays_prior_scale': 7.864006253944198}. Best is trial 12 with value: 0.014065714672038973.\u001b[0m\n",
      "INFO:fbprophet:Disabling weekly seasonality. Run prophet with weekly_seasonality=True to override this.\n",
      "INFO:fbprophet:Disabling daily seasonality. Run prophet with daily_seasonality=True to override this.\n",
      "\u001b[32m[I 2021-04-16 21:34:46,818]\u001b[0m Trial 17 pruned. \u001b[0m\n",
      "INFO:fbprophet:Disabling weekly seasonality. Run prophet with weekly_seasonality=True to override this.\n",
      "INFO:fbprophet:Disabling daily seasonality. Run prophet with daily_seasonality=True to override this.\n",
      "\u001b[32m[I 2021-04-16 21:34:48,480]\u001b[0m Trial 18 pruned. \u001b[0m\n",
      "INFO:fbprophet:Disabling weekly seasonality. Run prophet with weekly_seasonality=True to override this.\n",
      "INFO:fbprophet:Disabling daily seasonality. Run prophet with daily_seasonality=True to override this.\n",
      "\u001b[32m[I 2021-04-16 21:34:49,984]\u001b[0m Trial 19 pruned. \u001b[0m\n",
      "INFO:fbprophet:Disabling weekly seasonality. Run prophet with weekly_seasonality=True to override this.\n",
      "INFO:fbprophet:Disabling daily seasonality. Run prophet with daily_seasonality=True to override this.\n"
     ]
    },
    {
     "name": "stderr",
     "output_type": "stream",
     "text": [
      "\u001b[32m[I 2021-04-16 21:34:51,461]\u001b[0m Trial 20 pruned. \u001b[0m\n",
      "INFO:fbprophet:Disabling weekly seasonality. Run prophet with weekly_seasonality=True to override this.\n",
      "INFO:fbprophet:Disabling daily seasonality. Run prophet with daily_seasonality=True to override this.\n",
      "\u001b[32m[I 2021-04-16 21:34:52,977]\u001b[0m Trial 21 finished with value: 0.014544541100335229 and parameters: {'changepoint_prior_scale': 0.484323245778244, 'seasonality_prior_scale': 7.735335474746879, 'holidays_prior_scale': 8.820500612526704}. Best is trial 12 with value: 0.014065714672038973.\u001b[0m\n",
      "INFO:fbprophet:Disabling weekly seasonality. Run prophet with weekly_seasonality=True to override this.\n",
      "INFO:fbprophet:Disabling daily seasonality. Run prophet with daily_seasonality=True to override this.\n",
      "\u001b[32m[I 2021-04-16 21:34:54,651]\u001b[0m Trial 22 pruned. \u001b[0m\n",
      "INFO:fbprophet:Disabling weekly seasonality. Run prophet with weekly_seasonality=True to override this.\n",
      "INFO:fbprophet:Disabling daily seasonality. Run prophet with daily_seasonality=True to override this.\n",
      "\u001b[32m[I 2021-04-16 21:34:56,238]\u001b[0m Trial 23 finished with value: 0.014535019290261866 and parameters: {'changepoint_prior_scale': 0.47612707569288254, 'seasonality_prior_scale': 4.76035400665571, 'holidays_prior_scale': 9.918269834767326}. Best is trial 12 with value: 0.014065714672038973.\u001b[0m\n",
      "INFO:fbprophet:Disabling weekly seasonality. Run prophet with weekly_seasonality=True to override this.\n",
      "INFO:fbprophet:Disabling daily seasonality. Run prophet with daily_seasonality=True to override this.\n",
      "\u001b[32m[I 2021-04-16 21:34:57,781]\u001b[0m Trial 24 pruned. \u001b[0m\n",
      "INFO:fbprophet:Disabling weekly seasonality. Run prophet with weekly_seasonality=True to override this.\n",
      "INFO:fbprophet:Disabling daily seasonality. Run prophet with daily_seasonality=True to override this.\n",
      "\u001b[32m[I 2021-04-16 21:34:59,361]\u001b[0m Trial 25 finished with value: 0.014207675687796155 and parameters: {'changepoint_prior_scale': 0.4944083515074603, 'seasonality_prior_scale': 3.968106894745973, 'holidays_prior_scale': 9.961463813180684}. Best is trial 12 with value: 0.014065714672038973.\u001b[0m\n",
      "INFO:fbprophet:Disabling weekly seasonality. Run prophet with weekly_seasonality=True to override this.\n",
      "INFO:fbprophet:Disabling daily seasonality. Run prophet with daily_seasonality=True to override this.\n",
      "\u001b[32m[I 2021-04-16 21:35:01,044]\u001b[0m Trial 26 pruned. \u001b[0m\n",
      "INFO:fbprophet:Disabling weekly seasonality. Run prophet with weekly_seasonality=True to override this.\n",
      "INFO:fbprophet:Disabling daily seasonality. Run prophet with daily_seasonality=True to override this.\n",
      "\u001b[32m[I 2021-04-16 21:35:02,558]\u001b[0m Trial 27 pruned. \u001b[0m\n",
      "INFO:fbprophet:Disabling weekly seasonality. Run prophet with weekly_seasonality=True to override this.\n",
      "INFO:fbprophet:Disabling daily seasonality. Run prophet with daily_seasonality=True to override this.\n",
      "\u001b[32m[I 2021-04-16 21:35:04,042]\u001b[0m Trial 28 pruned. \u001b[0m\n",
      "INFO:fbprophet:Disabling weekly seasonality. Run prophet with weekly_seasonality=True to override this.\n",
      "INFO:fbprophet:Disabling daily seasonality. Run prophet with daily_seasonality=True to override this.\n",
      "\u001b[32m[I 2021-04-16 21:35:05,639]\u001b[0m Trial 29 finished with value: 0.014490100276781865 and parameters: {'changepoint_prior_scale': 0.4645725488116128, 'seasonality_prior_scale': 6.600685572388281, 'holidays_prior_scale': 9.98858632947914}. Best is trial 12 with value: 0.014065714672038973.\u001b[0m\n",
      "INFO:fbprophet:Disabling weekly seasonality. Run prophet with weekly_seasonality=True to override this.\n",
      "INFO:fbprophet:Disabling daily seasonality. Run prophet with daily_seasonality=True to override this.\n",
      "\u001b[32m[I 2021-04-16 21:35:07,180]\u001b[0m Trial 30 pruned. \u001b[0m\n",
      "INFO:fbprophet:Disabling weekly seasonality. Run prophet with weekly_seasonality=True to override this.\n",
      "INFO:fbprophet:Disabling daily seasonality. Run prophet with daily_seasonality=True to override this.\n",
      "\u001b[32m[I 2021-04-16 21:35:08,767]\u001b[0m Trial 31 finished with value: 0.014617368997153506 and parameters: {'changepoint_prior_scale': 0.46443387306619394, 'seasonality_prior_scale': 6.983810242325191, 'holidays_prior_scale': 9.995902241992866}. Best is trial 12 with value: 0.014065714672038973.\u001b[0m\n",
      "INFO:fbprophet:Disabling weekly seasonality. Run prophet with weekly_seasonality=True to override this.\n",
      "INFO:fbprophet:Disabling daily seasonality. Run prophet with daily_seasonality=True to override this.\n",
      "\u001b[32m[I 2021-04-16 21:35:10,369]\u001b[0m Trial 32 pruned. \u001b[0m\n",
      "INFO:fbprophet:Disabling weekly seasonality. Run prophet with weekly_seasonality=True to override this.\n",
      "INFO:fbprophet:Disabling daily seasonality. Run prophet with daily_seasonality=True to override this.\n",
      "\u001b[32m[I 2021-04-16 21:35:11,901]\u001b[0m Trial 33 finished with value: 0.01459978720404767 and parameters: {'changepoint_prior_scale': 0.4974312992229743, 'seasonality_prior_scale': 9.01866515141258, 'holidays_prior_scale': 8.349213195772748}. Best is trial 12 with value: 0.014065714672038973.\u001b[0m\n",
      "INFO:fbprophet:Disabling weekly seasonality. Run prophet with weekly_seasonality=True to override this.\n",
      "INFO:fbprophet:Disabling daily seasonality. Run prophet with daily_seasonality=True to override this.\n",
      "\u001b[32m[I 2021-04-16 21:35:13,452]\u001b[0m Trial 34 pruned. \u001b[0m\n",
      "INFO:fbprophet:Disabling weekly seasonality. Run prophet with weekly_seasonality=True to override this.\n",
      "INFO:fbprophet:Disabling daily seasonality. Run prophet with daily_seasonality=True to override this.\n",
      "\u001b[32m[I 2021-04-16 21:35:14,998]\u001b[0m Trial 35 pruned. \u001b[0m\n",
      "INFO:fbprophet:Disabling weekly seasonality. Run prophet with weekly_seasonality=True to override this.\n",
      "INFO:fbprophet:Disabling daily seasonality. Run prophet with daily_seasonality=True to override this.\n",
      "\u001b[32m[I 2021-04-16 21:35:16,605]\u001b[0m Trial 36 finished with value: 0.014267423475137523 and parameters: {'changepoint_prior_scale': 0.49615910312183076, 'seasonality_prior_scale': 8.354732864159182, 'holidays_prior_scale': 0.9382630930776363}. Best is trial 12 with value: 0.014065714672038973.\u001b[0m\n",
      "INFO:fbprophet:Disabling weekly seasonality. Run prophet with weekly_seasonality=True to override this.\n",
      "INFO:fbprophet:Disabling daily seasonality. Run prophet with daily_seasonality=True to override this.\n",
      "\u001b[32m[I 2021-04-16 21:35:18,160]\u001b[0m Trial 37 finished with value: 0.01430502249859103 and parameters: {'changepoint_prior_scale': 0.4990668206430507, 'seasonality_prior_scale': 8.393485855874964, 'holidays_prior_scale': 0.9939769333621973}. Best is trial 12 with value: 0.014065714672038973.\u001b[0m\n",
      "INFO:fbprophet:Disabling weekly seasonality. Run prophet with weekly_seasonality=True to override this.\n",
      "INFO:fbprophet:Disabling daily seasonality. Run prophet with daily_seasonality=True to override this.\n",
      "\u001b[32m[I 2021-04-16 21:35:19,669]\u001b[0m Trial 38 pruned. \u001b[0m\n",
      "INFO:fbprophet:Disabling weekly seasonality. Run prophet with weekly_seasonality=True to override this.\n",
      "INFO:fbprophet:Disabling daily seasonality. Run prophet with daily_seasonality=True to override this.\n",
      "\u001b[32m[I 2021-04-16 21:35:21,172]\u001b[0m Trial 39 pruned. \u001b[0m\n",
      "INFO:fbprophet:Disabling weekly seasonality. Run prophet with weekly_seasonality=True to override this.\n",
      "INFO:fbprophet:Disabling daily seasonality. Run prophet with daily_seasonality=True to override this.\n",
      "\u001b[32m[I 2021-04-16 21:35:22,612]\u001b[0m Trial 40 finished with value: 0.014138913828797159 and parameters: {'changepoint_prior_scale': 0.04552570367346592, 'seasonality_prior_scale': 8.844448802453421, 'holidays_prior_scale': 4.699704240926602}. Best is trial 12 with value: 0.014065714672038973.\u001b[0m\n",
      "INFO:fbprophet:Disabling weekly seasonality. Run prophet with weekly_seasonality=True to override this.\n",
      "INFO:fbprophet:Disabling daily seasonality. Run prophet with daily_seasonality=True to override this.\n",
      "\u001b[32m[I 2021-04-16 21:35:24,067]\u001b[0m Trial 41 finished with value: 0.014352016838883977 and parameters: {'changepoint_prior_scale': 0.05336182241061138, 'seasonality_prior_scale': 8.79857062074772, 'holidays_prior_scale': 0.21188791140501406}. Best is trial 12 with value: 0.014065714672038973.\u001b[0m\n",
      "INFO:fbprophet:Disabling weekly seasonality. Run prophet with weekly_seasonality=True to override this.\n",
      "INFO:fbprophet:Disabling daily seasonality. Run prophet with daily_seasonality=True to override this.\n"
     ]
    },
    {
     "name": "stderr",
     "output_type": "stream",
     "text": [
      "\u001b[32m[I 2021-04-16 21:35:25,534]\u001b[0m Trial 42 pruned. \u001b[0m\n",
      "INFO:fbprophet:Disabling weekly seasonality. Run prophet with weekly_seasonality=True to override this.\n",
      "INFO:fbprophet:Disabling daily seasonality. Run prophet with daily_seasonality=True to override this.\n",
      "\u001b[32m[I 2021-04-16 21:35:27,056]\u001b[0m Trial 43 pruned. \u001b[0m\n",
      "INFO:fbprophet:Disabling weekly seasonality. Run prophet with weekly_seasonality=True to override this.\n",
      "INFO:fbprophet:Disabling daily seasonality. Run prophet with daily_seasonality=True to override this.\n",
      "\u001b[32m[I 2021-04-16 21:35:28,510]\u001b[0m Trial 44 pruned. \u001b[0m\n",
      "INFO:fbprophet:Disabling weekly seasonality. Run prophet with weekly_seasonality=True to override this.\n",
      "INFO:fbprophet:Disabling daily seasonality. Run prophet with daily_seasonality=True to override this.\n",
      "\u001b[32m[I 2021-04-16 21:35:29,987]\u001b[0m Trial 45 pruned. \u001b[0m\n",
      "INFO:fbprophet:Disabling weekly seasonality. Run prophet with weekly_seasonality=True to override this.\n",
      "INFO:fbprophet:Disabling daily seasonality. Run prophet with daily_seasonality=True to override this.\n",
      "\u001b[32m[I 2021-04-16 21:35:31,673]\u001b[0m Trial 46 pruned. \u001b[0m\n",
      "INFO:fbprophet:Disabling weekly seasonality. Run prophet with weekly_seasonality=True to override this.\n",
      "INFO:fbprophet:Disabling daily seasonality. Run prophet with daily_seasonality=True to override this.\n",
      "\u001b[32m[I 2021-04-16 21:35:33,152]\u001b[0m Trial 47 finished with value: 0.014526601219420133 and parameters: {'changepoint_prior_scale': 0.053591524025613235, 'seasonality_prior_scale': 1.3139550880204829, 'holidays_prior_scale': 4.010995510248609}. Best is trial 12 with value: 0.014065714672038973.\u001b[0m\n",
      "INFO:fbprophet:Disabling weekly seasonality. Run prophet with weekly_seasonality=True to override this.\n",
      "INFO:fbprophet:Disabling daily seasonality. Run prophet with daily_seasonality=True to override this.\n",
      "\u001b[32m[I 2021-04-16 21:35:34,661]\u001b[0m Trial 48 pruned. \u001b[0m\n",
      "INFO:fbprophet:Disabling weekly seasonality. Run prophet with weekly_seasonality=True to override this.\n",
      "INFO:fbprophet:Disabling daily seasonality. Run prophet with daily_seasonality=True to override this.\n",
      "\u001b[32m[I 2021-04-16 21:35:36,224]\u001b[0m Trial 49 pruned. \u001b[0m\n",
      "INFO:fbprophet:Disabling weekly seasonality. Run prophet with weekly_seasonality=True to override this.\n",
      "INFO:fbprophet:Disabling daily seasonality. Run prophet with daily_seasonality=True to override this.\n",
      "\u001b[32m[I 2021-04-16 21:35:37,769]\u001b[0m Trial 50 pruned. \u001b[0m\n",
      "INFO:fbprophet:Disabling weekly seasonality. Run prophet with weekly_seasonality=True to override this.\n",
      "INFO:fbprophet:Disabling daily seasonality. Run prophet with daily_seasonality=True to override this.\n",
      "\u001b[32m[I 2021-04-16 21:35:39,359]\u001b[0m Trial 51 finished with value: 0.014245865916427748 and parameters: {'changepoint_prior_scale': 0.4996428177468191, 'seasonality_prior_scale': 8.574479279281748, 'holidays_prior_scale': 0.8560510403579864}. Best is trial 12 with value: 0.014065714672038973.\u001b[0m\n",
      "INFO:fbprophet:Disabling weekly seasonality. Run prophet with weekly_seasonality=True to override this.\n",
      "INFO:fbprophet:Disabling daily seasonality. Run prophet with daily_seasonality=True to override this.\n",
      "\u001b[32m[I 2021-04-16 21:35:41,106]\u001b[0m Trial 52 finished with value: 0.014147738460140639 and parameters: {'changepoint_prior_scale': 0.49882681570003984, 'seasonality_prior_scale': 8.744970508653438, 'holidays_prior_scale': 0.4583486961442915}. Best is trial 12 with value: 0.014065714672038973.\u001b[0m\n",
      "INFO:fbprophet:Disabling weekly seasonality. Run prophet with weekly_seasonality=True to override this.\n",
      "INFO:fbprophet:Disabling daily seasonality. Run prophet with daily_seasonality=True to override this.\n",
      "\u001b[32m[I 2021-04-16 21:35:42,922]\u001b[0m Trial 53 finished with value: 0.014331761671711846 and parameters: {'changepoint_prior_scale': 0.4998886207530119, 'seasonality_prior_scale': 9.060810376917255, 'holidays_prior_scale': 2.7552518774678685}. Best is trial 12 with value: 0.014065714672038973.\u001b[0m\n",
      "INFO:fbprophet:Disabling weekly seasonality. Run prophet with weekly_seasonality=True to override this.\n",
      "INFO:fbprophet:Disabling daily seasonality. Run prophet with daily_seasonality=True to override this.\n",
      "\u001b[32m[I 2021-04-16 21:35:44,729]\u001b[0m Trial 54 finished with value: 0.014526066398909502 and parameters: {'changepoint_prior_scale': 0.47985260004820796, 'seasonality_prior_scale': 9.919523825987415, 'holidays_prior_scale': 0.19698035952379195}. Best is trial 12 with value: 0.014065714672038973.\u001b[0m\n",
      "INFO:fbprophet:Disabling weekly seasonality. Run prophet with weekly_seasonality=True to override this.\n",
      "INFO:fbprophet:Disabling daily seasonality. Run prophet with daily_seasonality=True to override this.\n",
      "\u001b[32m[I 2021-04-16 21:35:46,434]\u001b[0m Trial 55 pruned. \u001b[0m\n",
      "INFO:fbprophet:Disabling weekly seasonality. Run prophet with weekly_seasonality=True to override this.\n",
      "INFO:fbprophet:Disabling daily seasonality. Run prophet with daily_seasonality=True to override this.\n",
      "\u001b[32m[I 2021-04-16 21:35:48,356]\u001b[0m Trial 56 pruned. \u001b[0m\n",
      "INFO:fbprophet:Disabling weekly seasonality. Run prophet with weekly_seasonality=True to override this.\n",
      "INFO:fbprophet:Disabling daily seasonality. Run prophet with daily_seasonality=True to override this.\n",
      "\u001b[32m[I 2021-04-16 21:35:50,134]\u001b[0m Trial 57 finished with value: 0.014384478827997864 and parameters: {'changepoint_prior_scale': 0.4764625537413147, 'seasonality_prior_scale': 9.284832746659497, 'holidays_prior_scale': 0.7931866092271925}. Best is trial 12 with value: 0.014065714672038973.\u001b[0m\n",
      "INFO:fbprophet:Disabling weekly seasonality. Run prophet with weekly_seasonality=True to override this.\n",
      "INFO:fbprophet:Disabling daily seasonality. Run prophet with daily_seasonality=True to override this.\n",
      "\u001b[32m[I 2021-04-16 21:35:51,672]\u001b[0m Trial 58 pruned. \u001b[0m\n",
      "INFO:fbprophet:Disabling weekly seasonality. Run prophet with weekly_seasonality=True to override this.\n",
      "INFO:fbprophet:Disabling daily seasonality. Run prophet with daily_seasonality=True to override this.\n",
      "\u001b[32m[I 2021-04-16 21:35:53,405]\u001b[0m Trial 59 pruned. \u001b[0m\n",
      "INFO:fbprophet:Disabling weekly seasonality. Run prophet with weekly_seasonality=True to override this.\n",
      "INFO:fbprophet:Disabling daily seasonality. Run prophet with daily_seasonality=True to override this.\n",
      "\u001b[32m[I 2021-04-16 21:35:55,004]\u001b[0m Trial 60 pruned. \u001b[0m\n",
      "INFO:fbprophet:Disabling weekly seasonality. Run prophet with weekly_seasonality=True to override this.\n",
      "INFO:fbprophet:Disabling daily seasonality. Run prophet with daily_seasonality=True to override this.\n",
      "\u001b[32m[I 2021-04-16 21:35:56,686]\u001b[0m Trial 61 finished with value: 0.01444933339549371 and parameters: {'changepoint_prior_scale': 0.49947181855822725, 'seasonality_prior_scale': 8.330694861407448, 'holidays_prior_scale': 0.6243273739722001}. Best is trial 12 with value: 0.014065714672038973.\u001b[0m\n",
      "INFO:fbprophet:Disabling weekly seasonality. Run prophet with weekly_seasonality=True to override this.\n",
      "INFO:fbprophet:Disabling daily seasonality. Run prophet with daily_seasonality=True to override this.\n",
      "\u001b[32m[I 2021-04-16 21:35:58,266]\u001b[0m Trial 62 pruned. \u001b[0m\n",
      "INFO:fbprophet:Disabling weekly seasonality. Run prophet with weekly_seasonality=True to override this.\n",
      "INFO:fbprophet:Disabling daily seasonality. Run prophet with daily_seasonality=True to override this.\n",
      "\u001b[32m[I 2021-04-16 21:35:59,830]\u001b[0m Trial 63 finished with value: 0.014249074441565979 and parameters: {'changepoint_prior_scale': 0.49814727227046535, 'seasonality_prior_scale': 8.636781567517344, 'holidays_prior_scale': 0.19311345656839318}. Best is trial 12 with value: 0.014065714672038973.\u001b[0m\n",
      "INFO:fbprophet:Disabling weekly seasonality. Run prophet with weekly_seasonality=True to override this.\n",
      "INFO:fbprophet:Disabling daily seasonality. Run prophet with daily_seasonality=True to override this.\n",
      "\u001b[32m[I 2021-04-16 21:36:01,591]\u001b[0m Trial 64 pruned. \u001b[0m\n",
      "INFO:fbprophet:Disabling weekly seasonality. Run prophet with weekly_seasonality=True to override this.\n",
      "INFO:fbprophet:Disabling daily seasonality. Run prophet with daily_seasonality=True to override this.\n",
      "\u001b[32m[I 2021-04-16 21:36:03,246]\u001b[0m Trial 65 pruned. \u001b[0m\n",
      "INFO:fbprophet:Disabling weekly seasonality. Run prophet with weekly_seasonality=True to override this.\n",
      "INFO:fbprophet:Disabling daily seasonality. Run prophet with daily_seasonality=True to override this.\n"
     ]
    },
    {
     "name": "stderr",
     "output_type": "stream",
     "text": [
      "\u001b[32m[I 2021-04-16 21:36:04,886]\u001b[0m Trial 66 finished with value: 0.014210652041159157 and parameters: {'changepoint_prior_scale': 0.48777070506463993, 'seasonality_prior_scale': 4.425827162707224, 'holidays_prior_scale': 0.011823096779892794}. Best is trial 12 with value: 0.014065714672038973.\u001b[0m\n",
      "INFO:fbprophet:Disabling weekly seasonality. Run prophet with weekly_seasonality=True to override this.\n",
      "INFO:fbprophet:Disabling daily seasonality. Run prophet with daily_seasonality=True to override this.\n",
      "\u001b[32m[I 2021-04-16 21:36:06,815]\u001b[0m Trial 67 pruned. \u001b[0m\n",
      "INFO:fbprophet:Disabling weekly seasonality. Run prophet with weekly_seasonality=True to override this.\n",
      "INFO:fbprophet:Disabling daily seasonality. Run prophet with daily_seasonality=True to override this.\n",
      "\u001b[32m[I 2021-04-16 21:36:08,606]\u001b[0m Trial 68 pruned. \u001b[0m\n",
      "INFO:fbprophet:Disabling weekly seasonality. Run prophet with weekly_seasonality=True to override this.\n",
      "INFO:fbprophet:Disabling daily seasonality. Run prophet with daily_seasonality=True to override this.\n",
      "\u001b[32m[I 2021-04-16 21:36:10,501]\u001b[0m Trial 69 finished with value: 0.01448281099864942 and parameters: {'changepoint_prior_scale': 0.4687349613119384, 'seasonality_prior_scale': 5.604158978573297, 'holidays_prior_scale': 2.276318390479649}. Best is trial 12 with value: 0.014065714672038973.\u001b[0m\n",
      "INFO:fbprophet:Disabling weekly seasonality. Run prophet with weekly_seasonality=True to override this.\n",
      "INFO:fbprophet:Disabling daily seasonality. Run prophet with daily_seasonality=True to override this.\n",
      "\u001b[32m[I 2021-04-16 21:36:12,284]\u001b[0m Trial 70 pruned. \u001b[0m\n",
      "INFO:fbprophet:Disabling weekly seasonality. Run prophet with weekly_seasonality=True to override this.\n",
      "INFO:fbprophet:Disabling daily seasonality. Run prophet with daily_seasonality=True to override this.\n",
      "\u001b[32m[I 2021-04-16 21:36:14,111]\u001b[0m Trial 71 pruned. \u001b[0m\n",
      "INFO:fbprophet:Disabling weekly seasonality. Run prophet with weekly_seasonality=True to override this.\n",
      "INFO:fbprophet:Disabling daily seasonality. Run prophet with daily_seasonality=True to override this.\n",
      "\u001b[32m[I 2021-04-16 21:36:15,835]\u001b[0m Trial 72 pruned. \u001b[0m\n",
      "INFO:fbprophet:Disabling weekly seasonality. Run prophet with weekly_seasonality=True to override this.\n",
      "INFO:fbprophet:Disabling daily seasonality. Run prophet with daily_seasonality=True to override this.\n",
      "\u001b[32m[I 2021-04-16 21:36:17,385]\u001b[0m Trial 73 pruned. \u001b[0m\n",
      "INFO:fbprophet:Disabling weekly seasonality. Run prophet with weekly_seasonality=True to override this.\n",
      "INFO:fbprophet:Disabling daily seasonality. Run prophet with daily_seasonality=True to override this.\n",
      "\u001b[32m[I 2021-04-16 21:36:18,987]\u001b[0m Trial 74 finished with value: 0.014193974206760801 and parameters: {'changepoint_prior_scale': 0.4682721436123703, 'seasonality_prior_scale': 3.476489528214004, 'holidays_prior_scale': 0.014754426064306242}. Best is trial 12 with value: 0.014065714672038973.\u001b[0m\n",
      "INFO:fbprophet:Disabling weekly seasonality. Run prophet with weekly_seasonality=True to override this.\n",
      "INFO:fbprophet:Disabling daily seasonality. Run prophet with daily_seasonality=True to override this.\n",
      "\u001b[32m[I 2021-04-16 21:36:20,591]\u001b[0m Trial 75 pruned. \u001b[0m\n",
      "INFO:fbprophet:Disabling weekly seasonality. Run prophet with weekly_seasonality=True to override this.\n",
      "INFO:fbprophet:Disabling daily seasonality. Run prophet with daily_seasonality=True to override this.\n",
      "\u001b[32m[I 2021-04-16 21:36:22,145]\u001b[0m Trial 76 finished with value: 0.014380249641954326 and parameters: {'changepoint_prior_scale': 0.49858489506504383, 'seasonality_prior_scale': 3.9409735506544705, 'holidays_prior_scale': 1.2034290664407374}. Best is trial 12 with value: 0.014065714672038973.\u001b[0m\n",
      "INFO:fbprophet:Disabling weekly seasonality. Run prophet with weekly_seasonality=True to override this.\n",
      "INFO:fbprophet:Disabling daily seasonality. Run prophet with daily_seasonality=True to override this.\n",
      "\u001b[32m[I 2021-04-16 21:36:23,703]\u001b[0m Trial 77 pruned. \u001b[0m\n",
      "INFO:fbprophet:Disabling weekly seasonality. Run prophet with weekly_seasonality=True to override this.\n",
      "INFO:fbprophet:Disabling daily seasonality. Run prophet with daily_seasonality=True to override this.\n",
      "\u001b[32m[I 2021-04-16 21:36:25,337]\u001b[0m Trial 78 finished with value: 0.014431787087932786 and parameters: {'changepoint_prior_scale': 0.47163823677917505, 'seasonality_prior_scale': 3.512783546774392, 'holidays_prior_scale': 0.7904833286215256}. Best is trial 12 with value: 0.014065714672038973.\u001b[0m\n",
      "INFO:fbprophet:Disabling weekly seasonality. Run prophet with weekly_seasonality=True to override this.\n",
      "INFO:fbprophet:Disabling daily seasonality. Run prophet with daily_seasonality=True to override this.\n",
      "\u001b[32m[I 2021-04-16 21:36:26,923]\u001b[0m Trial 79 pruned. \u001b[0m\n"
     ]
    },
    {
     "name": "stdout",
     "output_type": "stream",
     "text": [
      "Melhor valor: 0.014065714672038973\n",
      "Melhores parâmetros:\n",
      "changepoint_prior_scale: 0.497115513533589\n",
      "seasonality_prior_scale: 7.741909301217362\n",
      "holidays_prior_scale: 9.651243499341527\n"
     ]
    }
   ],
   "source": [
    "prophet_study = optuna.create_study(direction=\"minimize\")\n",
    "prophet_study.optimize(prophet_objective, n_trials=80)\n",
    "\n",
    "print_study_best_trial_params(prophet_study)"
   ]
  },
  {
   "cell_type": "code",
   "execution_count": 31,
   "metadata": {},
   "outputs": [
    {
     "name": "stderr",
     "output_type": "stream",
     "text": [
      "INFO:fbprophet:Disabling weekly seasonality. Run prophet with weekly_seasonality=True to override this.\n",
      "INFO:fbprophet:Disabling daily seasonality. Run prophet with daily_seasonality=True to override this.\n"
     ]
    }
   ],
   "source": [
    "prophet = Prophet(**prophet_study.best_trial.params)\n",
    "prophet.fit(prophet_df)\n",
    "future_df = prophet.make_future_dataframe(periods=6, freq='m')\n",
    "future_pred = prophet.predict(future_df)"
   ]
  },
  {
   "cell_type": "code",
   "execution_count": 32,
   "metadata": {},
   "outputs": [],
   "source": [
    "last_6_months = future_pred[-6:].reset_index(drop=True)\n",
    "last_6_months.index = data_pern_test.index"
   ]
  },
  {
   "cell_type": "code",
   "execution_count": 33,
   "metadata": {},
   "outputs": [
    {
     "data": {
      "text/plain": [
       "<matplotlib.legend.Legend at 0x7f7b682a08e0>"
      ]
     },
     "execution_count": 33,
     "metadata": {},
     "output_type": "execute_result"
    },
    {
     "data": {
      "image/png": "[encoded data removed]",
      "text/plain": [
       "<Figure size 432x288 with 1 Axes>"
      ]
     },
     "metadata": {
      "needs_background": "light"
     },
     "output_type": "display_data"
    }
   ],
   "source": [
    "last_6_months['yhat'].plot(label='Previsto')\n",
    "data_pern_test['PRECO_MEDIO_REVENDA'].plot(label='Real')\n",
    "plt.legend()"
   ]
  },
  {
   "cell_type": "code",
   "execution_count": 34,
   "metadata": {},
   "outputs": [
    {
     "data": {
      "text/plain": [
       "0.06350330080416271"
      ]
     },
     "execution_count": 34,
     "metadata": {},
     "output_type": "execute_result"
    }
   ],
   "source": [
    "prophet_mse = ((future_pred[-6:]['yhat'].reset_index(drop=True) - data_pern_test['PRECO_MEDIO_REVENDA'].reset_index(drop=True)) ** 2).mean()\n",
    "prophet_mse"
   ]
  },
  {
   "cell_type": "code",
   "execution_count": 35,
   "metadata": {},
   "outputs": [],
   "source": [
    "for name, value in prophet_study.best_trial.params.items():\n",
    "    mlflow.log_param(f'fbprophet_{name}', value)\n",
    "mlflow.sklearn.log_model(prophet, 'prophet')\n",
    "mlflow.log_metric('prophet_mse', prophet_mse)"
   ]
  },
  {
   "cell_type": "markdown",
   "metadata": {},
   "source": [
    "**Auto Regression**"
   ]
  },
  {
   "cell_type": "code",
   "execution_count": 36,
   "metadata": {},
   "outputs": [],
   "source": [
    "ar_y = data_pern_train['PRECO_MEDIO_REVENDA']"
   ]
  },
  {
   "cell_type": "code",
   "execution_count": 37,
   "metadata": {},
   "outputs": [],
   "source": [
    "from statsmodels.tsa.ar_model import AutoReg\n",
    "\n",
    "def ar_objective(trial):\n",
    "    mdl = AutoReg(ar_y, lags=trial.suggest_int('lags', 0, 6))\n",
    "    \n",
    "    res = mdl.fit()\n",
    "    \n",
    "    aic = res.aic\n",
    "    \n",
    "    trial.report(aic, 0)\n",
    "    \n",
    "    if trial.should_prune():\n",
    "        raise optuna.exceptions.TrialPruned()\n",
    "        \n",
    "    return aic"
   ]
  },
  {
   "cell_type": "code",
   "execution_count": 38,
   "metadata": {},
   "outputs": [
    {
     "name": "stderr",
     "output_type": "stream",
     "text": [
      "\u001b[32m[I 2021-04-16 21:36:29,856]\u001b[0m A new study created in memory with name: no-name-90719456-30b3-4b7e-9494-1186f6da7775\u001b[0m\n",
      "\u001b[32m[I 2021-04-16 21:36:29,876]\u001b[0m Trial 0 finished with value: -6.278137971701282 and parameters: {'lags': 3}. Best is trial 0 with value: -6.278137971701282.\u001b[0m\n",
      "\u001b[32m[I 2021-04-16 21:36:29,889]\u001b[0m Trial 1 finished with value: -6.278137971701282 and parameters: {'lags': 3}. Best is trial 0 with value: -6.278137971701282.\u001b[0m\n",
      "\u001b[32m[I 2021-04-16 21:36:29,897]\u001b[0m Trial 2 finished with value: -6.272175930792029 and parameters: {'lags': 5}. Best is trial 0 with value: -6.278137971701282.\u001b[0m\n",
      "\u001b[32m[I 2021-04-16 21:36:29,902]\u001b[0m Trial 3 finished with value: -6.278137971701282 and parameters: {'lags': 3}. Best is trial 0 with value: -6.278137971701282.\u001b[0m\n",
      "\u001b[32m[I 2021-04-16 21:36:29,908]\u001b[0m Trial 4 finished with value: -6.282334891672952 and parameters: {'lags': 4}. Best is trial 4 with value: -6.282334891672952.\u001b[0m\n",
      "\u001b[32m[I 2021-04-16 21:36:29,913]\u001b[0m Trial 5 finished with value: -6.278137971701282 and parameters: {'lags': 3}. Best is trial 4 with value: -6.282334891672952.\u001b[0m\n",
      "\u001b[32m[I 2021-04-16 21:36:29,917]\u001b[0m Trial 6 pruned. \u001b[0m\n",
      "\u001b[32m[I 2021-04-16 21:36:29,922]\u001b[0m Trial 7 finished with value: -6.282334891672952 and parameters: {'lags': 4}. Best is trial 4 with value: -6.282334891672952.\u001b[0m\n",
      "\u001b[32m[I 2021-04-16 21:36:29,926]\u001b[0m Trial 8 pruned. \u001b[0m\n",
      "\u001b[32m[I 2021-04-16 21:36:29,930]\u001b[0m Trial 9 pruned. \u001b[0m\n"
     ]
    },
    {
     "name": "stdout",
     "output_type": "stream",
     "text": [
      "Melhor valor: -6.282334891672952\n",
      "Melhores parâmetros:\n",
      "lags: 4\n"
     ]
    }
   ],
   "source": [
    "ar_study = optuna.create_study(direction=\"minimize\")\n",
    "ar_study.optimize(ar_objective, n_trials=10)\n",
    "\n",
    "print_study_best_trial_params(ar_study)"
   ]
  },
  {
   "cell_type": "code",
   "execution_count": 39,
   "metadata": {},
   "outputs": [],
   "source": [
    "ar_mdl = AutoReg(ar_y, **ar_study.best_trial.params)\n",
    "ar_res = ar_mdl.fit()"
   ]
  },
  {
   "cell_type": "code",
   "execution_count": 40,
   "metadata": {},
   "outputs": [],
   "source": [
    "mlflow.log_param('ar_lags', ar_study.best_trial.params['lags'])\n",
    "mlflow.statsmodels.log_model(ar_res, 'autoregression')"
   ]
  },
  {
   "cell_type": "markdown",
   "metadata": {},
   "source": [
    "Os parâmetros de previsão para o modelo de autoregressão são os índices de início e fim da previsão. Como desejamos prever 6 meses, devemos fornecer o índice do último item mais um, que é o mesmo que o tamanho de ar_y, e o índice do sexto mês a partir do fim"
   ]
  },
  {
   "cell_type": "code",
   "execution_count": 41,
   "metadata": {},
   "outputs": [
    {
     "data": {
      "text/plain": [
       "2018-07-31    3.533821\n",
       "2018-08-31    3.571089\n",
       "2018-09-30    3.592936\n",
       "2018-10-31    3.613910\n",
       "2018-11-30    3.636479\n",
       "2018-12-31    3.659985\n",
       "Freq: M, dtype: float64"
      ]
     },
     "execution_count": 41,
     "metadata": {},
     "output_type": "execute_result"
    }
   ],
   "source": [
    "prediction = ar_res.predict(start=len(ar_y), end=len(ar_y) + 5)\n",
    "prediction"
   ]
  },
  {
   "cell_type": "code",
   "execution_count": 42,
   "metadata": {},
   "outputs": [],
   "source": [
    "prediction.index = data_pern_test.index"
   ]
  },
  {
   "cell_type": "code",
   "execution_count": 43,
   "metadata": {},
   "outputs": [
    {
     "data": {
      "text/plain": [
       "<matplotlib.legend.Legend at 0x7f7b682a1100>"
      ]
     },
     "execution_count": 43,
     "metadata": {},
     "output_type": "execute_result"
    },
    {
     "data": {
      "image/png": "[encoded data removed]",
      "text/plain": [
       "<Figure size 432x288 with 1 Axes>"
      ]
     },
     "metadata": {
      "needs_background": "light"
     },
     "output_type": "display_data"
    }
   ],
   "source": [
    "prediction.plot(label='Previsto')\n",
    "data_pern_test['PRECO_MEDIO_REVENDA'].plot(label='Real')\n",
    "plt.legend()"
   ]
  },
  {
   "cell_type": "code",
   "execution_count": 44,
   "metadata": {},
   "outputs": [
    {
     "data": {
      "text/plain": [
       "0.09793155747593428"
      ]
     },
     "execution_count": 44,
     "metadata": {},
     "output_type": "execute_result"
    }
   ],
   "source": [
    "ar_mse = ((data_pern_test['PRECO_MEDIO_REVENDA'] - prediction) ** 2).mean()\n",
    "ar_mse"
   ]
  },
  {
   "cell_type": "code",
   "execution_count": 45,
   "metadata": {},
   "outputs": [],
   "source": [
    "mlflow.log_metric('ar_mse', ar_mse)"
   ]
  },
  {
   "cell_type": "markdown",
   "metadata": {},
   "source": [
    "### Holt Winter's Exponential Smoothing"
   ]
  },
  {
   "cell_type": "code",
   "execution_count": 46,
   "metadata": {},
   "outputs": [],
   "source": [
    "hwes_y = data_pern_train['PRECO_MEDIO_REVENDA']"
   ]
  },
  {
   "cell_type": "code",
   "execution_count": 47,
   "metadata": {},
   "outputs": [],
   "source": [
    "from statsmodels.tsa.holtwinters import ExponentialSmoothing"
   ]
  },
  {
   "cell_type": "code",
   "execution_count": 48,
   "metadata": {},
   "outputs": [],
   "source": [
    "def hwes_objective(trial):\n",
    "    component_type = {\"additive\", \"multiplicative\", None}\n",
    "    \n",
    "    mdl = ExponentialSmoothing(\n",
    "        hwes_y,\n",
    "        seasonal=trial.suggest_categorical(\"seasonal\", component_type),\n",
    "        trend=trial.suggest_categorical(\"trend\", component_type)\n",
    "    )\n",
    "    \n",
    "    res = mdl.fit()\n",
    "    \n",
    "    aic = res.aic\n",
    "    \n",
    "    trial.report(aic, 0)\n",
    "    \n",
    "    if trial.should_prune():\n",
    "        raise optuna.exceptions.TrialPruned()\n",
    "        \n",
    "    return aic"
   ]
  },
  {
   "cell_type": "code",
   "execution_count": 49,
   "metadata": {},
   "outputs": [
    {
     "name": "stderr",
     "output_type": "stream",
     "text": [
      "\u001b[32m[I 2021-04-16 21:36:31,638]\u001b[0m A new study created in memory with name: no-name-7966b4ad-6e7a-4e06-ae1b-12a75d612071\u001b[0m\n",
      "/home/co/miniconda3/lib/python3.8/site-packages/statsmodels/tsa/holtwinters.py:743: ConvergenceWarning: Optimization failed to converge. Check mle_retvals.\n",
      "  warn(\"Optimization failed to converge. Check mle_retvals.\",\n",
      "\u001b[32m[I 2021-04-16 21:36:31,742]\u001b[0m Trial 0 finished with value: -891.9966647087347 and parameters: {'seasonal': 'multiplicative', 'trend': 'additive'}. Best is trial 0 with value: -891.9966647087347.\u001b[0m\n",
      "\u001b[32m[I 2021-04-16 21:36:31,746]\u001b[0m Trial 1 finished with value: -1009.6077505392568 and parameters: {'seasonal': None, 'trend': None}. Best is trial 1 with value: -1009.6077505392568.\u001b[0m\n",
      "/home/co/miniconda3/lib/python3.8/site-packages/statsmodels/tsa/holtwinters.py:743: ConvergenceWarning: Optimization failed to converge. Check mle_retvals.\n",
      "  warn(\"Optimization failed to converge. Check mle_retvals.\",\n",
      "\u001b[32m[I 2021-04-16 21:36:31,813]\u001b[0m Trial 2 finished with value: -930.4298989582551 and parameters: {'seasonal': 'additive', 'trend': 'additive'}. Best is trial 1 with value: -1009.6077505392568.\u001b[0m\n",
      "/home/co/miniconda3/lib/python3.8/site-packages/statsmodels/tsa/holtwinters.py:743: ConvergenceWarning: Optimization failed to converge. Check mle_retvals.\n",
      "  warn(\"Optimization failed to converge. Check mle_retvals.\",\n",
      "\u001b[32m[I 2021-04-16 21:36:31,835]\u001b[0m Trial 3 finished with value: -878.4339811838091 and parameters: {'seasonal': 'multiplicative', 'trend': None}. Best is trial 1 with value: -1009.6077505392568.\u001b[0m\n",
      "/home/co/miniconda3/lib/python3.8/site-packages/statsmodels/tsa/holtwinters.py:743: ConvergenceWarning: Optimization failed to converge. Check mle_retvals.\n",
      "  warn(\"Optimization failed to converge. Check mle_retvals.\",\n",
      "\u001b[32m[I 2021-04-16 21:36:31,860]\u001b[0m Trial 4 finished with value: -878.4339811838091 and parameters: {'seasonal': 'multiplicative', 'trend': None}. Best is trial 1 with value: -1009.6077505392568.\u001b[0m\n",
      "/home/co/miniconda3/lib/python3.8/site-packages/statsmodels/tsa/holtwinters.py:743: ConvergenceWarning: Optimization failed to converge. Check mle_retvals.\n",
      "  warn(\"Optimization failed to converge. Check mle_retvals.\",\n",
      "\u001b[32m[I 2021-04-16 21:36:31,929]\u001b[0m Trial 5 finished with value: -930.4298989582551 and parameters: {'seasonal': 'additive', 'trend': 'additive'}. Best is trial 1 with value: -1009.6077505392568.\u001b[0m\n",
      "\u001b[32m[I 2021-04-16 21:36:31,933]\u001b[0m Trial 6 finished with value: -1009.6077505392568 and parameters: {'seasonal': None, 'trend': None}. Best is trial 1 with value: -1009.6077505392568.\u001b[0m\n",
      "/home/co/miniconda3/lib/python3.8/site-packages/statsmodels/tsa/holtwinters.py:743: ConvergenceWarning: Optimization failed to converge. Check mle_retvals.\n",
      "  warn(\"Optimization failed to converge. Check mle_retvals.\",\n",
      "\u001b[32m[I 2021-04-16 21:36:32,041]\u001b[0m Trial 7 pruned. \u001b[0m\n",
      "/home/co/miniconda3/lib/python3.8/site-packages/statsmodels/tsa/holtwinters.py:743: ConvergenceWarning: Optimization failed to converge. Check mle_retvals.\n",
      "  warn(\"Optimization failed to converge. Check mle_retvals.\",\n",
      "\u001b[32m[I 2021-04-16 21:36:32,170]\u001b[0m Trial 8 finished with value: -930.4298989582551 and parameters: {'seasonal': 'additive', 'trend': 'additive'}. Best is trial 1 with value: -1009.6077505392568.\u001b[0m\n"
     ]
    },
    {
     "name": "stdout",
     "output_type": "stream",
     "text": [
      "Melhor valor: -1009.6077505392568\n",
      "Melhores parâmetros:\n",
      "seasonal: None\n",
      "trend: None\n"
     ]
    }
   ],
   "source": [
    "hwes_study = optuna.create_study(direction=\"minimize\")\n",
    "hwes_study.optimize(hwes_objective, n_trials=9)\n",
    "\n",
    "print_study_best_trial_params(hwes_study)"
   ]
  },
  {
   "cell_type": "code",
   "execution_count": 50,
   "metadata": {},
   "outputs": [],
   "source": [
    "hwes_model = ExponentialSmoothing(hwes_y, **hwes_study.best_trial.params)\n",
    "hwes_res = hwes_model.fit()"
   ]
  },
  {
   "cell_type": "code",
   "execution_count": 51,
   "metadata": {},
   "outputs": [],
   "source": [
    "mlflow.log_param('hwes_trend', hwes_study.best_trial.params['trend'])\n",
    "mlflow.statsmodels.log_model(hwes_res, 'hwes')"
   ]
  },
  {
   "cell_type": "code",
   "execution_count": 52,
   "metadata": {},
   "outputs": [],
   "source": [
    "prediction = hwes_res.predict(start=len(hwes_y), end=(len(hwes_y) + 5))\n",
    "prediction.index = data_pern_test.index"
   ]
  },
  {
   "cell_type": "code",
   "execution_count": 53,
   "metadata": {},
   "outputs": [
    {
     "data": {
      "text/plain": [
       "<matplotlib.legend.Legend at 0x7f7b6817d2b0>"
      ]
     },
     "execution_count": 53,
     "metadata": {},
     "output_type": "execute_result"
    },
    {
     "data": {
      "image/png": "[encoded data removed]",
      "text/plain": [
       "<Figure size 432x288 with 1 Axes>"
      ]
     },
     "metadata": {
      "needs_background": "light"
     },
     "output_type": "display_data"
    }
   ],
   "source": [
    "prediction.plot(label='Previsto')\n",
    "data_pern_test['PRECO_MEDIO_REVENDA'].plot(label='Real')\n",
    "plt.legend()"
   ]
  },
  {
   "cell_type": "code",
   "execution_count": 54,
   "metadata": {},
   "outputs": [
    {
     "data": {
      "text/plain": [
       "0.06496023291666665"
      ]
     },
     "execution_count": 54,
     "metadata": {},
     "output_type": "execute_result"
    }
   ],
   "source": [
    "hwes_mse = ((data_pern_test['PRECO_MEDIO_REVENDA'] - prediction) ** 2).mean()\n",
    "hwes_mse"
   ]
  },
  {
   "cell_type": "code",
   "execution_count": 55,
   "metadata": {},
   "outputs": [],
   "source": [
    "mlflow.log_metric('hwes_mse', hwes_mse)"
   ]
  },
  {
   "cell_type": "code",
   "execution_count": 56,
   "metadata": {},
   "outputs": [
    {
     "name": "stdout",
     "output_type": "stream",
     "text": [
      "MSE SARIMAX: 0.19769325390690984\n",
      "MSE Prophet: 0.06350330080416271\n",
      "MSE AutoRegression: 0.09793155747593428\n",
      "MSE Holt Winter's Exponential Smoothing: 0.06496023291666665\n",
      "\n"
     ]
    }
   ],
   "source": [
    "print(\n",
    "    f'MSE SARIMAX: {sarimax_mse}\\n'\n",
    "    f'MSE Prophet: {prophet_mse}\\n'\n",
    "    f'MSE AutoRegression: {ar_mse}\\n'\n",
    "    f\"MSE Holt Winter's Exponential Smoothing: {hwes_mse}\\n\"\n",
    ")"
   ]
  }
 ],
 "metadata": {
  "kernelspec": {
   "display_name": "Python 3",
   "language": "python",
   "name": "python3"
  },
  "language_info": {
   "codemirror_mode": {
    "name": "ipython",
    "version": 3
   },
   "file_extension": ".py",
   "mimetype": "text/x-python",
   "name": "python",
   "nbconvert_exporter": "python",
   "pygments_lexer": "ipython3",
   "version": "3.8.0"
  }
 },
 "nbformat": 4,
 "nbformat_minor": 1
}
