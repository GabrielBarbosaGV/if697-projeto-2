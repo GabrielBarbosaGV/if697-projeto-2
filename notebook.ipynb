{
  "cells":[
    {
      "cell_type":"code",
      "source":[
        "%matplotlib inline\n",
        "import pandas as pd\n",
        "import statsmodels.api as sm\n",
        "import itertools\n",
        "import matplotlib.pyplot as plt\n",
        "from fbprophet import Prophet\n",
        "import optuna\n",
        "import mlflow\n",
        "from statsmodels.tsa.ar_model import AutoReg"
      ],
      "execution_count":1,
      "outputs":[
        
      ],
      "metadata":{
        
      }
    },
    {
      "cell_type":"code",
      "source":[
        "data = pd.read_csv('.\/per_liter_clean.csv')"
      ],
      "execution_count":2,
      "outputs":[
        
      ],
      "metadata":{
        
      }
    },
    {
      "cell_type":"code",
      "source":[
        "data.dtypes"
      ],
      "execution_count":3,
      "outputs":[
        {
          "data":{
            "text\/plain":[
              "Unnamed:_0                         int64\n",
              "DATA_INICIAL                      object\n",
              "DATA_FINAL                        object\n",
              "REGIAO                            object\n",
              "ESTADO                            object\n",
              "PRODUTO                           object\n",
              "NUMERO_DE_POSTOS_PESQUISADOS       int64\n",
              "UNIDADE_DE_MEDIDA                 object\n",
              "PRECO_MEDIO_REVENDA              float64\n",
              "DESVIO_PADRAO_REVENDA            float64\n",
              "PRECO_MINIMO_REVENDA             float64\n",
              "PRECO_MAXIMO_REVENDA             float64\n",
              "MARGEM_MEDIA_REVENDA             float64\n",
              "COEF_DE_VARIACAO_REVENDA         float64\n",
              "PRECO_MEDIO_DISTRIBUICAO         float64\n",
              "DESVIO_PADRAO_DISTRIBUICAO       float64\n",
              "PRECO_MINIMO_DISTRIBUICAO        float64\n",
              "PRECO_MAXIMO_DISTRIBUICAO        float64\n",
              "COEF_DE_VARIACAO_DISTRIBUICAO    float64\n",
              "MES                                int64\n",
              "ANO                                int64\n",
              "dtype: object"
            ]
          },
          "metadata":{
            
          },
          "output_type":"display_data"
        }
      ],
      "metadata":{
        
      }
    },
    {
      "cell_type":"code",
      "source":[
        "data['DATA_INICIAL'] = pd.to_datetime(data['DATA_INICIAL'])\n",
        "data['DATA_FINAL'] = pd.to_datetime(data['DATA_FINAL'])"
      ],
      "execution_count":4,
      "outputs":[
        
      ],
      "metadata":{
        
      }
    },
    {
      "cell_type":"code",
      "source":[
        "for colname in ['REGIAO', 'ESTADO', 'PRODUTO']:\n",
        "    data[colname] = data[colname].astype('category')\n",
        "\n",
        "data[['REGIAO', 'ESTADO', 'PRODUTO']].dtypes"
      ],
      "execution_count":5,
      "outputs":[
        {
          "data":{
            "text\/plain":[
              "REGIAO     category\n",
              "ESTADO     category\n",
              "PRODUTO    category\n",
              "dtype: object"
            ]
          },
          "metadata":{
            
          },
          "output_type":"display_data"
        }
      ],
      "metadata":{
        
      }
    },
    {
      "cell_type":"markdown",
      "source":[
        "Os dados lidos apresentam vários estados e produtos, implicando diferentes previsões para cada. Nos atendo aos propósitos deste projeto, preveremos somente para Pernambuco e o produto mais comum."
      ],
      "metadata":{
        
      }
    },
    {
      "cell_type":"code",
      "source":[
        "data['ESTADO'].unique()"
      ],
      "execution_count":6,
      "outputs":[
        {
          "data":{
            "text\/plain":[
              "['DISTRITO FEDERAL', 'GOIAS', 'MATO GROSSO', 'MATO GROSSO DO SUL', 'ALAGOAS', ..., 'SAO PAULO', 'PARANA', 'RIO GRANDE DO SUL', 'SANTA CATARINA', 'PARA']\n",
              "Length: 27\n",
              "Categories (27, object): ['DISTRITO FEDERAL', 'GOIAS', 'MATO GROSSO', 'MATO GROSSO DO SUL', ..., 'PARANA', 'RIO GRANDE DO SUL', 'SANTA CATARINA', 'PARA']"
            ]
          },
          "metadata":{
            
          },
          "output_type":"display_data"
        }
      ],
      "metadata":{
        
      }
    },
    {
      "cell_type":"code",
      "source":[
        "data_pern = data[data['ESTADO'] == 'PERNAMBUCO']\n",
        "len(data_pern)"
      ],
      "execution_count":7,
      "outputs":[
        {
          "data":{
            "text\/plain":[
              "2645"
            ]
          },
          "metadata":{
            
          },
          "output_type":"display_data"
        }
      ],
      "metadata":{
        
      }
    },
    {
      "cell_type":"code",
      "source":[
        "for p in data_pern['PRODUTO'].unique():\n",
        "    print(f'Quantidade de {p}: {(data_pern[\"PRODUTO\"] == p).sum()}')"
      ],
      "execution_count":8,
      "outputs":[
        {
          "name":"stdout",
          "text":[
            "Quantidade de ETANOL HIDRATADO: 782\n",
            "Quantidade de GASOLINA COMUM: 749\n",
            "Quantidade de ÓLEO DIESEL: 776\n",
            "Quantidade de ÓLEO DIESEL S10: 338\n"
          ],
          "output_type":"stream"
        }
      ],
      "metadata":{
        
      }
    },
    {
      "cell_type":"code",
      "source":[
        "data_pern = data_pern[data_pern['PRODUTO'] == 'ETANOL HIDRATADO']"
      ],
      "execution_count":9,
      "outputs":[
        
      ],
      "metadata":{
        
      }
    },
    {
      "cell_type":"code",
      "source":[
        "data_pern.index = data_pern['DATA_INICIAL']"
      ],
      "execution_count":10,
      "outputs":[
        
      ],
      "metadata":{
        
      }
    },
    {
      "cell_type":"markdown",
      "source":[
        "Preveremos o preço médio de revenda, utilizando ARIMA inicialmente"
      ],
      "metadata":{
        
      }
    },
    {
      "cell_type":"code",
      "source":[
        "data_pern.index.max()"
      ],
      "execution_count":11,
      "outputs":[
        {
          "data":{
            "text\/plain":[
              "Timestamp('2019-06-23 00:00:00')"
            ]
          },
          "metadata":{
            
          },
          "output_type":"display_data"
        }
      ],
      "metadata":{
        
      }
    },
    {
      "cell_type":"markdown",
      "source":[
        "Dado que temos informações desde 2004 até o final do primeiro semestre de 2019, podemos dividir os dados em treinamento até o final do primeiro semestre de 2018, validação desse ponto até o final do segundo semestre de 2018, e teste o que resta. Vamos também obter os dados médios por mês, para poder usar 12 como parâmetro de sazonalidade do SARIMAX."
      ],
      "metadata":{
        
      }
    },
    {
      "cell_type":"code",
      "source":[
        "data_pern = data_pern.resample('m').mean()"
      ],
      "execution_count":12,
      "outputs":[
        
      ],
      "metadata":{
        
      }
    },
    {
      "cell_type":"code",
      "source":[
        "data_pern_train = data_pern[:'2018-06']\n",
        "data_pern_validation = data_pern['2018-07':'2018-12']\n",
        "data_pern_test = data_pern['2019-01':'2019-06']"
      ],
      "execution_count":13,
      "outputs":[
        
      ],
      "metadata":{
        
      }
    },
    {
      "cell_type":"code",
      "source":[
        "data_pern_train['PRECO_MEDIO_REVENDA'].plot()"
      ],
      "execution_count":14,
      "outputs":[
        {
          "data":{
            "text\/plain":[
              "<AxesSubplot:xlabel='DATA_INICIAL'>"
            ],
            "image\/png":"[encoded data removed]"
          },
          "metadata":{
            "image\/png":{
              "width":0,
              "height":0
            }
          },
          "output_type":"display_data"
        }
      ],
      "metadata":{
        
      }
    },
    {
      "cell_type":"code",
      "source":[
        "data_pern_validation['PRECO_MEDIO_REVENDA'].plot()"
      ],
      "execution_count":15,
      "outputs":[
        {
          "data":{
            "text\/plain":[
              "<AxesSubplot:xlabel='DATA_INICIAL'>"
            ],
            "image\/png":"[encoded data removed]"
          },
          "metadata":{
            "image\/png":{
              "width":0,
              "height":0
            }
          },
          "output_type":"display_data"
        }
      ],
      "metadata":{
        
      }
    },
    {
      "cell_type":"code",
      "source":[
        "data_pern_test['PRECO_MEDIO_REVENDA'].plot()"
      ],
      "execution_count":16,
      "outputs":[
        {
          "data":{
            "text\/plain":[
              "<AxesSubplot:xlabel='DATA_INICIAL'>"
            ],
            "image\/png":"[encoded data removed]"
          },
          "metadata":{
            "image\/png":{
              "width":0,
              "height":0
            }
          },
          "output_type":"display_data"
        }
      ],
      "metadata":{
        
      }
    },
    {
      "cell_type":"markdown",
      "source":[
        "Vamos agora realizar uma grid-search para determinar os melhores parâmetros para o algoritmo"
      ],
      "metadata":{
        
      }
    },
    {
      "cell_type":"code",
      "source":[
        "y = data_pern_train['PRECO_MEDIO_REVENDA']"
      ],
      "execution_count":17,
      "outputs":[
        
      ],
      "metadata":{
        
      }
    },
    {
      "cell_type":"code",
      "source":[
        "def objective(trial):\n",
        "    p = trial.suggest_int('p', 0, 2)\n",
        "    d = trial.suggest_int('d', 0, 2)\n",
        "    q = trial.suggest_int('q', 0, 2)\n",
        "\n",
        "    ps = trial.suggest_int('ps', 0, 2)\n",
        "    ds = trial.suggest_int('ds', 0, 2)\n",
        "    qs = trial.suggest_int('qs', 0, 0)\n",
        "\n",
        "    mdl = sm.tsa.statespace.SARIMAX(\n",
        "        y,\n",
        "        order=(p, d, q),\n",
        "        seasonal_order=(ps, ds, qs, 12),\n",
        "        enforce_stationarity=False,\n",
        "        enforce_invertibility=False\n",
        "    )\n",
        "\n",
        "    results = mdl.fit()\n",
        "\n",
        "    trial.report(results.aic, 0)\n",
        "\n",
        "    if trial.should_prune():\n",
        "        raise optuna.exceptions.TrialPruned()\n",
        "\n",
        "    return results.aic"
      ],
      "execution_count":18,
      "outputs":[
        
      ],
      "metadata":{
        
      }
    },
    {
      "cell_type":"code",
      "source":[
        "def print_study_best_trial_params(study):\n",
        "    t = study.best_trial\n",
        "\n",
        "    print(f'Melhor valor: {t.value}')\n",
        "\n",
        "    print(f'Melhores parâmetros:')\n",
        "\n",
        "    for p, v in t.params.items():\n",
        "        print(f'{p}: {v}')"
      ],
      "execution_count":19,
      "outputs":[
        
      ],
      "metadata":{
        
      }
    },
    {
      "cell_type":"code",
      "source":[
        "study = optuna.create_study(direction=\"minimize\")\n",
        "study.optimize(objective, n_trials=300)\n",
        "\n",
        "print_study_best_trial_params(study)"
      ],
      "execution_count":20,
      "outputs":[
        {
          "ename":"NameError",
          "evalue":"NameError: name 'optuna' is not defined",
          "traceback":[
            "\u001b[0;31m---------------------------------------------------------------------------",
            "Traceback (most recent call last)",
            "    at line 1 in <module>",
            "NameError: name 'optuna' is not defined"
          ],
          "output_type":"error"
        }
      ],
      "metadata":{
        
      }
    },
    {
      "cell_type":"markdown",
      "source":[
        "Determinados os melhores parâmetros, vamos treinar o nosso modelo e realizar uma previsão"
      ],
      "metadata":{
        
      }
    },
    {
      "cell_type":"code",
      "source":[
        "pdq = (2, 0, 1)\n",
        "pdqs = (0, 0, 0, 12)\n",
        "\n",
        "mod = sm.tsa.statespace.SARIMAX(\n",
        "    y,\n",
        "    order=pdq,\n",
        "    seasonal_order=pdqs,\n",
        "    enforce_stationarity=False,\n",
        "    enforce_invertibility=False\n",
        ")\n",
        "\n",
        "res = mod.fit()"
      ],
      "execution_count":21,
      "outputs":[
        
      ],
      "metadata":{
        
      }
    },
    {
      "cell_type":"code",
      "source":[
        "predicted = res.get_prediction(start='2018-07', end='2018-12')\n",
        "predicted.predicted_mean.plot(label='Previsto')\n",
        "data_pern_validation['PRECO_MEDIO_REVENDA'].plot(label='Real')\n",
        "plt.legend()"
      ],
      "execution_count":22,
      "outputs":[
        {
          "data":{
            "text\/plain":[
              "<matplotlib.legend.Legend at 0x7f403ac54d50>"
            ],
            "image\/png":"[encoded data removed]"
          },
          "metadata":{
            "image\/png":{
              "width":0,
              "height":0
            }
          },
          "output_type":"display_data"
        }
      ],
      "metadata":{
        
      }
    },
    {
      "cell_type":"markdown",
      "source":[
        "Repitamos a previsão para o intervalo de tempo de teste"
      ],
      "metadata":{
        
      }
    },
    {
      "cell_type":"code",
      "source":[
        "predicted_test = res.get_prediction(start = '2019-01', end='2019-06')\n",
        "predicted_test.predicted_mean.plot(label='Previsto')\n",
        "data_pern_test['PRECO_MEDIO_REVENDA'].plot(label='Real')\n",
        "plt.legend()"
      ],
      "execution_count":23,
      "outputs":[
        {
          "data":{
            "text\/plain":[
              "<matplotlib.legend.Legend at 0x7f403acd9350>"
            ],
            "image\/png":"[encoded data removed]"
          },
          "metadata":{
            "image\/png":{
              "width":0,
              "height":0
            }
          },
          "output_type":"display_data"
        }
      ],
      "metadata":{
        
      }
    },
    {
      "cell_type":"markdown",
      "source":[
        "MSE (Mean Squared Error):"
      ],
      "metadata":{
        
      }
    },
    {
      "cell_type":"code",
      "source":[
        "((predicted_test.predicted_mean - data_pern_test['PRECO_MEDIO_REVENDA']) ** 2).mean()"
      ],
      "execution_count":24,
      "outputs":[
        {
          "data":{
            "text\/plain":[
              "0.1976932543934502"
            ]
          },
          "metadata":{
            
          },
          "output_type":"display_data"
        }
      ],
      "metadata":{
        
      }
    },
    {
      "cell_type":"markdown",
      "source":[
        "### Prophet"
      ],
      "metadata":{
        
      }
    },
    {
      "cell_type":"code",
      "source":[
        "prophet_df = pd.DataFrame()\n",
        "prophet_df['y'] = data_pern_train['PRECO_MEDIO_REVENDA']\n",
        "prophet_df['ds'] = data_pern_train.index"
      ],
      "execution_count":25,
      "outputs":[
        
      ],
      "metadata":{
        
      }
    },
    {
      "cell_type":"code",
      "source":[
        "prophet_df.plot(x='ds')"
      ],
      "execution_count":26,
      "outputs":[
        {
          "data":{
            "text\/plain":[
              "<AxesSubplot:xlabel='ds'>"
            ],
            "image\/png":"[encoded data removed]"
          },
          "metadata":{
            "image\/png":{
              "width":0,
              "height":0
            }
          },
          "output_type":"display_data"
        }
      ],
      "metadata":{
        
      }
    },
    {
      "cell_type":"code",
      "source":[
        "def prophet_objective(trial):\n",
        "    changepoint_prior_scale = trial.suggest_float('changepoint_prior_scale', .001, .5)\n",
        "    seasonality_prior_scale = trial.suggest_float('seasonality_prior_scale', .01, 10)\n",
        "    holidays_prior_scale = trial.suggest_float('holidays_prior_scale', .01, 10)\n",
        "\n",
        "    prophet = Prophet(\n",
        "        changepoint_prior_scale=changepoint_prior_scale,\n",
        "        seasonality_prior_scale=seasonality_prior_scale,\n",
        "        holidays_prior_scale=holidays_prior_scale\n",
        "    )\n",
        "\n",
        "    prophet.fit(prophet_df)\n",
        "\n",
        "    future_df = prophet.make_future_dataframe(periods=6, freq='m')\n",
        "    future_pred = prophet.predict(future_df)\n",
        "\n",
        "    mse = ((future_pred[-6:]['yhat'].reset_index(drop=True) - data_pern_validation['PRECO_MEDIO_REVENDA'].reset_index(drop=True)) ** 2).mean()\n",
        "\n",
        "    trial.report(mse, 0)\n",
        "\n",
        "    if trial.should_prune():\n",
        "        raise optuna.exceptions.TrialPruned()\n",
        "\n",
        "    return mse"
      ],
      "execution_count":27,
      "outputs":[
        
      ],
      "metadata":{
        
      }
    },
    {
      "cell_type":"code",
      "source":[
        "prophet_study = optuna.create_study(direction=\"minimize\")\n",
        "prophet_study.optimize(prophet_objective, n_trials=80)\n",
        "\n",
        "print_study_best_trial_params(prophet_study)"
      ],
      "execution_count":28,
      "outputs":[
        {
          "ename":"NameError",
          "evalue":"NameError: name 'optuna' is not defined",
          "traceback":[
            "\u001b[0;31m---------------------------------------------------------------------------",
            "Traceback (most recent call last)",
            "    at line 1 in <module>",
            "NameError: name 'optuna' is not defined"
          ],
          "output_type":"error"
        }
      ],
      "metadata":{
        
      }
    },
    {
      "cell_type":"markdown",
      "source":[
        "**Auto-regressão**"
      ],
      "metadata":{
        
      }
    },
    {
      "cell_type":"code",
      "source":[
        "ar_df = pd.DataFrame()\n",
        "ar_df['y'] = data_pern_train['PRECO_MEDIO_REVENDA']\n",
        "ar_df['ds'] = data_pern_train.index\n",
        "model = AutoReg(ar_df, lags=1)"
      ],
      "execution_count":29,
      "outputs":[
        {
          "ename":"NameError",
          "evalue":"NameError: name 'AutoReg' is not defined",
          "traceback":[
            "\u001b[0;31m---------------------------------------------------------------------------",
            "Traceback (most recent call last)",
            "    at line 4 in <module>",
            "NameError: name 'AutoReg' is not defined"
          ],
          "output_type":"error"
        }
      ],
      "metadata":{
        
      }
    },
    {
      "cell_type":"code",
      "source":[
        
      ],
      "execution_count":29,
      "outputs":[
        
      ],
      "metadata":{
        
      }
    }
  ],
  "metadata":{
    
  },
  "nbformat":4,
  "nbformat_minor":0
}