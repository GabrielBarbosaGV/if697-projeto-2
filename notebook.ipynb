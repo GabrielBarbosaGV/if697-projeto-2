{
 "cells": [
  {
   "cell_type": "code",
   "execution_count": 1,
   "metadata": {},
   "outputs": [],
   "source": [
    "%matplotlib inline\n",
    "import pandas as pd\n",
    "import statsmodels.api as sm\n",
    "import itertools\n",
    "import matplotlib.pyplot as plt\n",
    "from fbprophet import Prophet\n",
    "import optuna\n",
    "import mlflow\n",
    "from statsmodels.tsa.ar_model import AutoReg"
   ]
  },
  {
   "cell_type": "code",
   "execution_count": 2,
   "metadata": {},
   "outputs": [],
   "source": [
    "data = pd.read_csv('./per_liter_clean.csv')"
   ]
  },
  {
   "cell_type": "code",
   "execution_count": 3,
   "metadata": {},
   "outputs": [
    {
     "data": {
      "text/plain": [
       "Unnamed:_0                         int64\n",
       "DATA_INICIAL                      object\n",
       "DATA_FINAL                        object\n",
       "REGIAO                            object\n",
       "ESTADO                            object\n",
       "PRODUTO                           object\n",
       "NUMERO_DE_POSTOS_PESQUISADOS       int64\n",
       "UNIDADE_DE_MEDIDA                 object\n",
       "PRECO_MEDIO_REVENDA              float64\n",
       "DESVIO_PADRAO_REVENDA            float64\n",
       "PRECO_MINIMO_REVENDA             float64\n",
       "PRECO_MAXIMO_REVENDA             float64\n",
       "MARGEM_MEDIA_REVENDA             float64\n",
       "COEF_DE_VARIACAO_REVENDA         float64\n",
       "PRECO_MEDIO_DISTRIBUICAO         float64\n",
       "DESVIO_PADRAO_DISTRIBUICAO       float64\n",
       "PRECO_MINIMO_DISTRIBUICAO        float64\n",
       "PRECO_MAXIMO_DISTRIBUICAO        float64\n",
       "COEF_DE_VARIACAO_DISTRIBUICAO    float64\n",
       "MES                                int64\n",
       "ANO                                int64\n",
       "dtype: object"
      ]
     },
     "execution_count": 3,
     "metadata": {},
     "output_type": "execute_result"
    }
   ],
   "source": [
    "data.dtypes"
   ]
  },
  {
   "cell_type": "code",
   "execution_count": 4,
   "metadata": {},
   "outputs": [],
   "source": [
    "data['DATA_INICIAL'] = pd.to_datetime(data['DATA_INICIAL'])\n",
    "data['DATA_FINAL'] = pd.to_datetime(data['DATA_FINAL'])"
   ]
  },
  {
   "cell_type": "code",
   "execution_count": 5,
   "metadata": {},
   "outputs": [
    {
     "data": {
      "text/plain": [
       "REGIAO     category\n",
       "ESTADO     category\n",
       "PRODUTO    category\n",
       "dtype: object"
      ]
     },
     "execution_count": 5,
     "metadata": {},
     "output_type": "execute_result"
    }
   ],
   "source": [
    "for colname in ['REGIAO', 'ESTADO', 'PRODUTO']:\n",
    "    data[colname] = data[colname].astype('category')\n",
    "\n",
    "data[['REGIAO', 'ESTADO', 'PRODUTO']].dtypes"
   ]
  },
  {
   "cell_type": "markdown",
   "metadata": {},
   "source": [
    "Os dados lidos apresentam vários estados e produtos, implicando diferentes previsões para cada. Nos atendo aos propósitos deste projeto, preveremos somente para Pernambuco e o produto mais comum."
   ]
  },
  {
   "cell_type": "code",
   "execution_count": 6,
   "metadata": {},
   "outputs": [
    {
     "data": {
      "text/plain": [
       "['DISTRITO FEDERAL', 'GOIAS', 'MATO GROSSO', 'MATO GROSSO DO SUL', 'ALAGOAS', ..., 'SAO PAULO', 'PARANA', 'RIO GRANDE DO SUL', 'SANTA CATARINA', 'PARA']\n",
       "Length: 27\n",
       "Categories (27, object): ['DISTRITO FEDERAL', 'GOIAS', 'MATO GROSSO', 'MATO GROSSO DO SUL', ..., 'PARANA', 'RIO GRANDE DO SUL', 'SANTA CATARINA', 'PARA']"
      ]
     },
     "execution_count": 6,
     "metadata": {},
     "output_type": "execute_result"
    }
   ],
   "source": [
    "data['ESTADO'].unique()"
   ]
  },
  {
   "cell_type": "code",
   "execution_count": 7,
   "metadata": {},
   "outputs": [
    {
     "data": {
      "text/plain": [
       "2645"
      ]
     },
     "execution_count": 7,
     "metadata": {},
     "output_type": "execute_result"
    }
   ],
   "source": [
    "data_pern = data[data['ESTADO'] == 'PERNAMBUCO']\n",
    "len(data_pern)"
   ]
  },
  {
   "cell_type": "code",
   "execution_count": 8,
   "metadata": {},
   "outputs": [
    {
     "name": "stdout",
     "output_type": "stream",
     "text": [
      "Quantidade de ETANOL HIDRATADO: 782\n",
      "Quantidade de GASOLINA COMUM: 749\n",
      "Quantidade de ÓLEO DIESEL: 776\n",
      "Quantidade de ÓLEO DIESEL S10: 338\n"
     ]
    }
   ],
   "source": [
    "for p in data_pern['PRODUTO'].unique():\n",
    "    print(f'Quantidade de {p}: {(data_pern[\"PRODUTO\"] == p).sum()}')"
   ]
  },
  {
   "cell_type": "code",
   "execution_count": 9,
   "metadata": {},
   "outputs": [],
   "source": [
    "data_pern = data_pern[data_pern['PRODUTO'] == 'ETANOL HIDRATADO']"
   ]
  },
  {
   "cell_type": "code",
   "execution_count": 10,
   "metadata": {},
   "outputs": [],
   "source": [
    "data_pern.index = data_pern['DATA_INICIAL']"
   ]
  },
  {
   "cell_type": "markdown",
   "metadata": {},
   "source": [
    "Preveremos o preço médio de revenda, utilizando ARIMA inicialmente"
   ]
  },
  {
   "cell_type": "code",
   "execution_count": 11,
   "metadata": {},
   "outputs": [
    {
     "data": {
      "text/plain": [
       "Timestamp('2019-06-23 00:00:00')"
      ]
     },
     "execution_count": 11,
     "metadata": {},
     "output_type": "execute_result"
    }
   ],
   "source": [
    "data_pern.index.max()"
   ]
  },
  {
   "cell_type": "markdown",
   "metadata": {},
   "source": [
    "Dado que temos informações desde 2004 até o final do primeiro semestre de 2019, podemos dividir os dados em treinamento até o final do primeiro semestre de 2018, validação desse ponto até o final do segundo semestre de 2018, e teste o que resta. Vamos também obter os dados médios por mês, para poder usar 12 como parâmetro de sazonalidade do SARIMAX."
   ]
  },
  {
   "cell_type": "code",
   "execution_count": 12,
   "metadata": {},
   "outputs": [],
   "source": [
    "data_pern = data_pern.resample('m').mean()"
   ]
  },
  {
   "cell_type": "code",
   "execution_count": 13,
   "metadata": {},
   "outputs": [],
   "source": [
    "data_pern_train = data_pern[:'2018-06']\n",
    "data_pern_validation = data_pern['2018-07':'2018-12']\n",
    "data_pern_test = data_pern['2019-01':'2019-06']"
   ]
  },
  {
   "cell_type": "code",
   "execution_count": 14,
   "metadata": {},
   "outputs": [
    {
     "data": {
      "text/plain": [
       "<AxesSubplot:xlabel='DATA_INICIAL'>"
      ]
     },
     "execution_count": 14,
     "metadata": {},
     "output_type": "execute_result"
    },
    {
     "data": {
      "image/png": "[encoded data removed]",
      "text/plain": [
       "<Figure size 432x288 with 1 Axes>"
      ]
     },
     "metadata": {
      "needs_background": "light"
     },
     "output_type": "display_data"
    }
   ],
   "source": [
    "data_pern_train['PRECO_MEDIO_REVENDA'].plot()"
   ]
  },
  {
   "cell_type": "code",
   "execution_count": 15,
   "metadata": {},
   "outputs": [
    {
     "data": {
      "text/plain": [
       "<AxesSubplot:xlabel='DATA_INICIAL'>"
      ]
     },
     "execution_count": 15,
     "metadata": {},
     "output_type": "execute_result"
    },
    {
     "data": {
      "image/png": "[encoded data removed]",
      "text/plain": [
       "<Figure size 432x288 with 1 Axes>"
      ]
     },
     "metadata": {
      "needs_background": "light"
     },
     "output_type": "display_data"
    }
   ],
   "source": [
    "data_pern_validation['PRECO_MEDIO_REVENDA'].plot()"
   ]
  },
  {
   "cell_type": "code",
   "execution_count": 16,
   "metadata": {},
   "outputs": [
    {
     "data": {
      "text/plain": [
       "<AxesSubplot:xlabel='DATA_INICIAL'>"
      ]
     },
     "execution_count": 16,
     "metadata": {},
     "output_type": "execute_result"
    },
    {
     "data": {
      "image/png": "[encoded data removed]",
      "text/plain": [
       "<Figure size 432x288 with 1 Axes>"
      ]
     },
     "metadata": {
      "needs_background": "light"
     },
     "output_type": "display_data"
    }
   ],
   "source": [
    "data_pern_test['PRECO_MEDIO_REVENDA'].plot()"
   ]
  },
  {
   "cell_type": "markdown",
   "metadata": {},
   "source": [
    "Vamos agora realizar uma grid-search para determinar os melhores parâmetros para o algoritmo"
   ]
  },
  {
   "cell_type": "code",
   "execution_count": 17,
   "metadata": {},
   "outputs": [],
   "source": [
    "y = data_pern_train['PRECO_MEDIO_REVENDA']"
   ]
  },
  {
   "cell_type": "code",
   "execution_count": 18,
   "metadata": {},
   "outputs": [],
   "source": [
    "def objective(trial):\n",
    "    p = trial.suggest_int('p', 0, 2)\n",
    "    d = trial.suggest_int('d', 0, 2)\n",
    "    q = trial.suggest_int('q', 0, 2)\n",
    "\n",
    "    ps = trial.suggest_int('ps', 0, 2)\n",
    "    ds = trial.suggest_int('ds', 0, 2)\n",
    "    qs = trial.suggest_int('qs', 0, 0)\n",
    "\n",
    "    mdl = sm.tsa.statespace.SARIMAX(\n",
    "        y,\n",
    "        order=(p, d, q),\n",
    "        seasonal_order=(ps, ds, qs, 12),\n",
    "        enforce_stationarity=False,\n",
    "        enforce_invertibility=False\n",
    "    )\n",
    "\n",
    "    results = mdl.fit()\n",
    "\n",
    "    trial.report(results.aic, 0)\n",
    "\n",
    "    if trial.should_prune():\n",
    "        raise optuna.exceptions.TrialPruned()\n",
    "\n",
    "    return results.aic"
   ]
  },
  {
   "cell_type": "code",
   "execution_count": 19,
   "metadata": {},
   "outputs": [],
   "source": [
    "def print_study_best_trial_params(study):\n",
    "    t = study.best_trial\n",
    "\n",
    "    print(f'Melhor valor: {t.value}')\n",
    "\n",
    "    print(f'Melhores parâmetros:')\n",
    "\n",
    "    for p, v in t.params.items():\n",
    "        print(f'{p}: {v}')"
   ]
  },
  {
   "cell_type": "code",
   "execution_count": 20,
   "metadata": {},
   "outputs": [
    {
     "name": "stderr",
     "output_type": "stream",
     "text": [
      "\u001b[32m[I 2021-04-17 14:21:51,476]\u001b[0m A new study created in memory with name: no-name-b8a6caec-be89-43f7-9bae-93c0a823dc02\u001b[0m\n",
      "\u001b[32m[I 2021-04-17 14:21:51,647]\u001b[0m Trial 0 finished with value: -208.887276596734 and parameters: {'p': 1, 'd': 2, 'q': 0, 'ps': 0, 'ds': 2, 'qs': 0}. Best is trial 0 with value: -208.887276596734.\u001b[0m\n",
      "\u001b[32m[I 2021-04-17 14:21:52,849]\u001b[0m Trial 1 finished with value: -319.6641505513497 and parameters: {'p': 0, 'd': 1, 'q': 2, 'ps': 2, 'ds': 2, 'qs': 0}. Best is trial 1 with value: -319.6641505513497.\u001b[0m\n",
      "\u001b[32m[I 2021-04-17 14:21:53,063]\u001b[0m Trial 2 finished with value: -242.11232805411802 and parameters: {'p': 2, 'd': 1, 'q': 1, 'ps': 0, 'ds': 2, 'qs': 0}. Best is trial 1 with value: -319.6641505513497.\u001b[0m\n",
      "\u001b[32m[I 2021-04-17 14:21:53,303]\u001b[0m Trial 3 finished with value: -450.3160068293978 and parameters: {'p': 1, 'd': 0, 'q': 2, 'ps': 1, 'ds': 1, 'qs': 0}. Best is trial 3 with value: -450.3160068293978.\u001b[0m\n",
      "/home/co/miniconda3/lib/python3.8/site-packages/statsmodels/base/model.py:567: ConvergenceWarning: Maximum Likelihood optimization failed to converge. Check mle_retvals\n",
      "  warn(\"Maximum Likelihood optimization failed to converge. \"\n",
      "\u001b[32m[I 2021-04-17 14:21:54,612]\u001b[0m Trial 4 finished with value: -395.8924509611855 and parameters: {'p': 2, 'd': 2, 'q': 0, 'ps': 2, 'ds': 1, 'qs': 0}. Best is trial 3 with value: -450.3160068293978.\u001b[0m\n",
      "\u001b[32m[I 2021-04-17 14:21:56,400]\u001b[0m Trial 5 finished with value: -418.4629141776684 and parameters: {'p': 1, 'd': 2, 'q': 2, 'ps': 2, 'ds': 1, 'qs': 0}. Best is trial 3 with value: -450.3160068293978.\u001b[0m\n",
      "\u001b[32m[I 2021-04-17 14:21:56,639]\u001b[0m Trial 6 finished with value: -526.0064467919581 and parameters: {'p': 2, 'd': 1, 'q': 1, 'ps': 1, 'ds': 0, 'qs': 0}. Best is trial 6 with value: -526.0064467919581.\u001b[0m\n",
      "\u001b[32m[I 2021-04-17 14:21:56,681]\u001b[0m Trial 7 finished with value: -578.4001282661648 and parameters: {'p': 2, 'd': 0, 'q': 0, 'ps': 0, 'ds': 0, 'qs': 0}. Best is trial 7 with value: -578.4001282661648.\u001b[0m\n",
      "\u001b[32m[I 2021-04-17 14:21:57,521]\u001b[0m Trial 8 pruned. \u001b[0m\n",
      "\u001b[32m[I 2021-04-17 14:21:59,257]\u001b[0m Trial 9 pruned. \u001b[0m\n",
      "\u001b[32m[I 2021-04-17 14:21:59,338]\u001b[0m Trial 10 finished with value: -578.4001282661648 and parameters: {'p': 2, 'd': 0, 'q': 0, 'ps': 0, 'ds': 0, 'qs': 0}. Best is trial 7 with value: -578.4001282661648.\u001b[0m\n",
      "\u001b[32m[I 2021-04-17 14:21:59,427]\u001b[0m Trial 11 finished with value: -578.4001282661648 and parameters: {'p': 2, 'd': 0, 'q': 0, 'ps': 0, 'ds': 0, 'qs': 0}. Best is trial 7 with value: -578.4001282661648.\u001b[0m\n",
      "\u001b[32m[I 2021-04-17 14:21:59,487]\u001b[0m Trial 12 finished with value: -578.4001282661648 and parameters: {'p': 2, 'd': 0, 'q': 0, 'ps': 0, 'ds': 0, 'qs': 0}. Best is trial 7 with value: -578.4001282661648.\u001b[0m\n",
      "\u001b[32m[I 2021-04-17 14:21:59,686]\u001b[0m Trial 13 finished with value: -532.6470597426627 and parameters: {'p': 2, 'd': 0, 'q': 0, 'ps': 1, 'ds': 0, 'qs': 0}. Best is trial 7 with value: -578.4001282661648.\u001b[0m\n",
      "\u001b[32m[I 2021-04-17 14:21:59,743]\u001b[0m Trial 14 finished with value: -578.4001282661648 and parameters: {'p': 2, 'd': 0, 'q': 0, 'ps': 0, 'ds': 0, 'qs': 0}. Best is trial 7 with value: -578.4001282661648.\u001b[0m\n",
      "/home/co/miniconda3/lib/python3.8/site-packages/statsmodels/base/model.py:567: ConvergenceWarning: Maximum Likelihood optimization failed to converge. Check mle_retvals\n",
      "  warn(\"Maximum Likelihood optimization failed to converge. \"\n",
      "\u001b[32m[I 2021-04-17 14:21:59,800]\u001b[0m Trial 15 finished with value: -535.4010974055927 and parameters: {'p': 1, 'd': 0, 'q': 0, 'ps': 0, 'ds': 0, 'qs': 0}. Best is trial 7 with value: -578.4001282661648.\u001b[0m\n",
      "\u001b[32m[I 2021-04-17 14:22:00,185]\u001b[0m Trial 16 pruned. \u001b[0m\n",
      "\u001b[32m[I 2021-04-17 14:22:00,241]\u001b[0m Trial 17 finished with value: -578.4001282661648 and parameters: {'p': 2, 'd': 0, 'q': 0, 'ps': 0, 'ds': 0, 'qs': 0}. Best is trial 7 with value: -578.4001282661648.\u001b[0m\n",
      "\u001b[32m[I 2021-04-17 14:22:00,594]\u001b[0m Trial 18 pruned. \u001b[0m\n",
      "\u001b[32m[I 2021-04-17 14:22:00,654]\u001b[0m Trial 19 finished with value: -567.8266778842002 and parameters: {'p': 0, 'd': 1, 'q': 1, 'ps': 0, 'ds': 0, 'qs': 0}. Best is trial 7 with value: -578.4001282661648.\u001b[0m\n",
      "\u001b[32m[I 2021-04-17 14:22:00,708]\u001b[0m Trial 20 finished with value: -578.4001282661648 and parameters: {'p': 2, 'd': 0, 'q': 0, 'ps': 0, 'ds': 0, 'qs': 0}. Best is trial 7 with value: -578.4001282661648.\u001b[0m\n",
      "\u001b[32m[I 2021-04-17 14:22:00,763]\u001b[0m Trial 21 finished with value: -578.4001282661648 and parameters: {'p': 2, 'd': 0, 'q': 0, 'ps': 0, 'ds': 0, 'qs': 0}. Best is trial 7 with value: -578.4001282661648.\u001b[0m\n",
      "\u001b[32m[I 2021-04-17 14:22:00,820]\u001b[0m Trial 22 finished with value: -578.4001282661648 and parameters: {'p': 2, 'd': 0, 'q': 0, 'ps': 0, 'ds': 0, 'qs': 0}. Best is trial 7 with value: -578.4001282661648.\u001b[0m\n",
      "\u001b[32m[I 2021-04-17 14:22:00,877]\u001b[0m Trial 23 finished with value: -578.4001282661648 and parameters: {'p': 2, 'd': 0, 'q': 0, 'ps': 0, 'ds': 0, 'qs': 0}. Best is trial 7 with value: -578.4001282661648.\u001b[0m\n",
      "\u001b[32m[I 2021-04-17 14:22:00,932]\u001b[0m Trial 24 finished with value: -578.4001282661648 and parameters: {'p': 2, 'd': 0, 'q': 0, 'ps': 0, 'ds': 0, 'qs': 0}. Best is trial 7 with value: -578.4001282661648.\u001b[0m\n",
      "\u001b[32m[I 2021-04-17 14:22:01,152]\u001b[0m Trial 25 pruned. \u001b[0m\n",
      "\u001b[32m[I 2021-04-17 14:22:01,227]\u001b[0m Trial 26 pruned. \u001b[0m\n",
      "\u001b[32m[I 2021-04-17 14:22:01,284]\u001b[0m Trial 27 finished with value: -578.4001282661648 and parameters: {'p': 2, 'd': 0, 'q': 0, 'ps': 0, 'ds': 0, 'qs': 0}. Best is trial 7 with value: -578.4001282661648.\u001b[0m\n",
      "\u001b[32m[I 2021-04-17 14:22:01,503]\u001b[0m Trial 28 pruned. \u001b[0m\n",
      "\u001b[32m[I 2021-04-17 14:22:01,546]\u001b[0m Trial 29 pruned. \u001b[0m\n",
      "\u001b[32m[I 2021-04-17 14:22:01,615]\u001b[0m Trial 30 pruned. \u001b[0m\n",
      "\u001b[32m[I 2021-04-17 14:22:01,664]\u001b[0m Trial 31 finished with value: -578.4001282661648 and parameters: {'p': 2, 'd': 0, 'q': 0, 'ps': 0, 'ds': 0, 'qs': 0}. Best is trial 7 with value: -578.4001282661648.\u001b[0m\n",
      "\u001b[32m[I 2021-04-17 14:22:01,722]\u001b[0m Trial 32 finished with value: -578.4001282661648 and parameters: {'p': 2, 'd': 0, 'q': 0, 'ps': 0, 'ds': 0, 'qs': 0}. Best is trial 7 with value: -578.4001282661648.\u001b[0m\n",
      "\u001b[32m[I 2021-04-17 14:22:01,772]\u001b[0m Trial 33 finished with value: -578.4001282661648 and parameters: {'p': 2, 'd': 0, 'q': 0, 'ps': 0, 'ds': 0, 'qs': 0}. Best is trial 7 with value: -578.4001282661648.\u001b[0m\n",
      "\u001b[32m[I 2021-04-17 14:22:01,823]\u001b[0m Trial 34 finished with value: -578.4001282661648 and parameters: {'p': 2, 'd': 0, 'q': 0, 'ps': 0, 'ds': 0, 'qs': 0}. Best is trial 7 with value: -578.4001282661648.\u001b[0m\n",
      "\u001b[32m[I 2021-04-17 14:22:01,878]\u001b[0m Trial 35 finished with value: -578.4001282661648 and parameters: {'p': 2, 'd': 0, 'q': 0, 'ps': 0, 'ds': 0, 'qs': 0}. Best is trial 7 with value: -578.4001282661648.\u001b[0m\n",
      "/home/co/miniconda3/lib/python3.8/site-packages/statsmodels/base/model.py:567: ConvergenceWarning: Maximum Likelihood optimization failed to converge. Check mle_retvals\n",
      "  warn(\"Maximum Likelihood optimization failed to converge. \"\n",
      "\u001b[32m[I 2021-04-17 14:22:01,986]\u001b[0m Trial 36 pruned. \u001b[0m\n",
      "\u001b[32m[I 2021-04-17 14:22:02,460]\u001b[0m Trial 37 pruned. \u001b[0m\n",
      "\u001b[32m[I 2021-04-17 14:22:02,525]\u001b[0m Trial 38 pruned. \u001b[0m\n",
      "\u001b[32m[I 2021-04-17 14:22:02,645]\u001b[0m Trial 39 finished with value: -580.3521165454284 and parameters: {'p': 2, 'd': 0, 'q': 1, 'ps': 0, 'ds': 0, 'qs': 0}. Best is trial 39 with value: -580.3521165454284.\u001b[0m\n",
      "\u001b[32m[I 2021-04-17 14:22:02,792]\u001b[0m Trial 40 pruned. \u001b[0m\n",
      "\u001b[32m[I 2021-04-17 14:22:02,899]\u001b[0m Trial 41 finished with value: -580.3521165454284 and parameters: {'p': 2, 'd': 0, 'q': 1, 'ps': 0, 'ds': 0, 'qs': 0}. Best is trial 39 with value: -580.3521165454284.\u001b[0m\n",
      "\u001b[32m[I 2021-04-17 14:22:03,007]\u001b[0m Trial 42 finished with value: -580.3521165454284 and parameters: {'p': 2, 'd': 0, 'q': 1, 'ps': 0, 'ds': 0, 'qs': 0}. Best is trial 39 with value: -580.3521165454284.\u001b[0m\n",
      "\u001b[32m[I 2021-04-17 14:22:03,115]\u001b[0m Trial 43 finished with value: -580.3521165454284 and parameters: {'p': 2, 'd': 0, 'q': 1, 'ps': 0, 'ds': 0, 'qs': 0}. Best is trial 39 with value: -580.3521165454284.\u001b[0m\n",
      "\u001b[32m[I 2021-04-17 14:22:03,224]\u001b[0m Trial 44 finished with value: -580.3521165454284 and parameters: {'p': 2, 'd': 0, 'q': 1, 'ps': 0, 'ds': 0, 'qs': 0}. Best is trial 39 with value: -580.3521165454284.\u001b[0m\n"
     ]
    },
    {
     "name": "stderr",
     "output_type": "stream",
     "text": [
      "\u001b[32m[I 2021-04-17 14:22:03,333]\u001b[0m Trial 45 finished with value: -580.3521165454284 and parameters: {'p': 2, 'd': 0, 'q': 1, 'ps': 0, 'ds': 0, 'qs': 0}. Best is trial 39 with value: -580.3521165454284.\u001b[0m\n",
      "\u001b[32m[I 2021-04-17 14:22:03,436]\u001b[0m Trial 46 finished with value: -580.3521165454284 and parameters: {'p': 2, 'd': 0, 'q': 1, 'ps': 0, 'ds': 0, 'qs': 0}. Best is trial 39 with value: -580.3521165454284.\u001b[0m\n",
      "\u001b[32m[I 2021-04-17 14:22:03,542]\u001b[0m Trial 47 finished with value: -580.3521165454284 and parameters: {'p': 2, 'd': 0, 'q': 1, 'ps': 0, 'ds': 0, 'qs': 0}. Best is trial 39 with value: -580.3521165454284.\u001b[0m\n",
      "\u001b[32m[I 2021-04-17 14:22:03,652]\u001b[0m Trial 48 finished with value: -580.3521165454284 and parameters: {'p': 2, 'd': 0, 'q': 1, 'ps': 0, 'ds': 0, 'qs': 0}. Best is trial 39 with value: -580.3521165454284.\u001b[0m\n",
      "\u001b[32m[I 2021-04-17 14:22:03,985]\u001b[0m Trial 49 pruned. \u001b[0m\n",
      "\u001b[32m[I 2021-04-17 14:22:04,235]\u001b[0m Trial 50 pruned. \u001b[0m\n",
      "\u001b[32m[I 2021-04-17 14:22:04,361]\u001b[0m Trial 51 finished with value: -580.3521165454284 and parameters: {'p': 2, 'd': 0, 'q': 1, 'ps': 0, 'ds': 0, 'qs': 0}. Best is trial 39 with value: -580.3521165454284.\u001b[0m\n",
      "\u001b[32m[I 2021-04-17 14:22:04,532]\u001b[0m Trial 52 finished with value: -580.3521165454284 and parameters: {'p': 2, 'd': 0, 'q': 1, 'ps': 0, 'ds': 0, 'qs': 0}. Best is trial 39 with value: -580.3521165454284.\u001b[0m\n",
      "\u001b[32m[I 2021-04-17 14:22:04,705]\u001b[0m Trial 53 finished with value: -580.3521165454284 and parameters: {'p': 2, 'd': 0, 'q': 1, 'ps': 0, 'ds': 0, 'qs': 0}. Best is trial 39 with value: -580.3521165454284.\u001b[0m\n",
      "\u001b[32m[I 2021-04-17 14:22:04,869]\u001b[0m Trial 54 finished with value: -580.3521165454284 and parameters: {'p': 2, 'd': 0, 'q': 1, 'ps': 0, 'ds': 0, 'qs': 0}. Best is trial 39 with value: -580.3521165454284.\u001b[0m\n",
      "\u001b[32m[I 2021-04-17 14:22:05,028]\u001b[0m Trial 55 finished with value: -580.3521165454284 and parameters: {'p': 2, 'd': 0, 'q': 1, 'ps': 0, 'ds': 0, 'qs': 0}. Best is trial 39 with value: -580.3521165454284.\u001b[0m\n",
      "\u001b[32m[I 2021-04-17 14:22:05,350]\u001b[0m Trial 56 pruned. \u001b[0m\n",
      "\u001b[32m[I 2021-04-17 14:22:05,446]\u001b[0m Trial 57 finished with value: -580.3521165454284 and parameters: {'p': 2, 'd': 0, 'q': 1, 'ps': 0, 'ds': 0, 'qs': 0}. Best is trial 39 with value: -580.3521165454284.\u001b[0m\n",
      "\u001b[32m[I 2021-04-17 14:22:05,500]\u001b[0m Trial 58 pruned. \u001b[0m\n",
      "\u001b[32m[I 2021-04-17 14:22:06,000]\u001b[0m Trial 59 pruned. \u001b[0m\n",
      "\u001b[32m[I 2021-04-17 14:22:06,097]\u001b[0m Trial 60 finished with value: -580.3521165454284 and parameters: {'p': 2, 'd': 0, 'q': 1, 'ps': 0, 'ds': 0, 'qs': 0}. Best is trial 39 with value: -580.3521165454284.\u001b[0m\n",
      "\u001b[32m[I 2021-04-17 14:22:06,191]\u001b[0m Trial 61 finished with value: -580.3521165454284 and parameters: {'p': 2, 'd': 0, 'q': 1, 'ps': 0, 'ds': 0, 'qs': 0}. Best is trial 39 with value: -580.3521165454284.\u001b[0m\n",
      "\u001b[32m[I 2021-04-17 14:22:06,285]\u001b[0m Trial 62 finished with value: -580.3521165454284 and parameters: {'p': 2, 'd': 0, 'q': 1, 'ps': 0, 'ds': 0, 'qs': 0}. Best is trial 39 with value: -580.3521165454284.\u001b[0m\n",
      "\u001b[32m[I 2021-04-17 14:22:06,377]\u001b[0m Trial 63 finished with value: -580.3521165454284 and parameters: {'p': 2, 'd': 0, 'q': 1, 'ps': 0, 'ds': 0, 'qs': 0}. Best is trial 39 with value: -580.3521165454284.\u001b[0m\n",
      "\u001b[32m[I 2021-04-17 14:22:06,470]\u001b[0m Trial 64 finished with value: -580.3521165454284 and parameters: {'p': 2, 'd': 0, 'q': 1, 'ps': 0, 'ds': 0, 'qs': 0}. Best is trial 39 with value: -580.3521165454284.\u001b[0m\n",
      "\u001b[32m[I 2021-04-17 14:22:06,593]\u001b[0m Trial 65 finished with value: -580.3521165454284 and parameters: {'p': 2, 'd': 0, 'q': 1, 'ps': 0, 'ds': 0, 'qs': 0}. Best is trial 39 with value: -580.3521165454284.\u001b[0m\n",
      "\u001b[32m[I 2021-04-17 14:22:06,718]\u001b[0m Trial 66 finished with value: -580.3521165454284 and parameters: {'p': 2, 'd': 0, 'q': 1, 'ps': 0, 'ds': 0, 'qs': 0}. Best is trial 39 with value: -580.3521165454284.\u001b[0m\n",
      "\u001b[32m[I 2021-04-17 14:22:06,840]\u001b[0m Trial 67 finished with value: -580.3521165454284 and parameters: {'p': 2, 'd': 0, 'q': 1, 'ps': 0, 'ds': 0, 'qs': 0}. Best is trial 39 with value: -580.3521165454284.\u001b[0m\n",
      "\u001b[32m[I 2021-04-17 14:22:07,111]\u001b[0m Trial 68 pruned. \u001b[0m\n",
      "\u001b[32m[I 2021-04-17 14:22:07,170]\u001b[0m Trial 69 pruned. \u001b[0m\n",
      "\u001b[32m[I 2021-04-17 14:22:07,263]\u001b[0m Trial 70 finished with value: -580.3521165454284 and parameters: {'p': 2, 'd': 0, 'q': 1, 'ps': 0, 'ds': 0, 'qs': 0}. Best is trial 39 with value: -580.3521165454284.\u001b[0m\n",
      "\u001b[32m[I 2021-04-17 14:22:07,357]\u001b[0m Trial 71 finished with value: -580.3521165454284 and parameters: {'p': 2, 'd': 0, 'q': 1, 'ps': 0, 'ds': 0, 'qs': 0}. Best is trial 39 with value: -580.3521165454284.\u001b[0m\n",
      "\u001b[32m[I 2021-04-17 14:22:07,450]\u001b[0m Trial 72 finished with value: -580.3521165454284 and parameters: {'p': 2, 'd': 0, 'q': 1, 'ps': 0, 'ds': 0, 'qs': 0}. Best is trial 39 with value: -580.3521165454284.\u001b[0m\n",
      "\u001b[32m[I 2021-04-17 14:22:07,547]\u001b[0m Trial 73 finished with value: -580.3521165454284 and parameters: {'p': 2, 'd': 0, 'q': 1, 'ps': 0, 'ds': 0, 'qs': 0}. Best is trial 39 with value: -580.3521165454284.\u001b[0m\n",
      "\u001b[32m[I 2021-04-17 14:22:07,641]\u001b[0m Trial 74 finished with value: -580.3521165454284 and parameters: {'p': 2, 'd': 0, 'q': 1, 'ps': 0, 'ds': 0, 'qs': 0}. Best is trial 39 with value: -580.3521165454284.\u001b[0m\n",
      "\u001b[32m[I 2021-04-17 14:22:07,735]\u001b[0m Trial 75 finished with value: -580.3521165454284 and parameters: {'p': 2, 'd': 0, 'q': 1, 'ps': 0, 'ds': 0, 'qs': 0}. Best is trial 39 with value: -580.3521165454284.\u001b[0m\n",
      "\u001b[32m[I 2021-04-17 14:22:07,828]\u001b[0m Trial 76 finished with value: -580.3521165454284 and parameters: {'p': 2, 'd': 0, 'q': 1, 'ps': 0, 'ds': 0, 'qs': 0}. Best is trial 39 with value: -580.3521165454284.\u001b[0m\n",
      "\u001b[32m[I 2021-04-17 14:22:07,917]\u001b[0m Trial 77 pruned. \u001b[0m\n",
      "\u001b[32m[I 2021-04-17 14:22:08,013]\u001b[0m Trial 78 finished with value: -580.3521165454284 and parameters: {'p': 2, 'd': 0, 'q': 1, 'ps': 0, 'ds': 0, 'qs': 0}. Best is trial 39 with value: -580.3521165454284.\u001b[0m\n",
      "\u001b[32m[I 2021-04-17 14:22:08,114]\u001b[0m Trial 79 finished with value: -580.3521165454284 and parameters: {'p': 2, 'd': 0, 'q': 1, 'ps': 0, 'ds': 0, 'qs': 0}. Best is trial 39 with value: -580.3521165454284.\u001b[0m\n",
      "\u001b[32m[I 2021-04-17 14:22:08,207]\u001b[0m Trial 80 finished with value: -580.3521165454284 and parameters: {'p': 2, 'd': 0, 'q': 1, 'ps': 0, 'ds': 0, 'qs': 0}. Best is trial 39 with value: -580.3521165454284.\u001b[0m\n",
      "\u001b[32m[I 2021-04-17 14:22:08,302]\u001b[0m Trial 81 finished with value: -580.3521165454284 and parameters: {'p': 2, 'd': 0, 'q': 1, 'ps': 0, 'ds': 0, 'qs': 0}. Best is trial 39 with value: -580.3521165454284.\u001b[0m\n",
      "\u001b[32m[I 2021-04-17 14:22:08,395]\u001b[0m Trial 82 finished with value: -580.3521165454284 and parameters: {'p': 2, 'd': 0, 'q': 1, 'ps': 0, 'ds': 0, 'qs': 0}. Best is trial 39 with value: -580.3521165454284.\u001b[0m\n",
      "\u001b[32m[I 2021-04-17 14:22:08,488]\u001b[0m Trial 83 finished with value: -580.3521165454284 and parameters: {'p': 2, 'd': 0, 'q': 1, 'ps': 0, 'ds': 0, 'qs': 0}. Best is trial 39 with value: -580.3521165454284.\u001b[0m\n",
      "\u001b[32m[I 2021-04-17 14:22:08,587]\u001b[0m Trial 84 finished with value: -580.3521165454284 and parameters: {'p': 2, 'd': 0, 'q': 1, 'ps': 0, 'ds': 0, 'qs': 0}. Best is trial 39 with value: -580.3521165454284.\u001b[0m\n",
      "\u001b[32m[I 2021-04-17 14:22:08,702]\u001b[0m Trial 85 finished with value: -580.3521165454284 and parameters: {'p': 2, 'd': 0, 'q': 1, 'ps': 0, 'ds': 0, 'qs': 0}. Best is trial 39 with value: -580.3521165454284.\u001b[0m\n",
      "\u001b[32m[I 2021-04-17 14:22:08,803]\u001b[0m Trial 86 finished with value: -580.3521165454284 and parameters: {'p': 2, 'd': 0, 'q': 1, 'ps': 0, 'ds': 0, 'qs': 0}. Best is trial 39 with value: -580.3521165454284.\u001b[0m\n",
      "\u001b[32m[I 2021-04-17 14:22:08,898]\u001b[0m Trial 87 finished with value: -580.3521165454284 and parameters: {'p': 2, 'd': 0, 'q': 1, 'ps': 0, 'ds': 0, 'qs': 0}. Best is trial 39 with value: -580.3521165454284.\u001b[0m\n",
      "\u001b[32m[I 2021-04-17 14:22:09,008]\u001b[0m Trial 88 finished with value: -580.3521165454284 and parameters: {'p': 2, 'd': 0, 'q': 1, 'ps': 0, 'ds': 0, 'qs': 0}. Best is trial 39 with value: -580.3521165454284.\u001b[0m\n",
      "\u001b[32m[I 2021-04-17 14:22:09,126]\u001b[0m Trial 89 finished with value: -580.3521165454284 and parameters: {'p': 2, 'd': 0, 'q': 1, 'ps': 0, 'ds': 0, 'qs': 0}. Best is trial 39 with value: -580.3521165454284.\u001b[0m\n",
      "\u001b[32m[I 2021-04-17 14:22:09,219]\u001b[0m Trial 90 finished with value: -580.3521165454284 and parameters: {'p': 2, 'd': 0, 'q': 1, 'ps': 0, 'ds': 0, 'qs': 0}. Best is trial 39 with value: -580.3521165454284.\u001b[0m\n"
     ]
    },
    {
     "name": "stderr",
     "output_type": "stream",
     "text": [
      "\u001b[32m[I 2021-04-17 14:22:09,313]\u001b[0m Trial 91 finished with value: -580.3521165454284 and parameters: {'p': 2, 'd': 0, 'q': 1, 'ps': 0, 'ds': 0, 'qs': 0}. Best is trial 39 with value: -580.3521165454284.\u001b[0m\n",
      "\u001b[32m[I 2021-04-17 14:22:09,405]\u001b[0m Trial 92 finished with value: -580.3521165454284 and parameters: {'p': 2, 'd': 0, 'q': 1, 'ps': 0, 'ds': 0, 'qs': 0}. Best is trial 39 with value: -580.3521165454284.\u001b[0m\n",
      "\u001b[32m[I 2021-04-17 14:22:09,531]\u001b[0m Trial 93 finished with value: -580.3521165454284 and parameters: {'p': 2, 'd': 0, 'q': 1, 'ps': 0, 'ds': 0, 'qs': 0}. Best is trial 39 with value: -580.3521165454284.\u001b[0m\n",
      "\u001b[32m[I 2021-04-17 14:22:09,690]\u001b[0m Trial 94 finished with value: -580.3521165454284 and parameters: {'p': 2, 'd': 0, 'q': 1, 'ps': 0, 'ds': 0, 'qs': 0}. Best is trial 39 with value: -580.3521165454284.\u001b[0m\n",
      "\u001b[32m[I 2021-04-17 14:22:09,784]\u001b[0m Trial 95 finished with value: -580.3521165454284 and parameters: {'p': 2, 'd': 0, 'q': 1, 'ps': 0, 'ds': 0, 'qs': 0}. Best is trial 39 with value: -580.3521165454284.\u001b[0m\n",
      "\u001b[32m[I 2021-04-17 14:22:09,878]\u001b[0m Trial 96 finished with value: -580.3521165454284 and parameters: {'p': 2, 'd': 0, 'q': 1, 'ps': 0, 'ds': 0, 'qs': 0}. Best is trial 39 with value: -580.3521165454284.\u001b[0m\n",
      "\u001b[32m[I 2021-04-17 14:22:09,975]\u001b[0m Trial 97 finished with value: -580.3521165454284 and parameters: {'p': 2, 'd': 0, 'q': 1, 'ps': 0, 'ds': 0, 'qs': 0}. Best is trial 39 with value: -580.3521165454284.\u001b[0m\n",
      "\u001b[32m[I 2021-04-17 14:22:10,037]\u001b[0m Trial 98 pruned. \u001b[0m\n",
      "\u001b[32m[I 2021-04-17 14:22:10,138]\u001b[0m Trial 99 finished with value: -580.3521165454284 and parameters: {'p': 2, 'd': 0, 'q': 1, 'ps': 0, 'ds': 0, 'qs': 0}. Best is trial 39 with value: -580.3521165454284.\u001b[0m\n",
      "\u001b[32m[I 2021-04-17 14:22:10,332]\u001b[0m Trial 100 pruned. \u001b[0m\n",
      "\u001b[32m[I 2021-04-17 14:22:10,427]\u001b[0m Trial 101 finished with value: -580.3521165454284 and parameters: {'p': 2, 'd': 0, 'q': 1, 'ps': 0, 'ds': 0, 'qs': 0}. Best is trial 39 with value: -580.3521165454284.\u001b[0m\n",
      "\u001b[32m[I 2021-04-17 14:22:10,523]\u001b[0m Trial 102 finished with value: -580.3521165454284 and parameters: {'p': 2, 'd': 0, 'q': 1, 'ps': 0, 'ds': 0, 'qs': 0}. Best is trial 39 with value: -580.3521165454284.\u001b[0m\n",
      "\u001b[32m[I 2021-04-17 14:22:10,618]\u001b[0m Trial 103 finished with value: -580.3521165454284 and parameters: {'p': 2, 'd': 0, 'q': 1, 'ps': 0, 'ds': 0, 'qs': 0}. Best is trial 39 with value: -580.3521165454284.\u001b[0m\n",
      "\u001b[32m[I 2021-04-17 14:22:10,712]\u001b[0m Trial 104 finished with value: -580.3521165454284 and parameters: {'p': 2, 'd': 0, 'q': 1, 'ps': 0, 'ds': 0, 'qs': 0}. Best is trial 39 with value: -580.3521165454284.\u001b[0m\n",
      "\u001b[32m[I 2021-04-17 14:22:10,819]\u001b[0m Trial 105 finished with value: -580.3521165454284 and parameters: {'p': 2, 'd': 0, 'q': 1, 'ps': 0, 'ds': 0, 'qs': 0}. Best is trial 39 with value: -580.3521165454284.\u001b[0m\n",
      "\u001b[32m[I 2021-04-17 14:22:10,942]\u001b[0m Trial 106 finished with value: -580.3521165454284 and parameters: {'p': 2, 'd': 0, 'q': 1, 'ps': 0, 'ds': 0, 'qs': 0}. Best is trial 39 with value: -580.3521165454284.\u001b[0m\n",
      "\u001b[32m[I 2021-04-17 14:22:11,494]\u001b[0m Trial 107 pruned. \u001b[0m\n",
      "\u001b[32m[I 2021-04-17 14:22:11,593]\u001b[0m Trial 108 finished with value: -580.3521165454284 and parameters: {'p': 2, 'd': 0, 'q': 1, 'ps': 0, 'ds': 0, 'qs': 0}. Best is trial 39 with value: -580.3521165454284.\u001b[0m\n",
      "\u001b[32m[I 2021-04-17 14:22:11,688]\u001b[0m Trial 109 finished with value: -580.3521165454284 and parameters: {'p': 2, 'd': 0, 'q': 1, 'ps': 0, 'ds': 0, 'qs': 0}. Best is trial 39 with value: -580.3521165454284.\u001b[0m\n",
      "\u001b[32m[I 2021-04-17 14:22:11,783]\u001b[0m Trial 110 finished with value: -580.3521165454284 and parameters: {'p': 2, 'd': 0, 'q': 1, 'ps': 0, 'ds': 0, 'qs': 0}. Best is trial 39 with value: -580.3521165454284.\u001b[0m\n",
      "\u001b[32m[I 2021-04-17 14:22:11,878]\u001b[0m Trial 111 finished with value: -580.3521165454284 and parameters: {'p': 2, 'd': 0, 'q': 1, 'ps': 0, 'ds': 0, 'qs': 0}. Best is trial 39 with value: -580.3521165454284.\u001b[0m\n",
      "\u001b[32m[I 2021-04-17 14:22:11,973]\u001b[0m Trial 112 finished with value: -580.3521165454284 and parameters: {'p': 2, 'd': 0, 'q': 1, 'ps': 0, 'ds': 0, 'qs': 0}. Best is trial 39 with value: -580.3521165454284.\u001b[0m\n",
      "\u001b[32m[I 2021-04-17 14:22:12,071]\u001b[0m Trial 113 finished with value: -580.3521165454284 and parameters: {'p': 2, 'd': 0, 'q': 1, 'ps': 0, 'ds': 0, 'qs': 0}. Best is trial 39 with value: -580.3521165454284.\u001b[0m\n",
      "\u001b[32m[I 2021-04-17 14:22:12,167]\u001b[0m Trial 114 finished with value: -580.3521165454284 and parameters: {'p': 2, 'd': 0, 'q': 1, 'ps': 0, 'ds': 0, 'qs': 0}. Best is trial 39 with value: -580.3521165454284.\u001b[0m\n",
      "\u001b[32m[I 2021-04-17 14:22:12,262]\u001b[0m Trial 115 finished with value: -580.3521165454284 and parameters: {'p': 2, 'd': 0, 'q': 1, 'ps': 0, 'ds': 0, 'qs': 0}. Best is trial 39 with value: -580.3521165454284.\u001b[0m\n",
      "\u001b[32m[I 2021-04-17 14:22:12,357]\u001b[0m Trial 116 finished with value: -580.3521165454284 and parameters: {'p': 2, 'd': 0, 'q': 1, 'ps': 0, 'ds': 0, 'qs': 0}. Best is trial 39 with value: -580.3521165454284.\u001b[0m\n",
      "\u001b[32m[I 2021-04-17 14:22:12,453]\u001b[0m Trial 117 finished with value: -580.3521165454284 and parameters: {'p': 2, 'd': 0, 'q': 1, 'ps': 0, 'ds': 0, 'qs': 0}. Best is trial 39 with value: -580.3521165454284.\u001b[0m\n",
      "\u001b[32m[I 2021-04-17 14:22:12,553]\u001b[0m Trial 118 finished with value: -580.3521165454284 and parameters: {'p': 2, 'd': 0, 'q': 1, 'ps': 0, 'ds': 0, 'qs': 0}. Best is trial 39 with value: -580.3521165454284.\u001b[0m\n",
      "\u001b[32m[I 2021-04-17 14:22:12,650]\u001b[0m Trial 119 finished with value: -580.3521165454284 and parameters: {'p': 2, 'd': 0, 'q': 1, 'ps': 0, 'ds': 0, 'qs': 0}. Best is trial 39 with value: -580.3521165454284.\u001b[0m\n",
      "\u001b[32m[I 2021-04-17 14:22:12,746]\u001b[0m Trial 120 finished with value: -580.3521165454284 and parameters: {'p': 2, 'd': 0, 'q': 1, 'ps': 0, 'ds': 0, 'qs': 0}. Best is trial 39 with value: -580.3521165454284.\u001b[0m\n",
      "\u001b[32m[I 2021-04-17 14:22:12,847]\u001b[0m Trial 121 finished with value: -580.3521165454284 and parameters: {'p': 2, 'd': 0, 'q': 1, 'ps': 0, 'ds': 0, 'qs': 0}. Best is trial 39 with value: -580.3521165454284.\u001b[0m\n",
      "\u001b[32m[I 2021-04-17 14:22:12,942]\u001b[0m Trial 122 finished with value: -580.3521165454284 and parameters: {'p': 2, 'd': 0, 'q': 1, 'ps': 0, 'ds': 0, 'qs': 0}. Best is trial 39 with value: -580.3521165454284.\u001b[0m\n",
      "\u001b[32m[I 2021-04-17 14:22:13,042]\u001b[0m Trial 123 finished with value: -580.3521165454284 and parameters: {'p': 2, 'd': 0, 'q': 1, 'ps': 0, 'ds': 0, 'qs': 0}. Best is trial 39 with value: -580.3521165454284.\u001b[0m\n",
      "\u001b[32m[I 2021-04-17 14:22:13,138]\u001b[0m Trial 124 finished with value: -580.3521165454284 and parameters: {'p': 2, 'd': 0, 'q': 1, 'ps': 0, 'ds': 0, 'qs': 0}. Best is trial 39 with value: -580.3521165454284.\u001b[0m\n",
      "\u001b[32m[I 2021-04-17 14:22:13,234]\u001b[0m Trial 125 finished with value: -580.3521165454284 and parameters: {'p': 2, 'd': 0, 'q': 1, 'ps': 0, 'ds': 0, 'qs': 0}. Best is trial 39 with value: -580.3521165454284.\u001b[0m\n",
      "\u001b[32m[I 2021-04-17 14:22:13,330]\u001b[0m Trial 126 finished with value: -580.3521165454284 and parameters: {'p': 2, 'd': 0, 'q': 1, 'ps': 0, 'ds': 0, 'qs': 0}. Best is trial 39 with value: -580.3521165454284.\u001b[0m\n",
      "\u001b[32m[I 2021-04-17 14:22:13,432]\u001b[0m Trial 127 finished with value: -580.3521165454284 and parameters: {'p': 2, 'd': 0, 'q': 1, 'ps': 0, 'ds': 0, 'qs': 0}. Best is trial 39 with value: -580.3521165454284.\u001b[0m\n",
      "\u001b[32m[I 2021-04-17 14:22:13,655]\u001b[0m Trial 128 pruned. \u001b[0m\n",
      "\u001b[32m[I 2021-04-17 14:22:13,779]\u001b[0m Trial 129 finished with value: -580.3521165454284 and parameters: {'p': 2, 'd': 0, 'q': 1, 'ps': 0, 'ds': 0, 'qs': 0}. Best is trial 39 with value: -580.3521165454284.\u001b[0m\n",
      "\u001b[32m[I 2021-04-17 14:22:13,956]\u001b[0m Trial 130 pruned. \u001b[0m\n",
      "\u001b[32m[I 2021-04-17 14:22:14,054]\u001b[0m Trial 131 finished with value: -580.3521165454284 and parameters: {'p': 2, 'd': 0, 'q': 1, 'ps': 0, 'ds': 0, 'qs': 0}. Best is trial 39 with value: -580.3521165454284.\u001b[0m\n",
      "\u001b[32m[I 2021-04-17 14:22:14,203]\u001b[0m Trial 132 finished with value: -580.3521165454284 and parameters: {'p': 2, 'd': 0, 'q': 1, 'ps': 0, 'ds': 0, 'qs': 0}. Best is trial 39 with value: -580.3521165454284.\u001b[0m\n",
      "\u001b[32m[I 2021-04-17 14:22:14,298]\u001b[0m Trial 133 finished with value: -580.3521165454284 and parameters: {'p': 2, 'd': 0, 'q': 1, 'ps': 0, 'ds': 0, 'qs': 0}. Best is trial 39 with value: -580.3521165454284.\u001b[0m\n"
     ]
    },
    {
     "name": "stderr",
     "output_type": "stream",
     "text": [
      "\u001b[32m[I 2021-04-17 14:22:14,392]\u001b[0m Trial 134 finished with value: -580.3521165454284 and parameters: {'p': 2, 'd': 0, 'q': 1, 'ps': 0, 'ds': 0, 'qs': 0}. Best is trial 39 with value: -580.3521165454284.\u001b[0m\n",
      "\u001b[32m[I 2021-04-17 14:22:14,486]\u001b[0m Trial 135 finished with value: -580.3521165454284 and parameters: {'p': 2, 'd': 0, 'q': 1, 'ps': 0, 'ds': 0, 'qs': 0}. Best is trial 39 with value: -580.3521165454284.\u001b[0m\n",
      "\u001b[32m[I 2021-04-17 14:22:14,581]\u001b[0m Trial 136 finished with value: -580.3521165454284 and parameters: {'p': 2, 'd': 0, 'q': 1, 'ps': 0, 'ds': 0, 'qs': 0}. Best is trial 39 with value: -580.3521165454284.\u001b[0m\n",
      "\u001b[32m[I 2021-04-17 14:22:14,675]\u001b[0m Trial 137 finished with value: -580.3521165454284 and parameters: {'p': 2, 'd': 0, 'q': 1, 'ps': 0, 'ds': 0, 'qs': 0}. Best is trial 39 with value: -580.3521165454284.\u001b[0m\n",
      "\u001b[32m[I 2021-04-17 14:22:14,769]\u001b[0m Trial 138 finished with value: -580.3521165454284 and parameters: {'p': 2, 'd': 0, 'q': 1, 'ps': 0, 'ds': 0, 'qs': 0}. Best is trial 39 with value: -580.3521165454284.\u001b[0m\n",
      "\u001b[32m[I 2021-04-17 14:22:14,863]\u001b[0m Trial 139 finished with value: -580.3521165454284 and parameters: {'p': 2, 'd': 0, 'q': 1, 'ps': 0, 'ds': 0, 'qs': 0}. Best is trial 39 with value: -580.3521165454284.\u001b[0m\n",
      "\u001b[32m[I 2021-04-17 14:22:14,958]\u001b[0m Trial 140 finished with value: -580.3521165454284 and parameters: {'p': 2, 'd': 0, 'q': 1, 'ps': 0, 'ds': 0, 'qs': 0}. Best is trial 39 with value: -580.3521165454284.\u001b[0m\n",
      "\u001b[32m[I 2021-04-17 14:22:15,054]\u001b[0m Trial 141 finished with value: -580.3521165454284 and parameters: {'p': 2, 'd': 0, 'q': 1, 'ps': 0, 'ds': 0, 'qs': 0}. Best is trial 39 with value: -580.3521165454284.\u001b[0m\n",
      "\u001b[32m[I 2021-04-17 14:22:15,152]\u001b[0m Trial 142 finished with value: -580.3521165454284 and parameters: {'p': 2, 'd': 0, 'q': 1, 'ps': 0, 'ds': 0, 'qs': 0}. Best is trial 39 with value: -580.3521165454284.\u001b[0m\n",
      "\u001b[32m[I 2021-04-17 14:22:15,248]\u001b[0m Trial 143 finished with value: -580.3521165454284 and parameters: {'p': 2, 'd': 0, 'q': 1, 'ps': 0, 'ds': 0, 'qs': 0}. Best is trial 39 with value: -580.3521165454284.\u001b[0m\n",
      "\u001b[32m[I 2021-04-17 14:22:15,343]\u001b[0m Trial 144 finished with value: -580.3521165454284 and parameters: {'p': 2, 'd': 0, 'q': 1, 'ps': 0, 'ds': 0, 'qs': 0}. Best is trial 39 with value: -580.3521165454284.\u001b[0m\n",
      "\u001b[32m[I 2021-04-17 14:22:15,440]\u001b[0m Trial 145 finished with value: -580.3521165454284 and parameters: {'p': 2, 'd': 0, 'q': 1, 'ps': 0, 'ds': 0, 'qs': 0}. Best is trial 39 with value: -580.3521165454284.\u001b[0m\n",
      "\u001b[32m[I 2021-04-17 14:22:15,536]\u001b[0m Trial 146 finished with value: -580.3521165454284 and parameters: {'p': 2, 'd': 0, 'q': 1, 'ps': 0, 'ds': 0, 'qs': 0}. Best is trial 39 with value: -580.3521165454284.\u001b[0m\n",
      "\u001b[32m[I 2021-04-17 14:22:15,633]\u001b[0m Trial 147 finished with value: -580.3521165454284 and parameters: {'p': 2, 'd': 0, 'q': 1, 'ps': 0, 'ds': 0, 'qs': 0}. Best is trial 39 with value: -580.3521165454284.\u001b[0m\n",
      "\u001b[32m[I 2021-04-17 14:22:15,740]\u001b[0m Trial 148 finished with value: -580.3521165454284 and parameters: {'p': 2, 'd': 0, 'q': 1, 'ps': 0, 'ds': 0, 'qs': 0}. Best is trial 39 with value: -580.3521165454284.\u001b[0m\n",
      "\u001b[32m[I 2021-04-17 14:22:15,837]\u001b[0m Trial 149 finished with value: -580.3521165454284 and parameters: {'p': 2, 'd': 0, 'q': 1, 'ps': 0, 'ds': 0, 'qs': 0}. Best is trial 39 with value: -580.3521165454284.\u001b[0m\n",
      "\u001b[32m[I 2021-04-17 14:22:15,932]\u001b[0m Trial 150 finished with value: -580.3521165454284 and parameters: {'p': 2, 'd': 0, 'q': 1, 'ps': 0, 'ds': 0, 'qs': 0}. Best is trial 39 with value: -580.3521165454284.\u001b[0m\n",
      "\u001b[32m[I 2021-04-17 14:22:16,026]\u001b[0m Trial 151 finished with value: -580.3521165454284 and parameters: {'p': 2, 'd': 0, 'q': 1, 'ps': 0, 'ds': 0, 'qs': 0}. Best is trial 39 with value: -580.3521165454284.\u001b[0m\n",
      "\u001b[32m[I 2021-04-17 14:22:16,123]\u001b[0m Trial 152 finished with value: -580.3521165454284 and parameters: {'p': 2, 'd': 0, 'q': 1, 'ps': 0, 'ds': 0, 'qs': 0}. Best is trial 39 with value: -580.3521165454284.\u001b[0m\n",
      "\u001b[32m[I 2021-04-17 14:22:16,220]\u001b[0m Trial 153 finished with value: -580.3521165454284 and parameters: {'p': 2, 'd': 0, 'q': 1, 'ps': 0, 'ds': 0, 'qs': 0}. Best is trial 39 with value: -580.3521165454284.\u001b[0m\n",
      "\u001b[32m[I 2021-04-17 14:22:16,318]\u001b[0m Trial 154 finished with value: -580.3521165454284 and parameters: {'p': 2, 'd': 0, 'q': 1, 'ps': 0, 'ds': 0, 'qs': 0}. Best is trial 39 with value: -580.3521165454284.\u001b[0m\n",
      "\u001b[32m[I 2021-04-17 14:22:16,455]\u001b[0m Trial 155 finished with value: -580.3521165454284 and parameters: {'p': 2, 'd': 0, 'q': 1, 'ps': 0, 'ds': 0, 'qs': 0}. Best is trial 39 with value: -580.3521165454284.\u001b[0m\n",
      "\u001b[32m[I 2021-04-17 14:22:16,565]\u001b[0m Trial 156 finished with value: -580.3521165454284 and parameters: {'p': 2, 'd': 0, 'q': 1, 'ps': 0, 'ds': 0, 'qs': 0}. Best is trial 39 with value: -580.3521165454284.\u001b[0m\n",
      "\u001b[32m[I 2021-04-17 14:22:16,671]\u001b[0m Trial 157 finished with value: -580.3521165454284 and parameters: {'p': 2, 'd': 0, 'q': 1, 'ps': 0, 'ds': 0, 'qs': 0}. Best is trial 39 with value: -580.3521165454284.\u001b[0m\n",
      "\u001b[32m[I 2021-04-17 14:22:16,819]\u001b[0m Trial 158 finished with value: -580.3521165454284 and parameters: {'p': 2, 'd': 0, 'q': 1, 'ps': 0, 'ds': 0, 'qs': 0}. Best is trial 39 with value: -580.3521165454284.\u001b[0m\n",
      "\u001b[32m[I 2021-04-17 14:22:17,000]\u001b[0m Trial 159 finished with value: -580.3521165454284 and parameters: {'p': 2, 'd': 0, 'q': 1, 'ps': 0, 'ds': 0, 'qs': 0}. Best is trial 39 with value: -580.3521165454284.\u001b[0m\n",
      "\u001b[32m[I 2021-04-17 14:22:17,165]\u001b[0m Trial 160 finished with value: -580.3521165454284 and parameters: {'p': 2, 'd': 0, 'q': 1, 'ps': 0, 'ds': 0, 'qs': 0}. Best is trial 39 with value: -580.3521165454284.\u001b[0m\n",
      "\u001b[32m[I 2021-04-17 14:22:17,336]\u001b[0m Trial 161 finished with value: -580.3521165454284 and parameters: {'p': 2, 'd': 0, 'q': 1, 'ps': 0, 'ds': 0, 'qs': 0}. Best is trial 39 with value: -580.3521165454284.\u001b[0m\n",
      "\u001b[32m[I 2021-04-17 14:22:17,500]\u001b[0m Trial 162 finished with value: -580.3521165454284 and parameters: {'p': 2, 'd': 0, 'q': 1, 'ps': 0, 'ds': 0, 'qs': 0}. Best is trial 39 with value: -580.3521165454284.\u001b[0m\n",
      "\u001b[32m[I 2021-04-17 14:22:17,661]\u001b[0m Trial 163 finished with value: -580.3521165454284 and parameters: {'p': 2, 'd': 0, 'q': 1, 'ps': 0, 'ds': 0, 'qs': 0}. Best is trial 39 with value: -580.3521165454284.\u001b[0m\n",
      "\u001b[32m[I 2021-04-17 14:22:17,807]\u001b[0m Trial 164 finished with value: -580.3521165454284 and parameters: {'p': 2, 'd': 0, 'q': 1, 'ps': 0, 'ds': 0, 'qs': 0}. Best is trial 39 with value: -580.3521165454284.\u001b[0m\n",
      "\u001b[32m[I 2021-04-17 14:22:17,965]\u001b[0m Trial 165 finished with value: -580.3521165454284 and parameters: {'p': 2, 'd': 0, 'q': 1, 'ps': 0, 'ds': 0, 'qs': 0}. Best is trial 39 with value: -580.3521165454284.\u001b[0m\n",
      "\u001b[32m[I 2021-04-17 14:22:18,097]\u001b[0m Trial 166 finished with value: -580.3521165454284 and parameters: {'p': 2, 'd': 0, 'q': 1, 'ps': 0, 'ds': 0, 'qs': 0}. Best is trial 39 with value: -580.3521165454284.\u001b[0m\n",
      "\u001b[32m[I 2021-04-17 14:22:18,213]\u001b[0m Trial 167 finished with value: -580.3521165454284 and parameters: {'p': 2, 'd': 0, 'q': 1, 'ps': 0, 'ds': 0, 'qs': 0}. Best is trial 39 with value: -580.3521165454284.\u001b[0m\n",
      "\u001b[32m[I 2021-04-17 14:22:18,336]\u001b[0m Trial 168 finished with value: -580.3521165454284 and parameters: {'p': 2, 'd': 0, 'q': 1, 'ps': 0, 'ds': 0, 'qs': 0}. Best is trial 39 with value: -580.3521165454284.\u001b[0m\n",
      "\u001b[32m[I 2021-04-17 14:22:18,434]\u001b[0m Trial 169 finished with value: -580.3521165454284 and parameters: {'p': 2, 'd': 0, 'q': 1, 'ps': 0, 'ds': 0, 'qs': 0}. Best is trial 39 with value: -580.3521165454284.\u001b[0m\n",
      "\u001b[32m[I 2021-04-17 14:22:18,528]\u001b[0m Trial 170 finished with value: -580.3521165454284 and parameters: {'p': 2, 'd': 0, 'q': 1, 'ps': 0, 'ds': 0, 'qs': 0}. Best is trial 39 with value: -580.3521165454284.\u001b[0m\n",
      "\u001b[32m[I 2021-04-17 14:22:18,624]\u001b[0m Trial 171 finished with value: -580.3521165454284 and parameters: {'p': 2, 'd': 0, 'q': 1, 'ps': 0, 'ds': 0, 'qs': 0}. Best is trial 39 with value: -580.3521165454284.\u001b[0m\n",
      "\u001b[32m[I 2021-04-17 14:22:18,720]\u001b[0m Trial 172 finished with value: -580.3521165454284 and parameters: {'p': 2, 'd': 0, 'q': 1, 'ps': 0, 'ds': 0, 'qs': 0}. Best is trial 39 with value: -580.3521165454284.\u001b[0m\n",
      "\u001b[32m[I 2021-04-17 14:22:18,815]\u001b[0m Trial 173 finished with value: -580.3521165454284 and parameters: {'p': 2, 'd': 0, 'q': 1, 'ps': 0, 'ds': 0, 'qs': 0}. Best is trial 39 with value: -580.3521165454284.\u001b[0m\n"
     ]
    },
    {
     "name": "stderr",
     "output_type": "stream",
     "text": [
      "\u001b[32m[I 2021-04-17 14:22:18,913]\u001b[0m Trial 174 finished with value: -580.3521165454284 and parameters: {'p': 2, 'd': 0, 'q': 1, 'ps': 0, 'ds': 0, 'qs': 0}. Best is trial 39 with value: -580.3521165454284.\u001b[0m\n",
      "\u001b[32m[I 2021-04-17 14:22:19,042]\u001b[0m Trial 175 finished with value: -580.3521165454284 and parameters: {'p': 2, 'd': 0, 'q': 1, 'ps': 0, 'ds': 0, 'qs': 0}. Best is trial 39 with value: -580.3521165454284.\u001b[0m\n",
      "\u001b[32m[I 2021-04-17 14:22:19,159]\u001b[0m Trial 176 finished with value: -580.3521165454284 and parameters: {'p': 2, 'd': 0, 'q': 1, 'ps': 0, 'ds': 0, 'qs': 0}. Best is trial 39 with value: -580.3521165454284.\u001b[0m\n",
      "\u001b[32m[I 2021-04-17 14:22:19,271]\u001b[0m Trial 177 finished with value: -580.3521165454284 and parameters: {'p': 2, 'd': 0, 'q': 1, 'ps': 0, 'ds': 0, 'qs': 0}. Best is trial 39 with value: -580.3521165454284.\u001b[0m\n",
      "\u001b[32m[I 2021-04-17 14:22:19,378]\u001b[0m Trial 178 finished with value: -580.3521165454284 and parameters: {'p': 2, 'd': 0, 'q': 1, 'ps': 0, 'ds': 0, 'qs': 0}. Best is trial 39 with value: -580.3521165454284.\u001b[0m\n",
      "\u001b[32m[I 2021-04-17 14:22:19,474]\u001b[0m Trial 179 finished with value: -580.3521165454284 and parameters: {'p': 2, 'd': 0, 'q': 1, 'ps': 0, 'ds': 0, 'qs': 0}. Best is trial 39 with value: -580.3521165454284.\u001b[0m\n",
      "\u001b[32m[I 2021-04-17 14:22:19,590]\u001b[0m Trial 180 finished with value: -580.3521165454284 and parameters: {'p': 2, 'd': 0, 'q': 1, 'ps': 0, 'ds': 0, 'qs': 0}. Best is trial 39 with value: -580.3521165454284.\u001b[0m\n",
      "\u001b[32m[I 2021-04-17 14:22:19,688]\u001b[0m Trial 181 finished with value: -580.3521165454284 and parameters: {'p': 2, 'd': 0, 'q': 1, 'ps': 0, 'ds': 0, 'qs': 0}. Best is trial 39 with value: -580.3521165454284.\u001b[0m\n",
      "\u001b[32m[I 2021-04-17 14:22:19,788]\u001b[0m Trial 182 finished with value: -580.3521165454284 and parameters: {'p': 2, 'd': 0, 'q': 1, 'ps': 0, 'ds': 0, 'qs': 0}. Best is trial 39 with value: -580.3521165454284.\u001b[0m\n",
      "\u001b[32m[I 2021-04-17 14:22:19,892]\u001b[0m Trial 183 finished with value: -580.3521165454284 and parameters: {'p': 2, 'd': 0, 'q': 1, 'ps': 0, 'ds': 0, 'qs': 0}. Best is trial 39 with value: -580.3521165454284.\u001b[0m\n",
      "\u001b[32m[I 2021-04-17 14:22:19,988]\u001b[0m Trial 184 finished with value: -580.3521165454284 and parameters: {'p': 2, 'd': 0, 'q': 1, 'ps': 0, 'ds': 0, 'qs': 0}. Best is trial 39 with value: -580.3521165454284.\u001b[0m\n",
      "\u001b[32m[I 2021-04-17 14:22:20,091]\u001b[0m Trial 185 finished with value: -580.3521165454284 and parameters: {'p': 2, 'd': 0, 'q': 1, 'ps': 0, 'ds': 0, 'qs': 0}. Best is trial 39 with value: -580.3521165454284.\u001b[0m\n",
      "\u001b[32m[I 2021-04-17 14:22:20,370]\u001b[0m Trial 186 pruned. \u001b[0m\n",
      "\u001b[32m[I 2021-04-17 14:22:20,466]\u001b[0m Trial 187 finished with value: -580.3521165454284 and parameters: {'p': 2, 'd': 0, 'q': 1, 'ps': 0, 'ds': 0, 'qs': 0}. Best is trial 39 with value: -580.3521165454284.\u001b[0m\n",
      "\u001b[32m[I 2021-04-17 14:22:20,569]\u001b[0m Trial 188 finished with value: -580.3521165454284 and parameters: {'p': 2, 'd': 0, 'q': 1, 'ps': 0, 'ds': 0, 'qs': 0}. Best is trial 39 with value: -580.3521165454284.\u001b[0m\n",
      "\u001b[32m[I 2021-04-17 14:22:20,664]\u001b[0m Trial 189 finished with value: -580.3521165454284 and parameters: {'p': 2, 'd': 0, 'q': 1, 'ps': 0, 'ds': 0, 'qs': 0}. Best is trial 39 with value: -580.3521165454284.\u001b[0m\n",
      "\u001b[32m[I 2021-04-17 14:22:20,755]\u001b[0m Trial 190 pruned. \u001b[0m\n",
      "\u001b[32m[I 2021-04-17 14:22:20,855]\u001b[0m Trial 191 finished with value: -580.3521165454284 and parameters: {'p': 2, 'd': 0, 'q': 1, 'ps': 0, 'ds': 0, 'qs': 0}. Best is trial 39 with value: -580.3521165454284.\u001b[0m\n",
      "\u001b[32m[I 2021-04-17 14:22:20,956]\u001b[0m Trial 192 finished with value: -580.3521165454284 and parameters: {'p': 2, 'd': 0, 'q': 1, 'ps': 0, 'ds': 0, 'qs': 0}. Best is trial 39 with value: -580.3521165454284.\u001b[0m\n",
      "\u001b[32m[I 2021-04-17 14:22:21,058]\u001b[0m Trial 193 finished with value: -580.3521165454284 and parameters: {'p': 2, 'd': 0, 'q': 1, 'ps': 0, 'ds': 0, 'qs': 0}. Best is trial 39 with value: -580.3521165454284.\u001b[0m\n",
      "\u001b[32m[I 2021-04-17 14:22:21,156]\u001b[0m Trial 194 finished with value: -580.3521165454284 and parameters: {'p': 2, 'd': 0, 'q': 1, 'ps': 0, 'ds': 0, 'qs': 0}. Best is trial 39 with value: -580.3521165454284.\u001b[0m\n",
      "\u001b[32m[I 2021-04-17 14:22:21,256]\u001b[0m Trial 195 finished with value: -580.3521165454284 and parameters: {'p': 2, 'd': 0, 'q': 1, 'ps': 0, 'ds': 0, 'qs': 0}. Best is trial 39 with value: -580.3521165454284.\u001b[0m\n",
      "\u001b[32m[I 2021-04-17 14:22:21,360]\u001b[0m Trial 196 finished with value: -580.3521165454284 and parameters: {'p': 2, 'd': 0, 'q': 1, 'ps': 0, 'ds': 0, 'qs': 0}. Best is trial 39 with value: -580.3521165454284.\u001b[0m\n",
      "\u001b[32m[I 2021-04-17 14:22:21,461]\u001b[0m Trial 197 finished with value: -580.3521165454284 and parameters: {'p': 2, 'd': 0, 'q': 1, 'ps': 0, 'ds': 0, 'qs': 0}. Best is trial 39 with value: -580.3521165454284.\u001b[0m\n",
      "\u001b[32m[I 2021-04-17 14:22:21,569]\u001b[0m Trial 198 finished with value: -580.3521165454284 and parameters: {'p': 2, 'd': 0, 'q': 1, 'ps': 0, 'ds': 0, 'qs': 0}. Best is trial 39 with value: -580.3521165454284.\u001b[0m\n",
      "\u001b[32m[I 2021-04-17 14:22:21,680]\u001b[0m Trial 199 finished with value: -580.3521165454284 and parameters: {'p': 2, 'd': 0, 'q': 1, 'ps': 0, 'ds': 0, 'qs': 0}. Best is trial 39 with value: -580.3521165454284.\u001b[0m\n",
      "\u001b[32m[I 2021-04-17 14:22:21,777]\u001b[0m Trial 200 finished with value: -580.3521165454284 and parameters: {'p': 2, 'd': 0, 'q': 1, 'ps': 0, 'ds': 0, 'qs': 0}. Best is trial 39 with value: -580.3521165454284.\u001b[0m\n",
      "\u001b[32m[I 2021-04-17 14:22:21,872]\u001b[0m Trial 201 finished with value: -580.3521165454284 and parameters: {'p': 2, 'd': 0, 'q': 1, 'ps': 0, 'ds': 0, 'qs': 0}. Best is trial 39 with value: -580.3521165454284.\u001b[0m\n",
      "\u001b[32m[I 2021-04-17 14:22:21,967]\u001b[0m Trial 202 finished with value: -580.3521165454284 and parameters: {'p': 2, 'd': 0, 'q': 1, 'ps': 0, 'ds': 0, 'qs': 0}. Best is trial 39 with value: -580.3521165454284.\u001b[0m\n",
      "\u001b[32m[I 2021-04-17 14:22:22,063]\u001b[0m Trial 203 finished with value: -580.3521165454284 and parameters: {'p': 2, 'd': 0, 'q': 1, 'ps': 0, 'ds': 0, 'qs': 0}. Best is trial 39 with value: -580.3521165454284.\u001b[0m\n",
      "\u001b[32m[I 2021-04-17 14:22:22,165]\u001b[0m Trial 204 finished with value: -580.3521165454284 and parameters: {'p': 2, 'd': 0, 'q': 1, 'ps': 0, 'ds': 0, 'qs': 0}. Best is trial 39 with value: -580.3521165454284.\u001b[0m\n",
      "\u001b[32m[I 2021-04-17 14:22:22,261]\u001b[0m Trial 205 finished with value: -580.3521165454284 and parameters: {'p': 2, 'd': 0, 'q': 1, 'ps': 0, 'ds': 0, 'qs': 0}. Best is trial 39 with value: -580.3521165454284.\u001b[0m\n",
      "\u001b[32m[I 2021-04-17 14:22:22,364]\u001b[0m Trial 206 finished with value: -580.3521165454284 and parameters: {'p': 2, 'd': 0, 'q': 1, 'ps': 0, 'ds': 0, 'qs': 0}. Best is trial 39 with value: -580.3521165454284.\u001b[0m\n",
      "\u001b[32m[I 2021-04-17 14:22:22,426]\u001b[0m Trial 207 pruned. \u001b[0m\n",
      "\u001b[32m[I 2021-04-17 14:22:22,527]\u001b[0m Trial 208 finished with value: -580.3521165454284 and parameters: {'p': 2, 'd': 0, 'q': 1, 'ps': 0, 'ds': 0, 'qs': 0}. Best is trial 39 with value: -580.3521165454284.\u001b[0m\n",
      "\u001b[32m[I 2021-04-17 14:22:22,630]\u001b[0m Trial 209 finished with value: -580.3521165454284 and parameters: {'p': 2, 'd': 0, 'q': 1, 'ps': 0, 'ds': 0, 'qs': 0}. Best is trial 39 with value: -580.3521165454284.\u001b[0m\n",
      "\u001b[32m[I 2021-04-17 14:22:22,726]\u001b[0m Trial 210 finished with value: -580.3521165454284 and parameters: {'p': 2, 'd': 0, 'q': 1, 'ps': 0, 'ds': 0, 'qs': 0}. Best is trial 39 with value: -580.3521165454284.\u001b[0m\n",
      "\u001b[32m[I 2021-04-17 14:22:22,850]\u001b[0m Trial 211 finished with value: -580.3521165454284 and parameters: {'p': 2, 'd': 0, 'q': 1, 'ps': 0, 'ds': 0, 'qs': 0}. Best is trial 39 with value: -580.3521165454284.\u001b[0m\n",
      "\u001b[32m[I 2021-04-17 14:22:22,954]\u001b[0m Trial 212 finished with value: -580.3521165454284 and parameters: {'p': 2, 'd': 0, 'q': 1, 'ps': 0, 'ds': 0, 'qs': 0}. Best is trial 39 with value: -580.3521165454284.\u001b[0m\n",
      "\u001b[32m[I 2021-04-17 14:22:23,060]\u001b[0m Trial 213 finished with value: -580.3521165454284 and parameters: {'p': 2, 'd': 0, 'q': 1, 'ps': 0, 'ds': 0, 'qs': 0}. Best is trial 39 with value: -580.3521165454284.\u001b[0m\n",
      "\u001b[32m[I 2021-04-17 14:22:23,174]\u001b[0m Trial 214 finished with value: -580.3521165454284 and parameters: {'p': 2, 'd': 0, 'q': 1, 'ps': 0, 'ds': 0, 'qs': 0}. Best is trial 39 with value: -580.3521165454284.\u001b[0m\n",
      "\u001b[32m[I 2021-04-17 14:22:23,319]\u001b[0m Trial 215 finished with value: -580.3521165454284 and parameters: {'p': 2, 'd': 0, 'q': 1, 'ps': 0, 'ds': 0, 'qs': 0}. Best is trial 39 with value: -580.3521165454284.\u001b[0m\n"
     ]
    },
    {
     "name": "stderr",
     "output_type": "stream",
     "text": [
      "\u001b[32m[I 2021-04-17 14:22:23,453]\u001b[0m Trial 216 finished with value: -580.3521165454284 and parameters: {'p': 2, 'd': 0, 'q': 1, 'ps': 0, 'ds': 0, 'qs': 0}. Best is trial 39 with value: -580.3521165454284.\u001b[0m\n",
      "\u001b[32m[I 2021-04-17 14:22:23,569]\u001b[0m Trial 217 finished with value: -580.3521165454284 and parameters: {'p': 2, 'd': 0, 'q': 1, 'ps': 0, 'ds': 0, 'qs': 0}. Best is trial 39 with value: -580.3521165454284.\u001b[0m\n",
      "\u001b[32m[I 2021-04-17 14:22:23,684]\u001b[0m Trial 218 finished with value: -580.3521165454284 and parameters: {'p': 2, 'd': 0, 'q': 1, 'ps': 0, 'ds': 0, 'qs': 0}. Best is trial 39 with value: -580.3521165454284.\u001b[0m\n",
      "\u001b[32m[I 2021-04-17 14:22:23,847]\u001b[0m Trial 219 finished with value: -580.3521165454284 and parameters: {'p': 2, 'd': 0, 'q': 1, 'ps': 0, 'ds': 0, 'qs': 0}. Best is trial 39 with value: -580.3521165454284.\u001b[0m\n",
      "\u001b[32m[I 2021-04-17 14:22:23,958]\u001b[0m Trial 220 finished with value: -580.3521165454284 and parameters: {'p': 2, 'd': 0, 'q': 1, 'ps': 0, 'ds': 0, 'qs': 0}. Best is trial 39 with value: -580.3521165454284.\u001b[0m\n",
      "\u001b[32m[I 2021-04-17 14:22:24,078]\u001b[0m Trial 221 finished with value: -580.3521165454284 and parameters: {'p': 2, 'd': 0, 'q': 1, 'ps': 0, 'ds': 0, 'qs': 0}. Best is trial 39 with value: -580.3521165454284.\u001b[0m\n",
      "\u001b[32m[I 2021-04-17 14:22:24,205]\u001b[0m Trial 222 finished with value: -580.3521165454284 and parameters: {'p': 2, 'd': 0, 'q': 1, 'ps': 0, 'ds': 0, 'qs': 0}. Best is trial 39 with value: -580.3521165454284.\u001b[0m\n",
      "\u001b[32m[I 2021-04-17 14:22:24,338]\u001b[0m Trial 223 finished with value: -580.3521165454284 and parameters: {'p': 2, 'd': 0, 'q': 1, 'ps': 0, 'ds': 0, 'qs': 0}. Best is trial 39 with value: -580.3521165454284.\u001b[0m\n",
      "\u001b[32m[I 2021-04-17 14:22:24,475]\u001b[0m Trial 224 finished with value: -580.3521165454284 and parameters: {'p': 2, 'd': 0, 'q': 1, 'ps': 0, 'ds': 0, 'qs': 0}. Best is trial 39 with value: -580.3521165454284.\u001b[0m\n",
      "\u001b[32m[I 2021-04-17 14:22:24,599]\u001b[0m Trial 225 finished with value: -580.3521165454284 and parameters: {'p': 2, 'd': 0, 'q': 1, 'ps': 0, 'ds': 0, 'qs': 0}. Best is trial 39 with value: -580.3521165454284.\u001b[0m\n",
      "\u001b[32m[I 2021-04-17 14:22:24,705]\u001b[0m Trial 226 finished with value: -580.3521165454284 and parameters: {'p': 2, 'd': 0, 'q': 1, 'ps': 0, 'ds': 0, 'qs': 0}. Best is trial 39 with value: -580.3521165454284.\u001b[0m\n",
      "\u001b[32m[I 2021-04-17 14:22:24,771]\u001b[0m Trial 227 pruned. \u001b[0m\n",
      "\u001b[32m[I 2021-04-17 14:22:24,910]\u001b[0m Trial 228 finished with value: -580.3521165454284 and parameters: {'p': 2, 'd': 0, 'q': 1, 'ps': 0, 'ds': 0, 'qs': 0}. Best is trial 39 with value: -580.3521165454284.\u001b[0m\n",
      "\u001b[32m[I 2021-04-17 14:22:25,044]\u001b[0m Trial 229 finished with value: -580.3521165454284 and parameters: {'p': 2, 'd': 0, 'q': 1, 'ps': 0, 'ds': 0, 'qs': 0}. Best is trial 39 with value: -580.3521165454284.\u001b[0m\n",
      "\u001b[32m[I 2021-04-17 14:22:25,570]\u001b[0m Trial 230 pruned. \u001b[0m\n",
      "\u001b[32m[I 2021-04-17 14:22:25,668]\u001b[0m Trial 231 finished with value: -580.3521165454284 and parameters: {'p': 2, 'd': 0, 'q': 1, 'ps': 0, 'ds': 0, 'qs': 0}. Best is trial 39 with value: -580.3521165454284.\u001b[0m\n",
      "\u001b[32m[I 2021-04-17 14:22:25,766]\u001b[0m Trial 232 finished with value: -580.3521165454284 and parameters: {'p': 2, 'd': 0, 'q': 1, 'ps': 0, 'ds': 0, 'qs': 0}. Best is trial 39 with value: -580.3521165454284.\u001b[0m\n",
      "\u001b[32m[I 2021-04-17 14:22:25,872]\u001b[0m Trial 233 finished with value: -580.3521165454284 and parameters: {'p': 2, 'd': 0, 'q': 1, 'ps': 0, 'ds': 0, 'qs': 0}. Best is trial 39 with value: -580.3521165454284.\u001b[0m\n",
      "\u001b[32m[I 2021-04-17 14:22:25,969]\u001b[0m Trial 234 finished with value: -580.3521165454284 and parameters: {'p': 2, 'd': 0, 'q': 1, 'ps': 0, 'ds': 0, 'qs': 0}. Best is trial 39 with value: -580.3521165454284.\u001b[0m\n",
      "\u001b[32m[I 2021-04-17 14:22:26,074]\u001b[0m Trial 235 finished with value: -580.3521165454284 and parameters: {'p': 2, 'd': 0, 'q': 1, 'ps': 0, 'ds': 0, 'qs': 0}. Best is trial 39 with value: -580.3521165454284.\u001b[0m\n",
      "\u001b[32m[I 2021-04-17 14:22:26,193]\u001b[0m Trial 236 finished with value: -580.3521165454284 and parameters: {'p': 2, 'd': 0, 'q': 1, 'ps': 0, 'ds': 0, 'qs': 0}. Best is trial 39 with value: -580.3521165454284.\u001b[0m\n",
      "\u001b[32m[I 2021-04-17 14:22:26,427]\u001b[0m Trial 237 pruned. \u001b[0m\n",
      "\u001b[32m[I 2021-04-17 14:22:26,640]\u001b[0m Trial 238 pruned. \u001b[0m\n",
      "\u001b[32m[I 2021-04-17 14:22:26,749]\u001b[0m Trial 239 finished with value: -580.3521165454284 and parameters: {'p': 2, 'd': 0, 'q': 1, 'ps': 0, 'ds': 0, 'qs': 0}. Best is trial 39 with value: -580.3521165454284.\u001b[0m\n",
      "\u001b[32m[I 2021-04-17 14:22:26,855]\u001b[0m Trial 240 finished with value: -580.3521165454284 and parameters: {'p': 2, 'd': 0, 'q': 1, 'ps': 0, 'ds': 0, 'qs': 0}. Best is trial 39 with value: -580.3521165454284.\u001b[0m\n",
      "\u001b[32m[I 2021-04-17 14:22:26,967]\u001b[0m Trial 241 finished with value: -580.3521165454284 and parameters: {'p': 2, 'd': 0, 'q': 1, 'ps': 0, 'ds': 0, 'qs': 0}. Best is trial 39 with value: -580.3521165454284.\u001b[0m\n",
      "\u001b[32m[I 2021-04-17 14:22:27,072]\u001b[0m Trial 242 finished with value: -580.3521165454284 and parameters: {'p': 2, 'd': 0, 'q': 1, 'ps': 0, 'ds': 0, 'qs': 0}. Best is trial 39 with value: -580.3521165454284.\u001b[0m\n",
      "\u001b[32m[I 2021-04-17 14:22:27,177]\u001b[0m Trial 243 finished with value: -580.3521165454284 and parameters: {'p': 2, 'd': 0, 'q': 1, 'ps': 0, 'ds': 0, 'qs': 0}. Best is trial 39 with value: -580.3521165454284.\u001b[0m\n",
      "\u001b[32m[I 2021-04-17 14:22:27,284]\u001b[0m Trial 244 finished with value: -580.3521165454284 and parameters: {'p': 2, 'd': 0, 'q': 1, 'ps': 0, 'ds': 0, 'qs': 0}. Best is trial 39 with value: -580.3521165454284.\u001b[0m\n",
      "\u001b[32m[I 2021-04-17 14:22:27,416]\u001b[0m Trial 245 finished with value: -580.3521165454284 and parameters: {'p': 2, 'd': 0, 'q': 1, 'ps': 0, 'ds': 0, 'qs': 0}. Best is trial 39 with value: -580.3521165454284.\u001b[0m\n",
      "\u001b[32m[I 2021-04-17 14:22:27,527]\u001b[0m Trial 246 finished with value: -580.3521165454284 and parameters: {'p': 2, 'd': 0, 'q': 1, 'ps': 0, 'ds': 0, 'qs': 0}. Best is trial 39 with value: -580.3521165454284.\u001b[0m\n",
      "\u001b[32m[I 2021-04-17 14:22:27,637]\u001b[0m Trial 247 finished with value: -580.3521165454284 and parameters: {'p': 2, 'd': 0, 'q': 1, 'ps': 0, 'ds': 0, 'qs': 0}. Best is trial 39 with value: -580.3521165454284.\u001b[0m\n",
      "\u001b[32m[I 2021-04-17 14:22:27,753]\u001b[0m Trial 248 finished with value: -580.3521165454284 and parameters: {'p': 2, 'd': 0, 'q': 1, 'ps': 0, 'ds': 0, 'qs': 0}. Best is trial 39 with value: -580.3521165454284.\u001b[0m\n",
      "\u001b[32m[I 2021-04-17 14:22:27,864]\u001b[0m Trial 249 finished with value: -580.3521165454284 and parameters: {'p': 2, 'd': 0, 'q': 1, 'ps': 0, 'ds': 0, 'qs': 0}. Best is trial 39 with value: -580.3521165454284.\u001b[0m\n",
      "\u001b[32m[I 2021-04-17 14:22:27,971]\u001b[0m Trial 250 finished with value: -580.3521165454284 and parameters: {'p': 2, 'd': 0, 'q': 1, 'ps': 0, 'ds': 0, 'qs': 0}. Best is trial 39 with value: -580.3521165454284.\u001b[0m\n",
      "\u001b[32m[I 2021-04-17 14:22:28,084]\u001b[0m Trial 251 finished with value: -580.3521165454284 and parameters: {'p': 2, 'd': 0, 'q': 1, 'ps': 0, 'ds': 0, 'qs': 0}. Best is trial 39 with value: -580.3521165454284.\u001b[0m\n",
      "\u001b[32m[I 2021-04-17 14:22:28,193]\u001b[0m Trial 252 finished with value: -580.3521165454284 and parameters: {'p': 2, 'd': 0, 'q': 1, 'ps': 0, 'ds': 0, 'qs': 0}. Best is trial 39 with value: -580.3521165454284.\u001b[0m\n",
      "\u001b[32m[I 2021-04-17 14:22:28,327]\u001b[0m Trial 253 finished with value: -580.3521165454284 and parameters: {'p': 2, 'd': 0, 'q': 1, 'ps': 0, 'ds': 0, 'qs': 0}. Best is trial 39 with value: -580.3521165454284.\u001b[0m\n",
      "\u001b[32m[I 2021-04-17 14:22:28,440]\u001b[0m Trial 254 finished with value: -580.3521165454284 and parameters: {'p': 2, 'd': 0, 'q': 1, 'ps': 0, 'ds': 0, 'qs': 0}. Best is trial 39 with value: -580.3521165454284.\u001b[0m\n",
      "\u001b[32m[I 2021-04-17 14:22:28,555]\u001b[0m Trial 255 finished with value: -580.3521165454284 and parameters: {'p': 2, 'd': 0, 'q': 1, 'ps': 0, 'ds': 0, 'qs': 0}. Best is trial 39 with value: -580.3521165454284.\u001b[0m\n",
      "\u001b[32m[I 2021-04-17 14:22:28,666]\u001b[0m Trial 256 finished with value: -580.3521165454284 and parameters: {'p': 2, 'd': 0, 'q': 1, 'ps': 0, 'ds': 0, 'qs': 0}. Best is trial 39 with value: -580.3521165454284.\u001b[0m\n",
      "\u001b[32m[I 2021-04-17 14:22:28,782]\u001b[0m Trial 257 finished with value: -580.3521165454284 and parameters: {'p': 2, 'd': 0, 'q': 1, 'ps': 0, 'ds': 0, 'qs': 0}. Best is trial 39 with value: -580.3521165454284.\u001b[0m\n",
      "\u001b[32m[I 2021-04-17 14:22:28,920]\u001b[0m Trial 258 finished with value: -580.3521165454284 and parameters: {'p': 2, 'd': 0, 'q': 1, 'ps': 0, 'ds': 0, 'qs': 0}. Best is trial 39 with value: -580.3521165454284.\u001b[0m\n"
     ]
    },
    {
     "name": "stderr",
     "output_type": "stream",
     "text": [
      "\u001b[32m[I 2021-04-17 14:22:29,047]\u001b[0m Trial 259 pruned. \u001b[0m\n",
      "\u001b[32m[I 2021-04-17 14:22:29,159]\u001b[0m Trial 260 finished with value: -580.3521165454284 and parameters: {'p': 2, 'd': 0, 'q': 1, 'ps': 0, 'ds': 0, 'qs': 0}. Best is trial 39 with value: -580.3521165454284.\u001b[0m\n",
      "\u001b[32m[I 2021-04-17 14:22:29,294]\u001b[0m Trial 261 finished with value: -580.3521165454284 and parameters: {'p': 2, 'd': 0, 'q': 1, 'ps': 0, 'ds': 0, 'qs': 0}. Best is trial 39 with value: -580.3521165454284.\u001b[0m\n",
      "\u001b[32m[I 2021-04-17 14:22:29,441]\u001b[0m Trial 262 finished with value: -580.3521165454284 and parameters: {'p': 2, 'd': 0, 'q': 1, 'ps': 0, 'ds': 0, 'qs': 0}. Best is trial 39 with value: -580.3521165454284.\u001b[0m\n",
      "\u001b[32m[I 2021-04-17 14:22:29,627]\u001b[0m Trial 263 finished with value: -580.3521165454284 and parameters: {'p': 2, 'd': 0, 'q': 1, 'ps': 0, 'ds': 0, 'qs': 0}. Best is trial 39 with value: -580.3521165454284.\u001b[0m\n",
      "\u001b[32m[I 2021-04-17 14:22:29,882]\u001b[0m Trial 264 pruned. \u001b[0m\n",
      "\u001b[32m[I 2021-04-17 14:22:29,994]\u001b[0m Trial 265 finished with value: -580.3521165454284 and parameters: {'p': 2, 'd': 0, 'q': 1, 'ps': 0, 'ds': 0, 'qs': 0}. Best is trial 39 with value: -580.3521165454284.\u001b[0m\n",
      "\u001b[32m[I 2021-04-17 14:22:30,151]\u001b[0m Trial 266 finished with value: -580.3521165454284 and parameters: {'p': 2, 'd': 0, 'q': 1, 'ps': 0, 'ds': 0, 'qs': 0}. Best is trial 39 with value: -580.3521165454284.\u001b[0m\n",
      "\u001b[32m[I 2021-04-17 14:22:30,283]\u001b[0m Trial 267 finished with value: -580.3521165454284 and parameters: {'p': 2, 'd': 0, 'q': 1, 'ps': 0, 'ds': 0, 'qs': 0}. Best is trial 39 with value: -580.3521165454284.\u001b[0m\n",
      "\u001b[32m[I 2021-04-17 14:22:30,444]\u001b[0m Trial 268 finished with value: -580.3521165454284 and parameters: {'p': 2, 'd': 0, 'q': 1, 'ps': 0, 'ds': 0, 'qs': 0}. Best is trial 39 with value: -580.3521165454284.\u001b[0m\n",
      "\u001b[32m[I 2021-04-17 14:22:30,572]\u001b[0m Trial 269 pruned. \u001b[0m\n",
      "\u001b[32m[I 2021-04-17 14:22:30,744]\u001b[0m Trial 270 finished with value: -580.3521165454284 and parameters: {'p': 2, 'd': 0, 'q': 1, 'ps': 0, 'ds': 0, 'qs': 0}. Best is trial 39 with value: -580.3521165454284.\u001b[0m\n",
      "\u001b[32m[I 2021-04-17 14:22:30,877]\u001b[0m Trial 271 finished with value: -580.3521165454284 and parameters: {'p': 2, 'd': 0, 'q': 1, 'ps': 0, 'ds': 0, 'qs': 0}. Best is trial 39 with value: -580.3521165454284.\u001b[0m\n",
      "\u001b[32m[I 2021-04-17 14:22:31,005]\u001b[0m Trial 272 finished with value: -580.3521165454284 and parameters: {'p': 2, 'd': 0, 'q': 1, 'ps': 0, 'ds': 0, 'qs': 0}. Best is trial 39 with value: -580.3521165454284.\u001b[0m\n",
      "\u001b[32m[I 2021-04-17 14:22:31,140]\u001b[0m Trial 273 finished with value: -580.3521165454284 and parameters: {'p': 2, 'd': 0, 'q': 1, 'ps': 0, 'ds': 0, 'qs': 0}. Best is trial 39 with value: -580.3521165454284.\u001b[0m\n",
      "\u001b[32m[I 2021-04-17 14:22:31,287]\u001b[0m Trial 274 finished with value: -580.3521165454284 and parameters: {'p': 2, 'd': 0, 'q': 1, 'ps': 0, 'ds': 0, 'qs': 0}. Best is trial 39 with value: -580.3521165454284.\u001b[0m\n",
      "\u001b[32m[I 2021-04-17 14:22:31,429]\u001b[0m Trial 275 finished with value: -580.3521165454284 and parameters: {'p': 2, 'd': 0, 'q': 1, 'ps': 0, 'ds': 0, 'qs': 0}. Best is trial 39 with value: -580.3521165454284.\u001b[0m\n",
      "\u001b[32m[I 2021-04-17 14:22:31,550]\u001b[0m Trial 276 finished with value: -580.3521165454284 and parameters: {'p': 2, 'd': 0, 'q': 1, 'ps': 0, 'ds': 0, 'qs': 0}. Best is trial 39 with value: -580.3521165454284.\u001b[0m\n",
      "\u001b[32m[I 2021-04-17 14:22:31,663]\u001b[0m Trial 277 finished with value: -580.3521165454284 and parameters: {'p': 2, 'd': 0, 'q': 1, 'ps': 0, 'ds': 0, 'qs': 0}. Best is trial 39 with value: -580.3521165454284.\u001b[0m\n",
      "\u001b[32m[I 2021-04-17 14:22:31,792]\u001b[0m Trial 278 finished with value: -580.3521165454284 and parameters: {'p': 2, 'd': 0, 'q': 1, 'ps': 0, 'ds': 0, 'qs': 0}. Best is trial 39 with value: -580.3521165454284.\u001b[0m\n",
      "\u001b[32m[I 2021-04-17 14:22:31,901]\u001b[0m Trial 279 finished with value: -580.3521165454284 and parameters: {'p': 2, 'd': 0, 'q': 1, 'ps': 0, 'ds': 0, 'qs': 0}. Best is trial 39 with value: -580.3521165454284.\u001b[0m\n",
      "\u001b[32m[I 2021-04-17 14:22:32,037]\u001b[0m Trial 280 finished with value: -580.3521165454284 and parameters: {'p': 2, 'd': 0, 'q': 1, 'ps': 0, 'ds': 0, 'qs': 0}. Best is trial 39 with value: -580.3521165454284.\u001b[0m\n",
      "\u001b[32m[I 2021-04-17 14:22:32,179]\u001b[0m Trial 281 finished with value: -580.3521165454284 and parameters: {'p': 2, 'd': 0, 'q': 1, 'ps': 0, 'ds': 0, 'qs': 0}. Best is trial 39 with value: -580.3521165454284.\u001b[0m\n",
      "\u001b[32m[I 2021-04-17 14:22:32,685]\u001b[0m Trial 282 pruned. \u001b[0m\n",
      "\u001b[32m[I 2021-04-17 14:22:32,878]\u001b[0m Trial 283 finished with value: -580.3521165454284 and parameters: {'p': 2, 'd': 0, 'q': 1, 'ps': 0, 'ds': 0, 'qs': 0}. Best is trial 39 with value: -580.3521165454284.\u001b[0m\n",
      "\u001b[32m[I 2021-04-17 14:22:33,149]\u001b[0m Trial 284 finished with value: -580.3521165454284 and parameters: {'p': 2, 'd': 0, 'q': 1, 'ps': 0, 'ds': 0, 'qs': 0}. Best is trial 39 with value: -580.3521165454284.\u001b[0m\n",
      "\u001b[32m[I 2021-04-17 14:22:33,287]\u001b[0m Trial 285 finished with value: -580.3521165454284 and parameters: {'p': 2, 'd': 0, 'q': 1, 'ps': 0, 'ds': 0, 'qs': 0}. Best is trial 39 with value: -580.3521165454284.\u001b[0m\n",
      "\u001b[32m[I 2021-04-17 14:22:33,436]\u001b[0m Trial 286 finished with value: -580.3521165454284 and parameters: {'p': 2, 'd': 0, 'q': 1, 'ps': 0, 'ds': 0, 'qs': 0}. Best is trial 39 with value: -580.3521165454284.\u001b[0m\n",
      "\u001b[32m[I 2021-04-17 14:22:33,635]\u001b[0m Trial 287 finished with value: -580.3521165454284 and parameters: {'p': 2, 'd': 0, 'q': 1, 'ps': 0, 'ds': 0, 'qs': 0}. Best is trial 39 with value: -580.3521165454284.\u001b[0m\n",
      "\u001b[32m[I 2021-04-17 14:22:33,788]\u001b[0m Trial 288 finished with value: -580.3521165454284 and parameters: {'p': 2, 'd': 0, 'q': 1, 'ps': 0, 'ds': 0, 'qs': 0}. Best is trial 39 with value: -580.3521165454284.\u001b[0m\n",
      "\u001b[32m[I 2021-04-17 14:22:33,905]\u001b[0m Trial 289 finished with value: -580.3521165454284 and parameters: {'p': 2, 'd': 0, 'q': 1, 'ps': 0, 'ds': 0, 'qs': 0}. Best is trial 39 with value: -580.3521165454284.\u001b[0m\n",
      "\u001b[32m[I 2021-04-17 14:22:34,025]\u001b[0m Trial 290 finished with value: -580.3521165454284 and parameters: {'p': 2, 'd': 0, 'q': 1, 'ps': 0, 'ds': 0, 'qs': 0}. Best is trial 39 with value: -580.3521165454284.\u001b[0m\n",
      "\u001b[32m[I 2021-04-17 14:22:34,167]\u001b[0m Trial 291 finished with value: -580.3521165454284 and parameters: {'p': 2, 'd': 0, 'q': 1, 'ps': 0, 'ds': 0, 'qs': 0}. Best is trial 39 with value: -580.3521165454284.\u001b[0m\n",
      "\u001b[32m[I 2021-04-17 14:22:34,323]\u001b[0m Trial 292 finished with value: -580.3521165454284 and parameters: {'p': 2, 'd': 0, 'q': 1, 'ps': 0, 'ds': 0, 'qs': 0}. Best is trial 39 with value: -580.3521165454284.\u001b[0m\n",
      "\u001b[32m[I 2021-04-17 14:22:34,464]\u001b[0m Trial 293 finished with value: -580.3521165454284 and parameters: {'p': 2, 'd': 0, 'q': 1, 'ps': 0, 'ds': 0, 'qs': 0}. Best is trial 39 with value: -580.3521165454284.\u001b[0m\n",
      "\u001b[32m[I 2021-04-17 14:22:34,602]\u001b[0m Trial 294 finished with value: -580.3521165454284 and parameters: {'p': 2, 'd': 0, 'q': 1, 'ps': 0, 'ds': 0, 'qs': 0}. Best is trial 39 with value: -580.3521165454284.\u001b[0m\n",
      "\u001b[32m[I 2021-04-17 14:22:34,742]\u001b[0m Trial 295 finished with value: -580.3521165454284 and parameters: {'p': 2, 'd': 0, 'q': 1, 'ps': 0, 'ds': 0, 'qs': 0}. Best is trial 39 with value: -580.3521165454284.\u001b[0m\n",
      "\u001b[32m[I 2021-04-17 14:22:34,853]\u001b[0m Trial 296 finished with value: -580.3521165454284 and parameters: {'p': 2, 'd': 0, 'q': 1, 'ps': 0, 'ds': 0, 'qs': 0}. Best is trial 39 with value: -580.3521165454284.\u001b[0m\n",
      "\u001b[32m[I 2021-04-17 14:22:34,964]\u001b[0m Trial 297 finished with value: -580.3521165454284 and parameters: {'p': 2, 'd': 0, 'q': 1, 'ps': 0, 'ds': 0, 'qs': 0}. Best is trial 39 with value: -580.3521165454284.\u001b[0m\n",
      "\u001b[32m[I 2021-04-17 14:22:35,073]\u001b[0m Trial 298 finished with value: -580.3521165454284 and parameters: {'p': 2, 'd': 0, 'q': 1, 'ps': 0, 'ds': 0, 'qs': 0}. Best is trial 39 with value: -580.3521165454284.\u001b[0m\n",
      "\u001b[32m[I 2021-04-17 14:22:35,189]\u001b[0m Trial 299 finished with value: -580.3521165454284 and parameters: {'p': 2, 'd': 0, 'q': 1, 'ps': 0, 'ds': 0, 'qs': 0}. Best is trial 39 with value: -580.3521165454284.\u001b[0m\n"
     ]
    },
    {
     "name": "stdout",
     "output_type": "stream",
     "text": [
      "Melhor valor: -580.3521165454284\n",
      "Melhores parâmetros:\n",
      "p: 2\n",
      "d: 0\n",
      "q: 1\n",
      "ps: 0\n",
      "ds: 0\n",
      "qs: 0\n"
     ]
    }
   ],
   "source": [
    "study = optuna.create_study(direction=\"minimize\")\n",
    "study.optimize(objective, n_trials=300)\n",
    "\n",
    "print_study_best_trial_params(study)"
   ]
  },
  {
   "cell_type": "markdown",
   "metadata": {},
   "source": [
    "Determinados os melhores parâmetros, vamos treinar o nosso modelo e realizar uma previsão"
   ]
  },
  {
   "cell_type": "code",
   "execution_count": 21,
   "metadata": {},
   "outputs": [],
   "source": [
    "pdq = (2, 0, 1)\n",
    "pdqs = (0, 0, 0, 12)\n",
    "\n",
    "mod = sm.tsa.statespace.SARIMAX(\n",
    "    y,\n",
    "    order=pdq,\n",
    "    seasonal_order=pdqs,\n",
    "    enforce_stationarity=False,\n",
    "    enforce_invertibility=False\n",
    ")\n",
    "\n",
    "res = mod.fit()"
   ]
  },
  {
   "cell_type": "code",
   "execution_count": 22,
   "metadata": {},
   "outputs": [],
   "source": [
    "mlflow.log_params({ \"sarimax_pdq\": pdq, \"sarimax_pdqs\": pdqs })\n",
    "mlflow.statsmodels.log_model(res, \"sarimax\")"
   ]
  },
  {
   "cell_type": "code",
   "execution_count": 23,
   "metadata": {},
   "outputs": [
    {
     "data": {
      "text/plain": [
       "<matplotlib.legend.Legend at 0x7fd0643610a0>"
      ]
     },
     "execution_count": 23,
     "metadata": {},
     "output_type": "execute_result"
    },
    {
     "data": {
      "image/png": "[encoded data removed]",
      "text/plain": [
       "<Figure size 432x288 with 1 Axes>"
      ]
     },
     "metadata": {
      "needs_background": "light"
     },
     "output_type": "display_data"
    }
   ],
   "source": [
    "predicted = res.get_prediction(start='2018-07', end='2018-12')\n",
    "predicted.predicted_mean.plot(label='Previsto')\n",
    "data_pern_validation['PRECO_MEDIO_REVENDA'].plot(label='Real')\n",
    "plt.legend()"
   ]
  },
  {
   "cell_type": "markdown",
   "metadata": {},
   "source": [
    "Repitamos a previsão para o intervalo de tempo de teste"
   ]
  },
  {
   "cell_type": "code",
   "execution_count": 24,
   "metadata": {},
   "outputs": [
    {
     "data": {
      "text/plain": [
       "<matplotlib.legend.Legend at 0x7fd02c58b370>"
      ]
     },
     "execution_count": 24,
     "metadata": {},
     "output_type": "execute_result"
    },
    {
     "data": {
      "image/png": "[encoded data removed]",
      "text/plain": [
       "<Figure size 432x288 with 1 Axes>"
      ]
     },
     "metadata": {
      "needs_background": "light"
     },
     "output_type": "display_data"
    }
   ],
   "source": [
    "predicted_test = res.get_prediction(start = '2019-01', end='2019-06')\n",
    "predicted_test.predicted_mean.plot(label='Previsto')\n",
    "data_pern_test['PRECO_MEDIO_REVENDA'].plot(label='Real')\n",
    "plt.legend()"
   ]
  },
  {
   "cell_type": "markdown",
   "metadata": {},
   "source": [
    "MSE (Mean Squared Error):"
   ]
  },
  {
   "cell_type": "code",
   "execution_count": 25,
   "metadata": {},
   "outputs": [
    {
     "data": {
      "text/plain": [
       "0.19769325390690984"
      ]
     },
     "execution_count": 25,
     "metadata": {},
     "output_type": "execute_result"
    }
   ],
   "source": [
    "sarimax_mse = ((predicted_test.predicted_mean - data_pern_test['PRECO_MEDIO_REVENDA']) ** 2).mean()\n",
    "sarimax_mse"
   ]
  },
  {
   "cell_type": "code",
   "execution_count": 26,
   "metadata": {},
   "outputs": [],
   "source": [
    "mlflow.log_metric('sarimax_mse', sarimax_mse)"
   ]
  },
  {
   "cell_type": "markdown",
   "metadata": {},
   "source": [
    "### Prophet"
   ]
  },
  {
   "cell_type": "code",
   "execution_count": 27,
   "metadata": {},
   "outputs": [],
   "source": [
    "prophet_df = pd.DataFrame()\n",
    "prophet_df['y'] = data_pern_train['PRECO_MEDIO_REVENDA']\n",
    "prophet_df['ds'] = data_pern_train.index"
   ]
  },
  {
   "cell_type": "code",
   "execution_count": 28,
   "metadata": {},
   "outputs": [
    {
     "data": {
      "text/plain": [
       "<AxesSubplot:xlabel='ds'>"
      ]
     },
     "execution_count": 28,
     "metadata": {},
     "output_type": "execute_result"
    },
    {
     "data": {
      "image/png": "[encoded data removed]",
      "text/plain": [
       "<Figure size 432x288 with 1 Axes>"
      ]
     },
     "metadata": {
      "needs_background": "light"
     },
     "output_type": "display_data"
    }
   ],
   "source": [
    "prophet_df.plot(x='ds')"
   ]
  },
  {
   "cell_type": "code",
   "execution_count": 29,
   "metadata": {},
   "outputs": [],
   "source": [
    "def prophet_objective(trial):\n",
    "    changepoint_prior_scale = trial.suggest_float('changepoint_prior_scale', .001, .5)\n",
    "    seasonality_prior_scale = trial.suggest_float('seasonality_prior_scale', .01, 10)\n",
    "    holidays_prior_scale = trial.suggest_float('holidays_prior_scale', .01, 10)\n",
    "\n",
    "    prophet = Prophet(\n",
    "        changepoint_prior_scale=changepoint_prior_scale,\n",
    "        seasonality_prior_scale=seasonality_prior_scale,\n",
    "        holidays_prior_scale=holidays_prior_scale\n",
    "    )\n",
    "\n",
    "    prophet.fit(prophet_df)\n",
    "\n",
    "    future_df = prophet.make_future_dataframe(periods=6, freq='m')\n",
    "    future_pred = prophet.predict(future_df)\n",
    "\n",
    "    mse = ((future_pred[-6:]['yhat'].reset_index(drop=True) - data_pern_validation['PRECO_MEDIO_REVENDA'].reset_index(drop=True)) ** 2).mean()\n",
    "\n",
    "    trial.report(mse, 0)\n",
    "\n",
    "    if trial.should_prune():\n",
    "        raise optuna.exceptions.TrialPruned()\n",
    "\n",
    "    return mse"
   ]
  },
  {
   "cell_type": "code",
   "execution_count": 30,
   "metadata": {},
   "outputs": [
    {
     "name": "stderr",
     "output_type": "stream",
     "text": [
      "\u001b[32m[I 2021-04-17 14:22:36,277]\u001b[0m A new study created in memory with name: no-name-466fcfbc-015d-4ee9-870d-a619da01af51\u001b[0m\n",
      "INFO:fbprophet:Disabling weekly seasonality. Run prophet with weekly_seasonality=True to override this.\n",
      "INFO:fbprophet:Disabling daily seasonality. Run prophet with daily_seasonality=True to override this.\n",
      "\u001b[32m[I 2021-04-17 14:22:39,068]\u001b[0m Trial 0 finished with value: 0.016802631759485407 and parameters: {'changepoint_prior_scale': 0.12069023372147518, 'seasonality_prior_scale': 5.0562445708415975, 'holidays_prior_scale': 2.7049345199763875}. Best is trial 0 with value: 0.016802631759485407.\u001b[0m\n",
      "INFO:fbprophet:Disabling weekly seasonality. Run prophet with weekly_seasonality=True to override this.\n",
      "INFO:fbprophet:Disabling daily seasonality. Run prophet with daily_seasonality=True to override this.\n",
      "\u001b[32m[I 2021-04-17 14:22:40,755]\u001b[0m Trial 1 finished with value: 0.014084242310780476 and parameters: {'changepoint_prior_scale': 0.03640886765558087, 'seasonality_prior_scale': 8.16285516047459, 'holidays_prior_scale': 4.7142767571655355}. Best is trial 1 with value: 0.014084242310780476.\u001b[0m\n",
      "INFO:fbprophet:Disabling weekly seasonality. Run prophet with weekly_seasonality=True to override this.\n",
      "INFO:fbprophet:Disabling daily seasonality. Run prophet with daily_seasonality=True to override this.\n",
      "\u001b[32m[I 2021-04-17 14:22:42,342]\u001b[0m Trial 2 finished with value: 0.016731238857089537 and parameters: {'changepoint_prior_scale': 0.12817872749365497, 'seasonality_prior_scale': 8.766250058761223, 'holidays_prior_scale': 1.0808982286570812}. Best is trial 1 with value: 0.014084242310780476.\u001b[0m\n",
      "INFO:fbprophet:Disabling weekly seasonality. Run prophet with weekly_seasonality=True to override this.\n",
      "INFO:fbprophet:Disabling daily seasonality. Run prophet with daily_seasonality=True to override this.\n",
      "\u001b[32m[I 2021-04-17 14:22:43,986]\u001b[0m Trial 3 finished with value: 0.016785934051841395 and parameters: {'changepoint_prior_scale': 0.3102075088373132, 'seasonality_prior_scale': 7.2907512261300695, 'holidays_prior_scale': 5.7115314590672055}. Best is trial 1 with value: 0.014084242310780476.\u001b[0m\n",
      "INFO:fbprophet:Disabling weekly seasonality. Run prophet with weekly_seasonality=True to override this.\n",
      "INFO:fbprophet:Disabling daily seasonality. Run prophet with daily_seasonality=True to override this.\n",
      "\u001b[32m[I 2021-04-17 14:22:45,898]\u001b[0m Trial 4 finished with value: 0.016972334120114535 and parameters: {'changepoint_prior_scale': 0.29318220779933224, 'seasonality_prior_scale': 3.963263014389343, 'holidays_prior_scale': 5.156966706012954}. Best is trial 1 with value: 0.014084242310780476.\u001b[0m\n",
      "INFO:fbprophet:Disabling weekly seasonality. Run prophet with weekly_seasonality=True to override this.\n",
      "INFO:fbprophet:Disabling daily seasonality. Run prophet with daily_seasonality=True to override this.\n",
      "\u001b[32m[I 2021-04-17 14:22:47,623]\u001b[0m Trial 5 finished with value: 0.014542150753313126 and parameters: {'changepoint_prior_scale': 0.4668521980985895, 'seasonality_prior_scale': 0.3164714416193963, 'holidays_prior_scale': 8.317553543850869}. Best is trial 1 with value: 0.014084242310780476.\u001b[0m\n",
      "INFO:fbprophet:Disabling weekly seasonality. Run prophet with weekly_seasonality=True to override this.\n",
      "INFO:fbprophet:Disabling daily seasonality. Run prophet with daily_seasonality=True to override this.\n",
      "\u001b[32m[I 2021-04-17 14:22:49,413]\u001b[0m Trial 6 finished with value: 0.015570913551090202 and parameters: {'changepoint_prior_scale': 0.3811361576488364, 'seasonality_prior_scale': 6.393853465522744, 'holidays_prior_scale': 4.816074902976923}. Best is trial 1 with value: 0.014084242310780476.\u001b[0m\n",
      "INFO:fbprophet:Disabling weekly seasonality. Run prophet with weekly_seasonality=True to override this.\n",
      "INFO:fbprophet:Disabling daily seasonality. Run prophet with daily_seasonality=True to override this.\n",
      "\u001b[32m[I 2021-04-17 14:22:50,985]\u001b[0m Trial 7 finished with value: 0.014101507784169048 and parameters: {'changepoint_prior_scale': 0.0405045553107083, 'seasonality_prior_scale': 4.748481547311669, 'holidays_prior_scale': 5.725356526525618}. Best is trial 1 with value: 0.014084242310780476.\u001b[0m\n",
      "INFO:fbprophet:Disabling weekly seasonality. Run prophet with weekly_seasonality=True to override this.\n",
      "INFO:fbprophet:Disabling daily seasonality. Run prophet with daily_seasonality=True to override this.\n",
      "\u001b[32m[I 2021-04-17 14:22:52,515]\u001b[0m Trial 8 pruned. \u001b[0m\n",
      "INFO:fbprophet:Disabling weekly seasonality. Run prophet with weekly_seasonality=True to override this.\n",
      "INFO:fbprophet:Disabling daily seasonality. Run prophet with daily_seasonality=True to override this.\n",
      "\u001b[32m[I 2021-04-17 14:22:54,066]\u001b[0m Trial 9 pruned. \u001b[0m\n",
      "INFO:fbprophet:Disabling weekly seasonality. Run prophet with weekly_seasonality=True to override this.\n",
      "INFO:fbprophet:Disabling daily seasonality. Run prophet with daily_seasonality=True to override this.\n",
      "\u001b[32m[I 2021-04-17 14:22:55,604]\u001b[0m Trial 10 pruned. \u001b[0m\n",
      "INFO:fbprophet:Disabling weekly seasonality. Run prophet with weekly_seasonality=True to override this.\n",
      "INFO:fbprophet:Disabling daily seasonality. Run prophet with daily_seasonality=True to override this.\n",
      "\u001b[32m[I 2021-04-17 14:22:57,288]\u001b[0m Trial 11 pruned. \u001b[0m\n",
      "INFO:fbprophet:Disabling weekly seasonality. Run prophet with weekly_seasonality=True to override this.\n",
      "INFO:fbprophet:Disabling daily seasonality. Run prophet with daily_seasonality=True to override this.\n",
      "\u001b[32m[I 2021-04-17 14:22:59,027]\u001b[0m Trial 12 finished with value: 0.014108462717351264 and parameters: {'changepoint_prior_scale': 0.03182842508622246, 'seasonality_prior_scale': 5.655569189775536, 'holidays_prior_scale': 6.816567258494501}. Best is trial 1 with value: 0.014084242310780476.\u001b[0m\n",
      "INFO:fbprophet:Disabling weekly seasonality. Run prophet with weekly_seasonality=True to override this.\n",
      "INFO:fbprophet:Disabling daily seasonality. Run prophet with daily_seasonality=True to override this.\n",
      "\u001b[32m[I 2021-04-17 14:23:00,863]\u001b[0m Trial 13 pruned. \u001b[0m\n",
      "INFO:fbprophet:Disabling weekly seasonality. Run prophet with weekly_seasonality=True to override this.\n",
      "INFO:fbprophet:Disabling daily seasonality. Run prophet with daily_seasonality=True to override this.\n",
      "\u001b[32m[I 2021-04-17 14:23:02,580]\u001b[0m Trial 14 finished with value: 0.014834766710584979 and parameters: {'changepoint_prior_scale': 0.07212333340790994, 'seasonality_prior_scale': 4.01491830824813, 'holidays_prior_scale': 6.541100426537501}. Best is trial 1 with value: 0.014084242310780476.\u001b[0m\n",
      "INFO:fbprophet:Disabling weekly seasonality. Run prophet with weekly_seasonality=True to override this.\n",
      "INFO:fbprophet:Disabling daily seasonality. Run prophet with daily_seasonality=True to override this.\n",
      "\u001b[32m[I 2021-04-17 14:23:04,103]\u001b[0m Trial 15 pruned. \u001b[0m\n",
      "INFO:fbprophet:Disabling weekly seasonality. Run prophet with weekly_seasonality=True to override this.\n",
      "INFO:fbprophet:Disabling daily seasonality. Run prophet with daily_seasonality=True to override this.\n",
      "\u001b[32m[I 2021-04-17 14:23:05,582]\u001b[0m Trial 16 finished with value: 0.01482256539123387 and parameters: {'changepoint_prior_scale': 0.06902907820379614, 'seasonality_prior_scale': 9.926603501032075, 'holidays_prior_scale': 2.1028217493395083}. Best is trial 1 with value: 0.014084242310780476.\u001b[0m\n",
      "INFO:fbprophet:Disabling weekly seasonality. Run prophet with weekly_seasonality=True to override this.\n",
      "INFO:fbprophet:Disabling daily seasonality. Run prophet with daily_seasonality=True to override this.\n",
      "\u001b[32m[I 2021-04-17 14:23:07,066]\u001b[0m Trial 17 pruned. \u001b[0m\n",
      "INFO:fbprophet:Disabling weekly seasonality. Run prophet with weekly_seasonality=True to override this.\n",
      "INFO:fbprophet:Disabling daily seasonality. Run prophet with daily_seasonality=True to override this.\n",
      "\u001b[32m[I 2021-04-17 14:23:08,563]\u001b[0m Trial 18 pruned. \u001b[0m\n",
      "INFO:fbprophet:Disabling weekly seasonality. Run prophet with weekly_seasonality=True to override this.\n",
      "INFO:fbprophet:Disabling daily seasonality. Run prophet with daily_seasonality=True to override this.\n",
      "\u001b[32m[I 2021-04-17 14:23:10,098]\u001b[0m Trial 19 pruned. \u001b[0m\n",
      "INFO:fbprophet:Disabling weekly seasonality. Run prophet with weekly_seasonality=True to override this.\n",
      "INFO:fbprophet:Disabling daily seasonality. Run prophet with daily_seasonality=True to override this.\n"
     ]
    },
    {
     "name": "stderr",
     "output_type": "stream",
     "text": [
      "\u001b[32m[I 2021-04-17 14:23:11,716]\u001b[0m Trial 20 finished with value: 0.01452382009724331 and parameters: {'changepoint_prior_scale': 0.4978331142483988, 'seasonality_prior_scale': 8.32241867148154, 'holidays_prior_scale': 2.025279000351974}. Best is trial 1 with value: 0.014084242310780476.\u001b[0m\n",
      "INFO:fbprophet:Disabling weekly seasonality. Run prophet with weekly_seasonality=True to override this.\n",
      "INFO:fbprophet:Disabling daily seasonality. Run prophet with daily_seasonality=True to override this.\n",
      "\u001b[32m[I 2021-04-17 14:23:13,251]\u001b[0m Trial 21 finished with value: 0.014220023409445825 and parameters: {'changepoint_prior_scale': 0.045385928356593275, 'seasonality_prior_scale': 5.266182046868647, 'holidays_prior_scale': 7.221313418531064}. Best is trial 1 with value: 0.014084242310780476.\u001b[0m\n",
      "INFO:fbprophet:Disabling weekly seasonality. Run prophet with weekly_seasonality=True to override this.\n",
      "INFO:fbprophet:Disabling daily seasonality. Run prophet with daily_seasonality=True to override this.\n",
      "\u001b[32m[I 2021-04-17 14:23:14,915]\u001b[0m Trial 22 pruned. \u001b[0m\n",
      "INFO:fbprophet:Disabling weekly seasonality. Run prophet with weekly_seasonality=True to override this.\n",
      "INFO:fbprophet:Disabling daily seasonality. Run prophet with daily_seasonality=True to override this.\n",
      "\u001b[32m[I 2021-04-17 14:23:16,442]\u001b[0m Trial 23 pruned. \u001b[0m\n",
      "INFO:fbprophet:Disabling weekly seasonality. Run prophet with weekly_seasonality=True to override this.\n",
      "INFO:fbprophet:Disabling daily seasonality. Run prophet with daily_seasonality=True to override this.\n",
      "\u001b[32m[I 2021-04-17 14:23:18,037]\u001b[0m Trial 24 finished with value: 0.014371537070021048 and parameters: {'changepoint_prior_scale': 0.05463815588364266, 'seasonality_prior_scale': 5.606715092037426, 'holidays_prior_scale': 5.904421846609771}. Best is trial 1 with value: 0.014084242310780476.\u001b[0m\n",
      "INFO:fbprophet:Disabling weekly seasonality. Run prophet with weekly_seasonality=True to override this.\n",
      "INFO:fbprophet:Disabling daily seasonality. Run prophet with daily_seasonality=True to override this.\n",
      "\u001b[32m[I 2021-04-17 14:23:19,710]\u001b[0m Trial 25 finished with value: 0.014080964954653755 and parameters: {'changepoint_prior_scale': 0.032205581489447174, 'seasonality_prior_scale': 7.2588636198782375, 'holidays_prior_scale': 4.958036757431215}. Best is trial 25 with value: 0.014080964954653755.\u001b[0m\n",
      "INFO:fbprophet:Disabling weekly seasonality. Run prophet with weekly_seasonality=True to override this.\n",
      "INFO:fbprophet:Disabling daily seasonality. Run prophet with daily_seasonality=True to override this.\n",
      "\u001b[32m[I 2021-04-17 14:23:21,171]\u001b[0m Trial 26 pruned. \u001b[0m\n",
      "INFO:fbprophet:Disabling weekly seasonality. Run prophet with weekly_seasonality=True to override this.\n",
      "INFO:fbprophet:Disabling daily seasonality. Run prophet with daily_seasonality=True to override this.\n",
      "\u001b[32m[I 2021-04-17 14:23:22,659]\u001b[0m Trial 27 pruned. \u001b[0m\n",
      "INFO:fbprophet:Disabling weekly seasonality. Run prophet with weekly_seasonality=True to override this.\n",
      "INFO:fbprophet:Disabling daily seasonality. Run prophet with daily_seasonality=True to override this.\n",
      "\u001b[32m[I 2021-04-17 14:23:24,148]\u001b[0m Trial 28 pruned. \u001b[0m\n",
      "INFO:fbprophet:Disabling weekly seasonality. Run prophet with weekly_seasonality=True to override this.\n",
      "INFO:fbprophet:Disabling daily seasonality. Run prophet with daily_seasonality=True to override this.\n",
      "\u001b[32m[I 2021-04-17 14:23:25,711]\u001b[0m Trial 29 pruned. \u001b[0m\n",
      "INFO:fbprophet:Disabling weekly seasonality. Run prophet with weekly_seasonality=True to override this.\n",
      "INFO:fbprophet:Disabling daily seasonality. Run prophet with daily_seasonality=True to override this.\n",
      "\u001b[32m[I 2021-04-17 14:23:27,345]\u001b[0m Trial 30 finished with value: 0.014080262718154454 and parameters: {'changepoint_prior_scale': 0.03800699331802355, 'seasonality_prior_scale': 6.83827745014945, 'holidays_prior_scale': 2.443579311881051}. Best is trial 30 with value: 0.014080262718154454.\u001b[0m\n",
      "INFO:fbprophet:Disabling weekly seasonality. Run prophet with weekly_seasonality=True to override this.\n",
      "INFO:fbprophet:Disabling daily seasonality. Run prophet with daily_seasonality=True to override this.\n",
      "\u001b[32m[I 2021-04-17 14:23:28,920]\u001b[0m Trial 31 finished with value: 0.014011442810929432 and parameters: {'changepoint_prior_scale': 0.037897716784645735, 'seasonality_prior_scale': 6.755062505668421, 'holidays_prior_scale': 2.3160204305144343}. Best is trial 31 with value: 0.014011442810929432.\u001b[0m\n",
      "INFO:fbprophet:Disabling weekly seasonality. Run prophet with weekly_seasonality=True to override this.\n",
      "INFO:fbprophet:Disabling daily seasonality. Run prophet with daily_seasonality=True to override this.\n",
      "\u001b[32m[I 2021-04-17 14:23:30,612]\u001b[0m Trial 32 pruned. \u001b[0m\n",
      "INFO:fbprophet:Disabling weekly seasonality. Run prophet with weekly_seasonality=True to override this.\n",
      "INFO:fbprophet:Disabling daily seasonality. Run prophet with daily_seasonality=True to override this.\n",
      "\u001b[32m[I 2021-04-17 14:23:32,357]\u001b[0m Trial 33 pruned. \u001b[0m\n",
      "INFO:fbprophet:Disabling weekly seasonality. Run prophet with weekly_seasonality=True to override this.\n",
      "INFO:fbprophet:Disabling daily seasonality. Run prophet with daily_seasonality=True to override this.\n",
      "\u001b[32m[I 2021-04-17 14:23:33,881]\u001b[0m Trial 34 pruned. \u001b[0m\n",
      "INFO:fbprophet:Disabling weekly seasonality. Run prophet with weekly_seasonality=True to override this.\n",
      "INFO:fbprophet:Disabling daily seasonality. Run prophet with daily_seasonality=True to override this.\n",
      "\u001b[32m[I 2021-04-17 14:23:35,400]\u001b[0m Trial 35 finished with value: 0.013949480437517625 and parameters: {'changepoint_prior_scale': 0.0361838570185534, 'seasonality_prior_scale': 7.571372865671984, 'holidays_prior_scale': 2.037212869060806}. Best is trial 35 with value: 0.013949480437517625.\u001b[0m\n",
      "INFO:fbprophet:Disabling weekly seasonality. Run prophet with weekly_seasonality=True to override this.\n",
      "INFO:fbprophet:Disabling daily seasonality. Run prophet with daily_seasonality=True to override this.\n",
      "\u001b[32m[I 2021-04-17 14:23:37,037]\u001b[0m Trial 36 finished with value: 0.014318657462086383 and parameters: {'changepoint_prior_scale': 0.040956140621886156, 'seasonality_prior_scale': 7.727399858852223, 'holidays_prior_scale': 1.5978749807447585}. Best is trial 35 with value: 0.013949480437517625.\u001b[0m\n",
      "INFO:fbprophet:Disabling weekly seasonality. Run prophet with weekly_seasonality=True to override this.\n",
      "INFO:fbprophet:Disabling daily seasonality. Run prophet with daily_seasonality=True to override this.\n",
      "\u001b[32m[I 2021-04-17 14:23:38,514]\u001b[0m Trial 37 pruned. \u001b[0m\n",
      "INFO:fbprophet:Disabling weekly seasonality. Run prophet with weekly_seasonality=True to override this.\n",
      "INFO:fbprophet:Disabling daily seasonality. Run prophet with daily_seasonality=True to override this.\n",
      "\u001b[32m[I 2021-04-17 14:23:39,981]\u001b[0m Trial 38 pruned. \u001b[0m\n",
      "INFO:fbprophet:Disabling weekly seasonality. Run prophet with weekly_seasonality=True to override this.\n",
      "INFO:fbprophet:Disabling daily seasonality. Run prophet with daily_seasonality=True to override this.\n",
      "\u001b[32m[I 2021-04-17 14:23:41,647]\u001b[0m Trial 39 pruned. \u001b[0m\n",
      "INFO:fbprophet:Disabling weekly seasonality. Run prophet with weekly_seasonality=True to override this.\n",
      "INFO:fbprophet:Disabling daily seasonality. Run prophet with daily_seasonality=True to override this.\n",
      "\u001b[32m[I 2021-04-17 14:23:43,194]\u001b[0m Trial 40 pruned. \u001b[0m\n",
      "INFO:fbprophet:Disabling weekly seasonality. Run prophet with weekly_seasonality=True to override this.\n",
      "INFO:fbprophet:Disabling daily seasonality. Run prophet with daily_seasonality=True to override this.\n",
      "\u001b[32m[I 2021-04-17 14:23:44,674]\u001b[0m Trial 41 pruned. \u001b[0m\n",
      "INFO:fbprophet:Disabling weekly seasonality. Run prophet with weekly_seasonality=True to override this.\n",
      "INFO:fbprophet:Disabling daily seasonality. Run prophet with daily_seasonality=True to override this.\n",
      "\u001b[32m[I 2021-04-17 14:23:46,376]\u001b[0m Trial 42 pruned. \u001b[0m\n",
      "INFO:fbprophet:Disabling weekly seasonality. Run prophet with weekly_seasonality=True to override this.\n",
      "INFO:fbprophet:Disabling daily seasonality. Run prophet with daily_seasonality=True to override this.\n",
      "\u001b[32m[I 2021-04-17 14:23:48,088]\u001b[0m Trial 43 pruned. \u001b[0m\n",
      "INFO:fbprophet:Disabling weekly seasonality. Run prophet with weekly_seasonality=True to override this.\n",
      "INFO:fbprophet:Disabling daily seasonality. Run prophet with daily_seasonality=True to override this.\n"
     ]
    },
    {
     "name": "stderr",
     "output_type": "stream",
     "text": [
      "\u001b[32m[I 2021-04-17 14:23:49,744]\u001b[0m Trial 44 pruned. \u001b[0m\n",
      "INFO:fbprophet:Disabling weekly seasonality. Run prophet with weekly_seasonality=True to override this.\n",
      "INFO:fbprophet:Disabling daily seasonality. Run prophet with daily_seasonality=True to override this.\n",
      "\u001b[32m[I 2021-04-17 14:23:51,400]\u001b[0m Trial 45 pruned. \u001b[0m\n",
      "INFO:fbprophet:Disabling weekly seasonality. Run prophet with weekly_seasonality=True to override this.\n",
      "INFO:fbprophet:Disabling daily seasonality. Run prophet with daily_seasonality=True to override this.\n",
      "\u001b[32m[I 2021-04-17 14:23:53,075]\u001b[0m Trial 46 finished with value: 0.014139810711772735 and parameters: {'changepoint_prior_scale': 0.03237329367610777, 'seasonality_prior_scale': 5.835584246133212, 'holidays_prior_scale': 2.209289359226567}. Best is trial 35 with value: 0.013949480437517625.\u001b[0m\n",
      "INFO:fbprophet:Disabling weekly seasonality. Run prophet with weekly_seasonality=True to override this.\n",
      "INFO:fbprophet:Disabling daily seasonality. Run prophet with daily_seasonality=True to override this.\n",
      "\u001b[32m[I 2021-04-17 14:23:54,696]\u001b[0m Trial 47 pruned. \u001b[0m\n",
      "INFO:fbprophet:Disabling weekly seasonality. Run prophet with weekly_seasonality=True to override this.\n",
      "INFO:fbprophet:Disabling daily seasonality. Run prophet with daily_seasonality=True to override this.\n",
      "\u001b[32m[I 2021-04-17 14:23:56,462]\u001b[0m Trial 48 finished with value: 0.01415315723034947 and parameters: {'changepoint_prior_scale': 0.0334669296622933, 'seasonality_prior_scale': 6.344185895219168, 'holidays_prior_scale': 1.6538093806031853}. Best is trial 35 with value: 0.013949480437517625.\u001b[0m\n",
      "INFO:fbprophet:Disabling weekly seasonality. Run prophet with weekly_seasonality=True to override this.\n",
      "INFO:fbprophet:Disabling daily seasonality. Run prophet with daily_seasonality=True to override this.\n",
      "\u001b[32m[I 2021-04-17 14:23:58,447]\u001b[0m Trial 49 pruned. \u001b[0m\n",
      "INFO:fbprophet:Disabling weekly seasonality. Run prophet with weekly_seasonality=True to override this.\n",
      "INFO:fbprophet:Disabling daily seasonality. Run prophet with daily_seasonality=True to override this.\n",
      "WARNING:fbprophet.models:Optimization terminated abnormally. Falling back to Newton.\n",
      "\u001b[32m[I 2021-04-17 14:24:00,732]\u001b[0m Trial 50 pruned. \u001b[0m\n",
      "INFO:fbprophet:Disabling weekly seasonality. Run prophet with weekly_seasonality=True to override this.\n",
      "INFO:fbprophet:Disabling daily seasonality. Run prophet with daily_seasonality=True to override this.\n",
      "\u001b[32m[I 2021-04-17 14:24:02,223]\u001b[0m Trial 51 pruned. \u001b[0m\n",
      "INFO:fbprophet:Disabling weekly seasonality. Run prophet with weekly_seasonality=True to override this.\n",
      "INFO:fbprophet:Disabling daily seasonality. Run prophet with daily_seasonality=True to override this.\n",
      "\u001b[32m[I 2021-04-17 14:24:03,666]\u001b[0m Trial 52 pruned. \u001b[0m\n",
      "INFO:fbprophet:Disabling weekly seasonality. Run prophet with weekly_seasonality=True to override this.\n",
      "INFO:fbprophet:Disabling daily seasonality. Run prophet with daily_seasonality=True to override this.\n",
      "\u001b[32m[I 2021-04-17 14:24:05,352]\u001b[0m Trial 53 pruned. \u001b[0m\n",
      "INFO:fbprophet:Disabling weekly seasonality. Run prophet with weekly_seasonality=True to override this.\n",
      "INFO:fbprophet:Disabling daily seasonality. Run prophet with daily_seasonality=True to override this.\n",
      "\u001b[32m[I 2021-04-17 14:24:07,189]\u001b[0m Trial 54 finished with value: 0.014035471960511975 and parameters: {'changepoint_prior_scale': 0.036287910823503106, 'seasonality_prior_scale': 8.09985647732502, 'holidays_prior_scale': 6.285752738115303}. Best is trial 35 with value: 0.013949480437517625.\u001b[0m\n",
      "INFO:fbprophet:Disabling weekly seasonality. Run prophet with weekly_seasonality=True to override this.\n",
      "INFO:fbprophet:Disabling daily seasonality. Run prophet with daily_seasonality=True to override this.\n",
      "\u001b[32m[I 2021-04-17 14:24:08,638]\u001b[0m Trial 55 finished with value: 0.014033002751878488 and parameters: {'changepoint_prior_scale': 0.03644401939271423, 'seasonality_prior_scale': 7.988038018570645, 'holidays_prior_scale': 6.272530005876634}. Best is trial 35 with value: 0.013949480437517625.\u001b[0m\n",
      "INFO:fbprophet:Disabling weekly seasonality. Run prophet with weekly_seasonality=True to override this.\n",
      "INFO:fbprophet:Disabling daily seasonality. Run prophet with daily_seasonality=True to override this.\n",
      "\u001b[32m[I 2021-04-17 14:24:10,074]\u001b[0m Trial 56 pruned. \u001b[0m\n",
      "INFO:fbprophet:Disabling weekly seasonality. Run prophet with weekly_seasonality=True to override this.\n",
      "INFO:fbprophet:Disabling daily seasonality. Run prophet with daily_seasonality=True to override this.\n",
      "\u001b[32m[I 2021-04-17 14:24:11,566]\u001b[0m Trial 57 pruned. \u001b[0m\n",
      "INFO:fbprophet:Disabling weekly seasonality. Run prophet with weekly_seasonality=True to override this.\n",
      "INFO:fbprophet:Disabling daily seasonality. Run prophet with daily_seasonality=True to override this.\n",
      "\u001b[32m[I 2021-04-17 14:24:13,017]\u001b[0m Trial 58 pruned. \u001b[0m\n",
      "INFO:fbprophet:Disabling weekly seasonality. Run prophet with weekly_seasonality=True to override this.\n",
      "INFO:fbprophet:Disabling daily seasonality. Run prophet with daily_seasonality=True to override this.\n",
      "\u001b[32m[I 2021-04-17 14:24:14,488]\u001b[0m Trial 59 finished with value: 0.014125170856042132 and parameters: {'changepoint_prior_scale': 0.04274164032760987, 'seasonality_prior_scale': 8.051651770052237, 'holidays_prior_scale': 6.871870085789318}. Best is trial 35 with value: 0.013949480437517625.\u001b[0m\n",
      "INFO:fbprophet:Disabling weekly seasonality. Run prophet with weekly_seasonality=True to override this.\n",
      "INFO:fbprophet:Disabling daily seasonality. Run prophet with daily_seasonality=True to override this.\n",
      "\u001b[32m[I 2021-04-17 14:24:16,032]\u001b[0m Trial 60 pruned. \u001b[0m\n",
      "INFO:fbprophet:Disabling weekly seasonality. Run prophet with weekly_seasonality=True to override this.\n",
      "INFO:fbprophet:Disabling daily seasonality. Run prophet with daily_seasonality=True to override this.\n",
      "\u001b[32m[I 2021-04-17 14:24:17,457]\u001b[0m Trial 61 pruned. \u001b[0m\n",
      "INFO:fbprophet:Disabling weekly seasonality. Run prophet with weekly_seasonality=True to override this.\n",
      "INFO:fbprophet:Disabling daily seasonality. Run prophet with daily_seasonality=True to override this.\n",
      "\u001b[32m[I 2021-04-17 14:24:18,877]\u001b[0m Trial 62 pruned. \u001b[0m\n",
      "INFO:fbprophet:Disabling weekly seasonality. Run prophet with weekly_seasonality=True to override this.\n",
      "INFO:fbprophet:Disabling daily seasonality. Run prophet with daily_seasonality=True to override this.\n",
      "WARNING:fbprophet.models:Optimization terminated abnormally. Falling back to Newton.\n",
      "\u001b[32m[I 2021-04-17 14:24:21,164]\u001b[0m Trial 63 pruned. \u001b[0m\n",
      "INFO:fbprophet:Disabling weekly seasonality. Run prophet with weekly_seasonality=True to override this.\n",
      "INFO:fbprophet:Disabling daily seasonality. Run prophet with daily_seasonality=True to override this.\n",
      "\u001b[32m[I 2021-04-17 14:24:22,694]\u001b[0m Trial 64 pruned. \u001b[0m\n",
      "INFO:fbprophet:Disabling weekly seasonality. Run prophet with weekly_seasonality=True to override this.\n",
      "INFO:fbprophet:Disabling daily seasonality. Run prophet with daily_seasonality=True to override this.\n",
      "\u001b[32m[I 2021-04-17 14:24:24,121]\u001b[0m Trial 65 pruned. \u001b[0m\n",
      "INFO:fbprophet:Disabling weekly seasonality. Run prophet with weekly_seasonality=True to override this.\n",
      "INFO:fbprophet:Disabling daily seasonality. Run prophet with daily_seasonality=True to override this.\n",
      "\u001b[32m[I 2021-04-17 14:24:25,539]\u001b[0m Trial 66 pruned. \u001b[0m\n",
      "INFO:fbprophet:Disabling weekly seasonality. Run prophet with weekly_seasonality=True to override this.\n",
      "INFO:fbprophet:Disabling daily seasonality. Run prophet with daily_seasonality=True to override this.\n",
      "\u001b[32m[I 2021-04-17 14:24:26,970]\u001b[0m Trial 67 pruned. \u001b[0m\n",
      "INFO:fbprophet:Disabling weekly seasonality. Run prophet with weekly_seasonality=True to override this.\n",
      "INFO:fbprophet:Disabling daily seasonality. Run prophet with daily_seasonality=True to override this.\n",
      "\u001b[32m[I 2021-04-17 14:24:28,478]\u001b[0m Trial 68 pruned. \u001b[0m\n",
      "INFO:fbprophet:Disabling weekly seasonality. Run prophet with weekly_seasonality=True to override this.\n",
      "INFO:fbprophet:Disabling daily seasonality. Run prophet with daily_seasonality=True to override this.\n",
      "\u001b[32m[I 2021-04-17 14:24:29,910]\u001b[0m Trial 69 finished with value: 0.014081396256219176 and parameters: {'changepoint_prior_scale': 0.040536964472619195, 'seasonality_prior_scale': 8.207114237893101, 'holidays_prior_scale': 3.3980232575707032}. Best is trial 35 with value: 0.013949480437517625.\u001b[0m\n"
     ]
    },
    {
     "name": "stderr",
     "output_type": "stream",
     "text": [
      "INFO:fbprophet:Disabling weekly seasonality. Run prophet with weekly_seasonality=True to override this.\n",
      "INFO:fbprophet:Disabling daily seasonality. Run prophet with daily_seasonality=True to override this.\n",
      "\u001b[32m[I 2021-04-17 14:24:31,355]\u001b[0m Trial 70 pruned. \u001b[0m\n",
      "INFO:fbprophet:Disabling weekly seasonality. Run prophet with weekly_seasonality=True to override this.\n",
      "INFO:fbprophet:Disabling daily seasonality. Run prophet with daily_seasonality=True to override this.\n",
      "\u001b[32m[I 2021-04-17 14:24:32,827]\u001b[0m Trial 71 pruned. \u001b[0m\n",
      "INFO:fbprophet:Disabling weekly seasonality. Run prophet with weekly_seasonality=True to override this.\n",
      "INFO:fbprophet:Disabling daily seasonality. Run prophet with daily_seasonality=True to override this.\n",
      "\u001b[32m[I 2021-04-17 14:24:34,249]\u001b[0m Trial 72 pruned. \u001b[0m\n",
      "INFO:fbprophet:Disabling weekly seasonality. Run prophet with weekly_seasonality=True to override this.\n",
      "INFO:fbprophet:Disabling daily seasonality. Run prophet with daily_seasonality=True to override this.\n",
      "WARNING:fbprophet.models:Optimization terminated abnormally. Falling back to Newton.\n",
      "\u001b[32m[I 2021-04-17 14:24:36,541]\u001b[0m Trial 73 pruned. \u001b[0m\n",
      "INFO:fbprophet:Disabling weekly seasonality. Run prophet with weekly_seasonality=True to override this.\n",
      "INFO:fbprophet:Disabling daily seasonality. Run prophet with daily_seasonality=True to override this.\n",
      "\u001b[32m[I 2021-04-17 14:24:37,940]\u001b[0m Trial 74 pruned. \u001b[0m\n",
      "INFO:fbprophet:Disabling weekly seasonality. Run prophet with weekly_seasonality=True to override this.\n",
      "INFO:fbprophet:Disabling daily seasonality. Run prophet with daily_seasonality=True to override this.\n",
      "\u001b[32m[I 2021-04-17 14:24:39,443]\u001b[0m Trial 75 pruned. \u001b[0m\n",
      "INFO:fbprophet:Disabling weekly seasonality. Run prophet with weekly_seasonality=True to override this.\n",
      "INFO:fbprophet:Disabling daily seasonality. Run prophet with daily_seasonality=True to override this.\n",
      "\u001b[32m[I 2021-04-17 14:24:40,887]\u001b[0m Trial 76 finished with value: 0.014110925944241862 and parameters: {'changepoint_prior_scale': 0.03279821713906157, 'seasonality_prior_scale': 8.579977730075658, 'holidays_prior_scale': 1.2808602814337466}. Best is trial 35 with value: 0.013949480437517625.\u001b[0m\n",
      "INFO:fbprophet:Disabling weekly seasonality. Run prophet with weekly_seasonality=True to override this.\n",
      "INFO:fbprophet:Disabling daily seasonality. Run prophet with daily_seasonality=True to override this.\n",
      "\u001b[32m[I 2021-04-17 14:24:42,344]\u001b[0m Trial 77 pruned. \u001b[0m\n",
      "INFO:fbprophet:Disabling weekly seasonality. Run prophet with weekly_seasonality=True to override this.\n",
      "INFO:fbprophet:Disabling daily seasonality. Run prophet with daily_seasonality=True to override this.\n",
      "\u001b[32m[I 2021-04-17 14:24:43,865]\u001b[0m Trial 78 pruned. \u001b[0m\n",
      "INFO:fbprophet:Disabling weekly seasonality. Run prophet with weekly_seasonality=True to override this.\n",
      "INFO:fbprophet:Disabling daily seasonality. Run prophet with daily_seasonality=True to override this.\n",
      "\u001b[32m[I 2021-04-17 14:24:45,326]\u001b[0m Trial 79 pruned. \u001b[0m\n"
     ]
    },
    {
     "name": "stdout",
     "output_type": "stream",
     "text": [
      "Melhor valor: 0.013949480437517625\n",
      "Melhores parâmetros:\n",
      "changepoint_prior_scale: 0.0361838570185534\n",
      "seasonality_prior_scale: 7.571372865671984\n",
      "holidays_prior_scale: 2.037212869060806\n"
     ]
    }
   ],
   "source": [
    "prophet_study = optuna.create_study(direction=\"minimize\")\n",
    "prophet_study.optimize(prophet_objective, n_trials=80)\n",
    "\n",
    "print_study_best_trial_params(prophet_study)"
   ]
  },
  {
   "cell_type": "code",
   "execution_count": 31,
   "metadata": {},
   "outputs": [
    {
     "name": "stderr",
     "output_type": "stream",
     "text": [
      "INFO:fbprophet:Disabling weekly seasonality. Run prophet with weekly_seasonality=True to override this.\n",
      "INFO:fbprophet:Disabling daily seasonality. Run prophet with daily_seasonality=True to override this.\n"
     ]
    }
   ],
   "source": [
    "prophet = Prophet(**prophet_study.best_trial.params)\n",
    "prophet.fit(prophet_df)\n",
    "future_df = prophet.make_future_dataframe(periods=6, freq='m')\n",
    "future_pred = prophet.predict(future_df)"
   ]
  },
  {
   "cell_type": "code",
   "execution_count": 32,
   "metadata": {},
   "outputs": [],
   "source": [
    "last_6_months = future_pred[-6:].reset_index(drop=True)\n",
    "last_6_months.index = data_pern_test.index"
   ]
  },
  {
   "cell_type": "code",
   "execution_count": 33,
   "metadata": {},
   "outputs": [
    {
     "data": {
      "text/plain": [
       "<matplotlib.legend.Legend at 0x7fd0275dfc10>"
      ]
     },
     "execution_count": 33,
     "metadata": {},
     "output_type": "execute_result"
    },
    {
     "data": {
      "image/png": "[encoded data removed]",
      "text/plain": [
       "<Figure size 432x288 with 1 Axes>"
      ]
     },
     "metadata": {
      "needs_background": "light"
     },
     "output_type": "display_data"
    }
   ],
   "source": [
    "last_6_months['yhat'].plot(label='Previsto')\n",
    "data_pern_test['PRECO_MEDIO_REVENDA'].plot(label='Real')\n",
    "plt.legend()"
   ]
  },
  {
   "cell_type": "code",
   "execution_count": 34,
   "metadata": {},
   "outputs": [
    {
     "data": {
      "text/plain": [
       "0.06854647912456395"
      ]
     },
     "execution_count": 34,
     "metadata": {},
     "output_type": "execute_result"
    }
   ],
   "source": [
    "prophet_mse = ((future_pred[-6:]['yhat'].reset_index(drop=True) - data_pern_test['PRECO_MEDIO_REVENDA'].reset_index(drop=True)) ** 2).mean()\n",
    "prophet_mse"
   ]
  },
  {
   "cell_type": "code",
   "execution_count": 35,
   "metadata": {},
   "outputs": [],
   "source": [
    "for name, value in prophet_study.best_trial.params.items():\n",
    "    mlflow.log_param(f'fbprophet_{name}', value)\n",
    "mlflow.sklearn.log_model(prophet, 'prophet')\n",
    "mlflow.log_metric('prophet_mse', prophet_mse)"
   ]
  },
  {
   "cell_type": "markdown",
   "metadata": {},
   "source": [
    "**Auto Regression**"
   ]
  },
  {
   "cell_type": "code",
   "execution_count": 36,
   "metadata": {},
   "outputs": [],
   "source": [
    "ar_y = data_pern_train['PRECO_MEDIO_REVENDA']"
   ]
  },
  {
   "cell_type": "code",
   "execution_count": 37,
   "metadata": {},
   "outputs": [],
   "source": [
    "from statsmodels.tsa.ar_model import AutoReg\n",
    "\n",
    "def ar_objective(trial):\n",
    "    mdl = AutoReg(ar_y, lags=trial.suggest_int('lags', 0, 6))\n",
    "    \n",
    "    res = mdl.fit()\n",
    "    \n",
    "    aic = res.aic\n",
    "    \n",
    "    trial.report(aic, 0)\n",
    "    \n",
    "    if trial.should_prune():\n",
    "        raise optuna.exceptions.TrialPruned()\n",
    "        \n",
    "    return aic"
   ]
  },
  {
   "cell_type": "code",
   "execution_count": 38,
   "metadata": {},
   "outputs": [
    {
     "name": "stderr",
     "output_type": "stream",
     "text": [
      "\u001b[32m[I 2021-04-17 14:24:48,247]\u001b[0m A new study created in memory with name: no-name-d38b7be9-0b1f-4c76-b11c-4ac3468ac1ea\u001b[0m\n",
      "\u001b[32m[I 2021-04-17 14:24:48,268]\u001b[0m Trial 0 finished with value: -6.278137971701282 and parameters: {'lags': 3}. Best is trial 0 with value: -6.278137971701282.\u001b[0m\n",
      "\u001b[32m[I 2021-04-17 14:24:48,395]\u001b[0m Trial 1 finished with value: -1.315869933536712 and parameters: {'lags': 0}. Best is trial 0 with value: -6.278137971701282.\u001b[0m\n",
      "\u001b[32m[I 2021-04-17 14:24:48,399]\u001b[0m Trial 2 finished with value: -5.994109141226578 and parameters: {'lags': 1}. Best is trial 0 with value: -6.278137971701282.\u001b[0m\n",
      "\u001b[32m[I 2021-04-17 14:24:48,403]\u001b[0m Trial 3 finished with value: -6.282334891672952 and parameters: {'lags': 4}. Best is trial 3 with value: -6.282334891672952.\u001b[0m\n",
      "\u001b[32m[I 2021-04-17 14:24:48,407]\u001b[0m Trial 4 finished with value: -5.994109141226578 and parameters: {'lags': 1}. Best is trial 3 with value: -6.282334891672952.\u001b[0m\n",
      "\u001b[32m[I 2021-04-17 14:24:48,412]\u001b[0m Trial 5 finished with value: -6.282334891672952 and parameters: {'lags': 4}. Best is trial 3 with value: -6.282334891672952.\u001b[0m\n",
      "\u001b[32m[I 2021-04-17 14:24:48,416]\u001b[0m Trial 6 pruned. \u001b[0m\n",
      "\u001b[32m[I 2021-04-17 14:24:48,420]\u001b[0m Trial 7 pruned. \u001b[0m\n",
      "\u001b[32m[I 2021-04-17 14:24:48,424]\u001b[0m Trial 8 finished with value: -6.269302787427316 and parameters: {'lags': 2}. Best is trial 3 with value: -6.282334891672952.\u001b[0m\n",
      "\u001b[32m[I 2021-04-17 14:24:48,428]\u001b[0m Trial 9 finished with value: -6.269302787427316 and parameters: {'lags': 2}. Best is trial 3 with value: -6.282334891672952.\u001b[0m\n"
     ]
    },
    {
     "name": "stdout",
     "output_type": "stream",
     "text": [
      "Melhor valor: -6.282334891672952\n",
      "Melhores parâmetros:\n",
      "lags: 4\n"
     ]
    }
   ],
   "source": [
    "ar_study = optuna.create_study(direction=\"minimize\")\n",
    "ar_study.optimize(ar_objective, n_trials=10)\n",
    "\n",
    "print_study_best_trial_params(ar_study)"
   ]
  },
  {
   "cell_type": "code",
   "execution_count": 39,
   "metadata": {},
   "outputs": [],
   "source": [
    "ar_mdl = AutoReg(ar_y, **ar_study.best_trial.params)\n",
    "ar_res = ar_mdl.fit()"
   ]
  },
  {
   "cell_type": "code",
   "execution_count": 40,
   "metadata": {},
   "outputs": [],
   "source": [
    "mlflow.log_param('ar_lags', ar_study.best_trial.params['lags'])\n",
    "mlflow.statsmodels.log_model(ar_res, 'autoregression')"
   ]
  },
  {
   "cell_type": "markdown",
   "metadata": {},
   "source": [
    "Os parâmetros de previsão para o modelo de autoregressão são os índices de início e fim da previsão. Como desejamos prever 6 meses, devemos fornecer o índice do último item mais um, que é o mesmo que o tamanho de ar_y, e o índice do sexto mês a partir do fim"
   ]
  },
  {
   "cell_type": "code",
   "execution_count": 41,
   "metadata": {},
   "outputs": [
    {
     "data": {
      "text/plain": [
       "2018-07-31    3.533821\n",
       "2018-08-31    3.571089\n",
       "2018-09-30    3.592936\n",
       "2018-10-31    3.613910\n",
       "2018-11-30    3.636479\n",
       "2018-12-31    3.659985\n",
       "Freq: M, dtype: float64"
      ]
     },
     "execution_count": 41,
     "metadata": {},
     "output_type": "execute_result"
    }
   ],
   "source": [
    "prediction = ar_res.predict(start=len(ar_y), end=len(ar_y) + 5)\n",
    "prediction"
   ]
  },
  {
   "cell_type": "code",
   "execution_count": 42,
   "metadata": {},
   "outputs": [],
   "source": [
    "prediction.index = data_pern_test.index"
   ]
  },
  {
   "cell_type": "code",
   "execution_count": 43,
   "metadata": {},
   "outputs": [
    {
     "data": {
      "text/plain": [
       "<matplotlib.legend.Legend at 0x7fd0275dfa30>"
      ]
     },
     "execution_count": 43,
     "metadata": {},
     "output_type": "execute_result"
    },
    {
     "data": {
      "image/png": "[encoded data removed]",
      "text/plain": [
       "<Figure size 432x288 with 1 Axes>"
      ]
     },
     "metadata": {
      "needs_background": "light"
     },
     "output_type": "display_data"
    }
   ],
   "source": [
    "prediction.plot(label='Previsto')\n",
    "data_pern_test['PRECO_MEDIO_REVENDA'].plot(label='Real')\n",
    "plt.legend()"
   ]
  },
  {
   "cell_type": "code",
   "execution_count": 44,
   "metadata": {},
   "outputs": [
    {
     "data": {
      "text/plain": [
       "0.09793155747593428"
      ]
     },
     "execution_count": 44,
     "metadata": {},
     "output_type": "execute_result"
    }
   ],
   "source": [
    "ar_mse = ((data_pern_test['PRECO_MEDIO_REVENDA'] - prediction) ** 2).mean()\n",
    "ar_mse"
   ]
  },
  {
   "cell_type": "code",
   "execution_count": 45,
   "metadata": {},
   "outputs": [],
   "source": [
    "mlflow.log_metric('ar_mse', ar_mse)"
   ]
  },
  {
   "cell_type": "markdown",
   "metadata": {},
   "source": [
    "### Holt Winter's Exponential Smoothing"
   ]
  },
  {
   "cell_type": "code",
   "execution_count": 46,
   "metadata": {},
   "outputs": [],
   "source": [
    "hwes_y = data_pern_train['PRECO_MEDIO_REVENDA']"
   ]
  },
  {
   "cell_type": "code",
   "execution_count": 47,
   "metadata": {},
   "outputs": [],
   "source": [
    "from statsmodels.tsa.holtwinters import ExponentialSmoothing"
   ]
  },
  {
   "cell_type": "code",
   "execution_count": 48,
   "metadata": {},
   "outputs": [],
   "source": [
    "def hwes_objective(trial):\n",
    "    component_type = {\"additive\", \"multiplicative\", None}\n",
    "    \n",
    "    mdl = ExponentialSmoothing(\n",
    "        hwes_y,\n",
    "        seasonal=trial.suggest_categorical(\"seasonal\", component_type),\n",
    "        trend=trial.suggest_categorical(\"trend\", component_type)\n",
    "    )\n",
    "    \n",
    "    res = mdl.fit()\n",
    "    \n",
    "    aic = res.aic\n",
    "    \n",
    "    trial.report(aic, 0)\n",
    "    \n",
    "    if trial.should_prune():\n",
    "        raise optuna.exceptions.TrialPruned()\n",
    "        \n",
    "    return aic"
   ]
  },
  {
   "cell_type": "code",
   "execution_count": 49,
   "metadata": {},
   "outputs": [
    {
     "name": "stderr",
     "output_type": "stream",
     "text": [
      "\u001b[32m[I 2021-04-17 14:24:49,335]\u001b[0m A new study created in memory with name: no-name-46df5fd1-c762-4e6b-9f02-de160478d5c5\u001b[0m\n",
      "\u001b[32m[I 2021-04-17 14:24:49,392]\u001b[0m Trial 0 finished with value: -1024.10824212834 and parameters: {'seasonal': None, 'trend': 'multiplicative'}. Best is trial 0 with value: -1024.10824212834.\u001b[0m\n",
      "\u001b[32m[I 2021-04-17 14:24:49,399]\u001b[0m Trial 1 finished with value: -1009.6077505392568 and parameters: {'seasonal': None, 'trend': None}. Best is trial 0 with value: -1024.10824212834.\u001b[0m\n",
      "/home/co/miniconda3/lib/python3.8/site-packages/statsmodels/tsa/holtwinters.py:743: ConvergenceWarning: Optimization failed to converge. Check mle_retvals.\n",
      "  warn(\"Optimization failed to converge. Check mle_retvals.\",\n",
      "\u001b[32m[I 2021-04-17 14:24:49,424]\u001b[0m Trial 2 finished with value: -878.4339811838091 and parameters: {'seasonal': 'multiplicative', 'trend': None}. Best is trial 0 with value: -1024.10824212834.\u001b[0m\n",
      "/home/co/miniconda3/lib/python3.8/site-packages/statsmodels/tsa/holtwinters.py:743: ConvergenceWarning: Optimization failed to converge. Check mle_retvals.\n",
      "  warn(\"Optimization failed to converge. Check mle_retvals.\",\n",
      "\u001b[32m[I 2021-04-17 14:24:49,451]\u001b[0m Trial 3 finished with value: -878.4339811838091 and parameters: {'seasonal': 'multiplicative', 'trend': None}. Best is trial 0 with value: -1024.10824212834.\u001b[0m\n",
      "/home/co/miniconda3/lib/python3.8/site-packages/statsmodels/tsa/holtwinters.py:743: ConvergenceWarning: Optimization failed to converge. Check mle_retvals.\n",
      "  warn(\"Optimization failed to converge. Check mle_retvals.\",\n",
      "\u001b[32m[I 2021-04-17 14:24:49,543]\u001b[0m Trial 4 finished with value: -891.9966647087347 and parameters: {'seasonal': 'multiplicative', 'trend': 'additive'}. Best is trial 0 with value: -1024.10824212834.\u001b[0m\n",
      "\u001b[32m[I 2021-04-17 14:24:49,553]\u001b[0m Trial 5 finished with value: -1030.2756647449069 and parameters: {'seasonal': None, 'trend': 'additive'}. Best is trial 5 with value: -1030.2756647449069.\u001b[0m\n",
      "/home/co/miniconda3/lib/python3.8/site-packages/statsmodels/tsa/holtwinters.py:743: ConvergenceWarning: Optimization failed to converge. Check mle_retvals.\n",
      "  warn(\"Optimization failed to converge. Check mle_retvals.\",\n",
      "\u001b[32m[I 2021-04-17 14:24:49,661]\u001b[0m Trial 6 pruned. \u001b[0m\n",
      "\u001b[32m[I 2021-04-17 14:24:49,675]\u001b[0m Trial 7 finished with value: -1024.10824212834 and parameters: {'seasonal': None, 'trend': 'multiplicative'}. Best is trial 5 with value: -1030.2756647449069.\u001b[0m\n",
      "\u001b[32m[I 2021-04-17 14:24:49,685]\u001b[0m Trial 8 finished with value: -1030.2756647449069 and parameters: {'seasonal': None, 'trend': 'additive'}. Best is trial 5 with value: -1030.2756647449069.\u001b[0m\n"
     ]
    },
    {
     "name": "stdout",
     "output_type": "stream",
     "text": [
      "Melhor valor: -1030.2756647449069\n",
      "Melhores parâmetros:\n",
      "seasonal: None\n",
      "trend: additive\n"
     ]
    }
   ],
   "source": [
    "hwes_study = optuna.create_study(direction=\"minimize\")\n",
    "hwes_study.optimize(hwes_objective, n_trials=9)\n",
    "\n",
    "print_study_best_trial_params(hwes_study)"
   ]
  },
  {
   "cell_type": "code",
   "execution_count": 50,
   "metadata": {},
   "outputs": [],
   "source": [
    "hwes_model = ExponentialSmoothing(hwes_y, **hwes_study.best_trial.params)\n",
    "hwes_res = hwes_model.fit()"
   ]
  },
  {
   "cell_type": "code",
   "execution_count": 51,
   "metadata": {},
   "outputs": [],
   "source": [
    "mlflow.log_param('hwes_trend', hwes_study.best_trial.params['trend'])\n",
    "mlflow.statsmodels.log_model(hwes_res, 'hwes')"
   ]
  },
  {
   "cell_type": "code",
   "execution_count": 52,
   "metadata": {},
   "outputs": [],
   "source": [
    "prediction = hwes_res.predict(start=len(hwes_y), end=(len(hwes_y) + 5))\n",
    "prediction.index = data_pern_test.index"
   ]
  },
  {
   "cell_type": "code",
   "execution_count": 53,
   "metadata": {},
   "outputs": [
    {
     "data": {
      "text/plain": [
       "<matplotlib.legend.Legend at 0x7fd02775dca0>"
      ]
     },
     "execution_count": 53,
     "metadata": {},
     "output_type": "execute_result"
    },
    {
     "data": {
      "image/png": "[encoded data removed]",
      "text/plain": [
       "<Figure size 432x288 with 1 Axes>"
      ]
     },
     "metadata": {
      "needs_background": "light"
     },
     "output_type": "display_data"
    }
   ],
   "source": [
    "prediction.plot(label='Previsto')\n",
    "data_pern_test['PRECO_MEDIO_REVENDA'].plot(label='Real')\n",
    "plt.legend()"
   ]
  },
  {
   "cell_type": "code",
   "execution_count": 54,
   "metadata": {},
   "outputs": [
    {
     "data": {
      "text/plain": [
       "0.2904493032545013"
      ]
     },
     "execution_count": 54,
     "metadata": {},
     "output_type": "execute_result"
    }
   ],
   "source": [
    "hwes_mse = ((data_pern_test['PRECO_MEDIO_REVENDA'] - prediction) ** 2).mean()\n",
    "hwes_mse"
   ]
  },
  {
   "cell_type": "code",
   "execution_count": 55,
   "metadata": {},
   "outputs": [],
   "source": [
    "mlflow.log_metric('hwes_mse', hwes_mse)"
   ]
  },
  {
   "cell_type": "code",
   "execution_count": 56,
   "metadata": {},
   "outputs": [
    {
     "name": "stdout",
     "output_type": "stream",
     "text": [
      "MSE SARIMAX: 0.19769325390690984\n",
      "MSE Prophet: 0.06854647912456395\n",
      "MSE AutoRegression: 0.09793155747593428\n",
      "MSE Holt Winter's Exponential Smoothing: 0.2904493032545013\n",
      "\n"
     ]
    }
   ],
   "source": [
    "print(\n",
    "    f'MSE SARIMAX: {sarimax_mse}\\n'\n",
    "    f'MSE Prophet: {prophet_mse}\\n'\n",
    "    f'MSE AutoRegression: {ar_mse}\\n'\n",
    "    f\"MSE Holt Winter's Exponential Smoothing: {hwes_mse}\\n\"\n",
    ")"
   ]
  },
  {
   "cell_type": "markdown",
   "metadata": {},
   "source": [
    "O algoritmo Prophet apresentou o menor MSE, de forma que tentaremos melhorar sua performance em seguida. A ferramenta disponibilizada pelo Prophet para diagnósticos é uma função de validação cruzada periódica sobre um dataframe de treinamento, que deve se seguir de um Grid-Search para escolha de hiperparâmetros. Acontece que o Optuna já disponibiliza essa funcionalidade, portanto, rodaremos sua otimização novamente, com quantidade de tentativas consideravelmente maior."
   ]
  },
  {
   "cell_type": "code",
   "execution_count": 57,
   "metadata": {},
   "outputs": [
    {
     "name": "stderr",
     "output_type": "stream",
     "text": [
      "\u001b[32m[I 2021-04-17 14:24:50,511]\u001b[0m A new study created in memory with name: no-name-6d8f7741-77f3-4bfc-9e7f-bd5d7fe52034\u001b[0m\n",
      "INFO:fbprophet:Disabling weekly seasonality. Run prophet with weekly_seasonality=True to override this.\n",
      "INFO:fbprophet:Disabling daily seasonality. Run prophet with daily_seasonality=True to override this.\n",
      "\u001b[32m[I 2021-04-17 14:24:52,061]\u001b[0m Trial 0 finished with value: 0.01721851140982111 and parameters: {'changepoint_prior_scale': 0.28267910158614273, 'seasonality_prior_scale': 6.108871924919028, 'holidays_prior_scale': 6.232856259089097}. Best is trial 0 with value: 0.01721851140982111.\u001b[0m\n",
      "INFO:fbprophet:Disabling weekly seasonality. Run prophet with weekly_seasonality=True to override this.\n",
      "INFO:fbprophet:Disabling daily seasonality. Run prophet with daily_seasonality=True to override this.\n",
      "\u001b[32m[I 2021-04-17 14:24:53,523]\u001b[0m Trial 1 finished with value: 0.016930696745544236 and parameters: {'changepoint_prior_scale': 0.15779094175487823, 'seasonality_prior_scale': 3.601247326706871, 'holidays_prior_scale': 3.9292778333520455}. Best is trial 1 with value: 0.016930696745544236.\u001b[0m\n",
      "INFO:fbprophet:Disabling weekly seasonality. Run prophet with weekly_seasonality=True to override this.\n",
      "INFO:fbprophet:Disabling daily seasonality. Run prophet with daily_seasonality=True to override this.\n",
      "\u001b[32m[I 2021-04-17 14:24:54,924]\u001b[0m Trial 2 finished with value: 0.01727725068467223 and parameters: {'changepoint_prior_scale': 0.01757881503931434, 'seasonality_prior_scale': 2.4933825249533097, 'holidays_prior_scale': 1.8116705317330855}. Best is trial 1 with value: 0.016930696745544236.\u001b[0m\n",
      "INFO:fbprophet:Disabling weekly seasonality. Run prophet with weekly_seasonality=True to override this.\n",
      "INFO:fbprophet:Disabling daily seasonality. Run prophet with daily_seasonality=True to override this.\n",
      "\u001b[32m[I 2021-04-17 14:24:56,361]\u001b[0m Trial 3 finished with value: 0.01762071786480166 and parameters: {'changepoint_prior_scale': 0.22426307694170752, 'seasonality_prior_scale': 3.852803342582967, 'holidays_prior_scale': 8.149803929144475}. Best is trial 1 with value: 0.016930696745544236.\u001b[0m\n",
      "INFO:fbprophet:Disabling weekly seasonality. Run prophet with weekly_seasonality=True to override this.\n",
      "INFO:fbprophet:Disabling daily seasonality. Run prophet with daily_seasonality=True to override this.\n",
      "\u001b[32m[I 2021-04-17 14:24:57,876]\u001b[0m Trial 4 finished with value: 0.017204808583726826 and parameters: {'changepoint_prior_scale': 0.16977183269892865, 'seasonality_prior_scale': 4.388149549713503, 'holidays_prior_scale': 8.226502507225925}. Best is trial 1 with value: 0.016930696745544236.\u001b[0m\n",
      "INFO:fbprophet:Disabling weekly seasonality. Run prophet with weekly_seasonality=True to override this.\n",
      "INFO:fbprophet:Disabling daily seasonality. Run prophet with daily_seasonality=True to override this.\n",
      "\u001b[32m[I 2021-04-17 14:24:59,297]\u001b[0m Trial 5 finished with value: 0.014193427824574471 and parameters: {'changepoint_prior_scale': 0.049586086891741016, 'seasonality_prior_scale': 1.1140746231619814, 'holidays_prior_scale': 1.3780396090716336}. Best is trial 5 with value: 0.014193427824574471.\u001b[0m\n",
      "INFO:fbprophet:Disabling weekly seasonality. Run prophet with weekly_seasonality=True to override this.\n",
      "INFO:fbprophet:Disabling daily seasonality. Run prophet with daily_seasonality=True to override this.\n",
      "\u001b[32m[I 2021-04-17 14:25:00,709]\u001b[0m Trial 6 finished with value: 0.015747223696788187 and parameters: {'changepoint_prior_scale': 0.09014563002733984, 'seasonality_prior_scale': 6.994623714740394, 'holidays_prior_scale': 1.4892669576918833}. Best is trial 5 with value: 0.014193427824574471.\u001b[0m\n",
      "INFO:fbprophet:Disabling weekly seasonality. Run prophet with weekly_seasonality=True to override this.\n",
      "INFO:fbprophet:Disabling daily seasonality. Run prophet with daily_seasonality=True to override this.\n",
      "\u001b[32m[I 2021-04-17 14:25:02,246]\u001b[0m Trial 7 finished with value: 0.01662753290536283 and parameters: {'changepoint_prior_scale': 0.33820131966670935, 'seasonality_prior_scale': 1.0839892158591238, 'holidays_prior_scale': 2.0812907160246055}. Best is trial 5 with value: 0.014193427824574471.\u001b[0m\n",
      "INFO:fbprophet:Disabling weekly seasonality. Run prophet with weekly_seasonality=True to override this.\n",
      "INFO:fbprophet:Disabling daily seasonality. Run prophet with daily_seasonality=True to override this.\n",
      "\u001b[32m[I 2021-04-17 14:25:03,677]\u001b[0m Trial 8 finished with value: 0.01675448121198846 and parameters: {'changepoint_prior_scale': 0.13511625578385242, 'seasonality_prior_scale': 1.483608513859423, 'holidays_prior_scale': 0.15853717457071914}. Best is trial 5 with value: 0.014193427824574471.\u001b[0m\n",
      "INFO:fbprophet:Disabling weekly seasonality. Run prophet with weekly_seasonality=True to override this.\n",
      "INFO:fbprophet:Disabling daily seasonality. Run prophet with daily_seasonality=True to override this.\n",
      "\u001b[32m[I 2021-04-17 14:25:05,129]\u001b[0m Trial 9 pruned. \u001b[0m\n",
      "INFO:fbprophet:Disabling weekly seasonality. Run prophet with weekly_seasonality=True to override this.\n",
      "INFO:fbprophet:Disabling daily seasonality. Run prophet with daily_seasonality=True to override this.\n",
      "\u001b[32m[I 2021-04-17 14:25:06,563]\u001b[0m Trial 10 finished with value: 0.014144162014882297 and parameters: {'changepoint_prior_scale': 0.03293963220519264, 'seasonality_prior_scale': 9.460121432137527, 'holidays_prior_scale': 3.85733109213035}. Best is trial 10 with value: 0.014144162014882297.\u001b[0m\n",
      "INFO:fbprophet:Disabling weekly seasonality. Run prophet with weekly_seasonality=True to override this.\n",
      "INFO:fbprophet:Disabling daily seasonality. Run prophet with daily_seasonality=True to override this.\n",
      "\u001b[32m[I 2021-04-17 14:25:08,077]\u001b[0m Trial 11 pruned. \u001b[0m\n",
      "INFO:fbprophet:Disabling weekly seasonality. Run prophet with weekly_seasonality=True to override this.\n",
      "INFO:fbprophet:Disabling daily seasonality. Run prophet with daily_seasonality=True to override this.\n",
      "\u001b[32m[I 2021-04-17 14:25:09,630]\u001b[0m Trial 12 finished with value: 0.014580988532592551 and parameters: {'changepoint_prior_scale': 0.4999410165321181, 'seasonality_prior_scale': 9.258738507989367, 'holidays_prior_scale': 0.14275203618422472}. Best is trial 10 with value: 0.014144162014882297.\u001b[0m\n",
      "INFO:fbprophet:Disabling weekly seasonality. Run prophet with weekly_seasonality=True to override this.\n",
      "INFO:fbprophet:Disabling daily seasonality. Run prophet with daily_seasonality=True to override this.\n",
      "\u001b[32m[I 2021-04-17 14:25:11,087]\u001b[0m Trial 13 finished with value: 0.01478736465694513 and parameters: {'changepoint_prior_scale': 0.06004904950152412, 'seasonality_prior_scale': 7.678684900417843, 'holidays_prior_scale': 3.746887752650534}. Best is trial 10 with value: 0.014144162014882297.\u001b[0m\n",
      "INFO:fbprophet:Disabling weekly seasonality. Run prophet with weekly_seasonality=True to override this.\n",
      "INFO:fbprophet:Disabling daily seasonality. Run prophet with daily_seasonality=True to override this.\n",
      "WARNING:fbprophet.models:Optimization terminated abnormally. Falling back to Newton.\n",
      "\u001b[32m[I 2021-04-17 14:25:13,595]\u001b[0m Trial 14 pruned. \u001b[0m\n",
      "INFO:fbprophet:Disabling weekly seasonality. Run prophet with weekly_seasonality=True to override this.\n",
      "INFO:fbprophet:Disabling daily seasonality. Run prophet with daily_seasonality=True to override this.\n",
      "\u001b[32m[I 2021-04-17 14:25:15,086]\u001b[0m Trial 15 finished with value: 0.015778940016943677 and parameters: {'changepoint_prior_scale': 0.38268525233310535, 'seasonality_prior_scale': 8.342182502029067, 'holidays_prior_scale': 4.763793880355884}. Best is trial 10 with value: 0.014144162014882297.\u001b[0m\n",
      "INFO:fbprophet:Disabling weekly seasonality. Run prophet with weekly_seasonality=True to override this.\n",
      "INFO:fbprophet:Disabling daily seasonality. Run prophet with daily_seasonality=True to override this.\n",
      "\u001b[32m[I 2021-04-17 14:25:16,540]\u001b[0m Trial 16 finished with value: 0.015578485506072609 and parameters: {'changepoint_prior_scale': 0.09780285045148272, 'seasonality_prior_scale': 0.08542983626468281, 'holidays_prior_scale': 6.734576515445465}. Best is trial 10 with value: 0.014144162014882297.\u001b[0m\n",
      "INFO:fbprophet:Disabling weekly seasonality. Run prophet with weekly_seasonality=True to override this.\n",
      "INFO:fbprophet:Disabling daily seasonality. Run prophet with daily_seasonality=True to override this.\n"
     ]
    },
    {
     "name": "stderr",
     "output_type": "stream",
     "text": [
      "\u001b[32m[I 2021-04-17 14:25:18,047]\u001b[0m Trial 17 finished with value: 0.014400877738653499 and parameters: {'changepoint_prior_scale': 0.05249358012156105, 'seasonality_prior_scale': 2.600868210722737, 'holidays_prior_scale': 1.0964155171404322}. Best is trial 10 with value: 0.014144162014882297.\u001b[0m\n",
      "INFO:fbprophet:Disabling weekly seasonality. Run prophet with weekly_seasonality=True to override this.\n",
      "INFO:fbprophet:Disabling daily seasonality. Run prophet with daily_seasonality=True to override this.\n",
      "\u001b[32m[I 2021-04-17 14:25:19,593]\u001b[0m Trial 18 finished with value: 0.014647094329945569 and parameters: {'changepoint_prior_scale': 0.4549312268364326, 'seasonality_prior_scale': 9.9790729369758, 'holidays_prior_scale': 2.726824496500038}. Best is trial 10 with value: 0.014144162014882297.\u001b[0m\n",
      "INFO:fbprophet:Disabling weekly seasonality. Run prophet with weekly_seasonality=True to override this.\n",
      "INFO:fbprophet:Disabling daily seasonality. Run prophet with daily_seasonality=True to override this.\n",
      "\u001b[32m[I 2021-04-17 14:25:21,039]\u001b[0m Trial 19 pruned. \u001b[0m\n",
      "INFO:fbprophet:Disabling weekly seasonality. Run prophet with weekly_seasonality=True to override this.\n",
      "INFO:fbprophet:Disabling daily seasonality. Run prophet with daily_seasonality=True to override this.\n",
      "\u001b[32m[I 2021-04-17 14:25:22,541]\u001b[0m Trial 20 pruned. \u001b[0m\n",
      "INFO:fbprophet:Disabling weekly seasonality. Run prophet with weekly_seasonality=True to override this.\n",
      "INFO:fbprophet:Disabling daily seasonality. Run prophet with daily_seasonality=True to override this.\n",
      "\u001b[32m[I 2021-04-17 14:25:24,158]\u001b[0m Trial 21 finished with value: 0.014461436834252 and parameters: {'changepoint_prior_scale': 0.026885411868732237, 'seasonality_prior_scale': 2.764931219098677, 'holidays_prior_scale': 1.120100950824377}. Best is trial 10 with value: 0.014144162014882297.\u001b[0m\n",
      "INFO:fbprophet:Disabling weekly seasonality. Run prophet with weekly_seasonality=True to override this.\n",
      "INFO:fbprophet:Disabling daily seasonality. Run prophet with daily_seasonality=True to override this.\n",
      "\u001b[32m[I 2021-04-17 14:25:25,640]\u001b[0m Trial 22 finished with value: 0.014619815921502974 and parameters: {'changepoint_prior_scale': 0.05637524968224422, 'seasonality_prior_scale': 2.4641086314205483, 'holidays_prior_scale': 0.7782618136298803}. Best is trial 10 with value: 0.014144162014882297.\u001b[0m\n",
      "INFO:fbprophet:Disabling weekly seasonality. Run prophet with weekly_seasonality=True to override this.\n",
      "INFO:fbprophet:Disabling daily seasonality. Run prophet with daily_seasonality=True to override this.\n",
      "\u001b[32m[I 2021-04-17 14:25:27,155]\u001b[0m Trial 23 finished with value: 0.01437905601872999 and parameters: {'changepoint_prior_scale': 0.053625289362542676, 'seasonality_prior_scale': 1.8040523437408797, 'holidays_prior_scale': 2.73454950222696}. Best is trial 10 with value: 0.014144162014882297.\u001b[0m\n",
      "INFO:fbprophet:Disabling weekly seasonality. Run prophet with weekly_seasonality=True to override this.\n",
      "INFO:fbprophet:Disabling daily seasonality. Run prophet with daily_seasonality=True to override this.\n",
      "\u001b[32m[I 2021-04-17 14:25:28,643]\u001b[0m Trial 24 finished with value: 0.015259639584633814 and parameters: {'changepoint_prior_scale': 0.07852137085317712, 'seasonality_prior_scale': 1.7925479455843587, 'holidays_prior_scale': 2.6977707497977064}. Best is trial 10 with value: 0.014144162014882297.\u001b[0m\n",
      "INFO:fbprophet:Disabling weekly seasonality. Run prophet with weekly_seasonality=True to override this.\n",
      "INFO:fbprophet:Disabling daily seasonality. Run prophet with daily_seasonality=True to override this.\n",
      "\u001b[32m[I 2021-04-17 14:25:30,160]\u001b[0m Trial 25 pruned. \u001b[0m\n",
      "INFO:fbprophet:Disabling weekly seasonality. Run prophet with weekly_seasonality=True to override this.\n",
      "INFO:fbprophet:Disabling daily seasonality. Run prophet with daily_seasonality=True to override this.\n",
      "\u001b[32m[I 2021-04-17 14:25:31,657]\u001b[0m Trial 26 pruned. \u001b[0m\n",
      "INFO:fbprophet:Disabling weekly seasonality. Run prophet with weekly_seasonality=True to override this.\n",
      "INFO:fbprophet:Disabling daily seasonality. Run prophet with daily_seasonality=True to override this.\n",
      "\u001b[32m[I 2021-04-17 14:25:33,149]\u001b[0m Trial 27 finished with value: 0.01411190145110267 and parameters: {'changepoint_prior_scale': 0.04171675656865035, 'seasonality_prior_scale': 4.6738669330517455, 'holidays_prior_scale': 2.943179265115959}. Best is trial 27 with value: 0.01411190145110267.\u001b[0m\n",
      "INFO:fbprophet:Disabling weekly seasonality. Run prophet with weekly_seasonality=True to override this.\n",
      "INFO:fbprophet:Disabling daily seasonality. Run prophet with daily_seasonality=True to override this.\n",
      "\u001b[32m[I 2021-04-17 14:25:34,776]\u001b[0m Trial 28 pruned. \u001b[0m\n",
      "INFO:fbprophet:Disabling weekly seasonality. Run prophet with weekly_seasonality=True to override this.\n",
      "INFO:fbprophet:Disabling daily seasonality. Run prophet with daily_seasonality=True to override this.\n",
      "\u001b[32m[I 2021-04-17 14:25:36,276]\u001b[0m Trial 29 pruned. \u001b[0m\n",
      "INFO:fbprophet:Disabling weekly seasonality. Run prophet with weekly_seasonality=True to override this.\n",
      "INFO:fbprophet:Disabling daily seasonality. Run prophet with daily_seasonality=True to override this.\n",
      "\u001b[32m[I 2021-04-17 14:25:37,800]\u001b[0m Trial 30 finished with value: 0.014040591393224874 and parameters: {'changepoint_prior_scale': 0.040169522404867555, 'seasonality_prior_scale': 8.764959626877873, 'holidays_prior_scale': 3.210369197537295}. Best is trial 30 with value: 0.014040591393224874.\u001b[0m\n",
      "INFO:fbprophet:Disabling weekly seasonality. Run prophet with weekly_seasonality=True to override this.\n",
      "INFO:fbprophet:Disabling daily seasonality. Run prophet with daily_seasonality=True to override this.\n",
      "WARNING:fbprophet.models:Optimization terminated abnormally. Falling back to Newton.\n",
      "\u001b[32m[I 2021-04-17 14:25:40,313]\u001b[0m Trial 31 pruned. \u001b[0m\n",
      "INFO:fbprophet:Disabling weekly seasonality. Run prophet with weekly_seasonality=True to override this.\n",
      "INFO:fbprophet:Disabling daily seasonality. Run prophet with daily_seasonality=True to override this.\n",
      "\u001b[32m[I 2021-04-17 14:25:41,832]\u001b[0m Trial 32 finished with value: 0.014209548486228246 and parameters: {'changepoint_prior_scale': 0.040235700898922165, 'seasonality_prior_scale': 8.132563175204634, 'holidays_prior_scale': 4.270209699428775}. Best is trial 30 with value: 0.014040591393224874.\u001b[0m\n",
      "INFO:fbprophet:Disabling weekly seasonality. Run prophet with weekly_seasonality=True to override this.\n",
      "INFO:fbprophet:Disabling daily seasonality. Run prophet with daily_seasonality=True to override this.\n",
      "\u001b[32m[I 2021-04-17 14:25:43,330]\u001b[0m Trial 33 pruned. \u001b[0m\n",
      "INFO:fbprophet:Disabling weekly seasonality. Run prophet with weekly_seasonality=True to override this.\n",
      "INFO:fbprophet:Disabling daily seasonality. Run prophet with daily_seasonality=True to override this.\n",
      "\u001b[32m[I 2021-04-17 14:25:44,820]\u001b[0m Trial 34 pruned. \u001b[0m\n",
      "INFO:fbprophet:Disabling weekly seasonality. Run prophet with weekly_seasonality=True to override this.\n",
      "INFO:fbprophet:Disabling daily seasonality. Run prophet with daily_seasonality=True to override this.\n",
      "\u001b[32m[I 2021-04-17 14:25:46,415]\u001b[0m Trial 35 finished with value: 0.014322622827847306 and parameters: {'changepoint_prior_scale': 0.028859495833894074, 'seasonality_prior_scale': 9.990530743306117, 'holidays_prior_scale': 3.063546089973863}. Best is trial 30 with value: 0.014040591393224874.\u001b[0m\n",
      "INFO:fbprophet:Disabling weekly seasonality. Run prophet with weekly_seasonality=True to override this.\n",
      "INFO:fbprophet:Disabling daily seasonality. Run prophet with daily_seasonality=True to override this.\n",
      "\u001b[32m[I 2021-04-17 14:25:48,170]\u001b[0m Trial 36 pruned. \u001b[0m\n",
      "INFO:fbprophet:Disabling weekly seasonality. Run prophet with weekly_seasonality=True to override this.\n",
      "INFO:fbprophet:Disabling daily seasonality. Run prophet with daily_seasonality=True to override this.\n",
      "\u001b[32m[I 2021-04-17 14:25:49,908]\u001b[0m Trial 37 pruned. \u001b[0m\n",
      "INFO:fbprophet:Disabling weekly seasonality. Run prophet with weekly_seasonality=True to override this.\n",
      "INFO:fbprophet:Disabling daily seasonality. Run prophet with daily_seasonality=True to override this.\n",
      "\u001b[32m[I 2021-04-17 14:25:51,369]\u001b[0m Trial 38 pruned. \u001b[0m\n",
      "INFO:fbprophet:Disabling weekly seasonality. Run prophet with weekly_seasonality=True to override this.\n"
     ]
    },
    {
     "name": "stderr",
     "output_type": "stream",
     "text": [
      "INFO:fbprophet:Disabling daily seasonality. Run prophet with daily_seasonality=True to override this.\n",
      "\u001b[32m[I 2021-04-17 14:25:53,171]\u001b[0m Trial 39 finished with value: 0.014161522600817345 and parameters: {'changepoint_prior_scale': 0.03401423570701245, 'seasonality_prior_scale': 4.034015319092515, 'holidays_prior_scale': 1.3320013788412375}. Best is trial 30 with value: 0.014040591393224874.\u001b[0m\n",
      "INFO:fbprophet:Disabling weekly seasonality. Run prophet with weekly_seasonality=True to override this.\n",
      "INFO:fbprophet:Disabling daily seasonality. Run prophet with daily_seasonality=True to override this.\n",
      "\u001b[32m[I 2021-04-17 14:25:55,045]\u001b[0m Trial 40 pruned. \u001b[0m\n",
      "INFO:fbprophet:Disabling weekly seasonality. Run prophet with weekly_seasonality=True to override this.\n",
      "INFO:fbprophet:Disabling daily seasonality. Run prophet with daily_seasonality=True to override this.\n",
      "\u001b[32m[I 2021-04-17 14:25:56,617]\u001b[0m Trial 41 finished with value: 0.014103295652897441 and parameters: {'changepoint_prior_scale': 0.031796717460087345, 'seasonality_prior_scale': 3.9742992079807173, 'holidays_prior_scale': 1.4483434550195444}. Best is trial 30 with value: 0.014040591393224874.\u001b[0m\n",
      "INFO:fbprophet:Disabling weekly seasonality. Run prophet with weekly_seasonality=True to override this.\n",
      "INFO:fbprophet:Disabling daily seasonality. Run prophet with daily_seasonality=True to override this.\n",
      "\u001b[32m[I 2021-04-17 14:25:58,238]\u001b[0m Trial 42 pruned. \u001b[0m\n",
      "INFO:fbprophet:Disabling weekly seasonality. Run prophet with weekly_seasonality=True to override this.\n",
      "INFO:fbprophet:Disabling daily seasonality. Run prophet with daily_seasonality=True to override this.\n",
      "\u001b[32m[I 2021-04-17 14:25:59,792]\u001b[0m Trial 43 pruned. \u001b[0m\n",
      "INFO:fbprophet:Disabling weekly seasonality. Run prophet with weekly_seasonality=True to override this.\n",
      "INFO:fbprophet:Disabling daily seasonality. Run prophet with daily_seasonality=True to override this.\n",
      "\u001b[32m[I 2021-04-17 14:26:01,306]\u001b[0m Trial 44 finished with value: 0.014164343099386611 and parameters: {'changepoint_prior_scale': 0.03208485644536889, 'seasonality_prior_scale': 5.379928880729546, 'holidays_prior_scale': 3.149920974061144}. Best is trial 30 with value: 0.014040591393224874.\u001b[0m\n",
      "INFO:fbprophet:Disabling weekly seasonality. Run prophet with weekly_seasonality=True to override this.\n",
      "INFO:fbprophet:Disabling daily seasonality. Run prophet with daily_seasonality=True to override this.\n",
      "\u001b[32m[I 2021-04-17 14:26:02,872]\u001b[0m Trial 45 finished with value: 0.013955262891536327 and parameters: {'changepoint_prior_scale': 0.035238120177812866, 'seasonality_prior_scale': 5.193690722666086, 'holidays_prior_scale': 5.472175250495995}. Best is trial 45 with value: 0.013955262891536327.\u001b[0m\n",
      "INFO:fbprophet:Disabling weekly seasonality. Run prophet with weekly_seasonality=True to override this.\n",
      "INFO:fbprophet:Disabling daily seasonality. Run prophet with daily_seasonality=True to override this.\n",
      "\u001b[32m[I 2021-04-17 14:26:04,353]\u001b[0m Trial 46 pruned. \u001b[0m\n",
      "INFO:fbprophet:Disabling weekly seasonality. Run prophet with weekly_seasonality=True to override this.\n",
      "INFO:fbprophet:Disabling daily seasonality. Run prophet with daily_seasonality=True to override this.\n",
      "WARNING:fbprophet.models:Optimization terminated abnormally. Falling back to Newton.\n",
      "\u001b[32m[I 2021-04-17 14:26:06,874]\u001b[0m Trial 47 pruned. \u001b[0m\n",
      "INFO:fbprophet:Disabling weekly seasonality. Run prophet with weekly_seasonality=True to override this.\n",
      "INFO:fbprophet:Disabling daily seasonality. Run prophet with daily_seasonality=True to override this.\n",
      "\u001b[32m[I 2021-04-17 14:26:08,455]\u001b[0m Trial 48 pruned. \u001b[0m\n",
      "INFO:fbprophet:Disabling weekly seasonality. Run prophet with weekly_seasonality=True to override this.\n",
      "INFO:fbprophet:Disabling daily seasonality. Run prophet with daily_seasonality=True to override this.\n",
      "\u001b[32m[I 2021-04-17 14:26:10,000]\u001b[0m Trial 49 pruned. \u001b[0m\n",
      "INFO:fbprophet:Disabling weekly seasonality. Run prophet with weekly_seasonality=True to override this.\n",
      "INFO:fbprophet:Disabling daily seasonality. Run prophet with daily_seasonality=True to override this.\n",
      "\u001b[32m[I 2021-04-17 14:26:11,507]\u001b[0m Trial 50 pruned. \u001b[0m\n",
      "INFO:fbprophet:Disabling weekly seasonality. Run prophet with weekly_seasonality=True to override this.\n",
      "INFO:fbprophet:Disabling daily seasonality. Run prophet with daily_seasonality=True to override this.\n",
      "\u001b[32m[I 2021-04-17 14:26:13,224]\u001b[0m Trial 51 finished with value: 0.01411962774908026 and parameters: {'changepoint_prior_scale': 0.03664232233975017, 'seasonality_prior_scale': 4.2372441045166855, 'holidays_prior_scale': 1.6111110233067922}. Best is trial 45 with value: 0.013955262891536327.\u001b[0m\n",
      "INFO:fbprophet:Disabling weekly seasonality. Run prophet with weekly_seasonality=True to override this.\n",
      "INFO:fbprophet:Disabling daily seasonality. Run prophet with daily_seasonality=True to override this.\n",
      "\u001b[32m[I 2021-04-17 14:26:14,816]\u001b[0m Trial 52 finished with value: 0.01417729439337812 and parameters: {'changepoint_prior_scale': 0.04553585206940651, 'seasonality_prior_scale': 3.75720307243942, 'holidays_prior_scale': 3.5699092570841118}. Best is trial 45 with value: 0.013955262891536327.\u001b[0m\n",
      "INFO:fbprophet:Disabling weekly seasonality. Run prophet with weekly_seasonality=True to override this.\n",
      "INFO:fbprophet:Disabling daily seasonality. Run prophet with daily_seasonality=True to override this.\n",
      "\u001b[32m[I 2021-04-17 14:26:16,382]\u001b[0m Trial 53 pruned. \u001b[0m\n",
      "INFO:fbprophet:Disabling weekly seasonality. Run prophet with weekly_seasonality=True to override this.\n",
      "INFO:fbprophet:Disabling daily seasonality. Run prophet with daily_seasonality=True to override this.\n",
      "\u001b[32m[I 2021-04-17 14:26:17,913]\u001b[0m Trial 54 pruned. \u001b[0m\n",
      "INFO:fbprophet:Disabling weekly seasonality. Run prophet with weekly_seasonality=True to override this.\n",
      "INFO:fbprophet:Disabling daily seasonality. Run prophet with daily_seasonality=True to override this.\n",
      "WARNING:fbprophet.models:Optimization terminated abnormally. Falling back to Newton.\n",
      "\u001b[32m[I 2021-04-17 14:26:20,422]\u001b[0m Trial 55 pruned. \u001b[0m\n",
      "INFO:fbprophet:Disabling weekly seasonality. Run prophet with weekly_seasonality=True to override this.\n",
      "INFO:fbprophet:Disabling daily seasonality. Run prophet with daily_seasonality=True to override this.\n",
      "\u001b[32m[I 2021-04-17 14:26:22,189]\u001b[0m Trial 56 finished with value: 0.01416552160226168 and parameters: {'changepoint_prior_scale': 0.045568375365127284, 'seasonality_prior_scale': 4.266284211764624, 'holidays_prior_scale': 2.411564075538669}. Best is trial 45 with value: 0.013955262891536327.\u001b[0m\n",
      "INFO:fbprophet:Disabling weekly seasonality. Run prophet with weekly_seasonality=True to override this.\n",
      "INFO:fbprophet:Disabling daily seasonality. Run prophet with daily_seasonality=True to override this.\n",
      "\u001b[32m[I 2021-04-17 14:26:23,786]\u001b[0m Trial 57 pruned. \u001b[0m\n",
      "INFO:fbprophet:Disabling weekly seasonality. Run prophet with weekly_seasonality=True to override this.\n",
      "INFO:fbprophet:Disabling daily seasonality. Run prophet with daily_seasonality=True to override this.\n",
      "\u001b[32m[I 2021-04-17 14:26:25,772]\u001b[0m Trial 58 finished with value: 0.014362153585209295 and parameters: {'changepoint_prior_scale': 0.06207179036081408, 'seasonality_prior_scale': 2.9769259509934756, 'holidays_prior_scale': 4.780437574311592}. Best is trial 45 with value: 0.013955262891536327.\u001b[0m\n",
      "INFO:fbprophet:Disabling weekly seasonality. Run prophet with weekly_seasonality=True to override this.\n",
      "INFO:fbprophet:Disabling daily seasonality. Run prophet with daily_seasonality=True to override this.\n",
      "\u001b[32m[I 2021-04-17 14:26:28,063]\u001b[0m Trial 59 pruned. \u001b[0m\n",
      "INFO:fbprophet:Disabling weekly seasonality. Run prophet with weekly_seasonality=True to override this.\n",
      "INFO:fbprophet:Disabling daily seasonality. Run prophet with daily_seasonality=True to override this.\n",
      "\u001b[32m[I 2021-04-17 14:26:29,657]\u001b[0m Trial 60 pruned. \u001b[0m\n",
      "INFO:fbprophet:Disabling weekly seasonality. Run prophet with weekly_seasonality=True to override this.\n",
      "INFO:fbprophet:Disabling daily seasonality. Run prophet with daily_seasonality=True to override this.\n",
      "\u001b[32m[I 2021-04-17 14:26:31,226]\u001b[0m Trial 61 finished with value: 0.014099467872088739 and parameters: {'changepoint_prior_scale': 0.04229117656320899, 'seasonality_prior_scale': 4.269401207482762, 'holidays_prior_scale': 1.3267940717352444}. Best is trial 45 with value: 0.013955262891536327.\u001b[0m\n"
     ]
    },
    {
     "name": "stderr",
     "output_type": "stream",
     "text": [
      "INFO:fbprophet:Disabling weekly seasonality. Run prophet with weekly_seasonality=True to override this.\n",
      "INFO:fbprophet:Disabling daily seasonality. Run prophet with daily_seasonality=True to override this.\n",
      "\u001b[32m[I 2021-04-17 14:26:32,745]\u001b[0m Trial 62 pruned. \u001b[0m\n",
      "INFO:fbprophet:Disabling weekly seasonality. Run prophet with weekly_seasonality=True to override this.\n",
      "INFO:fbprophet:Disabling daily seasonality. Run prophet with daily_seasonality=True to override this.\n",
      "\u001b[32m[I 2021-04-17 14:26:34,349]\u001b[0m Trial 63 finished with value: 0.01415689146590414 and parameters: {'changepoint_prior_scale': 0.04629744323580454, 'seasonality_prior_scale': 4.865645470280288, 'holidays_prior_scale': 1.6280438670057253}. Best is trial 45 with value: 0.013955262891536327.\u001b[0m\n",
      "INFO:fbprophet:Disabling weekly seasonality. Run prophet with weekly_seasonality=True to override this.\n",
      "INFO:fbprophet:Disabling daily seasonality. Run prophet with daily_seasonality=True to override this.\n",
      "\u001b[32m[I 2021-04-17 14:26:36,016]\u001b[0m Trial 64 pruned. \u001b[0m\n",
      "INFO:fbprophet:Disabling weekly seasonality. Run prophet with weekly_seasonality=True to override this.\n",
      "INFO:fbprophet:Disabling daily seasonality. Run prophet with daily_seasonality=True to override this.\n",
      "\u001b[32m[I 2021-04-17 14:26:37,574]\u001b[0m Trial 65 pruned. \u001b[0m\n",
      "INFO:fbprophet:Disabling weekly seasonality. Run prophet with weekly_seasonality=True to override this.\n",
      "INFO:fbprophet:Disabling daily seasonality. Run prophet with daily_seasonality=True to override this.\n",
      "\u001b[32m[I 2021-04-17 14:26:39,104]\u001b[0m Trial 66 pruned. \u001b[0m\n",
      "INFO:fbprophet:Disabling weekly seasonality. Run prophet with weekly_seasonality=True to override this.\n",
      "INFO:fbprophet:Disabling daily seasonality. Run prophet with daily_seasonality=True to override this.\n",
      "\u001b[32m[I 2021-04-17 14:26:40,700]\u001b[0m Trial 67 finished with value: 0.014216840377884907 and parameters: {'changepoint_prior_scale': 0.03031239736270519, 'seasonality_prior_scale': 5.551715540086438, 'holidays_prior_scale': 0.19405579024803465}. Best is trial 45 with value: 0.013955262891536327.\u001b[0m\n",
      "INFO:fbprophet:Disabling weekly seasonality. Run prophet with weekly_seasonality=True to override this.\n",
      "INFO:fbprophet:Disabling daily seasonality. Run prophet with daily_seasonality=True to override this.\n",
      "\u001b[32m[I 2021-04-17 14:26:42,237]\u001b[0m Trial 68 pruned. \u001b[0m\n",
      "INFO:fbprophet:Disabling weekly seasonality. Run prophet with weekly_seasonality=True to override this.\n",
      "INFO:fbprophet:Disabling daily seasonality. Run prophet with daily_seasonality=True to override this.\n",
      "\u001b[32m[I 2021-04-17 14:26:43,781]\u001b[0m Trial 69 pruned. \u001b[0m\n",
      "INFO:fbprophet:Disabling weekly seasonality. Run prophet with weekly_seasonality=True to override this.\n",
      "INFO:fbprophet:Disabling daily seasonality. Run prophet with daily_seasonality=True to override this.\n",
      "WARNING:fbprophet.models:Optimization terminated abnormally. Falling back to Newton.\n",
      "\u001b[32m[I 2021-04-17 14:26:46,144]\u001b[0m Trial 70 pruned. \u001b[0m\n",
      "INFO:fbprophet:Disabling weekly seasonality. Run prophet with weekly_seasonality=True to override this.\n",
      "INFO:fbprophet:Disabling daily seasonality. Run prophet with daily_seasonality=True to override this.\n",
      "\u001b[32m[I 2021-04-17 14:26:47,671]\u001b[0m Trial 71 finished with value: 0.014131132108311443 and parameters: {'changepoint_prior_scale': 0.04315884181637443, 'seasonality_prior_scale': 4.758834944743878, 'holidays_prior_scale': 1.7529173649527567}. Best is trial 45 with value: 0.013955262891536327.\u001b[0m\n",
      "INFO:fbprophet:Disabling weekly seasonality. Run prophet with weekly_seasonality=True to override this.\n",
      "INFO:fbprophet:Disabling daily seasonality. Run prophet with daily_seasonality=True to override this.\n",
      "\u001b[32m[I 2021-04-17 14:26:49,175]\u001b[0m Trial 72 finished with value: 0.014057228372013066 and parameters: {'changepoint_prior_scale': 0.04104144936294416, 'seasonality_prior_scale': 5.14072385720758, 'holidays_prior_scale': 0.8312210794483293}. Best is trial 45 with value: 0.013955262891536327.\u001b[0m\n",
      "INFO:fbprophet:Disabling weekly seasonality. Run prophet with weekly_seasonality=True to override this.\n",
      "INFO:fbprophet:Disabling daily seasonality. Run prophet with daily_seasonality=True to override this.\n",
      "\u001b[32m[I 2021-04-17 14:26:50,783]\u001b[0m Trial 73 pruned. \u001b[0m\n",
      "INFO:fbprophet:Disabling weekly seasonality. Run prophet with weekly_seasonality=True to override this.\n",
      "INFO:fbprophet:Disabling daily seasonality. Run prophet with daily_seasonality=True to override this.\n",
      "\u001b[32m[I 2021-04-17 14:26:52,290]\u001b[0m Trial 74 pruned. \u001b[0m\n",
      "INFO:fbprophet:Disabling weekly seasonality. Run prophet with weekly_seasonality=True to override this.\n",
      "INFO:fbprophet:Disabling daily seasonality. Run prophet with daily_seasonality=True to override this.\n",
      "\u001b[32m[I 2021-04-17 14:26:53,850]\u001b[0m Trial 75 finished with value: 0.014035548336500817 and parameters: {'changepoint_prior_scale': 0.039430546726438746, 'seasonality_prior_scale': 4.001911876246231, 'holidays_prior_scale': 1.5763033054831683}. Best is trial 45 with value: 0.013955262891536327.\u001b[0m\n",
      "INFO:fbprophet:Disabling weekly seasonality. Run prophet with weekly_seasonality=True to override this.\n",
      "INFO:fbprophet:Disabling daily seasonality. Run prophet with daily_seasonality=True to override this.\n",
      "\u001b[32m[I 2021-04-17 14:26:55,389]\u001b[0m Trial 76 pruned. \u001b[0m\n",
      "INFO:fbprophet:Disabling weekly seasonality. Run prophet with weekly_seasonality=True to override this.\n",
      "INFO:fbprophet:Disabling daily seasonality. Run prophet with daily_seasonality=True to override this.\n",
      "\u001b[32m[I 2021-04-17 14:26:56,988]\u001b[0m Trial 77 pruned. \u001b[0m\n",
      "INFO:fbprophet:Disabling weekly seasonality. Run prophet with weekly_seasonality=True to override this.\n",
      "INFO:fbprophet:Disabling daily seasonality. Run prophet with daily_seasonality=True to override this.\n",
      "\u001b[32m[I 2021-04-17 14:26:58,530]\u001b[0m Trial 78 finished with value: 0.014036803386582218 and parameters: {'changepoint_prior_scale': 0.03533902376526653, 'seasonality_prior_scale': 3.958342677780938, 'holidays_prior_scale': 1.447599310119509}. Best is trial 45 with value: 0.013955262891536327.\u001b[0m\n",
      "INFO:fbprophet:Disabling weekly seasonality. Run prophet with weekly_seasonality=True to override this.\n",
      "INFO:fbprophet:Disabling daily seasonality. Run prophet with daily_seasonality=True to override this.\n",
      "\u001b[32m[I 2021-04-17 14:27:00,087]\u001b[0m Trial 79 pruned. \u001b[0m\n",
      "INFO:fbprophet:Disabling weekly seasonality. Run prophet with weekly_seasonality=True to override this.\n",
      "INFO:fbprophet:Disabling daily seasonality. Run prophet with daily_seasonality=True to override this.\n",
      "\u001b[32m[I 2021-04-17 14:27:01,587]\u001b[0m Trial 80 pruned. \u001b[0m\n",
      "INFO:fbprophet:Disabling weekly seasonality. Run prophet with weekly_seasonality=True to override this.\n",
      "INFO:fbprophet:Disabling daily seasonality. Run prophet with daily_seasonality=True to override this.\n",
      "\u001b[32m[I 2021-04-17 14:27:03,161]\u001b[0m Trial 81 finished with value: 0.014043560567288628 and parameters: {'changepoint_prior_scale': 0.036635079752619315, 'seasonality_prior_scale': 4.372171563185227, 'holidays_prior_scale': 1.042248066086503}. Best is trial 45 with value: 0.013955262891536327.\u001b[0m\n",
      "INFO:fbprophet:Disabling weekly seasonality. Run prophet with weekly_seasonality=True to override this.\n",
      "INFO:fbprophet:Disabling daily seasonality. Run prophet with daily_seasonality=True to override this.\n",
      "\u001b[32m[I 2021-04-17 14:27:04,707]\u001b[0m Trial 82 pruned. \u001b[0m\n",
      "INFO:fbprophet:Disabling weekly seasonality. Run prophet with weekly_seasonality=True to override this.\n",
      "INFO:fbprophet:Disabling daily seasonality. Run prophet with daily_seasonality=True to override this.\n",
      "\u001b[32m[I 2021-04-17 14:27:06,209]\u001b[0m Trial 83 pruned. \u001b[0m\n",
      "INFO:fbprophet:Disabling weekly seasonality. Run prophet with weekly_seasonality=True to override this.\n",
      "INFO:fbprophet:Disabling daily seasonality. Run prophet with daily_seasonality=True to override this.\n",
      "\u001b[32m[I 2021-04-17 14:27:07,829]\u001b[0m Trial 84 finished with value: 0.01399592059034413 and parameters: {'changepoint_prior_scale': 0.03657648551141106, 'seasonality_prior_scale': 3.848661342553752, 'holidays_prior_scale': 1.3990989426122191}. Best is trial 45 with value: 0.013955262891536327.\u001b[0m\n",
      "INFO:fbprophet:Disabling weekly seasonality. Run prophet with weekly_seasonality=True to override this.\n"
     ]
    },
    {
     "name": "stderr",
     "output_type": "stream",
     "text": [
      "INFO:fbprophet:Disabling daily seasonality. Run prophet with daily_seasonality=True to override this.\n",
      "WARNING:fbprophet.models:Optimization terminated abnormally. Falling back to Newton.\n",
      "\u001b[32m[I 2021-04-17 14:27:10,494]\u001b[0m Trial 85 pruned. \u001b[0m\n",
      "INFO:fbprophet:Disabling weekly seasonality. Run prophet with weekly_seasonality=True to override this.\n",
      "INFO:fbprophet:Disabling daily seasonality. Run prophet with daily_seasonality=True to override this.\n",
      "\u001b[32m[I 2021-04-17 14:27:12,020]\u001b[0m Trial 86 finished with value: 0.01410288432162122 and parameters: {'changepoint_prior_scale': 0.033820976051877845, 'seasonality_prior_scale': 3.8255211991452582, 'holidays_prior_scale': 1.4469968823781862}. Best is trial 45 with value: 0.013955262891536327.\u001b[0m\n",
      "INFO:fbprophet:Disabling weekly seasonality. Run prophet with weekly_seasonality=True to override this.\n",
      "INFO:fbprophet:Disabling daily seasonality. Run prophet with daily_seasonality=True to override this.\n",
      "\u001b[32m[I 2021-04-17 14:27:13,616]\u001b[0m Trial 87 pruned. \u001b[0m\n",
      "INFO:fbprophet:Disabling weekly seasonality. Run prophet with weekly_seasonality=True to override this.\n",
      "INFO:fbprophet:Disabling daily seasonality. Run prophet with daily_seasonality=True to override this.\n",
      "\u001b[32m[I 2021-04-17 14:27:15,176]\u001b[0m Trial 88 pruned. \u001b[0m\n",
      "INFO:fbprophet:Disabling weekly seasonality. Run prophet with weekly_seasonality=True to override this.\n",
      "INFO:fbprophet:Disabling daily seasonality. Run prophet with daily_seasonality=True to override this.\n",
      "\u001b[32m[I 2021-04-17 14:27:16,669]\u001b[0m Trial 89 finished with value: 0.01402303624772997 and parameters: {'changepoint_prior_scale': 0.03678945851359019, 'seasonality_prior_scale': 3.8340788792573997, 'holidays_prior_scale': 5.871187556311674}. Best is trial 45 with value: 0.013955262891536327.\u001b[0m\n",
      "INFO:fbprophet:Disabling weekly seasonality. Run prophet with weekly_seasonality=True to override this.\n",
      "INFO:fbprophet:Disabling daily seasonality. Run prophet with daily_seasonality=True to override this.\n",
      "\u001b[32m[I 2021-04-17 14:27:18,186]\u001b[0m Trial 90 pruned. \u001b[0m\n",
      "INFO:fbprophet:Disabling weekly seasonality. Run prophet with weekly_seasonality=True to override this.\n",
      "INFO:fbprophet:Disabling daily seasonality. Run prophet with daily_seasonality=True to override this.\n",
      "\u001b[32m[I 2021-04-17 14:27:19,780]\u001b[0m Trial 91 finished with value: 0.014019432898210957 and parameters: {'changepoint_prior_scale': 0.040181308532675236, 'seasonality_prior_scale': 3.119305067298793, 'holidays_prior_scale': 6.4351918955497345}. Best is trial 45 with value: 0.013955262891536327.\u001b[0m\n",
      "INFO:fbprophet:Disabling weekly seasonality. Run prophet with weekly_seasonality=True to override this.\n",
      "INFO:fbprophet:Disabling daily seasonality. Run prophet with daily_seasonality=True to override this.\n",
      "\u001b[32m[I 2021-04-17 14:27:21,325]\u001b[0m Trial 92 pruned. \u001b[0m\n",
      "INFO:fbprophet:Disabling weekly seasonality. Run prophet with weekly_seasonality=True to override this.\n",
      "INFO:fbprophet:Disabling daily seasonality. Run prophet with daily_seasonality=True to override this.\n",
      "\u001b[32m[I 2021-04-17 14:27:22,830]\u001b[0m Trial 93 finished with value: 0.014160979419025077 and parameters: {'changepoint_prior_scale': 0.040641021931941156, 'seasonality_prior_scale': 3.5614957294850385, 'holidays_prior_scale': 6.591098212907314}. Best is trial 45 with value: 0.013955262891536327.\u001b[0m\n",
      "INFO:fbprophet:Disabling weekly seasonality. Run prophet with weekly_seasonality=True to override this.\n",
      "INFO:fbprophet:Disabling daily seasonality. Run prophet with daily_seasonality=True to override this.\n",
      "\u001b[32m[I 2021-04-17 14:27:24,321]\u001b[0m Trial 94 pruned. \u001b[0m\n",
      "INFO:fbprophet:Disabling weekly seasonality. Run prophet with weekly_seasonality=True to override this.\n",
      "INFO:fbprophet:Disabling daily seasonality. Run prophet with daily_seasonality=True to override this.\n",
      "\u001b[32m[I 2021-04-17 14:27:25,923]\u001b[0m Trial 95 pruned. \u001b[0m\n",
      "INFO:fbprophet:Disabling weekly seasonality. Run prophet with weekly_seasonality=True to override this.\n",
      "INFO:fbprophet:Disabling daily seasonality. Run prophet with daily_seasonality=True to override this.\n",
      "\u001b[32m[I 2021-04-17 14:27:27,442]\u001b[0m Trial 96 pruned. \u001b[0m\n",
      "INFO:fbprophet:Disabling weekly seasonality. Run prophet with weekly_seasonality=True to override this.\n",
      "INFO:fbprophet:Disabling daily seasonality. Run prophet with daily_seasonality=True to override this.\n",
      "\u001b[32m[I 2021-04-17 14:27:29,018]\u001b[0m Trial 97 pruned. \u001b[0m\n",
      "INFO:fbprophet:Disabling weekly seasonality. Run prophet with weekly_seasonality=True to override this.\n",
      "INFO:fbprophet:Disabling daily seasonality. Run prophet with daily_seasonality=True to override this.\n",
      "\u001b[32m[I 2021-04-17 14:27:30,601]\u001b[0m Trial 98 pruned. \u001b[0m\n",
      "INFO:fbprophet:Disabling weekly seasonality. Run prophet with weekly_seasonality=True to override this.\n",
      "INFO:fbprophet:Disabling daily seasonality. Run prophet with daily_seasonality=True to override this.\n",
      "\u001b[32m[I 2021-04-17 14:27:32,125]\u001b[0m Trial 99 pruned. \u001b[0m\n",
      "INFO:fbprophet:Disabling weekly seasonality. Run prophet with weekly_seasonality=True to override this.\n",
      "INFO:fbprophet:Disabling daily seasonality. Run prophet with daily_seasonality=True to override this.\n",
      "\u001b[32m[I 2021-04-17 14:27:33,680]\u001b[0m Trial 100 finished with value: 0.01410156288752048 and parameters: {'changepoint_prior_scale': 0.03480353267218359, 'seasonality_prior_scale': 4.694171920168444, 'holidays_prior_scale': 4.5706463481595625}. Best is trial 45 with value: 0.013955262891536327.\u001b[0m\n",
      "INFO:fbprophet:Disabling weekly seasonality. Run prophet with weekly_seasonality=True to override this.\n",
      "INFO:fbprophet:Disabling daily seasonality. Run prophet with daily_seasonality=True to override this.\n",
      "\u001b[32m[I 2021-04-17 14:27:35,273]\u001b[0m Trial 101 pruned. \u001b[0m\n",
      "INFO:fbprophet:Disabling weekly seasonality. Run prophet with weekly_seasonality=True to override this.\n",
      "INFO:fbprophet:Disabling daily seasonality. Run prophet with daily_seasonality=True to override this.\n",
      "\u001b[32m[I 2021-04-17 14:27:36,793]\u001b[0m Trial 102 finished with value: 0.014022963738602748 and parameters: {'changepoint_prior_scale': 0.03794538609433076, 'seasonality_prior_scale': 4.37500914205134, 'holidays_prior_scale': 6.633797073226887}. Best is trial 45 with value: 0.013955262891536327.\u001b[0m\n",
      "INFO:fbprophet:Disabling weekly seasonality. Run prophet with weekly_seasonality=True to override this.\n",
      "INFO:fbprophet:Disabling daily seasonality. Run prophet with daily_seasonality=True to override this.\n",
      "\u001b[32m[I 2021-04-17 14:27:38,302]\u001b[0m Trial 103 pruned. \u001b[0m\n",
      "INFO:fbprophet:Disabling weekly seasonality. Run prophet with weekly_seasonality=True to override this.\n",
      "INFO:fbprophet:Disabling daily seasonality. Run prophet with daily_seasonality=True to override this.\n",
      "\u001b[32m[I 2021-04-17 14:27:39,835]\u001b[0m Trial 104 pruned. \u001b[0m\n",
      "INFO:fbprophet:Disabling weekly seasonality. Run prophet with weekly_seasonality=True to override this.\n",
      "INFO:fbprophet:Disabling daily seasonality. Run prophet with daily_seasonality=True to override this.\n",
      "\u001b[32m[I 2021-04-17 14:27:41,406]\u001b[0m Trial 105 pruned. \u001b[0m\n",
      "INFO:fbprophet:Disabling weekly seasonality. Run prophet with weekly_seasonality=True to override this.\n",
      "INFO:fbprophet:Disabling daily seasonality. Run prophet with daily_seasonality=True to override this.\n",
      "\u001b[32m[I 2021-04-17 14:27:42,973]\u001b[0m Trial 106 pruned. \u001b[0m\n",
      "INFO:fbprophet:Disabling weekly seasonality. Run prophet with weekly_seasonality=True to override this.\n",
      "INFO:fbprophet:Disabling daily seasonality. Run prophet with daily_seasonality=True to override this.\n",
      "\u001b[32m[I 2021-04-17 14:27:44,483]\u001b[0m Trial 107 pruned. \u001b[0m\n",
      "INFO:fbprophet:Disabling weekly seasonality. Run prophet with weekly_seasonality=True to override this.\n",
      "INFO:fbprophet:Disabling daily seasonality. Run prophet with daily_seasonality=True to override this.\n",
      "\u001b[32m[I 2021-04-17 14:27:46,047]\u001b[0m Trial 108 finished with value: 0.014111368798850487 and parameters: {'changepoint_prior_scale': 0.039037265597705546, 'seasonality_prior_scale': 4.016858987187251, 'holidays_prior_scale': 6.997909294784913}. Best is trial 45 with value: 0.013955262891536327.\u001b[0m\n",
      "INFO:fbprophet:Disabling weekly seasonality. Run prophet with weekly_seasonality=True to override this.\n",
      "INFO:fbprophet:Disabling daily seasonality. Run prophet with daily_seasonality=True to override this.\n"
     ]
    },
    {
     "name": "stderr",
     "output_type": "stream",
     "text": [
      "\u001b[32m[I 2021-04-17 14:27:47,660]\u001b[0m Trial 109 pruned. \u001b[0m\n",
      "INFO:fbprophet:Disabling weekly seasonality. Run prophet with weekly_seasonality=True to override this.\n",
      "INFO:fbprophet:Disabling daily seasonality. Run prophet with daily_seasonality=True to override this.\n",
      "\u001b[32m[I 2021-04-17 14:27:49,164]\u001b[0m Trial 110 pruned. \u001b[0m\n",
      "INFO:fbprophet:Disabling weekly seasonality. Run prophet with weekly_seasonality=True to override this.\n",
      "INFO:fbprophet:Disabling daily seasonality. Run prophet with daily_seasonality=True to override this.\n",
      "\u001b[32m[I 2021-04-17 14:27:50,698]\u001b[0m Trial 111 finished with value: 0.014130421667260945 and parameters: {'changepoint_prior_scale': 0.03507688680284517, 'seasonality_prior_scale': 5.2097450429313295, 'holidays_prior_scale': 5.731511508446387}. Best is trial 45 with value: 0.013955262891536327.\u001b[0m\n",
      "INFO:fbprophet:Disabling weekly seasonality. Run prophet with weekly_seasonality=True to override this.\n",
      "INFO:fbprophet:Disabling daily seasonality. Run prophet with daily_seasonality=True to override this.\n",
      "\u001b[32m[I 2021-04-17 14:27:52,283]\u001b[0m Trial 112 finished with value: 0.014048260090791414 and parameters: {'changepoint_prior_scale': 0.031843649440039194, 'seasonality_prior_scale': 4.8479652622874045, 'holidays_prior_scale': 1.1794656828505745}. Best is trial 45 with value: 0.013955262891536327.\u001b[0m\n",
      "INFO:fbprophet:Disabling weekly seasonality. Run prophet with weekly_seasonality=True to override this.\n",
      "INFO:fbprophet:Disabling daily seasonality. Run prophet with daily_seasonality=True to override this.\n",
      "\u001b[32m[I 2021-04-17 14:27:53,799]\u001b[0m Trial 113 pruned. \u001b[0m\n",
      "INFO:fbprophet:Disabling weekly seasonality. Run prophet with weekly_seasonality=True to override this.\n",
      "INFO:fbprophet:Disabling daily seasonality. Run prophet with daily_seasonality=True to override this.\n",
      "\u001b[32m[I 2021-04-17 14:27:55,306]\u001b[0m Trial 114 pruned. \u001b[0m\n",
      "INFO:fbprophet:Disabling weekly seasonality. Run prophet with weekly_seasonality=True to override this.\n",
      "INFO:fbprophet:Disabling daily seasonality. Run prophet with daily_seasonality=True to override this.\n",
      "\u001b[32m[I 2021-04-17 14:27:56,900]\u001b[0m Trial 115 pruned. \u001b[0m\n",
      "INFO:fbprophet:Disabling weekly seasonality. Run prophet with weekly_seasonality=True to override this.\n",
      "INFO:fbprophet:Disabling daily seasonality. Run prophet with daily_seasonality=True to override this.\n",
      "\u001b[32m[I 2021-04-17 14:27:58,410]\u001b[0m Trial 116 pruned. \u001b[0m\n",
      "INFO:fbprophet:Disabling weekly seasonality. Run prophet with weekly_seasonality=True to override this.\n",
      "INFO:fbprophet:Disabling daily seasonality. Run prophet with daily_seasonality=True to override this.\n",
      "\u001b[32m[I 2021-04-17 14:27:59,961]\u001b[0m Trial 117 pruned. \u001b[0m\n",
      "INFO:fbprophet:Disabling weekly seasonality. Run prophet with weekly_seasonality=True to override this.\n",
      "INFO:fbprophet:Disabling daily seasonality. Run prophet with daily_seasonality=True to override this.\n",
      "\u001b[32m[I 2021-04-17 14:28:01,477]\u001b[0m Trial 118 pruned. \u001b[0m\n",
      "INFO:fbprophet:Disabling weekly seasonality. Run prophet with weekly_seasonality=True to override this.\n",
      "INFO:fbprophet:Disabling daily seasonality. Run prophet with daily_seasonality=True to override this.\n",
      "\u001b[32m[I 2021-04-17 14:28:03,078]\u001b[0m Trial 119 pruned. \u001b[0m\n",
      "INFO:fbprophet:Disabling weekly seasonality. Run prophet with weekly_seasonality=True to override this.\n",
      "INFO:fbprophet:Disabling daily seasonality. Run prophet with daily_seasonality=True to override this.\n",
      "\u001b[32m[I 2021-04-17 14:28:04,594]\u001b[0m Trial 120 pruned. \u001b[0m\n",
      "INFO:fbprophet:Disabling weekly seasonality. Run prophet with weekly_seasonality=True to override this.\n",
      "INFO:fbprophet:Disabling daily seasonality. Run prophet with daily_seasonality=True to override this.\n",
      "\u001b[32m[I 2021-04-17 14:28:06,110]\u001b[0m Trial 121 finished with value: 0.014080776200208095 and parameters: {'changepoint_prior_scale': 0.03592641769250776, 'seasonality_prior_scale': 4.723685585032923, 'holidays_prior_scale': 2.498831846784197}. Best is trial 45 with value: 0.013955262891536327.\u001b[0m\n",
      "INFO:fbprophet:Disabling weekly seasonality. Run prophet with weekly_seasonality=True to override this.\n",
      "INFO:fbprophet:Disabling daily seasonality. Run prophet with daily_seasonality=True to override this.\n",
      "WARNING:fbprophet.models:Optimization terminated abnormally. Falling back to Newton.\n",
      "\u001b[32m[I 2021-04-17 14:28:08,391]\u001b[0m Trial 122 pruned. \u001b[0m\n",
      "INFO:fbprophet:Disabling weekly seasonality. Run prophet with weekly_seasonality=True to override this.\n",
      "INFO:fbprophet:Disabling daily seasonality. Run prophet with daily_seasonality=True to override this.\n",
      "\u001b[32m[I 2021-04-17 14:28:10,003]\u001b[0m Trial 123 finished with value: 0.014029223445078435 and parameters: {'changepoint_prior_scale': 0.033470683522134836, 'seasonality_prior_scale': 4.050027051155594, 'holidays_prior_scale': 1.4906334477304977}. Best is trial 45 with value: 0.013955262891536327.\u001b[0m\n",
      "INFO:fbprophet:Disabling weekly seasonality. Run prophet with weekly_seasonality=True to override this.\n",
      "INFO:fbprophet:Disabling daily seasonality. Run prophet with daily_seasonality=True to override this.\n",
      "\u001b[32m[I 2021-04-17 14:28:11,564]\u001b[0m Trial 124 finished with value: 0.014074737939841995 and parameters: {'changepoint_prior_scale': 0.035967096106680516, 'seasonality_prior_scale': 3.6607323744946827, 'holidays_prior_scale': 1.785349139674432}. Best is trial 45 with value: 0.013955262891536327.\u001b[0m\n",
      "INFO:fbprophet:Disabling weekly seasonality. Run prophet with weekly_seasonality=True to override this.\n",
      "INFO:fbprophet:Disabling daily seasonality. Run prophet with daily_seasonality=True to override this.\n",
      "\u001b[32m[I 2021-04-17 14:28:13,092]\u001b[0m Trial 125 pruned. \u001b[0m\n",
      "INFO:fbprophet:Disabling weekly seasonality. Run prophet with weekly_seasonality=True to override this.\n",
      "INFO:fbprophet:Disabling daily seasonality. Run prophet with daily_seasonality=True to override this.\n",
      "\u001b[32m[I 2021-04-17 14:28:15,021]\u001b[0m Trial 126 pruned. \u001b[0m\n",
      "INFO:fbprophet:Disabling weekly seasonality. Run prophet with weekly_seasonality=True to override this.\n",
      "INFO:fbprophet:Disabling daily seasonality. Run prophet with daily_seasonality=True to override this.\n",
      "\u001b[32m[I 2021-04-17 14:28:16,646]\u001b[0m Trial 127 pruned. \u001b[0m\n",
      "INFO:fbprophet:Disabling weekly seasonality. Run prophet with weekly_seasonality=True to override this.\n",
      "INFO:fbprophet:Disabling daily seasonality. Run prophet with daily_seasonality=True to override this.\n",
      "\u001b[32m[I 2021-04-17 14:28:18,199]\u001b[0m Trial 128 pruned. \u001b[0m\n",
      "INFO:fbprophet:Disabling weekly seasonality. Run prophet with weekly_seasonality=True to override this.\n",
      "INFO:fbprophet:Disabling daily seasonality. Run prophet with daily_seasonality=True to override this.\n",
      "\u001b[32m[I 2021-04-17 14:28:19,903]\u001b[0m Trial 129 pruned. \u001b[0m\n",
      "INFO:fbprophet:Disabling weekly seasonality. Run prophet with weekly_seasonality=True to override this.\n",
      "INFO:fbprophet:Disabling daily seasonality. Run prophet with daily_seasonality=True to override this.\n",
      "\u001b[32m[I 2021-04-17 14:28:21,687]\u001b[0m Trial 130 pruned. \u001b[0m\n",
      "INFO:fbprophet:Disabling weekly seasonality. Run prophet with weekly_seasonality=True to override this.\n",
      "INFO:fbprophet:Disabling daily seasonality. Run prophet with daily_seasonality=True to override this.\n",
      "\u001b[32m[I 2021-04-17 14:28:23,214]\u001b[0m Trial 131 finished with value: 0.014110696728661623 and parameters: {'changepoint_prior_scale': 0.03329345537259191, 'seasonality_prior_scale': 4.725493311489076, 'holidays_prior_scale': 2.3558797744655924}. Best is trial 45 with value: 0.013955262891536327.\u001b[0m\n",
      "INFO:fbprophet:Disabling weekly seasonality. Run prophet with weekly_seasonality=True to override this.\n",
      "INFO:fbprophet:Disabling daily seasonality. Run prophet with daily_seasonality=True to override this.\n",
      "\u001b[32m[I 2021-04-17 14:28:24,744]\u001b[0m Trial 132 finished with value: 0.014085204853098644 and parameters: {'changepoint_prior_scale': 0.03673738359345527, 'seasonality_prior_scale': 7.22648748602361, 'holidays_prior_scale': 0.9186957601721447}. Best is trial 45 with value: 0.013955262891536327.\u001b[0m\n",
      "INFO:fbprophet:Disabling weekly seasonality. Run prophet with weekly_seasonality=True to override this.\n",
      "INFO:fbprophet:Disabling daily seasonality. Run prophet with daily_seasonality=True to override this.\n",
      "\u001b[32m[I 2021-04-17 14:28:26,350]\u001b[0m Trial 133 pruned. \u001b[0m\n"
     ]
    },
    {
     "name": "stderr",
     "output_type": "stream",
     "text": [
      "INFO:fbprophet:Disabling weekly seasonality. Run prophet with weekly_seasonality=True to override this.\n",
      "INFO:fbprophet:Disabling daily seasonality. Run prophet with daily_seasonality=True to override this.\n",
      "\u001b[32m[I 2021-04-17 14:28:27,923]\u001b[0m Trial 134 pruned. \u001b[0m\n",
      "INFO:fbprophet:Disabling weekly seasonality. Run prophet with weekly_seasonality=True to override this.\n",
      "INFO:fbprophet:Disabling daily seasonality. Run prophet with daily_seasonality=True to override this.\n",
      "\u001b[32m[I 2021-04-17 14:28:29,455]\u001b[0m Trial 135 pruned. \u001b[0m\n",
      "INFO:fbprophet:Disabling weekly seasonality. Run prophet with weekly_seasonality=True to override this.\n",
      "INFO:fbprophet:Disabling daily seasonality. Run prophet with daily_seasonality=True to override this.\n",
      "\u001b[32m[I 2021-04-17 14:28:31,026]\u001b[0m Trial 136 finished with value: 0.014073833858466089 and parameters: {'changepoint_prior_scale': 0.04028175194400119, 'seasonality_prior_scale': 2.503112275275249, 'holidays_prior_scale': 2.04655458020496}. Best is trial 45 with value: 0.013955262891536327.\u001b[0m\n",
      "INFO:fbprophet:Disabling weekly seasonality. Run prophet with weekly_seasonality=True to override this.\n",
      "INFO:fbprophet:Disabling daily seasonality. Run prophet with daily_seasonality=True to override this.\n",
      "\u001b[32m[I 2021-04-17 14:28:32,775]\u001b[0m Trial 137 pruned. \u001b[0m\n",
      "INFO:fbprophet:Disabling weekly seasonality. Run prophet with weekly_seasonality=True to override this.\n",
      "INFO:fbprophet:Disabling daily seasonality. Run prophet with daily_seasonality=True to override this.\n",
      "\u001b[32m[I 2021-04-17 14:28:34,352]\u001b[0m Trial 138 pruned. \u001b[0m\n",
      "INFO:fbprophet:Disabling weekly seasonality. Run prophet with weekly_seasonality=True to override this.\n",
      "INFO:fbprophet:Disabling daily seasonality. Run prophet with daily_seasonality=True to override this.\n",
      "\u001b[32m[I 2021-04-17 14:28:35,903]\u001b[0m Trial 139 finished with value: 0.014052659613582782 and parameters: {'changepoint_prior_scale': 0.04517264628769844, 'seasonality_prior_scale': 3.0407040793897937, 'holidays_prior_scale': 1.735719049980519}. Best is trial 45 with value: 0.013955262891536327.\u001b[0m\n",
      "INFO:fbprophet:Disabling weekly seasonality. Run prophet with weekly_seasonality=True to override this.\n",
      "INFO:fbprophet:Disabling daily seasonality. Run prophet with daily_seasonality=True to override this.\n",
      "\u001b[32m[I 2021-04-17 14:28:37,621]\u001b[0m Trial 140 pruned. \u001b[0m\n",
      "INFO:fbprophet:Disabling weekly seasonality. Run prophet with weekly_seasonality=True to override this.\n",
      "INFO:fbprophet:Disabling daily seasonality. Run prophet with daily_seasonality=True to override this.\n",
      "\u001b[32m[I 2021-04-17 14:28:39,210]\u001b[0m Trial 141 pruned. \u001b[0m\n",
      "INFO:fbprophet:Disabling weekly seasonality. Run prophet with weekly_seasonality=True to override this.\n",
      "INFO:fbprophet:Disabling daily seasonality. Run prophet with daily_seasonality=True to override this.\n",
      "\u001b[32m[I 2021-04-17 14:28:40,714]\u001b[0m Trial 142 pruned. \u001b[0m\n",
      "INFO:fbprophet:Disabling weekly seasonality. Run prophet with weekly_seasonality=True to override this.\n",
      "INFO:fbprophet:Disabling daily seasonality. Run prophet with daily_seasonality=True to override this.\n",
      "\u001b[32m[I 2021-04-17 14:28:42,361]\u001b[0m Trial 143 pruned. \u001b[0m\n",
      "INFO:fbprophet:Disabling weekly seasonality. Run prophet with weekly_seasonality=True to override this.\n",
      "INFO:fbprophet:Disabling daily seasonality. Run prophet with daily_seasonality=True to override this.\n",
      "\u001b[32m[I 2021-04-17 14:28:44,010]\u001b[0m Trial 144 finished with value: 0.014074959417287146 and parameters: {'changepoint_prior_scale': 0.03908567797073891, 'seasonality_prior_scale': 2.6939662853584583, 'holidays_prior_scale': 1.1090490389087804}. Best is trial 45 with value: 0.013955262891536327.\u001b[0m\n",
      "INFO:fbprophet:Disabling weekly seasonality. Run prophet with weekly_seasonality=True to override this.\n",
      "INFO:fbprophet:Disabling daily seasonality. Run prophet with daily_seasonality=True to override this.\n",
      "\u001b[32m[I 2021-04-17 14:28:45,567]\u001b[0m Trial 145 pruned. \u001b[0m\n",
      "INFO:fbprophet:Disabling weekly seasonality. Run prophet with weekly_seasonality=True to override this.\n",
      "INFO:fbprophet:Disabling daily seasonality. Run prophet with daily_seasonality=True to override this.\n",
      "\u001b[32m[I 2021-04-17 14:28:47,162]\u001b[0m Trial 146 pruned. \u001b[0m\n",
      "INFO:fbprophet:Disabling weekly seasonality. Run prophet with weekly_seasonality=True to override this.\n",
      "INFO:fbprophet:Disabling daily seasonality. Run prophet with daily_seasonality=True to override this.\n",
      "\u001b[32m[I 2021-04-17 14:28:48,838]\u001b[0m Trial 147 finished with value: 0.014115182395707202 and parameters: {'changepoint_prior_scale': 0.031147249642108434, 'seasonality_prior_scale': 2.1952417838820324, 'holidays_prior_scale': 5.890694837602318}. Best is trial 45 with value: 0.013955262891536327.\u001b[0m\n",
      "INFO:fbprophet:Disabling weekly seasonality. Run prophet with weekly_seasonality=True to override this.\n",
      "INFO:fbprophet:Disabling daily seasonality. Run prophet with daily_seasonality=True to override this.\n",
      "\u001b[32m[I 2021-04-17 14:28:50,499]\u001b[0m Trial 148 pruned. \u001b[0m\n",
      "INFO:fbprophet:Disabling weekly seasonality. Run prophet with weekly_seasonality=True to override this.\n",
      "INFO:fbprophet:Disabling daily seasonality. Run prophet with daily_seasonality=True to override this.\n",
      "\u001b[32m[I 2021-04-17 14:28:51,926]\u001b[0m Trial 149 pruned. \u001b[0m\n",
      "INFO:fbprophet:Disabling weekly seasonality. Run prophet with weekly_seasonality=True to override this.\n",
      "INFO:fbprophet:Disabling daily seasonality. Run prophet with daily_seasonality=True to override this.\n",
      "\u001b[32m[I 2021-04-17 14:28:53,377]\u001b[0m Trial 150 pruned. \u001b[0m\n",
      "INFO:fbprophet:Disabling weekly seasonality. Run prophet with weekly_seasonality=True to override this.\n",
      "INFO:fbprophet:Disabling daily seasonality. Run prophet with daily_seasonality=True to override this.\n",
      "WARNING:fbprophet.models:Optimization terminated abnormally. Falling back to Newton.\n",
      "\u001b[32m[I 2021-04-17 14:28:56,204]\u001b[0m Trial 151 pruned. \u001b[0m\n",
      "INFO:fbprophet:Disabling weekly seasonality. Run prophet with weekly_seasonality=True to override this.\n",
      "INFO:fbprophet:Disabling daily seasonality. Run prophet with daily_seasonality=True to override this.\n",
      "\u001b[32m[I 2021-04-17 14:28:57,650]\u001b[0m Trial 152 pruned. \u001b[0m\n",
      "INFO:fbprophet:Disabling weekly seasonality. Run prophet with weekly_seasonality=True to override this.\n",
      "INFO:fbprophet:Disabling daily seasonality. Run prophet with daily_seasonality=True to override this.\n",
      "\u001b[32m[I 2021-04-17 14:28:59,085]\u001b[0m Trial 153 pruned. \u001b[0m\n",
      "INFO:fbprophet:Disabling weekly seasonality. Run prophet with weekly_seasonality=True to override this.\n",
      "INFO:fbprophet:Disabling daily seasonality. Run prophet with daily_seasonality=True to override this.\n",
      "\u001b[32m[I 2021-04-17 14:29:00,620]\u001b[0m Trial 154 pruned. \u001b[0m\n",
      "INFO:fbprophet:Disabling weekly seasonality. Run prophet with weekly_seasonality=True to override this.\n",
      "INFO:fbprophet:Disabling daily seasonality. Run prophet with daily_seasonality=True to override this.\n",
      "\u001b[32m[I 2021-04-17 14:29:02,079]\u001b[0m Trial 155 pruned. \u001b[0m\n",
      "INFO:fbprophet:Disabling weekly seasonality. Run prophet with weekly_seasonality=True to override this.\n",
      "INFO:fbprophet:Disabling daily seasonality. Run prophet with daily_seasonality=True to override this.\n",
      "\u001b[32m[I 2021-04-17 14:29:03,578]\u001b[0m Trial 156 pruned. \u001b[0m\n",
      "INFO:fbprophet:Disabling weekly seasonality. Run prophet with weekly_seasonality=True to override this.\n",
      "INFO:fbprophet:Disabling daily seasonality. Run prophet with daily_seasonality=True to override this.\n",
      "\u001b[32m[I 2021-04-17 14:29:05,113]\u001b[0m Trial 157 finished with value: 0.014071864891288916 and parameters: {'changepoint_prior_scale': 0.038943228652452054, 'seasonality_prior_scale': 4.141447922363042, 'holidays_prior_scale': 1.165184397325987}. Best is trial 45 with value: 0.013955262891536327.\u001b[0m\n",
      "INFO:fbprophet:Disabling weekly seasonality. Run prophet with weekly_seasonality=True to override this.\n",
      "INFO:fbprophet:Disabling daily seasonality. Run prophet with daily_seasonality=True to override this.\n",
      "\u001b[32m[I 2021-04-17 14:29:06,568]\u001b[0m Trial 158 pruned. \u001b[0m\n",
      "INFO:fbprophet:Disabling weekly seasonality. Run prophet with weekly_seasonality=True to override this.\n",
      "INFO:fbprophet:Disabling daily seasonality. Run prophet with daily_seasonality=True to override this.\n",
      "\u001b[32m[I 2021-04-17 14:29:08,001]\u001b[0m Trial 159 pruned. \u001b[0m\n"
     ]
    },
    {
     "name": "stderr",
     "output_type": "stream",
     "text": [
      "INFO:fbprophet:Disabling weekly seasonality. Run prophet with weekly_seasonality=True to override this.\n",
      "INFO:fbprophet:Disabling daily seasonality. Run prophet with daily_seasonality=True to override this.\n",
      "\u001b[32m[I 2021-04-17 14:29:09,445]\u001b[0m Trial 160 pruned. \u001b[0m\n",
      "INFO:fbprophet:Disabling weekly seasonality. Run prophet with weekly_seasonality=True to override this.\n",
      "INFO:fbprophet:Disabling daily seasonality. Run prophet with daily_seasonality=True to override this.\n",
      "\u001b[32m[I 2021-04-17 14:29:10,981]\u001b[0m Trial 161 finished with value: 0.014074716033455474 and parameters: {'changepoint_prior_scale': 0.04130224839919523, 'seasonality_prior_scale': 4.098891442686946, 'holidays_prior_scale': 1.1771260466693798}. Best is trial 45 with value: 0.013955262891536327.\u001b[0m\n",
      "INFO:fbprophet:Disabling weekly seasonality. Run prophet with weekly_seasonality=True to override this.\n",
      "INFO:fbprophet:Disabling daily seasonality. Run prophet with daily_seasonality=True to override this.\n",
      "\u001b[32m[I 2021-04-17 14:29:12,418]\u001b[0m Trial 162 pruned. \u001b[0m\n",
      "INFO:fbprophet:Disabling weekly seasonality. Run prophet with weekly_seasonality=True to override this.\n",
      "INFO:fbprophet:Disabling daily seasonality. Run prophet with daily_seasonality=True to override this.\n",
      "\u001b[32m[I 2021-04-17 14:29:13,875]\u001b[0m Trial 163 finished with value: 0.014079847577461835 and parameters: {'changepoint_prior_scale': 0.04110407187081823, 'seasonality_prior_scale': 4.4088094916758, 'holidays_prior_scale': 1.4168987799879895}. Best is trial 45 with value: 0.013955262891536327.\u001b[0m\n",
      "INFO:fbprophet:Disabling weekly seasonality. Run prophet with weekly_seasonality=True to override this.\n",
      "INFO:fbprophet:Disabling daily seasonality. Run prophet with daily_seasonality=True to override this.\n",
      "\u001b[32m[I 2021-04-17 14:29:15,334]\u001b[0m Trial 164 pruned. \u001b[0m\n",
      "INFO:fbprophet:Disabling weekly seasonality. Run prophet with weekly_seasonality=True to override this.\n",
      "INFO:fbprophet:Disabling daily seasonality. Run prophet with daily_seasonality=True to override this.\n",
      "\u001b[32m[I 2021-04-17 14:29:16,856]\u001b[0m Trial 165 finished with value: 0.014067137816361213 and parameters: {'changepoint_prior_scale': 0.044317053196440345, 'seasonality_prior_scale': 4.232292102562499, 'holidays_prior_scale': 0.8723558555725628}. Best is trial 45 with value: 0.013955262891536327.\u001b[0m\n",
      "INFO:fbprophet:Disabling weekly seasonality. Run prophet with weekly_seasonality=True to override this.\n",
      "INFO:fbprophet:Disabling daily seasonality. Run prophet with daily_seasonality=True to override this.\n",
      "\u001b[32m[I 2021-04-17 14:29:18,327]\u001b[0m Trial 166 pruned. \u001b[0m\n",
      "INFO:fbprophet:Disabling weekly seasonality. Run prophet with weekly_seasonality=True to override this.\n",
      "INFO:fbprophet:Disabling daily seasonality. Run prophet with daily_seasonality=True to override this.\n",
      "\u001b[32m[I 2021-04-17 14:29:19,753]\u001b[0m Trial 167 pruned. \u001b[0m\n",
      "INFO:fbprophet:Disabling weekly seasonality. Run prophet with weekly_seasonality=True to override this.\n",
      "INFO:fbprophet:Disabling daily seasonality. Run prophet with daily_seasonality=True to override this.\n",
      "\u001b[32m[I 2021-04-17 14:29:21,313]\u001b[0m Trial 168 pruned. \u001b[0m\n",
      "INFO:fbprophet:Disabling weekly seasonality. Run prophet with weekly_seasonality=True to override this.\n",
      "INFO:fbprophet:Disabling daily seasonality. Run prophet with daily_seasonality=True to override this.\n",
      "\u001b[32m[I 2021-04-17 14:29:22,728]\u001b[0m Trial 169 pruned. \u001b[0m\n",
      "INFO:fbprophet:Disabling weekly seasonality. Run prophet with weekly_seasonality=True to override this.\n",
      "INFO:fbprophet:Disabling daily seasonality. Run prophet with daily_seasonality=True to override this.\n",
      "\u001b[32m[I 2021-04-17 14:29:24,171]\u001b[0m Trial 170 pruned. \u001b[0m\n",
      "INFO:fbprophet:Disabling weekly seasonality. Run prophet with weekly_seasonality=True to override this.\n",
      "INFO:fbprophet:Disabling daily seasonality. Run prophet with daily_seasonality=True to override this.\n",
      "\u001b[32m[I 2021-04-17 14:29:25,781]\u001b[0m Trial 171 pruned. \u001b[0m\n",
      "INFO:fbprophet:Disabling weekly seasonality. Run prophet with weekly_seasonality=True to override this.\n",
      "INFO:fbprophet:Disabling daily seasonality. Run prophet with daily_seasonality=True to override this.\n",
      "\u001b[32m[I 2021-04-17 14:29:27,211]\u001b[0m Trial 172 pruned. \u001b[0m\n",
      "INFO:fbprophet:Disabling weekly seasonality. Run prophet with weekly_seasonality=True to override this.\n",
      "INFO:fbprophet:Disabling daily seasonality. Run prophet with daily_seasonality=True to override this.\n",
      "\u001b[32m[I 2021-04-17 14:29:28,756]\u001b[0m Trial 173 pruned. \u001b[0m\n",
      "INFO:fbprophet:Disabling weekly seasonality. Run prophet with weekly_seasonality=True to override this.\n",
      "INFO:fbprophet:Disabling daily seasonality. Run prophet with daily_seasonality=True to override this.\n",
      "\u001b[32m[I 2021-04-17 14:29:30,218]\u001b[0m Trial 174 finished with value: 0.014095803464027536 and parameters: {'changepoint_prior_scale': 0.03426140637865337, 'seasonality_prior_scale': 3.675815410145626, 'holidays_prior_scale': 1.4060115903159889}. Best is trial 45 with value: 0.013955262891536327.\u001b[0m\n",
      "INFO:fbprophet:Disabling weekly seasonality. Run prophet with weekly_seasonality=True to override this.\n",
      "INFO:fbprophet:Disabling daily seasonality. Run prophet with daily_seasonality=True to override this.\n",
      "\u001b[32m[I 2021-04-17 14:29:31,770]\u001b[0m Trial 175 pruned. \u001b[0m\n",
      "INFO:fbprophet:Disabling weekly seasonality. Run prophet with weekly_seasonality=True to override this.\n",
      "INFO:fbprophet:Disabling daily seasonality. Run prophet with daily_seasonality=True to override this.\n",
      "\u001b[32m[I 2021-04-17 14:29:33,251]\u001b[0m Trial 176 pruned. \u001b[0m\n",
      "INFO:fbprophet:Disabling weekly seasonality. Run prophet with weekly_seasonality=True to override this.\n",
      "INFO:fbprophet:Disabling daily seasonality. Run prophet with daily_seasonality=True to override this.\n",
      "\u001b[32m[I 2021-04-17 14:29:34,720]\u001b[0m Trial 177 pruned. \u001b[0m\n",
      "INFO:fbprophet:Disabling weekly seasonality. Run prophet with weekly_seasonality=True to override this.\n",
      "INFO:fbprophet:Disabling daily seasonality. Run prophet with daily_seasonality=True to override this.\n",
      "\u001b[32m[I 2021-04-17 14:29:36,190]\u001b[0m Trial 178 pruned. \u001b[0m\n",
      "INFO:fbprophet:Disabling weekly seasonality. Run prophet with weekly_seasonality=True to override this.\n",
      "INFO:fbprophet:Disabling daily seasonality. Run prophet with daily_seasonality=True to override this.\n",
      "\u001b[32m[I 2021-04-17 14:29:37,724]\u001b[0m Trial 179 pruned. \u001b[0m\n",
      "INFO:fbprophet:Disabling weekly seasonality. Run prophet with weekly_seasonality=True to override this.\n",
      "INFO:fbprophet:Disabling daily seasonality. Run prophet with daily_seasonality=True to override this.\n",
      "\u001b[32m[I 2021-04-17 14:29:39,233]\u001b[0m Trial 180 pruned. \u001b[0m\n",
      "INFO:fbprophet:Disabling weekly seasonality. Run prophet with weekly_seasonality=True to override this.\n",
      "INFO:fbprophet:Disabling daily seasonality. Run prophet with daily_seasonality=True to override this.\n",
      "\u001b[32m[I 2021-04-17 14:29:40,803]\u001b[0m Trial 181 finished with value: 0.014067074638267252 and parameters: {'changepoint_prior_scale': 0.04055849346046416, 'seasonality_prior_scale': 2.2879685086111428, 'holidays_prior_scale': 0.9487954038938354}. Best is trial 45 with value: 0.013955262891536327.\u001b[0m\n",
      "INFO:fbprophet:Disabling weekly seasonality. Run prophet with weekly_seasonality=True to override this.\n",
      "INFO:fbprophet:Disabling daily seasonality. Run prophet with daily_seasonality=True to override this.\n",
      "\u001b[32m[I 2021-04-17 14:29:42,365]\u001b[0m Trial 182 finished with value: 0.01401625526776971 and parameters: {'changepoint_prior_scale': 0.03807719509814072, 'seasonality_prior_scale': 4.332157660143069, 'holidays_prior_scale': 0.9444306859581504}. Best is trial 45 with value: 0.013955262891536327.\u001b[0m\n",
      "INFO:fbprophet:Disabling weekly seasonality. Run prophet with weekly_seasonality=True to override this.\n",
      "INFO:fbprophet:Disabling daily seasonality. Run prophet with daily_seasonality=True to override this.\n",
      "\u001b[32m[I 2021-04-17 14:29:43,800]\u001b[0m Trial 183 pruned. \u001b[0m\n",
      "INFO:fbprophet:Disabling weekly seasonality. Run prophet with weekly_seasonality=True to override this.\n",
      "INFO:fbprophet:Disabling daily seasonality. Run prophet with daily_seasonality=True to override this.\n",
      "\u001b[32m[I 2021-04-17 14:29:45,267]\u001b[0m Trial 184 finished with value: 0.014055409222278506 and parameters: {'changepoint_prior_scale': 0.039427290384282984, 'seasonality_prior_scale': 4.85894320017502, 'holidays_prior_scale': 1.0004227112749005}. Best is trial 45 with value: 0.013955262891536327.\u001b[0m\n"
     ]
    },
    {
     "name": "stderr",
     "output_type": "stream",
     "text": [
      "INFO:fbprophet:Disabling weekly seasonality. Run prophet with weekly_seasonality=True to override this.\n",
      "INFO:fbprophet:Disabling daily seasonality. Run prophet with daily_seasonality=True to override this.\n",
      "\u001b[32m[I 2021-04-17 14:29:46,811]\u001b[0m Trial 185 pruned. \u001b[0m\n",
      "INFO:fbprophet:Disabling weekly seasonality. Run prophet with weekly_seasonality=True to override this.\n",
      "INFO:fbprophet:Disabling daily seasonality. Run prophet with daily_seasonality=True to override this.\n",
      "\u001b[32m[I 2021-04-17 14:29:48,256]\u001b[0m Trial 186 pruned. \u001b[0m\n",
      "INFO:fbprophet:Disabling weekly seasonality. Run prophet with weekly_seasonality=True to override this.\n",
      "INFO:fbprophet:Disabling daily seasonality. Run prophet with daily_seasonality=True to override this.\n",
      "\u001b[32m[I 2021-04-17 14:29:49,719]\u001b[0m Trial 187 pruned. \u001b[0m\n",
      "INFO:fbprophet:Disabling weekly seasonality. Run prophet with weekly_seasonality=True to override this.\n",
      "INFO:fbprophet:Disabling daily seasonality. Run prophet with daily_seasonality=True to override this.\n",
      "\u001b[32m[I 2021-04-17 14:29:51,202]\u001b[0m Trial 188 pruned. \u001b[0m\n",
      "INFO:fbprophet:Disabling weekly seasonality. Run prophet with weekly_seasonality=True to override this.\n",
      "INFO:fbprophet:Disabling daily seasonality. Run prophet with daily_seasonality=True to override this.\n",
      "\u001b[32m[I 2021-04-17 14:29:52,768]\u001b[0m Trial 189 finished with value: 0.014003492066301295 and parameters: {'changepoint_prior_scale': 0.037310559366621615, 'seasonality_prior_scale': 2.151022212934029, 'holidays_prior_scale': 0.682949880261366}. Best is trial 45 with value: 0.013955262891536327.\u001b[0m\n",
      "INFO:fbprophet:Disabling weekly seasonality. Run prophet with weekly_seasonality=True to override this.\n",
      "INFO:fbprophet:Disabling daily seasonality. Run prophet with daily_seasonality=True to override this.\n",
      "\u001b[32m[I 2021-04-17 14:29:54,180]\u001b[0m Trial 190 pruned. \u001b[0m\n",
      "INFO:fbprophet:Disabling weekly seasonality. Run prophet with weekly_seasonality=True to override this.\n",
      "INFO:fbprophet:Disabling daily seasonality. Run prophet with daily_seasonality=True to override this.\n",
      "\u001b[32m[I 2021-04-17 14:29:55,655]\u001b[0m Trial 191 finished with value: 0.014055556443666897 and parameters: {'changepoint_prior_scale': 0.03731030303612879, 'seasonality_prior_scale': 2.3028076609755805, 'holidays_prior_scale': 0.9057010624416808}. Best is trial 45 with value: 0.013955262891536327.\u001b[0m\n",
      "INFO:fbprophet:Disabling weekly seasonality. Run prophet with weekly_seasonality=True to override this.\n",
      "INFO:fbprophet:Disabling daily seasonality. Run prophet with daily_seasonality=True to override this.\n",
      "\u001b[32m[I 2021-04-17 14:29:57,147]\u001b[0m Trial 192 finished with value: 0.014111304082817161 and parameters: {'changepoint_prior_scale': 0.03149410854837245, 'seasonality_prior_scale': 1.975198831191199, 'holidays_prior_scale': 0.6495425195589628}. Best is trial 45 with value: 0.013955262891536327.\u001b[0m\n",
      "INFO:fbprophet:Disabling weekly seasonality. Run prophet with weekly_seasonality=True to override this.\n",
      "INFO:fbprophet:Disabling daily seasonality. Run prophet with daily_seasonality=True to override this.\n",
      "\u001b[32m[I 2021-04-17 14:29:58,683]\u001b[0m Trial 193 pruned. \u001b[0m\n",
      "INFO:fbprophet:Disabling weekly seasonality. Run prophet with weekly_seasonality=True to override this.\n",
      "INFO:fbprophet:Disabling daily seasonality. Run prophet with daily_seasonality=True to override this.\n",
      "\u001b[32m[I 2021-04-17 14:30:00,134]\u001b[0m Trial 194 pruned. \u001b[0m\n",
      "INFO:fbprophet:Disabling weekly seasonality. Run prophet with weekly_seasonality=True to override this.\n",
      "INFO:fbprophet:Disabling daily seasonality. Run prophet with daily_seasonality=True to override this.\n",
      "\u001b[32m[I 2021-04-17 14:30:01,574]\u001b[0m Trial 195 pruned. \u001b[0m\n",
      "INFO:fbprophet:Disabling weekly seasonality. Run prophet with weekly_seasonality=True to override this.\n",
      "INFO:fbprophet:Disabling daily seasonality. Run prophet with daily_seasonality=True to override this.\n",
      "\u001b[32m[I 2021-04-17 14:30:03,102]\u001b[0m Trial 196 finished with value: 0.01410138306036654 and parameters: {'changepoint_prior_scale': 0.04586375895780234, 'seasonality_prior_scale': 5.576123608892634, 'holidays_prior_scale': 0.35976318066096613}. Best is trial 45 with value: 0.013955262891536327.\u001b[0m\n",
      "INFO:fbprophet:Disabling weekly seasonality. Run prophet with weekly_seasonality=True to override this.\n",
      "INFO:fbprophet:Disabling daily seasonality. Run prophet with daily_seasonality=True to override this.\n",
      "\u001b[32m[I 2021-04-17 14:30:04,557]\u001b[0m Trial 197 pruned. \u001b[0m\n",
      "INFO:fbprophet:Disabling weekly seasonality. Run prophet with weekly_seasonality=True to override this.\n",
      "INFO:fbprophet:Disabling daily seasonality. Run prophet with daily_seasonality=True to override this.\n",
      "WARNING:fbprophet.models:Optimization terminated abnormally. Falling back to Newton.\n",
      "\u001b[32m[I 2021-04-17 14:30:07,054]\u001b[0m Trial 198 pruned. \u001b[0m\n",
      "INFO:fbprophet:Disabling weekly seasonality. Run prophet with weekly_seasonality=True to override this.\n",
      "INFO:fbprophet:Disabling daily seasonality. Run prophet with daily_seasonality=True to override this.\n",
      "\u001b[32m[I 2021-04-17 14:30:08,632]\u001b[0m Trial 199 pruned. \u001b[0m\n",
      "INFO:fbprophet:Disabling weekly seasonality. Run prophet with weekly_seasonality=True to override this.\n",
      "INFO:fbprophet:Disabling daily seasonality. Run prophet with daily_seasonality=True to override this.\n",
      "\u001b[32m[I 2021-04-17 14:30:10,068]\u001b[0m Trial 200 pruned. \u001b[0m\n",
      "INFO:fbprophet:Disabling weekly seasonality. Run prophet with weekly_seasonality=True to override this.\n",
      "INFO:fbprophet:Disabling daily seasonality. Run prophet with daily_seasonality=True to override this.\n",
      "\u001b[32m[I 2021-04-17 14:30:11,562]\u001b[0m Trial 201 finished with value: 0.014099118626015317 and parameters: {'changepoint_prior_scale': 0.04164792565877335, 'seasonality_prior_scale': 2.481388566507599, 'holidays_prior_scale': 1.2769757908679475}. Best is trial 45 with value: 0.013955262891536327.\u001b[0m\n",
      "INFO:fbprophet:Disabling weekly seasonality. Run prophet with weekly_seasonality=True to override this.\n",
      "INFO:fbprophet:Disabling daily seasonality. Run prophet with daily_seasonality=True to override this.\n",
      "\u001b[32m[I 2021-04-17 14:30:13,019]\u001b[0m Trial 202 pruned. \u001b[0m\n",
      "INFO:fbprophet:Disabling weekly seasonality. Run prophet with weekly_seasonality=True to override this.\n",
      "INFO:fbprophet:Disabling daily seasonality. Run prophet with daily_seasonality=True to override this.\n",
      "\u001b[32m[I 2021-04-17 14:30:14,569]\u001b[0m Trial 203 finished with value: 0.014058001248367188 and parameters: {'changepoint_prior_scale': 0.03608755148084458, 'seasonality_prior_scale': 1.8181929133895054, 'holidays_prior_scale': 1.0914951471118892}. Best is trial 45 with value: 0.013955262891536327.\u001b[0m\n",
      "INFO:fbprophet:Disabling weekly seasonality. Run prophet with weekly_seasonality=True to override this.\n",
      "INFO:fbprophet:Disabling daily seasonality. Run prophet with daily_seasonality=True to override this.\n",
      "\u001b[32m[I 2021-04-17 14:30:16,028]\u001b[0m Trial 204 pruned. \u001b[0m\n",
      "INFO:fbprophet:Disabling weekly seasonality. Run prophet with weekly_seasonality=True to override this.\n",
      "INFO:fbprophet:Disabling daily seasonality. Run prophet with daily_seasonality=True to override this.\n",
      "\u001b[32m[I 2021-04-17 14:30:17,517]\u001b[0m Trial 205 pruned. \u001b[0m\n",
      "INFO:fbprophet:Disabling weekly seasonality. Run prophet with weekly_seasonality=True to override this.\n",
      "INFO:fbprophet:Disabling daily seasonality. Run prophet with daily_seasonality=True to override this.\n",
      "\u001b[32m[I 2021-04-17 14:30:18,969]\u001b[0m Trial 206 finished with value: 0.014019796470510526 and parameters: {'changepoint_prior_scale': 0.03678546074879961, 'seasonality_prior_scale': 1.7141044564246872, 'holidays_prior_scale': 0.931509056334015}. Best is trial 45 with value: 0.013955262891536327.\u001b[0m\n",
      "INFO:fbprophet:Disabling weekly seasonality. Run prophet with weekly_seasonality=True to override this.\n",
      "INFO:fbprophet:Disabling daily seasonality. Run prophet with daily_seasonality=True to override this.\n",
      "\u001b[32m[I 2021-04-17 14:30:20,506]\u001b[0m Trial 207 pruned. \u001b[0m\n",
      "INFO:fbprophet:Disabling weekly seasonality. Run prophet with weekly_seasonality=True to override this.\n",
      "INFO:fbprophet:Disabling daily seasonality. Run prophet with daily_seasonality=True to override this.\n",
      "\u001b[32m[I 2021-04-17 14:30:21,924]\u001b[0m Trial 208 pruned. \u001b[0m\n",
      "INFO:fbprophet:Disabling weekly seasonality. Run prophet with weekly_seasonality=True to override this.\n"
     ]
    },
    {
     "name": "stderr",
     "output_type": "stream",
     "text": [
      "INFO:fbprophet:Disabling daily seasonality. Run prophet with daily_seasonality=True to override this.\n",
      "\u001b[32m[I 2021-04-17 14:30:23,379]\u001b[0m Trial 209 pruned. \u001b[0m\n",
      "INFO:fbprophet:Disabling weekly seasonality. Run prophet with weekly_seasonality=True to override this.\n",
      "INFO:fbprophet:Disabling daily seasonality. Run prophet with daily_seasonality=True to override this.\n",
      "\u001b[32m[I 2021-04-17 14:30:24,904]\u001b[0m Trial 210 pruned. \u001b[0m\n",
      "INFO:fbprophet:Disabling weekly seasonality. Run prophet with weekly_seasonality=True to override this.\n",
      "INFO:fbprophet:Disabling daily seasonality. Run prophet with daily_seasonality=True to override this.\n",
      "\u001b[32m[I 2021-04-17 14:30:26,349]\u001b[0m Trial 211 finished with value: 0.013973382981960361 and parameters: {'changepoint_prior_scale': 0.03984452108126356, 'seasonality_prior_scale': 1.8871972592299133, 'holidays_prior_scale': 1.1586301371241363}. Best is trial 45 with value: 0.013955262891536327.\u001b[0m\n",
      "INFO:fbprophet:Disabling weekly seasonality. Run prophet with weekly_seasonality=True to override this.\n",
      "INFO:fbprophet:Disabling daily seasonality. Run prophet with daily_seasonality=True to override this.\n",
      "\u001b[32m[I 2021-04-17 14:30:27,812]\u001b[0m Trial 212 finished with value: 0.014028551704549341 and parameters: {'changepoint_prior_scale': 0.04003580407273611, 'seasonality_prior_scale': 1.7074056265187612, 'holidays_prior_scale': 1.2272085745187524}. Best is trial 45 with value: 0.013955262891536327.\u001b[0m\n",
      "INFO:fbprophet:Disabling weekly seasonality. Run prophet with weekly_seasonality=True to override this.\n",
      "INFO:fbprophet:Disabling daily seasonality. Run prophet with daily_seasonality=True to override this.\n",
      "\u001b[32m[I 2021-04-17 14:30:29,401]\u001b[0m Trial 213 pruned. \u001b[0m\n",
      "INFO:fbprophet:Disabling weekly seasonality. Run prophet with weekly_seasonality=True to override this.\n",
      "INFO:fbprophet:Disabling daily seasonality. Run prophet with daily_seasonality=True to override this.\n",
      "\u001b[32m[I 2021-04-17 14:30:30,880]\u001b[0m Trial 214 pruned. \u001b[0m\n",
      "INFO:fbprophet:Disabling weekly seasonality. Run prophet with weekly_seasonality=True to override this.\n",
      "INFO:fbprophet:Disabling daily seasonality. Run prophet with daily_seasonality=True to override this.\n",
      "\u001b[32m[I 2021-04-17 14:30:32,314]\u001b[0m Trial 215 pruned. \u001b[0m\n",
      "INFO:fbprophet:Disabling weekly seasonality. Run prophet with weekly_seasonality=True to override this.\n",
      "INFO:fbprophet:Disabling daily seasonality. Run prophet with daily_seasonality=True to override this.\n",
      "\u001b[32m[I 2021-04-17 14:30:33,749]\u001b[0m Trial 216 finished with value: 0.014093214098015727 and parameters: {'changepoint_prior_scale': 0.03625434288800723, 'seasonality_prior_scale': 2.063148614380337, 'holidays_prior_scale': 1.3958669923354714}. Best is trial 45 with value: 0.013955262891536327.\u001b[0m\n",
      "INFO:fbprophet:Disabling weekly seasonality. Run prophet with weekly_seasonality=True to override this.\n",
      "INFO:fbprophet:Disabling daily seasonality. Run prophet with daily_seasonality=True to override this.\n",
      "\u001b[32m[I 2021-04-17 14:30:35,279]\u001b[0m Trial 217 pruned. \u001b[0m\n",
      "INFO:fbprophet:Disabling weekly seasonality. Run prophet with weekly_seasonality=True to override this.\n",
      "INFO:fbprophet:Disabling daily seasonality. Run prophet with daily_seasonality=True to override this.\n",
      "\u001b[32m[I 2021-04-17 14:30:36,704]\u001b[0m Trial 218 pruned. \u001b[0m\n",
      "INFO:fbprophet:Disabling weekly seasonality. Run prophet with weekly_seasonality=True to override this.\n",
      "INFO:fbprophet:Disabling daily seasonality. Run prophet with daily_seasonality=True to override this.\n",
      "\u001b[32m[I 2021-04-17 14:30:38,181]\u001b[0m Trial 219 pruned. \u001b[0m\n",
      "INFO:fbprophet:Disabling weekly seasonality. Run prophet with weekly_seasonality=True to override this.\n",
      "INFO:fbprophet:Disabling daily seasonality. Run prophet with daily_seasonality=True to override this.\n",
      "\u001b[32m[I 2021-04-17 14:30:39,622]\u001b[0m Trial 220 pruned. \u001b[0m\n",
      "INFO:fbprophet:Disabling weekly seasonality. Run prophet with weekly_seasonality=True to override this.\n",
      "INFO:fbprophet:Disabling daily seasonality. Run prophet with daily_seasonality=True to override this.\n",
      "\u001b[32m[I 2021-04-17 14:30:41,402]\u001b[0m Trial 221 pruned. \u001b[0m\n",
      "INFO:fbprophet:Disabling weekly seasonality. Run prophet with weekly_seasonality=True to override this.\n",
      "INFO:fbprophet:Disabling daily seasonality. Run prophet with daily_seasonality=True to override this.\n",
      "\u001b[32m[I 2021-04-17 14:30:42,965]\u001b[0m Trial 222 pruned. \u001b[0m\n",
      "INFO:fbprophet:Disabling weekly seasonality. Run prophet with weekly_seasonality=True to override this.\n",
      "INFO:fbprophet:Disabling daily seasonality. Run prophet with daily_seasonality=True to override this.\n",
      "\u001b[32m[I 2021-04-17 14:30:44,632]\u001b[0m Trial 223 pruned. \u001b[0m\n",
      "INFO:fbprophet:Disabling weekly seasonality. Run prophet with weekly_seasonality=True to override this.\n",
      "INFO:fbprophet:Disabling daily seasonality. Run prophet with daily_seasonality=True to override this.\n",
      "\u001b[32m[I 2021-04-17 14:30:46,163]\u001b[0m Trial 224 finished with value: 0.014100904727075437 and parameters: {'changepoint_prior_scale': 0.02973846862962943, 'seasonality_prior_scale': 5.221905352883155, 'holidays_prior_scale': 1.301213734630853}. Best is trial 45 with value: 0.013955262891536327.\u001b[0m\n",
      "INFO:fbprophet:Disabling weekly seasonality. Run prophet with weekly_seasonality=True to override this.\n",
      "INFO:fbprophet:Disabling daily seasonality. Run prophet with daily_seasonality=True to override this.\n",
      "\u001b[32m[I 2021-04-17 14:30:47,608]\u001b[0m Trial 225 pruned. \u001b[0m\n",
      "INFO:fbprophet:Disabling weekly seasonality. Run prophet with weekly_seasonality=True to override this.\n",
      "INFO:fbprophet:Disabling daily seasonality. Run prophet with daily_seasonality=True to override this.\n",
      "\u001b[32m[I 2021-04-17 14:30:49,059]\u001b[0m Trial 226 pruned. \u001b[0m\n",
      "INFO:fbprophet:Disabling weekly seasonality. Run prophet with weekly_seasonality=True to override this.\n",
      "INFO:fbprophet:Disabling daily seasonality. Run prophet with daily_seasonality=True to override this.\n",
      "\u001b[32m[I 2021-04-17 14:30:50,616]\u001b[0m Trial 227 pruned. \u001b[0m\n",
      "INFO:fbprophet:Disabling weekly seasonality. Run prophet with weekly_seasonality=True to override this.\n",
      "INFO:fbprophet:Disabling daily seasonality. Run prophet with daily_seasonality=True to override this.\n",
      "\u001b[32m[I 2021-04-17 14:30:52,105]\u001b[0m Trial 228 finished with value: 0.014016744881626906 and parameters: {'changepoint_prior_scale': 0.03729855004365842, 'seasonality_prior_scale': 4.923757478019599, 'holidays_prior_scale': 0.8023327861387232}. Best is trial 45 with value: 0.013955262891536327.\u001b[0m\n",
      "INFO:fbprophet:Disabling weekly seasonality. Run prophet with weekly_seasonality=True to override this.\n",
      "INFO:fbprophet:Disabling daily seasonality. Run prophet with daily_seasonality=True to override this.\n",
      "\u001b[32m[I 2021-04-17 14:30:53,549]\u001b[0m Trial 229 pruned. \u001b[0m\n",
      "INFO:fbprophet:Disabling weekly seasonality. Run prophet with weekly_seasonality=True to override this.\n",
      "INFO:fbprophet:Disabling daily seasonality. Run prophet with daily_seasonality=True to override this.\n",
      "\u001b[32m[I 2021-04-17 14:30:54,994]\u001b[0m Trial 230 pruned. \u001b[0m\n",
      "INFO:fbprophet:Disabling weekly seasonality. Run prophet with weekly_seasonality=True to override this.\n",
      "INFO:fbprophet:Disabling daily seasonality. Run prophet with daily_seasonality=True to override this.\n",
      "\u001b[32m[I 2021-04-17 14:30:56,548]\u001b[0m Trial 231 pruned. \u001b[0m\n",
      "INFO:fbprophet:Disabling weekly seasonality. Run prophet with weekly_seasonality=True to override this.\n",
      "INFO:fbprophet:Disabling daily seasonality. Run prophet with daily_seasonality=True to override this.\n",
      "\u001b[32m[I 2021-04-17 14:30:57,990]\u001b[0m Trial 232 finished with value: 0.014070849308260502 and parameters: {'changepoint_prior_scale': 0.03928120149474312, 'seasonality_prior_scale': 4.6850315738372945, 'holidays_prior_scale': 1.011531571066369}. Best is trial 45 with value: 0.013955262891536327.\u001b[0m\n",
      "INFO:fbprophet:Disabling weekly seasonality. Run prophet with weekly_seasonality=True to override this.\n",
      "INFO:fbprophet:Disabling daily seasonality. Run prophet with daily_seasonality=True to override this.\n",
      "\u001b[32m[I 2021-04-17 14:30:59,463]\u001b[0m Trial 233 finished with value: 0.013972918557601112 and parameters: {'changepoint_prior_scale': 0.034022375693748566, 'seasonality_prior_scale': 5.012284228093012, 'holidays_prior_scale': 1.2126674358235774}. Best is trial 45 with value: 0.013955262891536327.\u001b[0m\n"
     ]
    },
    {
     "name": "stderr",
     "output_type": "stream",
     "text": [
      "INFO:fbprophet:Disabling weekly seasonality. Run prophet with weekly_seasonality=True to override this.\n",
      "INFO:fbprophet:Disabling daily seasonality. Run prophet with daily_seasonality=True to override this.\n",
      "\u001b[32m[I 2021-04-17 14:31:00,923]\u001b[0m Trial 234 pruned. \u001b[0m\n",
      "INFO:fbprophet:Disabling weekly seasonality. Run prophet with weekly_seasonality=True to override this.\n",
      "INFO:fbprophet:Disabling daily seasonality. Run prophet with daily_seasonality=True to override this.\n",
      "\u001b[32m[I 2021-04-17 14:31:02,429]\u001b[0m Trial 235 pruned. \u001b[0m\n",
      "INFO:fbprophet:Disabling weekly seasonality. Run prophet with weekly_seasonality=True to override this.\n",
      "INFO:fbprophet:Disabling daily seasonality. Run prophet with daily_seasonality=True to override this.\n",
      "\u001b[32m[I 2021-04-17 14:31:03,875]\u001b[0m Trial 236 finished with value: 0.01409941703445366 and parameters: {'changepoint_prior_scale': 0.034022642853356364, 'seasonality_prior_scale': 6.528233115463589, 'holidays_prior_scale': 1.3992905809426237}. Best is trial 45 with value: 0.013955262891536327.\u001b[0m\n",
      "INFO:fbprophet:Disabling weekly seasonality. Run prophet with weekly_seasonality=True to override this.\n",
      "INFO:fbprophet:Disabling daily seasonality. Run prophet with daily_seasonality=True to override this.\n",
      "\u001b[32m[I 2021-04-17 14:31:05,319]\u001b[0m Trial 237 pruned. \u001b[0m\n",
      "INFO:fbprophet:Disabling weekly seasonality. Run prophet with weekly_seasonality=True to override this.\n",
      "INFO:fbprophet:Disabling daily seasonality. Run prophet with daily_seasonality=True to override this.\n",
      "\u001b[32m[I 2021-04-17 14:31:06,850]\u001b[0m Trial 238 pruned. \u001b[0m\n",
      "INFO:fbprophet:Disabling weekly seasonality. Run prophet with weekly_seasonality=True to override this.\n",
      "INFO:fbprophet:Disabling daily seasonality. Run prophet with daily_seasonality=True to override this.\n",
      "\u001b[32m[I 2021-04-17 14:31:08,292]\u001b[0m Trial 239 pruned. \u001b[0m\n",
      "INFO:fbprophet:Disabling weekly seasonality. Run prophet with weekly_seasonality=True to override this.\n",
      "INFO:fbprophet:Disabling daily seasonality. Run prophet with daily_seasonality=True to override this.\n",
      "\u001b[32m[I 2021-04-17 14:31:09,734]\u001b[0m Trial 240 pruned. \u001b[0m\n",
      "INFO:fbprophet:Disabling weekly seasonality. Run prophet with weekly_seasonality=True to override this.\n",
      "INFO:fbprophet:Disabling daily seasonality. Run prophet with daily_seasonality=True to override this.\n",
      "\u001b[32m[I 2021-04-17 14:31:11,263]\u001b[0m Trial 241 pruned. \u001b[0m\n",
      "INFO:fbprophet:Disabling weekly seasonality. Run prophet with weekly_seasonality=True to override this.\n",
      "INFO:fbprophet:Disabling daily seasonality. Run prophet with daily_seasonality=True to override this.\n",
      "\u001b[32m[I 2021-04-17 14:31:12,720]\u001b[0m Trial 242 finished with value: 0.014069562010539072 and parameters: {'changepoint_prior_scale': 0.035195189161230656, 'seasonality_prior_scale': 4.313593860886591, 'holidays_prior_scale': 0.9276777118143723}. Best is trial 45 with value: 0.013955262891536327.\u001b[0m\n",
      "INFO:fbprophet:Disabling weekly seasonality. Run prophet with weekly_seasonality=True to override this.\n",
      "INFO:fbprophet:Disabling daily seasonality. Run prophet with daily_seasonality=True to override this.\n",
      "\u001b[32m[I 2021-04-17 14:31:14,183]\u001b[0m Trial 243 pruned. \u001b[0m\n",
      "INFO:fbprophet:Disabling weekly seasonality. Run prophet with weekly_seasonality=True to override this.\n",
      "INFO:fbprophet:Disabling daily seasonality. Run prophet with daily_seasonality=True to override this.\n",
      "\u001b[32m[I 2021-04-17 14:31:15,621]\u001b[0m Trial 244 pruned. \u001b[0m\n",
      "INFO:fbprophet:Disabling weekly seasonality. Run prophet with weekly_seasonality=True to override this.\n",
      "INFO:fbprophet:Disabling daily seasonality. Run prophet with daily_seasonality=True to override this.\n",
      "\u001b[32m[I 2021-04-17 14:31:17,157]\u001b[0m Trial 245 finished with value: 0.014078996442643632 and parameters: {'changepoint_prior_scale': 0.039919554347996905, 'seasonality_prior_scale': 4.805239068929108, 'holidays_prior_scale': 1.1856664147978273}. Best is trial 45 with value: 0.013955262891536327.\u001b[0m\n",
      "INFO:fbprophet:Disabling weekly seasonality. Run prophet with weekly_seasonality=True to override this.\n",
      "INFO:fbprophet:Disabling daily seasonality. Run prophet with daily_seasonality=True to override this.\n",
      "\u001b[32m[I 2021-04-17 14:31:18,604]\u001b[0m Trial 246 pruned. \u001b[0m\n",
      "INFO:fbprophet:Disabling weekly seasonality. Run prophet with weekly_seasonality=True to override this.\n",
      "INFO:fbprophet:Disabling daily seasonality. Run prophet with daily_seasonality=True to override this.\n",
      "\u001b[32m[I 2021-04-17 14:31:20,161]\u001b[0m Trial 247 pruned. \u001b[0m\n",
      "INFO:fbprophet:Disabling weekly seasonality. Run prophet with weekly_seasonality=True to override this.\n",
      "INFO:fbprophet:Disabling daily seasonality. Run prophet with daily_seasonality=True to override this.\n",
      "\u001b[32m[I 2021-04-17 14:31:21,703]\u001b[0m Trial 248 pruned. \u001b[0m\n",
      "INFO:fbprophet:Disabling weekly seasonality. Run prophet with weekly_seasonality=True to override this.\n",
      "INFO:fbprophet:Disabling daily seasonality. Run prophet with daily_seasonality=True to override this.\n",
      "\u001b[32m[I 2021-04-17 14:31:23,397]\u001b[0m Trial 249 finished with value: 0.01406055383393656 and parameters: {'changepoint_prior_scale': 0.03214924714692898, 'seasonality_prior_scale': 2.5484972356968845, 'holidays_prior_scale': 1.0093626514014842}. Best is trial 45 with value: 0.013955262891536327.\u001b[0m\n",
      "INFO:fbprophet:Disabling weekly seasonality. Run prophet with weekly_seasonality=True to override this.\n",
      "INFO:fbprophet:Disabling daily seasonality. Run prophet with daily_seasonality=True to override this.\n",
      "\u001b[32m[I 2021-04-17 14:31:24,894]\u001b[0m Trial 250 pruned. \u001b[0m\n",
      "INFO:fbprophet:Disabling weekly seasonality. Run prophet with weekly_seasonality=True to override this.\n",
      "INFO:fbprophet:Disabling daily seasonality. Run prophet with daily_seasonality=True to override this.\n",
      "\u001b[32m[I 2021-04-17 14:31:26,372]\u001b[0m Trial 251 pruned. \u001b[0m\n",
      "INFO:fbprophet:Disabling weekly seasonality. Run prophet with weekly_seasonality=True to override this.\n",
      "INFO:fbprophet:Disabling daily seasonality. Run prophet with daily_seasonality=True to override this.\n",
      "\u001b[32m[I 2021-04-17 14:31:27,935]\u001b[0m Trial 252 finished with value: 0.013993117102691447 and parameters: {'changepoint_prior_scale': 0.033599684014853054, 'seasonality_prior_scale': 2.2477483930806694, 'holidays_prior_scale': 1.3556966312352152}. Best is trial 45 with value: 0.013955262891536327.\u001b[0m\n",
      "INFO:fbprophet:Disabling weekly seasonality. Run prophet with weekly_seasonality=True to override this.\n",
      "INFO:fbprophet:Disabling daily seasonality. Run prophet with daily_seasonality=True to override this.\n",
      "\u001b[32m[I 2021-04-17 14:31:29,483]\u001b[0m Trial 253 pruned. \u001b[0m\n",
      "INFO:fbprophet:Disabling weekly seasonality. Run prophet with weekly_seasonality=True to override this.\n",
      "INFO:fbprophet:Disabling daily seasonality. Run prophet with daily_seasonality=True to override this.\n",
      "\u001b[32m[I 2021-04-17 14:31:30,943]\u001b[0m Trial 254 pruned. \u001b[0m\n",
      "INFO:fbprophet:Disabling weekly seasonality. Run prophet with weekly_seasonality=True to override this.\n",
      "INFO:fbprophet:Disabling daily seasonality. Run prophet with daily_seasonality=True to override this.\n",
      "\u001b[32m[I 2021-04-17 14:31:32,392]\u001b[0m Trial 255 pruned. \u001b[0m\n",
      "INFO:fbprophet:Disabling weekly seasonality. Run prophet with weekly_seasonality=True to override this.\n",
      "INFO:fbprophet:Disabling daily seasonality. Run prophet with daily_seasonality=True to override this.\n",
      "\u001b[32m[I 2021-04-17 14:31:33,892]\u001b[0m Trial 256 pruned. \u001b[0m\n",
      "INFO:fbprophet:Disabling weekly seasonality. Run prophet with weekly_seasonality=True to override this.\n",
      "INFO:fbprophet:Disabling daily seasonality. Run prophet with daily_seasonality=True to override this.\n",
      "\u001b[32m[I 2021-04-17 14:31:35,363]\u001b[0m Trial 257 pruned. \u001b[0m\n",
      "INFO:fbprophet:Disabling weekly seasonality. Run prophet with weekly_seasonality=True to override this.\n",
      "INFO:fbprophet:Disabling daily seasonality. Run prophet with daily_seasonality=True to override this.\n",
      "\u001b[32m[I 2021-04-17 14:31:36,811]\u001b[0m Trial 258 pruned. \u001b[0m\n",
      "INFO:fbprophet:Disabling weekly seasonality. Run prophet with weekly_seasonality=True to override this.\n",
      "INFO:fbprophet:Disabling daily seasonality. Run prophet with daily_seasonality=True to override this.\n",
      "\u001b[32m[I 2021-04-17 14:31:38,350]\u001b[0m Trial 259 pruned. \u001b[0m\n",
      "INFO:fbprophet:Disabling weekly seasonality. Run prophet with weekly_seasonality=True to override this.\n"
     ]
    },
    {
     "name": "stderr",
     "output_type": "stream",
     "text": [
      "INFO:fbprophet:Disabling daily seasonality. Run prophet with daily_seasonality=True to override this.\n",
      "\u001b[32m[I 2021-04-17 14:31:39,794]\u001b[0m Trial 260 finished with value: 0.014050510056238079 and parameters: {'changepoint_prior_scale': 0.03819881129954335, 'seasonality_prior_scale': 3.1928814566744967, 'holidays_prior_scale': 1.4083189894643109}. Best is trial 45 with value: 0.013955262891536327.\u001b[0m\n",
      "INFO:fbprophet:Disabling weekly seasonality. Run prophet with weekly_seasonality=True to override this.\n",
      "INFO:fbprophet:Disabling daily seasonality. Run prophet with daily_seasonality=True to override this.\n",
      "\u001b[32m[I 2021-04-17 14:31:41,247]\u001b[0m Trial 261 pruned. \u001b[0m\n",
      "INFO:fbprophet:Disabling weekly seasonality. Run prophet with weekly_seasonality=True to override this.\n",
      "INFO:fbprophet:Disabling daily seasonality. Run prophet with daily_seasonality=True to override this.\n",
      "\u001b[32m[I 2021-04-17 14:31:42,687]\u001b[0m Trial 262 pruned. \u001b[0m\n",
      "INFO:fbprophet:Disabling weekly seasonality. Run prophet with weekly_seasonality=True to override this.\n",
      "INFO:fbprophet:Disabling daily seasonality. Run prophet with daily_seasonality=True to override this.\n",
      "\u001b[32m[I 2021-04-17 14:31:44,239]\u001b[0m Trial 263 pruned. \u001b[0m\n",
      "INFO:fbprophet:Disabling weekly seasonality. Run prophet with weekly_seasonality=True to override this.\n",
      "INFO:fbprophet:Disabling daily seasonality. Run prophet with daily_seasonality=True to override this.\n",
      "\u001b[32m[I 2021-04-17 14:31:45,690]\u001b[0m Trial 264 pruned. \u001b[0m\n",
      "INFO:fbprophet:Disabling weekly seasonality. Run prophet with weekly_seasonality=True to override this.\n",
      "INFO:fbprophet:Disabling daily seasonality. Run prophet with daily_seasonality=True to override this.\n",
      "\u001b[32m[I 2021-04-17 14:31:47,135]\u001b[0m Trial 265 finished with value: 0.014020416139199791 and parameters: {'changepoint_prior_scale': 0.039637171145810286, 'seasonality_prior_scale': 1.3232159395992251, 'holidays_prior_scale': 1.3354142978584127}. Best is trial 45 with value: 0.013955262891536327.\u001b[0m\n",
      "INFO:fbprophet:Disabling weekly seasonality. Run prophet with weekly_seasonality=True to override this.\n",
      "INFO:fbprophet:Disabling daily seasonality. Run prophet with daily_seasonality=True to override this.\n",
      "\u001b[32m[I 2021-04-17 14:31:48,692]\u001b[0m Trial 266 pruned. \u001b[0m\n",
      "INFO:fbprophet:Disabling weekly seasonality. Run prophet with weekly_seasonality=True to override this.\n",
      "INFO:fbprophet:Disabling daily seasonality. Run prophet with daily_seasonality=True to override this.\n",
      "\u001b[32m[I 2021-04-17 14:31:50,141]\u001b[0m Trial 267 pruned. \u001b[0m\n",
      "INFO:fbprophet:Disabling weekly seasonality. Run prophet with weekly_seasonality=True to override this.\n",
      "INFO:fbprophet:Disabling daily seasonality. Run prophet with daily_seasonality=True to override this.\n",
      "\u001b[32m[I 2021-04-17 14:31:51,602]\u001b[0m Trial 268 finished with value: 0.014059865889861278 and parameters: {'changepoint_prior_scale': 0.041901985662898905, 'seasonality_prior_scale': 5.005798240809544, 'holidays_prior_scale': 1.3259434699111834}. Best is trial 45 with value: 0.013955262891536327.\u001b[0m\n",
      "INFO:fbprophet:Disabling weekly seasonality. Run prophet with weekly_seasonality=True to override this.\n",
      "INFO:fbprophet:Disabling daily seasonality. Run prophet with daily_seasonality=True to override this.\n",
      "\u001b[32m[I 2021-04-17 14:31:53,119]\u001b[0m Trial 269 pruned. \u001b[0m\n",
      "INFO:fbprophet:Disabling weekly seasonality. Run prophet with weekly_seasonality=True to override this.\n",
      "INFO:fbprophet:Disabling daily seasonality. Run prophet with daily_seasonality=True to override this.\n",
      "\u001b[32m[I 2021-04-17 14:31:54,550]\u001b[0m Trial 270 pruned. \u001b[0m\n",
      "INFO:fbprophet:Disabling weekly seasonality. Run prophet with weekly_seasonality=True to override this.\n",
      "INFO:fbprophet:Disabling daily seasonality. Run prophet with daily_seasonality=True to override this.\n",
      "\u001b[32m[I 2021-04-17 14:31:55,985]\u001b[0m Trial 271 pruned. \u001b[0m\n",
      "INFO:fbprophet:Disabling weekly seasonality. Run prophet with weekly_seasonality=True to override this.\n",
      "INFO:fbprophet:Disabling daily seasonality. Run prophet with daily_seasonality=True to override this.\n",
      "\u001b[32m[I 2021-04-17 14:31:57,399]\u001b[0m Trial 272 pruned. \u001b[0m\n",
      "INFO:fbprophet:Disabling weekly seasonality. Run prophet with weekly_seasonality=True to override this.\n",
      "INFO:fbprophet:Disabling daily seasonality. Run prophet with daily_seasonality=True to override this.\n",
      "\u001b[32m[I 2021-04-17 14:31:58,919]\u001b[0m Trial 273 pruned. \u001b[0m\n",
      "INFO:fbprophet:Disabling weekly seasonality. Run prophet with weekly_seasonality=True to override this.\n",
      "INFO:fbprophet:Disabling daily seasonality. Run prophet with daily_seasonality=True to override this.\n",
      "\u001b[32m[I 2021-04-17 14:32:00,344]\u001b[0m Trial 274 pruned. \u001b[0m\n",
      "INFO:fbprophet:Disabling weekly seasonality. Run prophet with weekly_seasonality=True to override this.\n",
      "INFO:fbprophet:Disabling daily seasonality. Run prophet with daily_seasonality=True to override this.\n",
      "\u001b[32m[I 2021-04-17 14:32:01,794]\u001b[0m Trial 275 finished with value: 0.014009185762436661 and parameters: {'changepoint_prior_scale': 0.037534102616575575, 'seasonality_prior_scale': 4.013986210043294, 'holidays_prior_scale': 0.7494654736915356}. Best is trial 45 with value: 0.013955262891536327.\u001b[0m\n",
      "INFO:fbprophet:Disabling weekly seasonality. Run prophet with weekly_seasonality=True to override this.\n",
      "INFO:fbprophet:Disabling daily seasonality. Run prophet with daily_seasonality=True to override this.\n",
      "\u001b[32m[I 2021-04-17 14:32:03,306]\u001b[0m Trial 276 finished with value: 0.014045810945998277 and parameters: {'changepoint_prior_scale': 0.03716521502692713, 'seasonality_prior_scale': 3.921361078385855, 'holidays_prior_scale': 0.45400109288252555}. Best is trial 45 with value: 0.013955262891536327.\u001b[0m\n",
      "INFO:fbprophet:Disabling weekly seasonality. Run prophet with weekly_seasonality=True to override this.\n",
      "INFO:fbprophet:Disabling daily seasonality. Run prophet with daily_seasonality=True to override this.\n",
      "\u001b[32m[I 2021-04-17 14:32:04,820]\u001b[0m Trial 277 pruned. \u001b[0m\n",
      "INFO:fbprophet:Disabling weekly seasonality. Run prophet with weekly_seasonality=True to override this.\n",
      "INFO:fbprophet:Disabling daily seasonality. Run prophet with daily_seasonality=True to override this.\n",
      "\u001b[32m[I 2021-04-17 14:32:06,346]\u001b[0m Trial 278 pruned. \u001b[0m\n",
      "INFO:fbprophet:Disabling weekly seasonality. Run prophet with weekly_seasonality=True to override this.\n",
      "INFO:fbprophet:Disabling daily seasonality. Run prophet with daily_seasonality=True to override this.\n",
      "\u001b[32m[I 2021-04-17 14:32:07,917]\u001b[0m Trial 279 pruned. \u001b[0m\n",
      "INFO:fbprophet:Disabling weekly seasonality. Run prophet with weekly_seasonality=True to override this.\n",
      "INFO:fbprophet:Disabling daily seasonality. Run prophet with daily_seasonality=True to override this.\n",
      "\u001b[32m[I 2021-04-17 14:32:09,501]\u001b[0m Trial 280 pruned. \u001b[0m\n",
      "INFO:fbprophet:Disabling weekly seasonality. Run prophet with weekly_seasonality=True to override this.\n",
      "INFO:fbprophet:Disabling daily seasonality. Run prophet with daily_seasonality=True to override this.\n",
      "\u001b[32m[I 2021-04-17 14:32:10,941]\u001b[0m Trial 281 finished with value: 0.0139791146435789 and parameters: {'changepoint_prior_scale': 0.0358465245849074, 'seasonality_prior_scale': 4.238482819372376, 'holidays_prior_scale': 6.685836529194459}. Best is trial 45 with value: 0.013955262891536327.\u001b[0m\n",
      "INFO:fbprophet:Disabling weekly seasonality. Run prophet with weekly_seasonality=True to override this.\n",
      "INFO:fbprophet:Disabling daily seasonality. Run prophet with daily_seasonality=True to override this.\n",
      "\u001b[32m[I 2021-04-17 14:32:12,428]\u001b[0m Trial 282 pruned. \u001b[0m\n",
      "INFO:fbprophet:Disabling weekly seasonality. Run prophet with weekly_seasonality=True to override this.\n",
      "INFO:fbprophet:Disabling daily seasonality. Run prophet with daily_seasonality=True to override this.\n",
      "\u001b[32m[I 2021-04-17 14:32:13,961]\u001b[0m Trial 283 pruned. \u001b[0m\n",
      "INFO:fbprophet:Disabling weekly seasonality. Run prophet with weekly_seasonality=True to override this.\n",
      "INFO:fbprophet:Disabling daily seasonality. Run prophet with daily_seasonality=True to override this.\n",
      "\u001b[32m[I 2021-04-17 14:32:15,395]\u001b[0m Trial 284 pruned. \u001b[0m\n",
      "INFO:fbprophet:Disabling weekly seasonality. Run prophet with weekly_seasonality=True to override this.\n",
      "INFO:fbprophet:Disabling daily seasonality. Run prophet with daily_seasonality=True to override this.\n"
     ]
    },
    {
     "name": "stderr",
     "output_type": "stream",
     "text": [
      "\u001b[32m[I 2021-04-17 14:32:16,868]\u001b[0m Trial 285 pruned. \u001b[0m\n",
      "INFO:fbprophet:Disabling weekly seasonality. Run prophet with weekly_seasonality=True to override this.\n",
      "INFO:fbprophet:Disabling daily seasonality. Run prophet with daily_seasonality=True to override this.\n",
      "\u001b[32m[I 2021-04-17 14:32:18,497]\u001b[0m Trial 286 pruned. \u001b[0m\n",
      "INFO:fbprophet:Disabling weekly seasonality. Run prophet with weekly_seasonality=True to override this.\n",
      "INFO:fbprophet:Disabling daily seasonality. Run prophet with daily_seasonality=True to override this.\n",
      "\u001b[32m[I 2021-04-17 14:32:19,975]\u001b[0m Trial 287 pruned. \u001b[0m\n",
      "INFO:fbprophet:Disabling weekly seasonality. Run prophet with weekly_seasonality=True to override this.\n",
      "INFO:fbprophet:Disabling daily seasonality. Run prophet with daily_seasonality=True to override this.\n",
      "\u001b[32m[I 2021-04-17 14:32:21,404]\u001b[0m Trial 288 pruned. \u001b[0m\n",
      "INFO:fbprophet:Disabling weekly seasonality. Run prophet with weekly_seasonality=True to override this.\n",
      "INFO:fbprophet:Disabling daily seasonality. Run prophet with daily_seasonality=True to override this.\n",
      "\u001b[32m[I 2021-04-17 14:32:22,975]\u001b[0m Trial 289 finished with value: 0.01408461089505241 and parameters: {'changepoint_prior_scale': 0.03430277123891427, 'seasonality_prior_scale': 3.963064724120507, 'holidays_prior_scale': 6.007019007662439}. Best is trial 45 with value: 0.013955262891536327.\u001b[0m\n",
      "INFO:fbprophet:Disabling weekly seasonality. Run prophet with weekly_seasonality=True to override this.\n",
      "INFO:fbprophet:Disabling daily seasonality. Run prophet with daily_seasonality=True to override this.\n",
      "WARNING:fbprophet.models:Optimization terminated abnormally. Falling back to Newton.\n",
      "\u001b[32m[I 2021-04-17 14:32:25,447]\u001b[0m Trial 290 pruned. \u001b[0m\n",
      "INFO:fbprophet:Disabling weekly seasonality. Run prophet with weekly_seasonality=True to override this.\n",
      "INFO:fbprophet:Disabling daily seasonality. Run prophet with daily_seasonality=True to override this.\n",
      "\u001b[32m[I 2021-04-17 14:32:26,927]\u001b[0m Trial 291 pruned. \u001b[0m\n",
      "INFO:fbprophet:Disabling weekly seasonality. Run prophet with weekly_seasonality=True to override this.\n",
      "INFO:fbprophet:Disabling daily seasonality. Run prophet with daily_seasonality=True to override this.\n",
      "\u001b[32m[I 2021-04-17 14:32:28,353]\u001b[0m Trial 292 pruned. \u001b[0m\n",
      "INFO:fbprophet:Disabling weekly seasonality. Run prophet with weekly_seasonality=True to override this.\n",
      "INFO:fbprophet:Disabling daily seasonality. Run prophet with daily_seasonality=True to override this.\n",
      "\u001b[32m[I 2021-04-17 14:32:29,897]\u001b[0m Trial 293 finished with value: 0.014090294858687161 and parameters: {'changepoint_prior_scale': 0.03943318522487278, 'seasonality_prior_scale': 1.6203939735971993, 'holidays_prior_scale': 2.9114551264751363}. Best is trial 45 with value: 0.013955262891536327.\u001b[0m\n",
      "INFO:fbprophet:Disabling weekly seasonality. Run prophet with weekly_seasonality=True to override this.\n",
      "INFO:fbprophet:Disabling daily seasonality. Run prophet with daily_seasonality=True to override this.\n",
      "\u001b[32m[I 2021-04-17 14:32:31,394]\u001b[0m Trial 294 pruned. \u001b[0m\n",
      "INFO:fbprophet:Disabling weekly seasonality. Run prophet with weekly_seasonality=True to override this.\n",
      "INFO:fbprophet:Disabling daily seasonality. Run prophet with daily_seasonality=True to override this.\n",
      "\u001b[32m[I 2021-04-17 14:32:32,840]\u001b[0m Trial 295 pruned. \u001b[0m\n",
      "INFO:fbprophet:Disabling weekly seasonality. Run prophet with weekly_seasonality=True to override this.\n",
      "INFO:fbprophet:Disabling daily seasonality. Run prophet with daily_seasonality=True to override this.\n",
      "\u001b[32m[I 2021-04-17 14:32:34,431]\u001b[0m Trial 296 finished with value: 0.014067198362128214 and parameters: {'changepoint_prior_scale': 0.0341278823449503, 'seasonality_prior_scale': 3.2455282449718057, 'holidays_prior_scale': 1.32815331151932}. Best is trial 45 with value: 0.013955262891536327.\u001b[0m\n",
      "INFO:fbprophet:Disabling weekly seasonality. Run prophet with weekly_seasonality=True to override this.\n",
      "INFO:fbprophet:Disabling daily seasonality. Run prophet with daily_seasonality=True to override this.\n",
      "\u001b[32m[I 2021-04-17 14:32:35,959]\u001b[0m Trial 297 pruned. \u001b[0m\n",
      "INFO:fbprophet:Disabling weekly seasonality. Run prophet with weekly_seasonality=True to override this.\n",
      "INFO:fbprophet:Disabling daily seasonality. Run prophet with daily_seasonality=True to override this.\n",
      "\u001b[32m[I 2021-04-17 14:32:37,470]\u001b[0m Trial 298 pruned. \u001b[0m\n",
      "INFO:fbprophet:Disabling weekly seasonality. Run prophet with weekly_seasonality=True to override this.\n",
      "INFO:fbprophet:Disabling daily seasonality. Run prophet with daily_seasonality=True to override this.\n",
      "\u001b[32m[I 2021-04-17 14:32:38,987]\u001b[0m Trial 299 pruned. \u001b[0m\n"
     ]
    }
   ],
   "source": [
    "prophet_final_study = optuna.create_study(direction=\"minimize\")\n",
    "prophet_final_study.optimize(prophet_objective, n_trials=300)"
   ]
  },
  {
   "cell_type": "code",
   "execution_count": 58,
   "metadata": {},
   "outputs": [
    {
     "name": "stdout",
     "output_type": "stream",
     "text": [
      "Melhor valor: 0.013955262891536327\n",
      "Melhores parâmetros:\n",
      "changepoint_prior_scale: 0.035238120177812866\n",
      "seasonality_prior_scale: 5.193690722666086\n",
      "holidays_prior_scale: 5.472175250495995\n"
     ]
    }
   ],
   "source": [
    "print_study_best_trial_params(prophet_final_study)"
   ]
  },
  {
   "cell_type": "code",
   "execution_count": 59,
   "metadata": {},
   "outputs": [],
   "source": [
    "for param, val in prophet_final_study.best_trial.params.items():\n",
    "    mlflow.log_param(f'final_prophet_{param}', val)"
   ]
  },
  {
   "cell_type": "code",
   "execution_count": 60,
   "metadata": {},
   "outputs": [
    {
     "name": "stderr",
     "output_type": "stream",
     "text": [
      "INFO:fbprophet:Disabling weekly seasonality. Run prophet with weekly_seasonality=True to override this.\n",
      "INFO:fbprophet:Disabling daily seasonality. Run prophet with daily_seasonality=True to override this.\n"
     ]
    },
    {
     "data": {
      "text/plain": [
       "<fbprophet.forecaster.Prophet at 0x7fd0275205b0>"
      ]
     },
     "execution_count": 60,
     "metadata": {},
     "output_type": "execute_result"
    }
   ],
   "source": [
    "final_prophet = Prophet(**prophet_final_study.best_trial.params)\n",
    "final_prophet.fit(prophet_df)"
   ]
  },
  {
   "cell_type": "code",
   "execution_count": 61,
   "metadata": {},
   "outputs": [],
   "source": [
    "mlflow.sklearn.log_model(final_prophet, 'final_prophet')"
   ]
  },
  {
   "cell_type": "code",
   "execution_count": 62,
   "metadata": {},
   "outputs": [],
   "source": [
    "future_df = final_prophet.make_future_dataframe(periods=6, freq='m')\n",
    "future_pred = final_prophet.predict(future_df)"
   ]
  },
  {
   "cell_type": "code",
   "execution_count": 63,
   "metadata": {},
   "outputs": [],
   "source": [
    "last_6_months = future_pred['yhat'][-6:].reset_index(drop=True)\n",
    "last_6_months.index = data_pern_test.index"
   ]
  },
  {
   "cell_type": "code",
   "execution_count": 64,
   "metadata": {},
   "outputs": [
    {
     "data": {
      "text/plain": [
       "<matplotlib.legend.Legend at 0x7fd027701a60>"
      ]
     },
     "execution_count": 64,
     "metadata": {},
     "output_type": "execute_result"
    },
    {
     "data": {
      "image/png": "[encoded data removed]",
      "text/plain": [
       "<Figure size 432x288 with 1 Axes>"
      ]
     },
     "metadata": {
      "needs_background": "light"
     },
     "output_type": "display_data"
    }
   ],
   "source": [
    "last_6_months.plot(label='Previsto')\n",
    "data_pern_test['PRECO_MEDIO_REVENDA'].plot(label='Real')\n",
    "plt.legend()"
   ]
  },
  {
   "cell_type": "code",
   "execution_count": 66,
   "metadata": {},
   "outputs": [
    {
     "data": {
      "text/plain": [
       "0.06897829772404097"
      ]
     },
     "execution_count": 66,
     "metadata": {},
     "output_type": "execute_result"
    }
   ],
   "source": [
    "mse_final_prophet = ((data_pern_test['PRECO_MEDIO_REVENDA'] - last_6_months) ** 2).mean()\n",
    "mse_final_prophet"
   ]
  },
  {
   "cell_type": "markdown",
   "metadata": {},
   "source": [
    "Finalmente, comparemos o novo MSE com o prévio"
   ]
  },
  {
   "cell_type": "code",
   "execution_count": 69,
   "metadata": {},
   "outputs": [
    {
     "name": "stdout",
     "output_type": "stream",
     "text": [
      "MSE Prophet Original: 0.06854647912456395\n",
      "MSE Prophet Final: 0.06897829772404097\n"
     ]
    }
   ],
   "source": [
    "print(\n",
    "    f'MSE Prophet Original: {prophet_mse}\\n'\n",
    "    f'MSE Prophet Final: {mse_final_prophet}'\n",
    ")"
   ]
  },
  {
   "cell_type": "markdown",
   "metadata": {},
   "source": [
    "Não foi possível obter melhora"
   ]
  }
 ],
 "metadata": {
  "kernelspec": {
   "display_name": "Python 3",
   "language": "python",
   "name": "python3"
  },
  "language_info": {
   "codemirror_mode": {
    "name": "ipython",
    "version": 3
   },
   "file_extension": ".py",
   "mimetype": "text/x-python",
   "name": "python",
   "nbconvert_exporter": "python",
   "pygments_lexer": "ipython3",
   "version": "3.8.0"
  }
 },
 "nbformat": 4,
 "nbformat_minor": 1
}
